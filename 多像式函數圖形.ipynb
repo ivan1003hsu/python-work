{
 "cells": [
  {
   "cell_type": "code",
   "execution_count": 1,
   "metadata": {},
   "outputs": [],
   "source": [
    "import numpy as np\n",
    "import matplotlib.pyplot as plt\n",
    "%matplotlib inline"
   ]
  },
  {
   "cell_type": "code",
   "execution_count": null,
   "metadata": {},
   "outputs": [],
   "source": [
    "dot_list =[]\n",
    "n=2\n",
    "dot = input('請輸入第1個點座標\\n(以逗號隔開)')\n",
    "while 'end' not in dot:\n",
    "    dot = dot.split(',')\n",
    "    #plt.scatter(dot[0],dot[1])\n",
    "    dot = list(map(float,dot))\n",
    "    dot_list = dot_list+ dot\n",
    "    dot = input('請輸入第{}個點座標\\n(以逗號隔開)'.format(n))\n",
    "    n= n+1\n",
    "i=0\n",
    "x= np.linspace(-500,500,1000)\n",
    "y= np.linspace(0,0,1000)\n",
    "y=np.array(y)\n",
    "while i < len(dot_list):\n",
    "    k=0\n",
    "    a=dot_list[i+1]\n",
    "    while k < len(dot_list):\n",
    "        if k!= i:\n",
    "            a=(a*(x-dot_list[k]))/(dot_list[i]-dot_list[k])\n",
    "        k = k+2\n",
    "    y=y+a\n",
    "    i = i+2\n",
    "#plt.axis([min(x), max(x), min(y),max(y)])\n",
    "plt.plot(x,y)           "
   ]
  },
  {
   "cell_type": "code",
   "execution_count": 23,
   "metadata": {},
   "outputs": [
    {
     "name": "stdout",
     "output_type": "stream",
     "text": [
      "2次函生成器成\n",
      "請輸入三個點座標(以逗號隔開)\n",
      "第一個點:3,0\n",
      "第二個點:4,0\n",
      "第三個點:5,100\n"
     ]
    },
    {
     "data": {
      "image/png": "[encoded data removed]",
      "text/plain": [
       "<Figure size 432x288 with 1 Axes>"
      ]
     },
     "metadata": {
      "needs_background": "light"
     },
     "output_type": "display_data"
    }
   ],
   "source": [
    "print('2次函生成器成\\n請輸入三個點座標(以逗號隔開)')\n",
    "dot1=input('第一個點:')\n",
    "dot1=dot1.split(',')\n",
    "dot1=list(map(float,dot1))\n",
    "dot2=input('第二個點:')\n",
    "dot2=dot2.split(',')\n",
    "dot2=list(map(float,dot2))\n",
    "dot3=input('第三個點:')\n",
    "dot3=dot3.split(',')\n",
    "dot3=list(map(float,dot3))\n",
    "x=np.linspace(-100,100,200)\n",
    "y=dot1[1]*(x-dot2[0])*(x-dot3[0])/((dot1[0]-dot2[0])*(dot1[0]-dot3[0]))+dot2[1]*(x-dot1[0])*(x-dot3[0])/((dot2[0]-dot1[0])*(dot2[0]-dot3[0]))+dot3[1]*(x-dot2[0])*(x-dot1[0])/((dot3[0]-dot2[0])*(dot3[0]-dot1[0]))\n",
    "plt.plot(x,y);\n",
    "plt.scatter(dot1[0],dot1[1]);\n",
    "plt.scatter(dot2[0],dot2[1]);\n",
    "plt.scatter(dot3[0],dot3[1]);\n"
   ]
  },
  {
   "cell_type": "code",
   "execution_count": 9,
   "metadata": {},
   "outputs": [
    {
     "name": "stdout",
     "output_type": "stream",
     "text": [
      "第一個點:3,4\n"
     ]
    }
   ],
   "source": [
    "dot1=input('第一個點:')\n",
    "dot1=dot1.split(',')"
   ]
  },
  {
   "cell_type": "code",
   "execution_count": 13,
   "metadata": {},
   "outputs": [
    {
     "data": {
      "text/plain": [
       "'4'"
      ]
     },
     "execution_count": 13,
     "metadata": {},
     "output_type": "execute_result"
    }
   ],
   "source": [
    "dot1[1]"
   ]
  },
  {
   "cell_type": "code",
   "execution_count": 14,
   "metadata": {},
   "outputs": [
    {
     "ename": "AttributeError",
     "evalue": "'list' object has no attribute 'int'",
     "output_type": "error",
     "traceback": [
      "\u001b[1;31m---------------------------------------------------------------------------\u001b[0m",
      "\u001b[1;31mAttributeError\u001b[0m                            Traceback (most recent call last)",
      "\u001b[1;32m<ipython-input-14-aa959a43d2a1>\u001b[0m in \u001b[0;36m<module>\u001b[1;34m\u001b[0m\n\u001b[1;32m----> 1\u001b[1;33m \u001b[0mdot1\u001b[0m\u001b[1;33m.\u001b[0m\u001b[0mint\u001b[0m\u001b[1;33m\u001b[0m\u001b[1;33m\u001b[0m\u001b[0m\n\u001b[0m",
      "\u001b[1;31mAttributeError\u001b[0m: 'list' object has no attribute 'int'"
     ]
    }
   ],
   "source": [
    "for i in dot11:\n",
    "    "
   ]
  },
  {
   "cell_type": "code",
   "execution_count": 4,
   "metadata": {},
   "outputs": [
    {
     "data": {
      "text/plain": [
       "[<matplotlib.lines.Line2D at 0x21ee2240550>]"
      ]
     },
     "execution_count": 4,
     "metadata": {},
     "output_type": "execute_result"
    },
    {
     "data": {
      "image/png": "[encoded data removed]",
      "text/plain": [
       "<Figure size 432x288 with 1 Axes>"
      ]
     },
     "metadata": {
      "needs_background": "light"
     },
     "output_type": "display_data"
    }
   ],
   "source": [
    "plt.plot(x,y)"
   ]
  },
  {
   "cell_type": "code",
   "execution_count": 8,
   "metadata": {},
   "outputs": [],
   "source": [
    "y=np.array(a)\n",
    "y="
   ]
  },
  {
   "cell_type": "code",
   "execution_count": 44,
   "metadata": {},
   "outputs": [
    {
     "ename": "SyntaxError",
     "evalue": "can't assign to operator (<ipython-input-44-79c50e17281d>, line 1)",
     "output_type": "error",
     "traceback": [
      "\u001b[1;36m  File \u001b[1;32m\"<ipython-input-44-79c50e17281d>\"\u001b[1;36m, line \u001b[1;32m1\u001b[0m\n\u001b[1;33m    for k+2 in dot_list:\u001b[0m\n\u001b[1;37m       ^\u001b[0m\n\u001b[1;31mSyntaxError\u001b[0m\u001b[1;31m:\u001b[0m can't assign to operator\n"
     ]
    }
   ],
   "source": [
    "for k+2 in dot_list:\n",
    "    print(k)"
   ]
  },
  {
   "cell_type": "code",
   "execution_count": 24,
   "metadata": {},
   "outputs": [
    {
     "data": {
      "text/plain": [
       "[<matplotlib.lines.Line2D at 0x1d553d211d0>]"
      ]
     },
     "execution_count": 24,
     "metadata": {},
     "output_type": "execute_result"
    },
    {
     "data": {
      "image/png": "[encoded data removed]",
      "text/plain": [
       "<Figure size 432x288 with 1 Axes>"
      ]
     },
     "metadata": {
      "needs_background": "light"
     },
     "output_type": "display_data"
    }
   ],
   "source": [
    "plt.plot(x,y)"
   ]
  },
  {
   "cell_type": "code",
   "execution_count": null,
   "metadata": {},
   "outputs": [],
   "source": []
  }
 ],
 "metadata": {
  "kernelspec": {
   "display_name": "Python 3",
   "language": "python",
   "name": "python3"
  },
  "language_info": {
   "codemirror_mode": {
    "name": "ipython",
    "version": 3
   },
   "file_extension": ".py",
   "mimetype": "text/x-python",
   "name": "python",
   "nbconvert_exporter": "python",
   "pygments_lexer": "ipython3",
   "version": "3.7.3"
  }
 },
 "nbformat": 4,
 "nbformat_minor": 2
}
