{
 "cells": [
  {
   "cell_type": "code",
   "execution_count": 1,
   "metadata": {},
   "outputs": [],
   "source": [
    "import numpy as np\n",
    "import matplotlib.pyplot as plt\n",
    "import pandas as pd\n",
    "%matplotlib inline"
   ]
  },
  {
   "cell_type": "code",
   "execution_count": 96,
   "metadata": {},
   "outputs": [],
   "source": [
    "def a⃩b(a,b):\n",
    "    stock=np.array([a+b,a-b,a*b,a/b])\n",
    "    return stock\n",
    "\n",
    "def a⃩⃩b(a,b,c):\n",
    "    stock=a⃩b(a,b)\n",
    "    stock=a⃩b(stock,c)\n",
    "    return stock\n",
    "\n",
    "def a⃩⃩⃩b(a,b,c,d):\n",
    "    stock=a⃩⃩b(a,b,c)\n",
    "    stock=stock=a⃩b(stock,d)\n",
    "    return stock\n",
    "\n",
    "def oper(a):\n",
    "    if a==0:\n",
    "        return '+'\n",
    "    elif a==1:\n",
    "        return '-'\n",
    "    elif a==2:\n",
    "        return '*'\n",
    "    else:\n",
    "        return '/'"
   ]
  },
  {
   "cell_type": "markdown",
   "metadata": {},
   "source": [
    "# 湊24\n",
    "### 功能:給定4個整數，以加減乘除湊出24\n",
    "### 靈感來源: 包種茶應數系攤位小遊戲\n",
    "#### 主要思路:多維array\n",
    "#### 備注:(a+b)*(c+d) 或 a/(b+c+d)... 暫不可解"
   ]
  },
  {
   "cell_type": "code",
   "execution_count": 132,
   "metadata": {},
   "outputs": [
    {
     "name": "stdout",
     "output_type": "stream",
     "text": [
      ">>3,4,7,10\n",
      "((4+7)+10)+3=24\n",
      "\n",
      "((7+10)+3)+4=24\n",
      "\n",
      "((10+3)+4)+7=24\n",
      "\n"
     ]
    }
   ],
   "source": [
    "egg = input('>>').split(',')\n",
    "egg=list(map(int,egg))\n",
    "ww=1\n",
    "uu=0\n",
    "while ww!=4:\n",
    "    egg=[egg[1],egg[2],egg[3],egg[0]]\n",
    "    p=a⃩⃩⃩b(egg[0],egg[1],egg[2],egg[3])\n",
    "    k=np.where(p==24)\n",
    "    for i in range(len(k[0])):\n",
    "        print('(('+ str(egg[0]) + oper(k[2][i]) +str(egg[1]) +')' + oper(k[1][i]) +str(egg[2]) + ')'+ oper(k[0][i]) + str(egg[3]) +'=24\\n')\n",
    "    if len(k[0])==0:\n",
    "        uu=uu+1\n",
    "    ww=ww+1\n",
    "if uu!=0:\n",
    "    print('無解')"
   ]
  },
  {
   "cell_type": "code",
   "execution_count": 112,
   "metadata": {},
   "outputs": [
    {
     "name": "stdout",
     "output_type": "stream",
     "text": [
      ">>1,2,3,4\n"
     ]
    }
   ],
   "source": [
    "egg = input('>>').split(',')\n",
    "egg=list(map(int,egg))"
   ]
  },
  {
   "cell_type": "code",
   "execution_count": 52,
   "metadata": {},
   "outputs": [
    {
     "name": "stdout",
     "output_type": "stream",
     "text": [
      "[[ 2.   3.   4.   5.   6. ]\n",
      " [-2.  -1.   0.   1.   2. ]\n",
      " [ 0.   2.   4.   6.   8. ]\n",
      " [ 0.   0.5  1.   1.5  2. ]]\n"
     ]
    }
   ],
   "source": [
    "l1= np.array(range(5))\n",
    "print(a⃩b(l1,2))"
   ]
  },
  {
   "cell_type": "code",
   "execution_count": 53,
   "metadata": {},
   "outputs": [
    {
     "data": {
      "text/plain": [
       "array([0. , 0.5, 1. , 1.5, 2. ])"
      ]
     },
     "execution_count": 53,
     "metadata": {},
     "output_type": "execute_result"
    }
   ],
   "source": [
    "l1= np.array(range(5))\n",
    "l2=[]\n",
    "np.append(l2,l1/2)"
   ]
  },
  {
   "cell_type": "code",
   "execution_count": 58,
   "metadata": {},
   "outputs": [
    {
     "name": "stdout",
     "output_type": "stream",
     "text": [
      "[ 3.  -1.   2.   0.5]\n"
     ]
    }
   ],
   "source": [
    "print(a⃩b(1,2))"
   ]
  },
  {
   "cell_type": "code",
   "execution_count": 74,
   "metadata": {},
   "outputs": [
    {
     "name": "stdout",
     "output_type": "stream",
     "text": [
      "[[[ 2.400e+01  1.200e+01  4.800e+01  1.300e+01]\n",
      "  [ 1.200e+01  0.000e+00  3.600e+01  1.000e+00]\n",
      "  [ 7.800e+01  6.000e+00  2.220e+02  1.200e+01]\n",
      "  [ 8.000e+00  6.000e+00  1.200e+01  6.000e+00]]\n",
      "\n",
      " [[ 1.200e+01  0.000e+00  3.600e+01  1.000e+00]\n",
      "  [ 0.000e+00 -1.200e+01  2.400e+01 -1.100e+01]\n",
      "  [ 6.600e+01 -6.000e+00  2.100e+02  0.000e+00]\n",
      "  [-4.000e+00 -6.000e+00  0.000e+00 -6.000e+00]]\n",
      "\n",
      " [[ 1.080e+02  3.600e+01  2.520e+02  4.200e+01]\n",
      "  [ 3.600e+01 -3.600e+01  1.800e+02 -3.000e+01]\n",
      "  [ 4.320e+02  0.000e+00  1.296e+03  3.600e+01]\n",
      "  [ 1.200e+01  0.000e+00  3.600e+01  1.000e+00]]\n",
      "\n",
      " [[ 3.000e+00  1.000e+00  7.000e+00  1.000e+00]\n",
      "  [ 1.000e+00 -1.000e+00  5.000e+00 -1.000e+00]\n",
      "  [ 1.200e+01  0.000e+00  3.600e+01  1.000e+00]\n",
      "  [ 0.000e+00  0.000e+00  1.000e+00  0.000e+00]]]\n"
     ]
    }
   ],
   "source": [
    "print(np.around(a⃩⃩⃩b(6,6,6,6),0))"
   ]
  },
  {
   "cell_type": "code",
   "execution_count": 75,
   "metadata": {},
   "outputs": [
    {
     "data": {
      "text/plain": [
       "array([[[ 2.400e+01,  1.200e+01,  4.800e+01,  1.300e+01],\n",
       "        [ 1.200e+01,  0.000e+00,  3.600e+01,  1.000e+00],\n",
       "        [ 7.800e+01,  6.000e+00,  2.220e+02,  1.200e+01],\n",
       "        [ 8.000e+00,  6.000e+00,  1.200e+01,  6.000e+00]],\n",
       "\n",
       "       [[ 1.200e+01,  0.000e+00,  3.600e+01,  1.000e+00],\n",
       "        [ 0.000e+00, -1.200e+01,  2.400e+01, -1.100e+01],\n",
       "        [ 6.600e+01, -6.000e+00,  2.100e+02,  0.000e+00],\n",
       "        [-4.000e+00, -6.000e+00,  0.000e+00, -6.000e+00]],\n",
       "\n",
       "       [[ 1.080e+02,  3.600e+01,  2.520e+02,  4.200e+01],\n",
       "        [ 3.600e+01, -3.600e+01,  1.800e+02, -3.000e+01],\n",
       "        [ 4.320e+02,  0.000e+00,  1.296e+03,  3.600e+01],\n",
       "        [ 1.200e+01,  0.000e+00,  3.600e+01,  1.000e+00]],\n",
       "\n",
       "       [[ 3.000e+00,  1.000e+00,  7.000e+00,  1.000e+00],\n",
       "        [ 1.000e+00, -1.000e+00,  5.000e+00, -1.000e+00],\n",
       "        [ 1.200e+01,  0.000e+00,  3.600e+01,  1.000e+00],\n",
       "        [ 0.000e+00,  0.000e+00,  1.000e+00,  0.000e+00]]])"
      ]
     },
     "execution_count": 75,
     "metadata": {},
     "output_type": "execute_result"
    }
   ],
   "source": [
    "np.around(a⃩⃩⃩b(6,6,6,6),0)"
   ]
  },
  {
   "cell_type": "code",
   "execution_count": 89,
   "metadata": {},
   "outputs": [
    {
     "data": {
      "text/plain": [
       "(array([0, 1], dtype=int64),\n",
       " array([0, 1], dtype=int64),\n",
       " array([0, 2], dtype=int64))"
      ]
     },
     "execution_count": 89,
     "metadata": {},
     "output_type": "execute_result"
    }
   ],
   "source": [
    "np.where(a⃩⃩⃩b(6,6,6,6)==24)"
   ]
  },
  {
   "cell_type": "code",
   "execution_count": 105,
   "metadata": {},
   "outputs": [],
   "source": [
    "k=np.where(a⃩⃩⃩b(6,6,6,6)==24)"
   ]
  },
  {
   "cell_type": "code",
   "execution_count": 107,
   "metadata": {},
   "outputs": [
    {
     "data": {
      "text/plain": [
       "array([0, 1], dtype=int64)"
      ]
     },
     "execution_count": 107,
     "metadata": {},
     "output_type": "execute_result"
    }
   ],
   "source": [
    "k[0]"
   ]
  },
  {
   "cell_type": "code",
   "execution_count": 104,
   "metadata": {},
   "outputs": [
    {
     "data": {
      "text/plain": [
       "2"
      ]
     },
     "execution_count": 104,
     "metadata": {},
     "output_type": "execute_result"
    }
   ],
   "source": [
    "len(k[0])"
   ]
  },
  {
   "cell_type": "code",
   "execution_count": 110,
   "metadata": {},
   "outputs": [
    {
     "name": "stdout",
     "output_type": "stream",
     "text": [
      "6+6+6+6=24\n",
      "\n",
      "6*6-6-6=24\n",
      "\n"
     ]
    }
   ],
   "source": [
    "for i in range(len(k[0])):\n",
    "    print(str(egg[0]) + oper(k[2][i]) +str(egg[1]) + oper(k[1][i]) +str(egg[2]) + oper(k[0][i]) + str(egg[3]) +'=24\\n' )"
   ]
  },
  {
   "cell_type": "code",
   "execution_count": 116,
   "metadata": {},
   "outputs": [
    {
     "name": "stdout",
     "output_type": "stream",
     "text": [
      "[1, 2, 3, 4]\n"
     ]
    }
   ],
   "source": [
    "egg=[egg[1],egg[2],egg[3],egg[0]]\n",
    "print(egg)"
   ]
  },
  {
   "cell_type": "code",
   "execution_count": 129,
   "metadata": {},
   "outputs": [
    {
     "data": {
      "text/plain": [
       "0"
      ]
     },
     "execution_count": 129,
     "metadata": {},
     "output_type": "execute_result"
    }
   ],
   "source": [
    "len(k[0])"
   ]
  },
  {
   "cell_type": "code",
   "execution_count": null,
   "metadata": {},
   "outputs": [],
   "source": []
  }
 ],
 "metadata": {
  "kernelspec": {
   "display_name": "Python 3",
   "language": "python",
   "name": "python3"
  },
  "language_info": {
   "codemirror_mode": {
    "name": "ipython",
    "version": 3
   },
   "file_extension": ".py",
   "mimetype": "text/x-python",
   "name": "python",
   "nbconvert_exporter": "python",
   "pygments_lexer": "ipython3",
   "version": "3.7.3"
  }
 },
 "nbformat": 4,
 "nbformat_minor": 2
}
