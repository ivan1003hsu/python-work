{
 "cells": [
  {
   "cell_type": "code",
   "execution_count": 1,
   "metadata": {},
   "outputs": [],
   "source": [
    "import numpy as np\n",
    "import matplotlib.pyplot as plt\n",
    "%matplotlib inline\n",
    "from sympy import *"
   ]
  },
  {
   "cell_type": "code",
   "execution_count": 3,
   "metadata": {},
   "outputs": [
    {
     "name": "stdout",
     "output_type": "stream",
     "text": [
      "發現目標!共軍在前方57米處,請準備砲擊!)\n"
     ]
    },
    {
     "data": {
      "image/png": "[encoded data removed]",
      "text/plain": [
       "<Figure size 432x288 with 1 Axes>"
      ]
     },
     "metadata": {
      "needs_background": "light"
     },
     "output_type": "display_data"
    },
    {
     "name": "stdout",
     "output_type": "stream",
     "text": [
      "當前順風9m/s\n",
      "*砲彈質量為1公斤*\n",
      "速度(m/s)>>20\n",
      "仰角(°)>>50\n",
      "\u001b[1;31;47m擊中目標!\n",
      "國家感謝你的協助!\u001b[0m\n"
     ]
    },
    {
     "data": {
      "image/png": "[encoded data removed]",
      "text/plain": [
       "<Figure size 432x288 with 1 Axes>"
      ]
     },
     "metadata": {
      "needs_background": "light"
     },
     "output_type": "display_data"
    }
   ],
   "source": [
    "p = np.random.randint(50,100)\n",
    "q = 0\n",
    "print('發現目標!共軍在前方{}米處,請準備砲擊!)'.format(p))\n",
    "plt.axis([0, 100, 0, 100])\n",
    "plt.scatter(p,q)\n",
    "plt.show()\n",
    "k=0\n",
    "g = 9.8\n",
    "while k == 0 :\n",
    "    s = np.random.randint(-10,10)\n",
    "    D = 1.2*1.2*0.15/2 #D=PCA/2\n",
    "    if s < 0:\n",
    "        print('當前逆風{}m/s'.format(s))\n",
    "    elif s > 0:\n",
    "        print('當前順風{}m/s'.format(s))\n",
    "    else:\n",
    "        print('當前無風')\n",
    "    print('*砲彈質量為1公斤*')\n",
    "    m = 1\n",
    "    t=symbols('t')\n",
    "    vxt = symbols('vxt')\n",
    "    vyt = symbols('vyt')\n",
    "    v=float(input('速度(m/s)>>'))\n",
    "    ϕ=float(input('仰角(°)>>'))  \n",
    "    θ=(ϕ*np.pi)/180\n",
    "    \n",
    "    vy=v*np.sin(θ) \n",
    "    vx=v*np.cos(θ) + s\n",
    "    Y=[0]\n",
    "    X=[0]\n",
    "    \n",
    "    for i in range(0,100000):\n",
    "        x=X[i] + vx*0.001\n",
    "        y=Y[i] + vy*0.001\n",
    "        if ((x-p)**2) + (y-q)**2 < 4:\n",
    "            k = 1\n",
    "            break\n",
    "        elif y < 0:\n",
    "            break\n",
    "        X.append(x)\n",
    "        Y.append(y)\n",
    "        i = i*0.001\n",
    "        vx = vx - D*vx/m*0.001\n",
    "        vy = vy - D*vy/m*0.001 -g*0.001 \n",
    "    plt.plot(X,Y)\n",
    "    plt.scatter(p,q)\n",
    "    plt.axis([0, 100, 0, 100])\n",
    "    if k != 1:\n",
    "        p = p - np.random.randint(5,11)\n",
    "        plt.scatter(p,q)\n",
    "        plt.scatter(x,1,marker='X')\n",
    "        plt.show()\n",
    "        print('速度是{},仰角{},未命中目標!'.format(v,ϕ))\n",
    "        print('敵軍向前移動了!現在就在前方{}米\\n'.format(p))\n",
    "        if p < 10:\n",
    "            print('共軍接近!準備迎擊!')\n",
    "            k=2\n",
    "if k ==1:\n",
    "    plt.scatter(x,5,marker='v')\n",
    "    print('\\033[1;31;47m擊中目標!\\n國家感謝你的協助!\\033[0m')\n",
    "else:\n",
    "    print('遊戲結束')"
   ]
  },
  {
   "cell_type": "code",
   "execution_count": 60,
   "metadata": {},
   "outputs": [
    {
     "data": {
      "text/plain": [
       "[<matplotlib.lines.Line2D at 0x1ce817adb00>]"
      ]
     },
     "execution_count": 60,
     "metadata": {},
     "output_type": "execute_result"
    },
    {
     "data": {
      "image/png": "[encoded data removed]",
      "text/plain": [
       "<Figure size 432x288 with 1 Axes>"
      ]
     },
     "metadata": {
      "needs_background": "light"
     },
     "output_type": "display_data"
    }
   ],
   "source": [
    "p = np.random.randint(50,100)\n",
    "q = 0\n",
    "X = [0]\n",
    "Y = [0]\n",
    "vx = 15\n",
    "vy = 30\n",
    "D = 1.2*1.2*0.15/2 #D=PCA/2\n",
    "g = 9.8\n",
    "m =1\n",
    "for i in range(0,100000):\n",
    "    x=X[i] + vx*0.001\n",
    "    y=Y[i] + vy*0.001\n",
    "    if ((x-p)**2) + (y-q)**2 < 4:\n",
    "        k = 1\n",
    "        break\n",
    "    elif y < 0:\n",
    "        break\n",
    "    X.append(x)\n",
    "    Y.append(y)\n",
    "    i = i*0.001\n",
    "    vx = vx - D*vx/m*0.001\n",
    "    vy = vy - D*vy/m*0.001 -g*0.001\n",
    "plt.axis([0, 100, 0, 100])\n",
    "plt.plot(X,Y)"
   ]
  },
  {
   "cell_type": "code",
   "execution_count": null,
   "metadata": {},
   "outputs": [],
   "source": []
  },
  {
   "cell_type": "code",
   "execution_count": 11,
   "metadata": {},
   "outputs": [],
   "source": [
    "import ipywidgets as widgets\n",
    "from IPython.display import display"
   ]
  },
  {
   "cell_type": "code",
   "execution_count": 3,
   "metadata": {},
   "outputs": [],
   "source": [
    "def Trajectory1(砲彈質量=1,仰角=45.0,速度=10):\n",
    "    Trajectory1.close\n",
    "    t=symbols('t')\n",
    "    θ=(仰角*np.pi)/180.\n",
    "    \n",
    "    vy0=速度*np.sin(θ)\n",
    "    vx0=速度*np.cos(θ)\n",
    "    vyt = vy0 - 9.8*t\n",
    "    \n",
    "    yt = integrate(vyt,t)\n",
    "    xt = integrate(vx0,t)\n",
    "\n",
    "    Y=[]\n",
    "    X=[]\n",
    "    c=0.01\n",
    "    a=10\n",
    "    while c < a:\n",
    "        x=xt.evalf(subs={t:c})-xt.evalf(subs={t:0})\n",
    "        y=yt.evalf(subs={t:c})-yt.evalf(subs={t:0})\n",
    "        Y.append(y)\n",
    "        X.append(x)\n",
    "        if ((x-p)**2) + (y-q)**2 < 4:\n",
    "            k =1\n",
    "            return k\n",
    "            break\n",
    "        elif y < 0:\n",
    "            break\n",
    "        else:\n",
    "            c= c+0.01 \n",
    "    plt.plot(X,Y)\n",
    "    plt.scatter(p,q)\n",
    "    plt.axis([0, 100, 0, 100])\n",
    "    plt.show()"
   ]
  },
  {
   "cell_type": "code",
   "execution_count": null,
   "metadata": {},
   "outputs": [],
   "source": []
  },
  {
   "cell_type": "code",
   "execution_count": 24,
   "metadata": {},
   "outputs": [],
   "source": []
  },
  {
   "cell_type": "code",
   "execution_count": 77,
   "metadata": {},
   "outputs": [
    {
     "name": "stdout",
     "output_type": "stream",
     "text": [
      "發現目標!共軍在前方88米處,請準備砲擊!)\n"
     ]
    },
    {
     "data": {
      "image/png": "[encoded data removed]",
      "text/plain": [
       "<Figure size 432x288 with 1 Axes>"
      ]
     },
     "metadata": {
      "needs_background": "light"
     },
     "output_type": "display_data"
    },
    {
     "data": {
      "application/vnd.jupyter.widget-view+json": {
       "model_id": "ebc925f5bcdd46ceb8632ce780a81f7f",
       "version_major": 2,
       "version_minor": 0
      },
      "text/plain": [
       "interactive(children=(IntSlider(value=1, description='砲彈質量', max=20, min=1), FloatSlider(value=45.0, descripti…"
      ]
     },
     "metadata": {},
     "output_type": "display_data"
    },
    {
     "data": {
      "text/plain": [
       "<function __main__.Trajectory1(砲彈質量=1, 仰角=45.0, 速度=10)>"
      ]
     },
     "execution_count": 77,
     "metadata": {},
     "output_type": "execute_result"
    }
   ],
   "source": [
    "p = np.random.randint(50,100)\n",
    "q = 0\n",
    "print('發現目標!共軍在前方{}米處,請準備砲擊!)'.format(p))\n",
    "plt.axis([0, 100, 0, 100])\n",
    "plt.scatter(p,q)\n",
    "plt.show()\n",
    "k=0\n",
    "interact_manual(Trajectory1,砲彈質量=(1,20),仰角=(0,90.),速度=(0,100.))"
   ]
  },
  {
   "cell_type": "code",
   "execution_count": 4,
   "metadata": {},
   "outputs": [],
   "source": [
    "plt.show()"
   ]
  },
  {
   "cell_type": "code",
   "execution_count": null,
   "metadata": {},
   "outputs": [],
   "source": []
  }
 ],
 "metadata": {
  "kernelspec": {
   "display_name": "Python 3",
   "language": "python",
   "name": "python3"
  },
  "language_info": {
   "codemirror_mode": {
    "name": "ipython",
    "version": 3
   },
   "file_extension": ".py",
   "mimetype": "text/x-python",
   "name": "python",
   "nbconvert_exporter": "python",
   "pygments_lexer": "ipython3",
   "version": "3.7.3"
  }
 },
 "nbformat": 4,
 "nbformat_minor": 2
}
