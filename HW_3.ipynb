{
 "cells": [
  {
   "cell_type": "markdown",
   "metadata": {},
   "source": [
    "binary search tree:\n",
    "\n",
    "(Node -> Node1)\n",
    "\n",
    "https://www.tutorialspoint.com/python_data_structure/python_binary_search_tree.htm"
   ]
  },
  {
   "cell_type": "code",
   "execution_count": 1,
   "metadata": {},
   "outputs": [],
   "source": [
    "class Node1:\n",
    "\n",
    "    def __init__(self, data):\n",
    "\n",
    "        self.left = None\n",
    "        self.right = None\n",
    "        self.data = data\n",
    "\n",
    "# Insert method to create nodes\n",
    "    def insert(self, data):\n",
    "\n",
    "        if self.data:\n",
    "            if data < self.data:\n",
    "                if self.left is None:\n",
    "                    self.left = Node1(data)\n",
    "                else:\n",
    "                    self.left.insert(data)\n",
    "            elif data > self.data:\n",
    "                if self.right is None:\n",
    "                    self.right = Node1(data)\n",
    "                else:\n",
    "                    self.right.insert(data)\n",
    "        else:\n",
    "            self.data = data\n",
    "# findval method to compare the value with nodes\n",
    "    def findval(self, lkpval):\n",
    "        if lkpval < self.data:\n",
    "            if self.left is None:\n",
    "                return str(lkpval)+\" Not Found\"\n",
    "            return self.left.findval(lkpval)\n",
    "        elif lkpval > self.data:\n",
    "            if self.right is None:\n",
    "                return str(lkpval)+\" Not Found\"\n",
    "            return self.right.findval(lkpval)\n",
    "        else:\n",
    "            pass\n",
    "            #print(str(self.data) + ' is found')\n",
    "# Print the tree\n",
    "    def PrintTree(self):\n",
    "        if self.left:\n",
    "            self.left.PrintTree()\n",
    "        print( self.data),\n",
    "        if self.right:\n",
    "            self.right.PrintTree()\n"
   ]
  },
  {
   "cell_type": "markdown",
   "metadata": {},
   "source": [
    "skip list:\n",
    "\n",
    "(Node -> Node2)\n",
    "\n",
    "\n",
    "https://www.geeksforgeeks.org/skip-list-set-2-insertion/"
   ]
  },
  {
   "cell_type": "code",
   "execution_count": 2,
   "metadata": {},
   "outputs": [],
   "source": [
    "import random \n",
    "  \n",
    "class Node2(object): \n",
    "    ''' \n",
    "    Class to implement node \n",
    "    '''\n",
    "    def __init__(self, key, level): \n",
    "        self.key = key \n",
    "  \n",
    "        # list to hold references to node of different level  \n",
    "        self.forward = [None]*(level+1) \n",
    "\n",
    "class SkipList(object): \n",
    "    ''' \n",
    "    Class for Skip list \n",
    "    '''\n",
    "    def __init__(self, max_lvl, P): \n",
    "        # Maximum level for this skip list \n",
    "        self.MAXLVL = max_lvl \n",
    "  \n",
    "        # P is the fraction of the nodes with level  \n",
    "        # i references also having level i+1 references \n",
    "        self.P = P \n",
    "  \n",
    "        # create header node and initialize key to -1 \n",
    "        self.header = self.createNode(self.MAXLVL, -1) \n",
    "  \n",
    "        # current level of skip list \n",
    "        self.level = 0\n",
    "      \n",
    "    # create  new node \n",
    "    def createNode(self, lvl, key): \n",
    "        n = Node2(key, lvl) \n",
    "        return n \n",
    "      \n",
    "    # create random level for node \n",
    "    def randomLevel(self): \n",
    "        lvl = 0\n",
    "        while random.random()<self.P and lvl<self.MAXLVL:\n",
    "            lvl += 1\n",
    "        return lvl \n",
    "  \n",
    "    # insert given key in skip list \n",
    "    def insertElement(self, key): \n",
    "        # create update array and initialize it \n",
    "        update = [None]*(self.MAXLVL+1) \n",
    "        current = self.header \n",
    "  \n",
    "        ''' \n",
    "        start from highest level of skip list \n",
    "        move the current reference forward while key  \n",
    "        is greater than key of node next to current \n",
    "        Otherwise inserted current in update and  \n",
    "        move one level down and continue search \n",
    "        '''\n",
    "        for i in range(self.level, -1, -1): \n",
    "            while current.forward[i] and current.forward[i].key < key: \n",
    "                current = current.forward[i] \n",
    "            update[i] = current \n",
    "  \n",
    "        '''  \n",
    "        reached level 0 and forward reference to  \n",
    "        right, which is desired position to  \n",
    "        insert key. \n",
    "        ''' \n",
    "        current = current.forward[0] \n",
    "  \n",
    "        ''' \n",
    "        if current is NULL that means we have reached \n",
    "           to end of the level or current's key is not equal \n",
    "           to key to insert that means we have to insert \n",
    "           node between update[0] and current node \n",
    "       '''\n",
    "        if current == None or current.key != key: \n",
    "            # Generate a random level for node \n",
    "            rlevel = self.randomLevel() \n",
    "  \n",
    "            ''' \n",
    "            If random level is greater than list's current \n",
    "            level (node with highest level inserted in  \n",
    "            list so far), initialize update value with reference \n",
    "            to header for further use \n",
    "            '''\n",
    "            if rlevel > self.level: \n",
    "                for i in range(self.level+1, rlevel+1): \n",
    "                    update[i] = self.header \n",
    "                self.level = rlevel \n",
    "  \n",
    "            # create new node with random level generated \n",
    "            n = self.createNode(rlevel, key) \n",
    "  \n",
    "            # insert node by rearranging references  \n",
    "            for i in range(rlevel+1): \n",
    "                n.forward[i] = update[i].forward[i] \n",
    "                update[i].forward[i] = n \n",
    "  \n",
    "            #print(\"Successfully inserted key {}\".format(key)) \n",
    "  \n",
    "    # Display skip list level wise \n",
    "    def displayList(self): \n",
    "        print(\"\\n*****Skip List******\") \n",
    "        head = self.header \n",
    "        for lvl in range(self.level+1): \n",
    "            print(\"Level {}: \".format(lvl), end=\" \") \n",
    "            node = head.forward[lvl] \n",
    "            while(node != None): \n",
    "                print(node.key, end=\" \") \n",
    "                node = node.forward[lvl] \n",
    "            print(\"\") \n",
    "            \n",
    "    def searchElement(self, key):  \n",
    "        current = self.header \n",
    "  \n",
    "        ''' \n",
    "        start from highest level of skip list \n",
    "        move the current reference forward while key  \n",
    "        is greater than key of node next to current \n",
    "        Otherwise inserted current in update and  \n",
    "        move one level down and continue search \n",
    "        '''\n",
    "        for i in range(self.level, -1, -1): \n",
    "            while(current.forward[i] and current.forward[i].key < key): \n",
    "                current = current.forward[i] \n",
    "  \n",
    "        # reached level 0 and advance reference to  \n",
    "        # right, which is prssibly our desired node \n",
    "        current = current.forward[0] \n",
    "  \n",
    "        # If current node have key equal to \n",
    "        # search key, we have found our target node \n",
    "        if current and current.key == key: \n",
    "            pass\n",
    "            #print(\"Found key \", key) \n",
    "  "
   ]
  },
  {
   "cell_type": "markdown",
   "metadata": {},
   "source": [
    "sorted array:\n",
    "\n",
    "https://www.geeksforgeeks.org/search-insert-and-delete-in-a-sorted-array/"
   ]
  },
  {
   "cell_type": "code",
   "execution_count": 3,
   "metadata": {},
   "outputs": [],
   "source": [
    "def binarySearch(arr, low, high, key): \n",
    "  \n",
    "    if (high < low): \n",
    "        return -1\n",
    "    # low + (high - low)/2 \n",
    "    mid = (low + high)/2\n",
    "  \n",
    "    if (key == arr[int(mid)]): \n",
    "        return mid \n",
    "  \n",
    "    if (key > arr[int(mid)]): \n",
    "        return binarySearch(arr, \n",
    "           (mid + 1), high, key) \n",
    "  \n",
    "    return (binarySearch(arr, low, \n",
    "           (mid -1), key)) \n",
    "  \n",
    "# This code is contributed by \n",
    "# Smitha Dinesh Semwal \n",
    "\n",
    "def insertSorted(arr, n, key, capacity): \n",
    "      \n",
    "    # Cannot insert more elements if n is  \n",
    "    # already more than or equal to capcity \n",
    "    if (n >= capacity): \n",
    "        return n \n",
    "  \n",
    "    i = n - 1\n",
    "    while i >= 0 and arr[i] > key: \n",
    "        arr[i + 1] = arr[i] \n",
    "        i -= 1\n",
    "  \n",
    "    arr[i + 1] = key \n",
    "  \n",
    "    return (n + 1) \n",
    "  "
   ]
  },
  {
   "cell_type": "code",
   "execution_count": 4,
   "metadata": {},
   "outputs": [],
   "source": [
    "import numpy as np\n",
    "def random_array(k):\n",
    "    return np.random.randint(1,2**30,size=2**k)"
   ]
  },
  {
   "cell_type": "code",
   "execution_count": 5,
   "metadata": {},
   "outputs": [],
   "source": [
    "import time"
   ]
  },
  {
   "cell_type": "markdown",
   "metadata": {},
   "source": [
    "## 測試"
   ]
  },
  {
   "cell_type": "markdown",
   "metadata": {},
   "source": [
    "bst"
   ]
  },
  {
   "cell_type": "code",
   "execution_count": 60,
   "metadata": {},
   "outputs": [
    {
     "name": "stdout",
     "output_type": "stream",
     "text": [
      "k= 10  times: 10   time: 2020-06-21 17:30:28 [0.005364991000533337, 0.004426077000971418, 0.004481361000216566, 0.004933000000164611, 0.004153821999352658, 0.004382578999866382, 0.004944320999129559, 0.005581010000241804, 0.005910677000429132, 0.0049043380004150094] \n",
      "insert: k= 10 [0.004908217600132048]\n",
      "k= 10  times: 10   time: 2020-06-21 17:30:34 [0.5788098820012237, 0.5268568730007246, 0.5336021209986939, 0.5147303450012259, 0.5369332720001694, 0.5414270330002182, 0.5270007489998534, 0.5106768130008277, 0.516971265000393, 0.5699135810009466]\n",
      "search: k= 10 [0.5356921934004276]\n",
      "k= 11  times: 10   time: 2020-06-21 17:30:34 [0.008918207999158767, 0.010283240000717342, 0.009335734999694978, 0.009573679999448359, 0.010046635999970022, 0.009207125000102678, 0.009859660000074655, 0.009661272999437642, 0.009323612999651232, 0.011850725999465794] \n",
      "insert: k= 11 [0.004908217600132048, 0.009805989599772146]\n",
      "k= 11  times: 10   time: 2020-06-21 17:30:41 [0.7529063680012769, 0.7397155970011227, 0.7312442939983157, 0.7065276690009341, 0.6915482149997842, 0.7330545800014079, 0.7744427929992526, 0.735881683000116, 0.7166688289999001, 0.7427455090000876]\n",
      "search: k= 11 [0.5356921934004276, 0.7324735537002198]\n",
      "k= 12  times: 10   time: 2020-06-21 17:30:41 [0.021991199999320088, 0.019774512998992577, 0.021150496000700514, 0.02051666999977897, 0.019767460000366555, 0.019976628000222263, 0.019516948999807937, 0.018582016000436852, 0.022263453000050504, 0.021592855999188032] \n",
      "insert: k= 12 [0.004908217600132048, 0.009805989599772146, 0.02051322409988643]\n",
      "k= 12  times: 10   time: 2020-06-21 17:30:48 [0.6767590710005607, 0.6577993680002692, 0.6143646970012924, 0.6445872789990972, 0.6567319780006073, 0.6442201270001533, 0.6737532049992296, 0.6749322819996451, 0.6696228540004086, 0.6553539309988992]\n",
      "search: k= 12 [0.5356921934004276, 0.7324735537002198, 0.6568124792000163]\n",
      "k= 13  times: 10   time: 2020-06-21 17:30:49 [0.04641881299903616, 0.05154062399924442, 0.049543535000339034, 0.04855039799986116, 0.05068001899962837, 0.050700712999969255, 0.05553458299982594, 0.060558290000699344, 0.06830617800005712, 0.052856803999020485] \n",
      "insert: k= 13 [0.004908217600132048, 0.009805989599772146, 0.02051322409988643, 0.05346899569976813]\n",
      "k= 13  times: 10   time: 2020-06-21 17:30:56 [0.7513684530003957, 0.7535342409992154, 0.7347778280000057, 0.7256172209999932, 0.7530007119985385, 0.7112718089992995, 0.7224760690005496, 0.7747535460002837, 0.7155462150003586, 0.6778764059999958]\n",
      "search: k= 13 [0.5356921934004276, 0.7324735537002198, 0.6568124792000163, 0.7320222499998635]\n",
      "k= 14  times: 10   time: 2020-06-21 17:30:57 [0.11386947800019698, 0.12202580600023794, 0.1262259940012882, 0.11253798500001722, 0.11349337800129433, 0.1164225289994647, 0.10220823399868095, 0.10358557099971222, 0.09832403200016415, 0.09702924599878315] \n",
      "insert: k= 14 [0.004908217600132048, 0.009805989599772146, 0.02051322409988643, 0.05346899569976813, 0.11057222529998398]\n",
      "k= 14  times: 10   time: 2020-06-21 17:31:05 [0.7992294770010631, 0.846563918999891, 0.8256273429997236, 0.7981908920010028, 0.7697388679989672, 0.8151650420004444, 0.8657830729989655, 0.8772167939987412, 0.8120131689993286, 0.8416167449995555]\n",
      "search: k= 14 [0.5356921934004276, 0.7324735537002198, 0.6568124792000163, 0.7320222499998635, 0.8251145321997683]\n",
      "k= 15  times: 10   time: 2020-06-21 17:31:12 [0.2313052939989575, 4.114220346998991, 0.23411476100045547, 0.25209391899988987, 0.23942122099833796, 0.2652908439995372, 0.25801120400137734, 0.28686126499997044, 0.22823375599909923, 0.23732912100058456] \n",
      "insert: k= 15 [0.004908217600132048, 0.009805989599772146, 0.02051322409988643, 0.05346899569976813, 0.11057222529998398, 0.63468817319972]\n",
      "k= 15  times: 10   time: 2020-06-21 17:31:21 [0.9652777100000094, 0.9433121889996983, 0.9753374310002982, 0.9102979080016667, 0.9202453130001231, 0.8897481449985207, 0.9066421130009985, 0.9453600790002383, 0.9333078550007485, 0.9198411540000961]\n",
      "search: k= 15 [0.5356921934004276, 0.7324735537002198, 0.6568124792000163, 0.7320222499998635, 0.8251145321997683, 0.9309369897002397]\n",
      "k= 16  times: 10   time: 2020-06-21 17:31:30 [0.532364755999879, 0.518606704999911, 0.5117159300007188, 0.5061620529995707, 0.5586075039991556, 4.395857292000073, 0.5354736340013915, 0.5300094859994715, 0.5296303869999974, 0.5122897929995816] \n",
      "insert: k= 16 [0.004908217600132048, 0.009805989599772146, 0.02051322409988643, 0.05346899569976813, 0.11057222529998398, 0.63468817319972, 0.9130717539999751]\n",
      "k= 16  times: 10   time: 2020-06-21 17:31:41 [1.0396509239999432, 1.0351844760007225, 1.0548505829992791, 1.0332186300001922, 1.0614725100003852, 1.0068932869999117, 0.9650530649996654, 0.9669155379997392, 0.9793808459999127, 0.9661161450003419]\n",
      "search: k= 16 [0.5356921934004276, 0.7324735537002198, 0.6568124792000163, 0.7320222499998635, 0.8251145321997683, 0.9309369897002397, 1.0108736004000094]\n",
      "k= 17  times: 10   time: 2020-06-21 17:32:00 [1.1744384900011937, 1.141799776998596, 4.911890167999445, 1.199174903000312, 1.1746610499994858, 1.2652104349999718, 1.2208963809989655, 5.173076797998874, 1.116708032999668, 1.0857493809999141] \n",
      "insert: k= 17 [0.004908217600132048, 0.009805989599772146, 0.02051322409988643, 0.05346899569976813, 0.11057222529998398, 0.63468817319972, 0.9130717539999751, 1.9463605415996426]\n",
      "k= 17  times: 10   time: 2020-06-21 17:32:11 [1.0567186970001785, 1.0731538090003596, 1.0558495320001384, 1.0673499639997317, 1.0571595629990043, 1.056720127000517, 1.2498409190011444, 1.07528570499926, 1.069969869000488, 1.0796513250006683]\n",
      "search: k= 17 [0.5356921934004276, 0.7324735537002198, 0.6568124792000163, 0.7320222499998635, 0.8251145321997683, 0.9309369897002397, 1.0108736004000094, 1.084169951000149]\n",
      "k= 18  times: 10   time: 2020-06-21 17:32:53 [2.425221834000695, 6.466323292001107, 2.557828601999063, 6.516145273000802, 2.539942160999999, 2.4707709169997543, 6.383266899001683, 2.4959585570013587, 2.4666396170014195, 6.728251949998594] \n",
      "insert: k= 18 [0.004908217600132048, 0.009805989599772146, 0.02051322409988643, 0.05346899569976813, 0.11057222529998398, 0.63468817319972, 0.9130717539999751, 1.9463605415996426, 4.105034910200447]\n",
      "k= 18  times: 10   time: 2020-06-21 17:33:07 [1.4150852769998892, 1.3510242470001685, 1.3404572439994809, 1.3554266139999527, 1.5129064949996973, 1.5368464769999264, 1.3905713429994648, 1.2780669530002342, 1.2736777530008112, 1.6461025279986643]\n",
      "search: k= 18 [0.5356921934004276, 0.7324735537002198, 0.6568124792000163, 0.7320222499998635, 0.8251145321997683, 0.9309369897002397, 1.0108736004000094, 1.084169951000149, 1.410016493099829]\n",
      "k= 19  times: 10   time: 2020-06-21 17:34:42 [10.487628382999901, 5.9967412629994215, 10.087488950999614, 10.250161273999765, 10.107257788000425, 9.963326333001532, 6.092214426998908, 9.744118505999722, 9.88261402399985, 9.969445547998475] \n",
      "insert: k= 19 [0.004908217600132048, 0.009805989599772146, 0.02051322409988643, 0.05346899569976813, 0.11057222529998398, 0.63468817319972, 0.9130717539999751, 1.9463605415996426, 4.105034910200447, 9.258099649699762]\n",
      "k= 19  times: 10   time: 2020-06-21 17:34:55 [1.433467136001127, 1.3548955769983877, 1.325321979000364, 1.3533930810008314, 1.5478390119988035, 1.3433248050005204, 1.36733137200099, 1.3395048620004673, 1.328841366999768, 1.3220261609985755]\n",
      "search: k= 19 [0.5356921934004276, 0.7324735537002198, 0.6568124792000163, 0.7320222499998635, 0.8251145321997683, 0.9309369897002397, 1.0108736004000094, 1.084169951000149, 1.410016493099829, 1.3715945351999834]\n",
      "k= 20  times: 10   time: 2020-06-21 17:38:09 [17.37790790100007, 16.51937197299958, 22.422761379000804, 18.295661530999496, 21.937764127000264, 17.844274611999936, 17.98365576299875, 22.11418931299886, 17.6929223620009, 18.37476482100101] \n",
<<<<<<< HEAD
      "insert: k= 20 [0.004908217600132048, 0.009805989599772146, 0.02051322409988643, 0.05346899569976813, 0.11057222529998398, 0.63468817319972, 0.9130717539999751, 1.9463605415996426, 4.105034910200447, 9.258099649699762, 19.056327378199967]\n",
=======
      "insert: k= 20 [0.004908217600132048, 0.009805989599772146, 0.02051322409988643, 0.05346899569976813, 0.11057222529998398, 0.63468817319972, 0.9130717539999751, 1.9463605415996426, 4.105034910200447, 9.258099649699762, 19.056327378199967]\n"
     ]
    },
    {
     "name": "stdout",
     "output_type": "stream",
     "text": [
>>>>>>> b2b3d3e7fe5fb6cb90bb5493df360fbdecee4861
      "k= 20  times: 10   time: 2020-06-21 17:38:26 [1.697833060999983, 1.657754172998466, 1.6407101420008985, 1.6878596919996198, 1.632334345000345, 1.6742622640012996, 1.6552261150009144, 1.774038974001087, 1.6721672029998444, 1.7057656460001454]\n",
      "search: k= 20 [0.5356921934004276, 0.7324735537002198, 0.6568124792000163, 0.7320222499998635, 0.8251145321997683, 0.9309369897002397, 1.0108736004000094, 1.084169951000149, 1.410016493099829, 1.3715945351999834, 1.6797951615002602]\n",
      "k= 21  times: 10   time: 2020-06-21 17:45:27 [43.754872908000834, 45.12338902800002, 39.812946198000645, 41.67296625800009, 38.96538501699979, 41.84931334099929, 39.14185341200027, 42.01018087600096, 43.147798645000876, 39.91750802000024] \n",
      "insert: k= 21 [0.004908217600132048, 0.009805989599772146, 0.02051322409988643, 0.05346899569976813, 0.11057222529998398, 0.63468817319972, 0.9130717539999751, 1.9463605415996426, 4.105034910200447, 9.258099649699762, 19.056327378199967, 41.5396213703003]\n",
      "k= 21  times: 10   time: 2020-06-21 17:45:45 [1.796386887999688, 1.8188968160011427, 1.849141098000473, 1.8154162530008762, 1.8778789660009352, 1.7083761430003506, 1.692607429000418, 1.6607497870008956, 1.6604393469988281, 1.659518794998803]\n",
      "search: k= 21 [0.5356921934004276, 0.7324735537002198, 0.6568124792000163, 0.7320222499998635, 0.8251145321997683, 0.9309369897002397, 1.0108736004000094, 1.084169951000149, 1.410016493099829, 1.3715945351999834, 1.6797951615002602, 1.753941152200241]\n",
      "k= 22  times: 10   time: 2020-06-21 18:00:24 [80.92271577099928, 92.69711043999996, 80.70125942199957, 88.05551309699877, 83.31775754699993, 87.17723804699926, 87.32149217000006, 92.16995393099933, 84.16823605599893, 93.82917483900019] \n",
      "insert: k= 22 [0.004908217600132048, 0.009805989599772146, 0.02051322409988643, 0.05346899569976813, 0.11057222529998398, 0.63468817319972, 0.9130717539999751, 1.9463605415996426, 4.105034910200447, 9.258099649699762, 19.056327378199967, 41.5396213703003, 87.03604513199953]\n",
      "k= 22  times: 10   time: 2020-06-21 18:00:46 [2.1346271429993067, 2.1477022409999336, 2.1046321379999426, 2.106116127999485, 2.118008421999548, 2.11357835400122, 2.1102474279996386, 2.109047432999432, 2.100512955999875, 2.0994582250004896]\n",
      "search: k= 22 [0.5356921934004276, 0.7324735537002198, 0.6568124792000163, 0.7320222499998635, 0.8251145321997683, 0.9309369897002397, 1.0108736004000094, 1.084169951000149, 1.410016493099829, 1.3715945351999834, 1.6797951615002602, 1.753941152200241, 2.1143930467998873]\n",
      "k= 23  times: 10   time: 2020-06-21 18:32:01 [179.62877056400066, 178.56257585000094, 191.6942264820009, 184.74379371400028, 190.16763892199924, 193.19083864499953, 194.77825977499924, 167.71129638099956, 192.89895533399977, 187.7346809970004] \n",
      "insert: k= 23 [0.004908217600132048, 0.009805989599772146, 0.02051322409988643, 0.05346899569976813, 0.11057222529998398, 0.63468817319972, 0.9130717539999751, 1.9463605415996426, 4.105034910200447, 9.258099649699762, 19.056327378199967, 41.5396213703003, 87.03604513199953, 186.11110366640006]\n",
      "k= 23  times: 10   time: 2020-06-21 18:32:23 [2.373915557000146, 2.3433920860006765, 2.3598173869995662, 2.43555718099924, 2.0873237119994883, 2.0812534550004784, 2.0485122709997086, 2.021078252000734, 2.0219856849998905, 2.0213996230013436]\n",
      "search: k= 23 [0.5356921934004276, 0.7324735537002198, 0.6568124792000163, 0.7320222499998635, 0.8251145321997683, 0.9309369897002397, 1.0108736004000094, 1.084169951000149, 1.410016493099829, 1.3715945351999834, 1.6797951615002602, 1.753941152200241, 2.1143930467998873, 2.1794235209001274]\n",
      "k= 24  times: 10   time: 2020-06-21 19:39:57 [393.893518629, 385.5659004440022, 405.34601164500054, 398.0536152229979, 397.01884669300125, 400.71943709199695, 417.80771231900144, 395.2779884640004, 431.08957349900083, 406.8304904849974] \n",
      "insert: k= 24 [0.004908217600132048, 0.009805989599772146, 0.02051322409988643, 0.05346899569976813, 0.11057222529998398, 0.63468817319972, 0.9130717539999751, 1.9463605415996426, 4.105034910200447, 9.258099649699762, 19.056327378199967, 41.5396213703003, 87.03604513199953, 186.11110366640006, 403.1603094492999]\n",
      "k= 24  times: 10   time: 2020-06-21 19:40:21 [3.225796647999232, 2.8322118630021578, 2.4894852049983456, 2.3362839849978627, 2.2897443340007158, 2.2830933820005157, 2.3219246810003824, 2.19323017699935, 2.2617584620020352, 2.2784071059977578]\n",
      "search: k= 24 [0.5356921934004276, 0.7324735537002198, 0.6568124792000163, 0.7320222499998635, 0.8251145321997683, 0.9309369897002397, 1.0108736004000094, 1.084169951000149, 1.410016493099829, 1.3715945351999834, 1.6797951615002602, 1.753941152200241, 2.1143930467998873, 2.1794235209001274, 2.4511935842998356]\n",
      "k= 25  times: 2   time: 2020-06-21 21:07:26 [2050.2626485850014, 3026.998055464999] "
     ]
    },
    {
     "ename": "KeyboardInterrupt",
     "evalue": "",
     "output_type": "error",
     "traceback": [
      "\u001b[0;31m---------------------------------------------------------------------------\u001b[0m",
      "\u001b[0;31mKeyboardInterrupt\u001b[0m                         Traceback (most recent call last)",
      "\u001b[0;32m<ipython-input-60-ce2983f4c963>\u001b[0m in \u001b[0;36m<module>\u001b[0;34m\u001b[0m\n\u001b[1;32m     11\u001b[0m         \u001b[0mt\u001b[0m \u001b[0;34m=\u001b[0m \u001b[0mtime\u001b[0m\u001b[0;34m.\u001b[0m\u001b[0mperf_counter\u001b[0m\u001b[0;34m(\u001b[0m\u001b[0;34m)\u001b[0m\u001b[0;34m\u001b[0m\u001b[0;34m\u001b[0m\u001b[0m\n\u001b[1;32m     12\u001b[0m         \u001b[0;32mfor\u001b[0m \u001b[0mi\u001b[0m \u001b[0;32min\u001b[0m \u001b[0minsert_array\u001b[0m\u001b[0;34m:\u001b[0m\u001b[0;34m\u001b[0m\u001b[0;34m\u001b[0m\u001b[0m\n\u001b[0;32m---> 13\u001b[0;31m             \u001b[0mbst\u001b[0m\u001b[0;34m.\u001b[0m\u001b[0minsert\u001b[0m\u001b[0;34m(\u001b[0m\u001b[0mi\u001b[0m\u001b[0;34m)\u001b[0m\u001b[0;34m\u001b[0m\u001b[0;34m\u001b[0m\u001b[0m\n\u001b[0m\u001b[1;32m     14\u001b[0m         \u001b[0mt\u001b[0m \u001b[0;34m=\u001b[0m \u001b[0mtime\u001b[0m\u001b[0;34m.\u001b[0m\u001b[0mperf_counter\u001b[0m\u001b[0;34m(\u001b[0m\u001b[0;34m)\u001b[0m \u001b[0;34m-\u001b[0m \u001b[0mt\u001b[0m\u001b[0;34m\u001b[0m\u001b[0;34m\u001b[0m\u001b[0m\n\u001b[1;32m     15\u001b[0m         \u001b[0mt_insert_\u001b[0m\u001b[0;34m.\u001b[0m\u001b[0mappend\u001b[0m\u001b[0;34m(\u001b[0m\u001b[0mt\u001b[0m\u001b[0;34m)\u001b[0m\u001b[0;34m\u001b[0m\u001b[0;34m\u001b[0m\u001b[0m\n",
      "\u001b[0;32m<ipython-input-40-95bf773b70a8>\u001b[0m in \u001b[0;36minsert\u001b[0;34m(self, data)\u001b[0m\n\u001b[1;32m     20\u001b[0m                     \u001b[0mself\u001b[0m\u001b[0;34m.\u001b[0m\u001b[0mright\u001b[0m \u001b[0;34m=\u001b[0m \u001b[0mNode1\u001b[0m\u001b[0;34m(\u001b[0m\u001b[0mdata\u001b[0m\u001b[0;34m)\u001b[0m\u001b[0;34m\u001b[0m\u001b[0;34m\u001b[0m\u001b[0m\n\u001b[1;32m     21\u001b[0m                 \u001b[0;32melse\u001b[0m\u001b[0;34m:\u001b[0m\u001b[0;34m\u001b[0m\u001b[0;34m\u001b[0m\u001b[0m\n\u001b[0;32m---> 22\u001b[0;31m                     \u001b[0mself\u001b[0m\u001b[0;34m.\u001b[0m\u001b[0mright\u001b[0m\u001b[0;34m.\u001b[0m\u001b[0minsert\u001b[0m\u001b[0;34m(\u001b[0m\u001b[0mdata\u001b[0m\u001b[0;34m)\u001b[0m\u001b[0;34m\u001b[0m\u001b[0;34m\u001b[0m\u001b[0m\n\u001b[0m\u001b[1;32m     23\u001b[0m         \u001b[0;32melse\u001b[0m\u001b[0;34m:\u001b[0m\u001b[0;34m\u001b[0m\u001b[0;34m\u001b[0m\u001b[0m\n\u001b[1;32m     24\u001b[0m             \u001b[0mself\u001b[0m\u001b[0;34m.\u001b[0m\u001b[0mdata\u001b[0m \u001b[0;34m=\u001b[0m \u001b[0mdata\u001b[0m\u001b[0;34m\u001b[0m\u001b[0;34m\u001b[0m\u001b[0m\n",
      "\u001b[0;32m<ipython-input-40-95bf773b70a8>\u001b[0m in \u001b[0;36minsert\u001b[0;34m(self, data)\u001b[0m\n\u001b[1;32m     15\u001b[0m                     \u001b[0mself\u001b[0m\u001b[0;34m.\u001b[0m\u001b[0mleft\u001b[0m \u001b[0;34m=\u001b[0m \u001b[0mNode1\u001b[0m\u001b[0;34m(\u001b[0m\u001b[0mdata\u001b[0m\u001b[0;34m)\u001b[0m\u001b[0;34m\u001b[0m\u001b[0;34m\u001b[0m\u001b[0m\n\u001b[1;32m     16\u001b[0m                 \u001b[0;32melse\u001b[0m\u001b[0;34m:\u001b[0m\u001b[0;34m\u001b[0m\u001b[0;34m\u001b[0m\u001b[0m\n\u001b[0;32m---> 17\u001b[0;31m                     \u001b[0mself\u001b[0m\u001b[0;34m.\u001b[0m\u001b[0mleft\u001b[0m\u001b[0;34m.\u001b[0m\u001b[0minsert\u001b[0m\u001b[0;34m(\u001b[0m\u001b[0mdata\u001b[0m\u001b[0;34m)\u001b[0m\u001b[0;34m\u001b[0m\u001b[0;34m\u001b[0m\u001b[0m\n\u001b[0m\u001b[1;32m     18\u001b[0m             \u001b[0;32melif\u001b[0m \u001b[0mdata\u001b[0m \u001b[0;34m>\u001b[0m \u001b[0mself\u001b[0m\u001b[0;34m.\u001b[0m\u001b[0mdata\u001b[0m\u001b[0;34m:\u001b[0m\u001b[0;34m\u001b[0m\u001b[0;34m\u001b[0m\u001b[0m\n\u001b[1;32m     19\u001b[0m                 \u001b[0;32mif\u001b[0m \u001b[0mself\u001b[0m\u001b[0;34m.\u001b[0m\u001b[0mright\u001b[0m \u001b[0;32mis\u001b[0m \u001b[0;32mNone\u001b[0m\u001b[0;34m:\u001b[0m\u001b[0;34m\u001b[0m\u001b[0;34m\u001b[0m\u001b[0m\n",
      "\u001b[0;32m<ipython-input-40-95bf773b70a8>\u001b[0m in \u001b[0;36minsert\u001b[0;34m(self, data)\u001b[0m\n\u001b[1;32m     15\u001b[0m                     \u001b[0mself\u001b[0m\u001b[0;34m.\u001b[0m\u001b[0mleft\u001b[0m \u001b[0;34m=\u001b[0m \u001b[0mNode1\u001b[0m\u001b[0;34m(\u001b[0m\u001b[0mdata\u001b[0m\u001b[0;34m)\u001b[0m\u001b[0;34m\u001b[0m\u001b[0;34m\u001b[0m\u001b[0m\n\u001b[1;32m     16\u001b[0m                 \u001b[0;32melse\u001b[0m\u001b[0;34m:\u001b[0m\u001b[0;34m\u001b[0m\u001b[0;34m\u001b[0m\u001b[0m\n\u001b[0;32m---> 17\u001b[0;31m                     \u001b[0mself\u001b[0m\u001b[0;34m.\u001b[0m\u001b[0mleft\u001b[0m\u001b[0;34m.\u001b[0m\u001b[0minsert\u001b[0m\u001b[0;34m(\u001b[0m\u001b[0mdata\u001b[0m\u001b[0;34m)\u001b[0m\u001b[0;34m\u001b[0m\u001b[0;34m\u001b[0m\u001b[0m\n\u001b[0m\u001b[1;32m     18\u001b[0m             \u001b[0;32melif\u001b[0m \u001b[0mdata\u001b[0m \u001b[0;34m>\u001b[0m \u001b[0mself\u001b[0m\u001b[0;34m.\u001b[0m\u001b[0mdata\u001b[0m\u001b[0;34m:\u001b[0m\u001b[0;34m\u001b[0m\u001b[0;34m\u001b[0m\u001b[0m\n\u001b[1;32m     19\u001b[0m                 \u001b[0;32mif\u001b[0m \u001b[0mself\u001b[0m\u001b[0;34m.\u001b[0m\u001b[0mright\u001b[0m \u001b[0;32mis\u001b[0m \u001b[0;32mNone\u001b[0m\u001b[0;34m:\u001b[0m\u001b[0;34m\u001b[0m\u001b[0;34m\u001b[0m\u001b[0m\n",
      "\u001b[0;32m<ipython-input-40-95bf773b70a8>\u001b[0m in \u001b[0;36minsert\u001b[0;34m(self, data)\u001b[0m\n\u001b[1;32m     20\u001b[0m                     \u001b[0mself\u001b[0m\u001b[0;34m.\u001b[0m\u001b[0mright\u001b[0m \u001b[0;34m=\u001b[0m \u001b[0mNode1\u001b[0m\u001b[0;34m(\u001b[0m\u001b[0mdata\u001b[0m\u001b[0;34m)\u001b[0m\u001b[0;34m\u001b[0m\u001b[0;34m\u001b[0m\u001b[0m\n\u001b[1;32m     21\u001b[0m                 \u001b[0;32melse\u001b[0m\u001b[0;34m:\u001b[0m\u001b[0;34m\u001b[0m\u001b[0;34m\u001b[0m\u001b[0m\n\u001b[0;32m---> 22\u001b[0;31m                     \u001b[0mself\u001b[0m\u001b[0;34m.\u001b[0m\u001b[0mright\u001b[0m\u001b[0;34m.\u001b[0m\u001b[0minsert\u001b[0m\u001b[0;34m(\u001b[0m\u001b[0mdata\u001b[0m\u001b[0;34m)\u001b[0m\u001b[0;34m\u001b[0m\u001b[0;34m\u001b[0m\u001b[0m\n\u001b[0m\u001b[1;32m     23\u001b[0m         \u001b[0;32melse\u001b[0m\u001b[0;34m:\u001b[0m\u001b[0;34m\u001b[0m\u001b[0;34m\u001b[0m\u001b[0m\n\u001b[1;32m     24\u001b[0m             \u001b[0mself\u001b[0m\u001b[0;34m.\u001b[0m\u001b[0mdata\u001b[0m \u001b[0;34m=\u001b[0m \u001b[0mdata\u001b[0m\u001b[0;34m\u001b[0m\u001b[0;34m\u001b[0m\u001b[0m\n",
      "\u001b[0;32m<ipython-input-40-95bf773b70a8>\u001b[0m in \u001b[0;36minsert\u001b[0;34m(self, data)\u001b[0m\n\u001b[1;32m     20\u001b[0m                     \u001b[0mself\u001b[0m\u001b[0;34m.\u001b[0m\u001b[0mright\u001b[0m \u001b[0;34m=\u001b[0m \u001b[0mNode1\u001b[0m\u001b[0;34m(\u001b[0m\u001b[0mdata\u001b[0m\u001b[0;34m)\u001b[0m\u001b[0;34m\u001b[0m\u001b[0;34m\u001b[0m\u001b[0m\n\u001b[1;32m     21\u001b[0m                 \u001b[0;32melse\u001b[0m\u001b[0;34m:\u001b[0m\u001b[0;34m\u001b[0m\u001b[0;34m\u001b[0m\u001b[0m\n\u001b[0;32m---> 22\u001b[0;31m                     \u001b[0mself\u001b[0m\u001b[0;34m.\u001b[0m\u001b[0mright\u001b[0m\u001b[0;34m.\u001b[0m\u001b[0minsert\u001b[0m\u001b[0;34m(\u001b[0m\u001b[0mdata\u001b[0m\u001b[0;34m)\u001b[0m\u001b[0;34m\u001b[0m\u001b[0;34m\u001b[0m\u001b[0m\n\u001b[0m\u001b[1;32m     23\u001b[0m         \u001b[0;32melse\u001b[0m\u001b[0;34m:\u001b[0m\u001b[0;34m\u001b[0m\u001b[0;34m\u001b[0m\u001b[0m\n\u001b[1;32m     24\u001b[0m             \u001b[0mself\u001b[0m\u001b[0;34m.\u001b[0m\u001b[0mdata\u001b[0m \u001b[0;34m=\u001b[0m \u001b[0mdata\u001b[0m\u001b[0;34m\u001b[0m\u001b[0;34m\u001b[0m\u001b[0m\n",
      "\u001b[0;32m<ipython-input-40-95bf773b70a8>\u001b[0m in \u001b[0;36minsert\u001b[0;34m(self, data)\u001b[0m\n\u001b[1;32m     15\u001b[0m                     \u001b[0mself\u001b[0m\u001b[0;34m.\u001b[0m\u001b[0mleft\u001b[0m \u001b[0;34m=\u001b[0m \u001b[0mNode1\u001b[0m\u001b[0;34m(\u001b[0m\u001b[0mdata\u001b[0m\u001b[0;34m)\u001b[0m\u001b[0;34m\u001b[0m\u001b[0;34m\u001b[0m\u001b[0m\n\u001b[1;32m     16\u001b[0m                 \u001b[0;32melse\u001b[0m\u001b[0;34m:\u001b[0m\u001b[0;34m\u001b[0m\u001b[0;34m\u001b[0m\u001b[0m\n\u001b[0;32m---> 17\u001b[0;31m                     \u001b[0mself\u001b[0m\u001b[0;34m.\u001b[0m\u001b[0mleft\u001b[0m\u001b[0;34m.\u001b[0m\u001b[0minsert\u001b[0m\u001b[0;34m(\u001b[0m\u001b[0mdata\u001b[0m\u001b[0;34m)\u001b[0m\u001b[0;34m\u001b[0m\u001b[0;34m\u001b[0m\u001b[0m\n\u001b[0m\u001b[1;32m     18\u001b[0m             \u001b[0;32melif\u001b[0m \u001b[0mdata\u001b[0m \u001b[0;34m>\u001b[0m \u001b[0mself\u001b[0m\u001b[0;34m.\u001b[0m\u001b[0mdata\u001b[0m\u001b[0;34m:\u001b[0m\u001b[0;34m\u001b[0m\u001b[0;34m\u001b[0m\u001b[0m\n\u001b[1;32m     19\u001b[0m                 \u001b[0;32mif\u001b[0m \u001b[0mself\u001b[0m\u001b[0;34m.\u001b[0m\u001b[0mright\u001b[0m \u001b[0;32mis\u001b[0m \u001b[0;32mNone\u001b[0m\u001b[0;34m:\u001b[0m\u001b[0;34m\u001b[0m\u001b[0;34m\u001b[0m\u001b[0m\n",
      "\u001b[0;32m<ipython-input-40-95bf773b70a8>\u001b[0m in \u001b[0;36minsert\u001b[0;34m(self, data)\u001b[0m\n\u001b[1;32m     15\u001b[0m                     \u001b[0mself\u001b[0m\u001b[0;34m.\u001b[0m\u001b[0mleft\u001b[0m \u001b[0;34m=\u001b[0m \u001b[0mNode1\u001b[0m\u001b[0;34m(\u001b[0m\u001b[0mdata\u001b[0m\u001b[0;34m)\u001b[0m\u001b[0;34m\u001b[0m\u001b[0;34m\u001b[0m\u001b[0m\n\u001b[1;32m     16\u001b[0m                 \u001b[0;32melse\u001b[0m\u001b[0;34m:\u001b[0m\u001b[0;34m\u001b[0m\u001b[0;34m\u001b[0m\u001b[0m\n\u001b[0;32m---> 17\u001b[0;31m                     \u001b[0mself\u001b[0m\u001b[0;34m.\u001b[0m\u001b[0mleft\u001b[0m\u001b[0;34m.\u001b[0m\u001b[0minsert\u001b[0m\u001b[0;34m(\u001b[0m\u001b[0mdata\u001b[0m\u001b[0;34m)\u001b[0m\u001b[0;34m\u001b[0m\u001b[0;34m\u001b[0m\u001b[0m\n\u001b[0m\u001b[1;32m     18\u001b[0m             \u001b[0;32melif\u001b[0m \u001b[0mdata\u001b[0m \u001b[0;34m>\u001b[0m \u001b[0mself\u001b[0m\u001b[0;34m.\u001b[0m\u001b[0mdata\u001b[0m\u001b[0;34m:\u001b[0m\u001b[0;34m\u001b[0m\u001b[0;34m\u001b[0m\u001b[0m\n\u001b[1;32m     19\u001b[0m                 \u001b[0;32mif\u001b[0m \u001b[0mself\u001b[0m\u001b[0;34m.\u001b[0m\u001b[0mright\u001b[0m \u001b[0;32mis\u001b[0m \u001b[0;32mNone\u001b[0m\u001b[0;34m:\u001b[0m\u001b[0;34m\u001b[0m\u001b[0;34m\u001b[0m\u001b[0m\n",
      "\u001b[0;32m<ipython-input-40-95bf773b70a8>\u001b[0m in \u001b[0;36minsert\u001b[0;34m(self, data)\u001b[0m\n\u001b[1;32m     15\u001b[0m                     \u001b[0mself\u001b[0m\u001b[0;34m.\u001b[0m\u001b[0mleft\u001b[0m \u001b[0;34m=\u001b[0m \u001b[0mNode1\u001b[0m\u001b[0;34m(\u001b[0m\u001b[0mdata\u001b[0m\u001b[0;34m)\u001b[0m\u001b[0;34m\u001b[0m\u001b[0;34m\u001b[0m\u001b[0m\n\u001b[1;32m     16\u001b[0m                 \u001b[0;32melse\u001b[0m\u001b[0;34m:\u001b[0m\u001b[0;34m\u001b[0m\u001b[0;34m\u001b[0m\u001b[0m\n\u001b[0;32m---> 17\u001b[0;31m                     \u001b[0mself\u001b[0m\u001b[0;34m.\u001b[0m\u001b[0mleft\u001b[0m\u001b[0;34m.\u001b[0m\u001b[0minsert\u001b[0m\u001b[0;34m(\u001b[0m\u001b[0mdata\u001b[0m\u001b[0;34m)\u001b[0m\u001b[0;34m\u001b[0m\u001b[0;34m\u001b[0m\u001b[0m\n\u001b[0m\u001b[1;32m     18\u001b[0m             \u001b[0;32melif\u001b[0m \u001b[0mdata\u001b[0m \u001b[0;34m>\u001b[0m \u001b[0mself\u001b[0m\u001b[0;34m.\u001b[0m\u001b[0mdata\u001b[0m\u001b[0;34m:\u001b[0m\u001b[0;34m\u001b[0m\u001b[0;34m\u001b[0m\u001b[0m\n\u001b[1;32m     19\u001b[0m                 \u001b[0;32mif\u001b[0m \u001b[0mself\u001b[0m\u001b[0;34m.\u001b[0m\u001b[0mright\u001b[0m \u001b[0;32mis\u001b[0m \u001b[0;32mNone\u001b[0m\u001b[0;34m:\u001b[0m\u001b[0;34m\u001b[0m\u001b[0;34m\u001b[0m\u001b[0m\n",
      "\u001b[0;32m<ipython-input-40-95bf773b70a8>\u001b[0m in \u001b[0;36minsert\u001b[0;34m(self, data)\u001b[0m\n\u001b[1;32m     20\u001b[0m                     \u001b[0mself\u001b[0m\u001b[0;34m.\u001b[0m\u001b[0mright\u001b[0m \u001b[0;34m=\u001b[0m \u001b[0mNode1\u001b[0m\u001b[0;34m(\u001b[0m\u001b[0mdata\u001b[0m\u001b[0;34m)\u001b[0m\u001b[0;34m\u001b[0m\u001b[0;34m\u001b[0m\u001b[0m\n\u001b[1;32m     21\u001b[0m                 \u001b[0;32melse\u001b[0m\u001b[0;34m:\u001b[0m\u001b[0;34m\u001b[0m\u001b[0;34m\u001b[0m\u001b[0m\n\u001b[0;32m---> 22\u001b[0;31m                     \u001b[0mself\u001b[0m\u001b[0;34m.\u001b[0m\u001b[0mright\u001b[0m\u001b[0;34m.\u001b[0m\u001b[0minsert\u001b[0m\u001b[0;34m(\u001b[0m\u001b[0mdata\u001b[0m\u001b[0;34m)\u001b[0m\u001b[0;34m\u001b[0m\u001b[0;34m\u001b[0m\u001b[0m\n\u001b[0m\u001b[1;32m     23\u001b[0m         \u001b[0;32melse\u001b[0m\u001b[0;34m:\u001b[0m\u001b[0;34m\u001b[0m\u001b[0;34m\u001b[0m\u001b[0m\n\u001b[1;32m     24\u001b[0m             \u001b[0mself\u001b[0m\u001b[0;34m.\u001b[0m\u001b[0mdata\u001b[0m \u001b[0;34m=\u001b[0m \u001b[0mdata\u001b[0m\u001b[0;34m\u001b[0m\u001b[0;34m\u001b[0m\u001b[0m\n",
      "\u001b[0;32m<ipython-input-40-95bf773b70a8>\u001b[0m in \u001b[0;36minsert\u001b[0;34m(self, data)\u001b[0m\n\u001b[1;32m     20\u001b[0m                     \u001b[0mself\u001b[0m\u001b[0;34m.\u001b[0m\u001b[0mright\u001b[0m \u001b[0;34m=\u001b[0m \u001b[0mNode1\u001b[0m\u001b[0;34m(\u001b[0m\u001b[0mdata\u001b[0m\u001b[0;34m)\u001b[0m\u001b[0;34m\u001b[0m\u001b[0;34m\u001b[0m\u001b[0m\n\u001b[1;32m     21\u001b[0m                 \u001b[0;32melse\u001b[0m\u001b[0;34m:\u001b[0m\u001b[0;34m\u001b[0m\u001b[0;34m\u001b[0m\u001b[0m\n\u001b[0;32m---> 22\u001b[0;31m                     \u001b[0mself\u001b[0m\u001b[0;34m.\u001b[0m\u001b[0mright\u001b[0m\u001b[0;34m.\u001b[0m\u001b[0minsert\u001b[0m\u001b[0;34m(\u001b[0m\u001b[0mdata\u001b[0m\u001b[0;34m)\u001b[0m\u001b[0;34m\u001b[0m\u001b[0;34m\u001b[0m\u001b[0m\n\u001b[0m\u001b[1;32m     23\u001b[0m         \u001b[0;32melse\u001b[0m\u001b[0;34m:\u001b[0m\u001b[0;34m\u001b[0m\u001b[0;34m\u001b[0m\u001b[0m\n\u001b[1;32m     24\u001b[0m             \u001b[0mself\u001b[0m\u001b[0;34m.\u001b[0m\u001b[0mdata\u001b[0m \u001b[0;34m=\u001b[0m \u001b[0mdata\u001b[0m\u001b[0;34m\u001b[0m\u001b[0;34m\u001b[0m\u001b[0m\n",
      "\u001b[0;32m<ipython-input-40-95bf773b70a8>\u001b[0m in \u001b[0;36minsert\u001b[0;34m(self, data)\u001b[0m\n\u001b[1;32m     15\u001b[0m                     \u001b[0mself\u001b[0m\u001b[0;34m.\u001b[0m\u001b[0mleft\u001b[0m \u001b[0;34m=\u001b[0m \u001b[0mNode1\u001b[0m\u001b[0;34m(\u001b[0m\u001b[0mdata\u001b[0m\u001b[0;34m)\u001b[0m\u001b[0;34m\u001b[0m\u001b[0;34m\u001b[0m\u001b[0m\n\u001b[1;32m     16\u001b[0m                 \u001b[0;32melse\u001b[0m\u001b[0;34m:\u001b[0m\u001b[0;34m\u001b[0m\u001b[0;34m\u001b[0m\u001b[0m\n\u001b[0;32m---> 17\u001b[0;31m                     \u001b[0mself\u001b[0m\u001b[0;34m.\u001b[0m\u001b[0mleft\u001b[0m\u001b[0;34m.\u001b[0m\u001b[0minsert\u001b[0m\u001b[0;34m(\u001b[0m\u001b[0mdata\u001b[0m\u001b[0;34m)\u001b[0m\u001b[0;34m\u001b[0m\u001b[0;34m\u001b[0m\u001b[0m\n\u001b[0m\u001b[1;32m     18\u001b[0m             \u001b[0;32melif\u001b[0m \u001b[0mdata\u001b[0m \u001b[0;34m>\u001b[0m \u001b[0mself\u001b[0m\u001b[0;34m.\u001b[0m\u001b[0mdata\u001b[0m\u001b[0;34m:\u001b[0m\u001b[0;34m\u001b[0m\u001b[0;34m\u001b[0m\u001b[0m\n\u001b[1;32m     19\u001b[0m                 \u001b[0;32mif\u001b[0m \u001b[0mself\u001b[0m\u001b[0;34m.\u001b[0m\u001b[0mright\u001b[0m \u001b[0;32mis\u001b[0m \u001b[0;32mNone\u001b[0m\u001b[0;34m:\u001b[0m\u001b[0;34m\u001b[0m\u001b[0;34m\u001b[0m\u001b[0m\n",
      "\u001b[0;32m<ipython-input-40-95bf773b70a8>\u001b[0m in \u001b[0;36minsert\u001b[0;34m(self, data)\u001b[0m\n\u001b[1;32m     20\u001b[0m                     \u001b[0mself\u001b[0m\u001b[0;34m.\u001b[0m\u001b[0mright\u001b[0m \u001b[0;34m=\u001b[0m \u001b[0mNode1\u001b[0m\u001b[0;34m(\u001b[0m\u001b[0mdata\u001b[0m\u001b[0;34m)\u001b[0m\u001b[0;34m\u001b[0m\u001b[0;34m\u001b[0m\u001b[0m\n\u001b[1;32m     21\u001b[0m                 \u001b[0;32melse\u001b[0m\u001b[0;34m:\u001b[0m\u001b[0;34m\u001b[0m\u001b[0;34m\u001b[0m\u001b[0m\n\u001b[0;32m---> 22\u001b[0;31m                     \u001b[0mself\u001b[0m\u001b[0;34m.\u001b[0m\u001b[0mright\u001b[0m\u001b[0;34m.\u001b[0m\u001b[0minsert\u001b[0m\u001b[0;34m(\u001b[0m\u001b[0mdata\u001b[0m\u001b[0;34m)\u001b[0m\u001b[0;34m\u001b[0m\u001b[0;34m\u001b[0m\u001b[0m\n\u001b[0m\u001b[1;32m     23\u001b[0m         \u001b[0;32melse\u001b[0m\u001b[0;34m:\u001b[0m\u001b[0;34m\u001b[0m\u001b[0;34m\u001b[0m\u001b[0m\n\u001b[1;32m     24\u001b[0m             \u001b[0mself\u001b[0m\u001b[0;34m.\u001b[0m\u001b[0mdata\u001b[0m \u001b[0;34m=\u001b[0m \u001b[0mdata\u001b[0m\u001b[0;34m\u001b[0m\u001b[0;34m\u001b[0m\u001b[0m\n",
      "\u001b[0;32m<ipython-input-40-95bf773b70a8>\u001b[0m in \u001b[0;36minsert\u001b[0;34m(self, data)\u001b[0m\n\u001b[1;32m     20\u001b[0m                     \u001b[0mself\u001b[0m\u001b[0;34m.\u001b[0m\u001b[0mright\u001b[0m \u001b[0;34m=\u001b[0m \u001b[0mNode1\u001b[0m\u001b[0;34m(\u001b[0m\u001b[0mdata\u001b[0m\u001b[0;34m)\u001b[0m\u001b[0;34m\u001b[0m\u001b[0;34m\u001b[0m\u001b[0m\n\u001b[1;32m     21\u001b[0m                 \u001b[0;32melse\u001b[0m\u001b[0;34m:\u001b[0m\u001b[0;34m\u001b[0m\u001b[0;34m\u001b[0m\u001b[0m\n\u001b[0;32m---> 22\u001b[0;31m                     \u001b[0mself\u001b[0m\u001b[0;34m.\u001b[0m\u001b[0mright\u001b[0m\u001b[0;34m.\u001b[0m\u001b[0minsert\u001b[0m\u001b[0;34m(\u001b[0m\u001b[0mdata\u001b[0m\u001b[0;34m)\u001b[0m\u001b[0;34m\u001b[0m\u001b[0;34m\u001b[0m\u001b[0m\n\u001b[0m\u001b[1;32m     23\u001b[0m         \u001b[0;32melse\u001b[0m\u001b[0;34m:\u001b[0m\u001b[0;34m\u001b[0m\u001b[0;34m\u001b[0m\u001b[0m\n\u001b[1;32m     24\u001b[0m             \u001b[0mself\u001b[0m\u001b[0;34m.\u001b[0m\u001b[0mdata\u001b[0m \u001b[0;34m=\u001b[0m \u001b[0mdata\u001b[0m\u001b[0;34m\u001b[0m\u001b[0;34m\u001b[0m\u001b[0m\n",
      "\u001b[0;32m<ipython-input-40-95bf773b70a8>\u001b[0m in \u001b[0;36minsert\u001b[0;34m(self, data)\u001b[0m\n\u001b[1;32m     15\u001b[0m                     \u001b[0mself\u001b[0m\u001b[0;34m.\u001b[0m\u001b[0mleft\u001b[0m \u001b[0;34m=\u001b[0m \u001b[0mNode1\u001b[0m\u001b[0;34m(\u001b[0m\u001b[0mdata\u001b[0m\u001b[0;34m)\u001b[0m\u001b[0;34m\u001b[0m\u001b[0;34m\u001b[0m\u001b[0m\n\u001b[1;32m     16\u001b[0m                 \u001b[0;32melse\u001b[0m\u001b[0;34m:\u001b[0m\u001b[0;34m\u001b[0m\u001b[0;34m\u001b[0m\u001b[0m\n\u001b[0;32m---> 17\u001b[0;31m                     \u001b[0mself\u001b[0m\u001b[0;34m.\u001b[0m\u001b[0mleft\u001b[0m\u001b[0;34m.\u001b[0m\u001b[0minsert\u001b[0m\u001b[0;34m(\u001b[0m\u001b[0mdata\u001b[0m\u001b[0;34m)\u001b[0m\u001b[0;34m\u001b[0m\u001b[0;34m\u001b[0m\u001b[0m\n\u001b[0m\u001b[1;32m     18\u001b[0m             \u001b[0;32melif\u001b[0m \u001b[0mdata\u001b[0m \u001b[0;34m>\u001b[0m \u001b[0mself\u001b[0m\u001b[0;34m.\u001b[0m\u001b[0mdata\u001b[0m\u001b[0;34m:\u001b[0m\u001b[0;34m\u001b[0m\u001b[0;34m\u001b[0m\u001b[0m\n\u001b[1;32m     19\u001b[0m                 \u001b[0;32mif\u001b[0m \u001b[0mself\u001b[0m\u001b[0;34m.\u001b[0m\u001b[0mright\u001b[0m \u001b[0;32mis\u001b[0m \u001b[0;32mNone\u001b[0m\u001b[0;34m:\u001b[0m\u001b[0;34m\u001b[0m\u001b[0;34m\u001b[0m\u001b[0m\n",
      "\u001b[0;32m<ipython-input-40-95bf773b70a8>\u001b[0m in \u001b[0;36minsert\u001b[0;34m(self, data)\u001b[0m\n\u001b[1;32m     20\u001b[0m                     \u001b[0mself\u001b[0m\u001b[0;34m.\u001b[0m\u001b[0mright\u001b[0m \u001b[0;34m=\u001b[0m \u001b[0mNode1\u001b[0m\u001b[0;34m(\u001b[0m\u001b[0mdata\u001b[0m\u001b[0;34m)\u001b[0m\u001b[0;34m\u001b[0m\u001b[0;34m\u001b[0m\u001b[0m\n\u001b[1;32m     21\u001b[0m                 \u001b[0;32melse\u001b[0m\u001b[0;34m:\u001b[0m\u001b[0;34m\u001b[0m\u001b[0;34m\u001b[0m\u001b[0m\n\u001b[0;32m---> 22\u001b[0;31m                     \u001b[0mself\u001b[0m\u001b[0;34m.\u001b[0m\u001b[0mright\u001b[0m\u001b[0;34m.\u001b[0m\u001b[0minsert\u001b[0m\u001b[0;34m(\u001b[0m\u001b[0mdata\u001b[0m\u001b[0;34m)\u001b[0m\u001b[0;34m\u001b[0m\u001b[0;34m\u001b[0m\u001b[0m\n\u001b[0m\u001b[1;32m     23\u001b[0m         \u001b[0;32melse\u001b[0m\u001b[0;34m:\u001b[0m\u001b[0;34m\u001b[0m\u001b[0;34m\u001b[0m\u001b[0m\n\u001b[1;32m     24\u001b[0m             \u001b[0mself\u001b[0m\u001b[0;34m.\u001b[0m\u001b[0mdata\u001b[0m \u001b[0;34m=\u001b[0m \u001b[0mdata\u001b[0m\u001b[0;34m\u001b[0m\u001b[0;34m\u001b[0m\u001b[0m\n",
      "\u001b[0;32m<ipython-input-40-95bf773b70a8>\u001b[0m in \u001b[0;36minsert\u001b[0;34m(self, data)\u001b[0m\n\u001b[1;32m     20\u001b[0m                     \u001b[0mself\u001b[0m\u001b[0;34m.\u001b[0m\u001b[0mright\u001b[0m \u001b[0;34m=\u001b[0m \u001b[0mNode1\u001b[0m\u001b[0;34m(\u001b[0m\u001b[0mdata\u001b[0m\u001b[0;34m)\u001b[0m\u001b[0;34m\u001b[0m\u001b[0;34m\u001b[0m\u001b[0m\n\u001b[1;32m     21\u001b[0m                 \u001b[0;32melse\u001b[0m\u001b[0;34m:\u001b[0m\u001b[0;34m\u001b[0m\u001b[0;34m\u001b[0m\u001b[0m\n\u001b[0;32m---> 22\u001b[0;31m                     \u001b[0mself\u001b[0m\u001b[0;34m.\u001b[0m\u001b[0mright\u001b[0m\u001b[0;34m.\u001b[0m\u001b[0minsert\u001b[0m\u001b[0;34m(\u001b[0m\u001b[0mdata\u001b[0m\u001b[0;34m)\u001b[0m\u001b[0;34m\u001b[0m\u001b[0;34m\u001b[0m\u001b[0m\n\u001b[0m\u001b[1;32m     23\u001b[0m         \u001b[0;32melse\u001b[0m\u001b[0;34m:\u001b[0m\u001b[0;34m\u001b[0m\u001b[0;34m\u001b[0m\u001b[0m\n\u001b[1;32m     24\u001b[0m             \u001b[0mself\u001b[0m\u001b[0;34m.\u001b[0m\u001b[0mdata\u001b[0m \u001b[0;34m=\u001b[0m \u001b[0mdata\u001b[0m\u001b[0;34m\u001b[0m\u001b[0;34m\u001b[0m\u001b[0m\n",
      "\u001b[0;32m<ipython-input-40-95bf773b70a8>\u001b[0m in \u001b[0;36minsert\u001b[0;34m(self, data)\u001b[0m\n\u001b[1;32m     20\u001b[0m                     \u001b[0mself\u001b[0m\u001b[0;34m.\u001b[0m\u001b[0mright\u001b[0m \u001b[0;34m=\u001b[0m \u001b[0mNode1\u001b[0m\u001b[0;34m(\u001b[0m\u001b[0mdata\u001b[0m\u001b[0;34m)\u001b[0m\u001b[0;34m\u001b[0m\u001b[0;34m\u001b[0m\u001b[0m\n\u001b[1;32m     21\u001b[0m                 \u001b[0;32melse\u001b[0m\u001b[0;34m:\u001b[0m\u001b[0;34m\u001b[0m\u001b[0;34m\u001b[0m\u001b[0m\n\u001b[0;32m---> 22\u001b[0;31m                     \u001b[0mself\u001b[0m\u001b[0;34m.\u001b[0m\u001b[0mright\u001b[0m\u001b[0;34m.\u001b[0m\u001b[0minsert\u001b[0m\u001b[0;34m(\u001b[0m\u001b[0mdata\u001b[0m\u001b[0;34m)\u001b[0m\u001b[0;34m\u001b[0m\u001b[0;34m\u001b[0m\u001b[0m\n\u001b[0m\u001b[1;32m     23\u001b[0m         \u001b[0;32melse\u001b[0m\u001b[0;34m:\u001b[0m\u001b[0;34m\u001b[0m\u001b[0;34m\u001b[0m\u001b[0m\n\u001b[1;32m     24\u001b[0m             \u001b[0mself\u001b[0m\u001b[0;34m.\u001b[0m\u001b[0mdata\u001b[0m \u001b[0;34m=\u001b[0m \u001b[0mdata\u001b[0m\u001b[0;34m\u001b[0m\u001b[0;34m\u001b[0m\u001b[0m\n",
      "\u001b[0;32m<ipython-input-40-95bf773b70a8>\u001b[0m in \u001b[0;36minsert\u001b[0;34m(self, data)\u001b[0m\n\u001b[1;32m     15\u001b[0m                     \u001b[0mself\u001b[0m\u001b[0;34m.\u001b[0m\u001b[0mleft\u001b[0m \u001b[0;34m=\u001b[0m \u001b[0mNode1\u001b[0m\u001b[0;34m(\u001b[0m\u001b[0mdata\u001b[0m\u001b[0;34m)\u001b[0m\u001b[0;34m\u001b[0m\u001b[0;34m\u001b[0m\u001b[0m\n\u001b[1;32m     16\u001b[0m                 \u001b[0;32melse\u001b[0m\u001b[0;34m:\u001b[0m\u001b[0;34m\u001b[0m\u001b[0;34m\u001b[0m\u001b[0m\n\u001b[0;32m---> 17\u001b[0;31m                     \u001b[0mself\u001b[0m\u001b[0;34m.\u001b[0m\u001b[0mleft\u001b[0m\u001b[0;34m.\u001b[0m\u001b[0minsert\u001b[0m\u001b[0;34m(\u001b[0m\u001b[0mdata\u001b[0m\u001b[0;34m)\u001b[0m\u001b[0;34m\u001b[0m\u001b[0;34m\u001b[0m\u001b[0m\n\u001b[0m\u001b[1;32m     18\u001b[0m             \u001b[0;32melif\u001b[0m \u001b[0mdata\u001b[0m \u001b[0;34m>\u001b[0m \u001b[0mself\u001b[0m\u001b[0;34m.\u001b[0m\u001b[0mdata\u001b[0m\u001b[0;34m:\u001b[0m\u001b[0;34m\u001b[0m\u001b[0;34m\u001b[0m\u001b[0m\n\u001b[1;32m     19\u001b[0m                 \u001b[0;32mif\u001b[0m \u001b[0mself\u001b[0m\u001b[0;34m.\u001b[0m\u001b[0mright\u001b[0m \u001b[0;32mis\u001b[0m \u001b[0;32mNone\u001b[0m\u001b[0;34m:\u001b[0m\u001b[0;34m\u001b[0m\u001b[0;34m\u001b[0m\u001b[0m\n",
      "\u001b[0;32m<ipython-input-40-95bf773b70a8>\u001b[0m in \u001b[0;36minsert\u001b[0;34m(self, data)\u001b[0m\n\u001b[1;32m     15\u001b[0m                     \u001b[0mself\u001b[0m\u001b[0;34m.\u001b[0m\u001b[0mleft\u001b[0m \u001b[0;34m=\u001b[0m \u001b[0mNode1\u001b[0m\u001b[0;34m(\u001b[0m\u001b[0mdata\u001b[0m\u001b[0;34m)\u001b[0m\u001b[0;34m\u001b[0m\u001b[0;34m\u001b[0m\u001b[0m\n\u001b[1;32m     16\u001b[0m                 \u001b[0;32melse\u001b[0m\u001b[0;34m:\u001b[0m\u001b[0;34m\u001b[0m\u001b[0;34m\u001b[0m\u001b[0m\n\u001b[0;32m---> 17\u001b[0;31m                     \u001b[0mself\u001b[0m\u001b[0;34m.\u001b[0m\u001b[0mleft\u001b[0m\u001b[0;34m.\u001b[0m\u001b[0minsert\u001b[0m\u001b[0;34m(\u001b[0m\u001b[0mdata\u001b[0m\u001b[0;34m)\u001b[0m\u001b[0;34m\u001b[0m\u001b[0;34m\u001b[0m\u001b[0m\n\u001b[0m\u001b[1;32m     18\u001b[0m             \u001b[0;32melif\u001b[0m \u001b[0mdata\u001b[0m \u001b[0;34m>\u001b[0m \u001b[0mself\u001b[0m\u001b[0;34m.\u001b[0m\u001b[0mdata\u001b[0m\u001b[0;34m:\u001b[0m\u001b[0;34m\u001b[0m\u001b[0;34m\u001b[0m\u001b[0m\n\u001b[1;32m     19\u001b[0m                 \u001b[0;32mif\u001b[0m \u001b[0mself\u001b[0m\u001b[0;34m.\u001b[0m\u001b[0mright\u001b[0m \u001b[0;32mis\u001b[0m \u001b[0;32mNone\u001b[0m\u001b[0;34m:\u001b[0m\u001b[0;34m\u001b[0m\u001b[0;34m\u001b[0m\u001b[0m\n",
      "\u001b[0;32m<ipython-input-40-95bf773b70a8>\u001b[0m in \u001b[0;36minsert\u001b[0;34m(self, data)\u001b[0m\n\u001b[1;32m     20\u001b[0m                     \u001b[0mself\u001b[0m\u001b[0;34m.\u001b[0m\u001b[0mright\u001b[0m \u001b[0;34m=\u001b[0m \u001b[0mNode1\u001b[0m\u001b[0;34m(\u001b[0m\u001b[0mdata\u001b[0m\u001b[0;34m)\u001b[0m\u001b[0;34m\u001b[0m\u001b[0;34m\u001b[0m\u001b[0m\n\u001b[1;32m     21\u001b[0m                 \u001b[0;32melse\u001b[0m\u001b[0;34m:\u001b[0m\u001b[0;34m\u001b[0m\u001b[0;34m\u001b[0m\u001b[0m\n\u001b[0;32m---> 22\u001b[0;31m                     \u001b[0mself\u001b[0m\u001b[0;34m.\u001b[0m\u001b[0mright\u001b[0m\u001b[0;34m.\u001b[0m\u001b[0minsert\u001b[0m\u001b[0;34m(\u001b[0m\u001b[0mdata\u001b[0m\u001b[0;34m)\u001b[0m\u001b[0;34m\u001b[0m\u001b[0;34m\u001b[0m\u001b[0m\n\u001b[0m\u001b[1;32m     23\u001b[0m         \u001b[0;32melse\u001b[0m\u001b[0;34m:\u001b[0m\u001b[0;34m\u001b[0m\u001b[0;34m\u001b[0m\u001b[0m\n\u001b[1;32m     24\u001b[0m             \u001b[0mself\u001b[0m\u001b[0;34m.\u001b[0m\u001b[0mdata\u001b[0m \u001b[0;34m=\u001b[0m \u001b[0mdata\u001b[0m\u001b[0;34m\u001b[0m\u001b[0;34m\u001b[0m\u001b[0m\n",
      "\u001b[0;32m<ipython-input-40-95bf773b70a8>\u001b[0m in \u001b[0;36minsert\u001b[0;34m(self, data)\u001b[0m\n\u001b[1;32m     15\u001b[0m                     \u001b[0mself\u001b[0m\u001b[0;34m.\u001b[0m\u001b[0mleft\u001b[0m \u001b[0;34m=\u001b[0m \u001b[0mNode1\u001b[0m\u001b[0;34m(\u001b[0m\u001b[0mdata\u001b[0m\u001b[0;34m)\u001b[0m\u001b[0;34m\u001b[0m\u001b[0;34m\u001b[0m\u001b[0m\n\u001b[1;32m     16\u001b[0m                 \u001b[0;32melse\u001b[0m\u001b[0;34m:\u001b[0m\u001b[0;34m\u001b[0m\u001b[0;34m\u001b[0m\u001b[0m\n\u001b[0;32m---> 17\u001b[0;31m                     \u001b[0mself\u001b[0m\u001b[0;34m.\u001b[0m\u001b[0mleft\u001b[0m\u001b[0;34m.\u001b[0m\u001b[0minsert\u001b[0m\u001b[0;34m(\u001b[0m\u001b[0mdata\u001b[0m\u001b[0;34m)\u001b[0m\u001b[0;34m\u001b[0m\u001b[0;34m\u001b[0m\u001b[0m\n\u001b[0m\u001b[1;32m     18\u001b[0m             \u001b[0;32melif\u001b[0m \u001b[0mdata\u001b[0m \u001b[0;34m>\u001b[0m \u001b[0mself\u001b[0m\u001b[0;34m.\u001b[0m\u001b[0mdata\u001b[0m\u001b[0;34m:\u001b[0m\u001b[0;34m\u001b[0m\u001b[0;34m\u001b[0m\u001b[0m\n\u001b[1;32m     19\u001b[0m                 \u001b[0;32mif\u001b[0m \u001b[0mself\u001b[0m\u001b[0;34m.\u001b[0m\u001b[0mright\u001b[0m \u001b[0;32mis\u001b[0m \u001b[0;32mNone\u001b[0m\u001b[0;34m:\u001b[0m\u001b[0;34m\u001b[0m\u001b[0;34m\u001b[0m\u001b[0m\n",
      "\u001b[0;32m<ipython-input-40-95bf773b70a8>\u001b[0m in \u001b[0;36minsert\u001b[0;34m(self, data)\u001b[0m\n\u001b[1;32m     10\u001b[0m     \u001b[0;32mdef\u001b[0m \u001b[0minsert\u001b[0m\u001b[0;34m(\u001b[0m\u001b[0mself\u001b[0m\u001b[0;34m,\u001b[0m \u001b[0mdata\u001b[0m\u001b[0;34m)\u001b[0m\u001b[0;34m:\u001b[0m\u001b[0;34m\u001b[0m\u001b[0;34m\u001b[0m\u001b[0m\n\u001b[1;32m     11\u001b[0m \u001b[0;34m\u001b[0m\u001b[0m\n\u001b[0;32m---> 12\u001b[0;31m         \u001b[0;32mif\u001b[0m \u001b[0mself\u001b[0m\u001b[0;34m.\u001b[0m\u001b[0mdata\u001b[0m\u001b[0;34m:\u001b[0m\u001b[0;34m\u001b[0m\u001b[0;34m\u001b[0m\u001b[0m\n\u001b[0m\u001b[1;32m     13\u001b[0m             \u001b[0;32mif\u001b[0m \u001b[0mdata\u001b[0m \u001b[0;34m<\u001b[0m \u001b[0mself\u001b[0m\u001b[0;34m.\u001b[0m\u001b[0mdata\u001b[0m\u001b[0;34m:\u001b[0m\u001b[0;34m\u001b[0m\u001b[0;34m\u001b[0m\u001b[0m\n\u001b[1;32m     14\u001b[0m                 \u001b[0;32mif\u001b[0m \u001b[0mself\u001b[0m\u001b[0;34m.\u001b[0m\u001b[0mleft\u001b[0m \u001b[0;32mis\u001b[0m \u001b[0;32mNone\u001b[0m\u001b[0;34m:\u001b[0m\u001b[0;34m\u001b[0m\u001b[0;34m\u001b[0m\u001b[0m\n",
      "\u001b[0;31mKeyboardInterrupt\u001b[0m: "
     ]
    }
   ],
   "source": [
    "t_insert = []\n",
    "t_search = []\n",
    "for k in range(10,31):\n",
    "    \n",
    "    #insert part\n",
    "    t_insert_ =[]\n",
    "    for times in range(10):   \n",
    "        insert_array = random_array(k)\n",
    "        '這個binary tree無法創建空的資料結構，所以先包含了一個資料，影響應該不大'\n",
    "        bst = Node1(np.random.randint(1,2**30))\n",
    "        t = time.perf_counter()\n",
    "        for i in insert_array:\n",
    "            bst.insert(i)\n",
    "        t = time.perf_counter() - t\n",
    "        t_insert_.append(t)\n",
    "        print('\\rk=', k,' times:',times+1,'  time:',time.strftime(\"%Y-%m-%d %H:%M:%S\", time.localtime()),t_insert_,end=' ')\n",
    "    t_insert.append(np.mean(t_insert_))\n",
    "    print('\\ninsert: k=',k, t_insert)\n",
    "    \n",
    "    #search part\n",
    "    t_search_=[]\n",
    "    for times in range(10):\n",
    "        search_array = random_array(17) #這邊要十萬筆資料（2**16.6)\n",
    "        t = time.perf_counter()\n",
    "        for i in search_array:\n",
    "            bst.findval(i)\n",
    "        t = time.perf_counter() - t\n",
    "        t_search_.append(t)\n",
    "        print('\\rk=', k,' times:',times+1,'  time:',time.strftime(\"%Y-%m-%d %H:%M:%S\", time.localtime()),t_search_,end='')\n",
    "    t_search.append(np.mean(t_search_))\n",
    "    print('\\nsearch: k=',k, t_search)  \n",
    "        \n",
    "        \n",
    "        "
   ]
  },
  {
   "cell_type": "markdown",
   "metadata": {},
   "source": [
    "skip list"
   ]
  },
  {
   "cell_type": "code",
   "execution_count": 6,
   "metadata": {},
   "outputs": [
    {
     "name": "stdout",
     "output_type": "stream",
     "text": [
      "k= 10  times: 10   time: 2020-06-21 21:57:42 [0.010376948000001107, 0.007773701999999716, 0.00776964499999977, 0.007988767999998814, 0.009093074000000811, 0.0068114379999997254, 0.007084009999999807, 0.00844910699999879, 0.006273698999999411, 0.006313587000001064] \n",
      "insert: k= 10 [0.007793397799999902]\n",
      "k= 10  times: 10   time: 2020-06-21 21:57:47 [0.5623563860000012, 0.5172636209999997, 0.5061161829999996, 0.4998082430000004, 0.5174867019999994, 0.5097910890000001, 0.4992338039999993, 0.5098357700000005, 0.5102343510000011, 0.5013131519999998]\n",
      "search: k= 10 [0.5133439301000001]\n",
      "k= 11  times: 10   time: 2020-06-21 21:57:47 [0.01315076700000084, 0.012637360999999458, 0.016012413000000336, 0.013975347000000582, 0.030572001999999543, 0.01385203300000093, 0.013312862000001147, 0.01278820699999983, 0.016555525000001126, 0.014819875000000593] \n",
      "insert: k= 11 [0.007793397799999902, 0.01576763920000044]\n",
      "k= 11  times: 10   time: 2020-06-21 21:57:53 [0.6016547770000003, 0.5579929329999977, 0.557272035999997, 0.564950734, 0.5825479780000009, 0.5683954769999993, 0.572422422999999, 0.5548061020000006, 0.5529926610000011, 0.5468767569999997]\n",
      "search: k= 11 [0.5133439301000001, 0.5659911877999996]\n",
      "k= 12  times: 10   time: 2020-06-21 21:57:53 [0.027748041999998918, 0.035736577000001546, 0.027400946000000204, 0.028118790000000615, 0.03262311399999973, 0.04271175999999954, 0.02847120199999864, 0.028147313000001617, 0.03330143399999841, 0.03363410900000119] \n",
      "insert: k= 12 [0.007793397799999902, 0.01576763920000044, 0.03178932870000004]\n",
      "k= 12  times: 10   time: 2020-06-21 21:58:00 [0.6597663550000021, 0.6735942470000005, 0.6612291089999971, 0.6646345179999997, 0.648254755, 0.6385823459999997, 0.653892576999997, 0.6466652679999996, 0.6484287070000008, 0.6245589259999988]\n",
      "search: k= 12 [0.5133439301000001, 0.5659911877999996, 0.6519606807999996]\n",
      "k= 13  times: 10   time: 2020-06-21 21:58:00 [0.060098104000001484, 0.08041809199999861, 0.05882046600000024, 0.06573171600000194, 0.0672162159999985, 0.08131719500000045, 0.06223710699999785, 0.07172335599999968, 0.07337358999999921, 0.0891791959999999] \n",
      "insert: k= 13 [0.007793397799999902, 0.01576763920000044, 0.03178932870000004, 0.07101150379999979]\n",
      "k= 13  times: 10   time: 2020-06-21 21:58:08 [0.7521178420000005, 0.7486776040000009, 0.7447074059999998, 0.7419288720000026, 0.7513169450000028, 0.7488602439999994, 0.7416628470000006, 0.743215327999998, 0.7357486659999992, 0.7458578569999972]\n",
      "search: k= 13 [0.5133439301000001, 0.5659911877999996, 0.6519606807999996, 0.7454093611000001]\n",
      "k= 14  times: 10   time: 2020-06-21 21:58:09 [0.13069696699999866, 0.1728688160000047, 0.13121802200000587, 0.16983120999999812, 0.13126763300000022, 0.16654151899999903, 0.12990244500000614, 0.15938114699999772, 0.14846725299999974, 0.16381253799999484] \n",
      "insert: k= 14 [0.007793397799999902, 0.01576763920000044, 0.03178932870000004, 0.07101150379999979, 0.1503987550000005]\n",
      "k= 14  times: 10   time: 2020-06-21 21:58:18 [0.8262601870000026, 0.928630493, 0.9313180620000026, 0.8915627890000053, 0.8139934740000001, 0.8166940349999976, 0.818120633999996, 0.812414485000005, 0.8163348920000004, 0.8402956159999988]\n",
      "search: k= 14 [0.5133439301000001, 0.5659911877999996, 0.6519606807999996, 0.7454093611000001, 0.8495624667000008]\n",
      "k= 15  times: 10   time: 2020-06-21 21:58:21 [0.33786789199999845, 0.3453851790000044, 0.362189764, 0.34408525699999615, 0.3411800899999946, 0.339692436, 0.3303547499999979, 0.32721931100000035, 0.31890572100000014, 0.344952506999995] \n",
      "insert: k= 15 [0.007793397799999902, 0.01576763920000044, 0.03178932870000004, 0.07101150379999979, 0.1503987550000005, 0.3391832906999987]\n",
      "k= 15  times: 10   time: 2020-06-21 21:58:31 [0.9453236650000036, 0.926668504999995, 0.9186681250000035, 0.9125734189999974, 0.9205926609999935, 0.920698048999995, 0.9328783650000005, 0.9700260079999978, 0.9260742780000015, 0.9300109469999995]\n",
      "search: k= 15 [0.5133439301000001, 0.5659911877999996, 0.6519606807999996, 0.7454093611000001, 0.8495624667000008, 0.9303514021999988]\n",
      "k= 16  times: 10   time: 2020-06-21 21:58:39 [0.7523921360000045, 0.8191873370000025, 0.8324893220000007, 0.8137976869999974, 0.8091826809999958, 0.7949123590000013, 0.7434002940000042, 0.7926590089999905, 0.7636753009999921, 0.7749875530000025] \n",
      "insert: k= 16 [0.007793397799999902, 0.01576763920000044, 0.03178932870000004, 0.07101150379999979, 0.1503987550000005, 0.3391832906999987, 0.7896683678999992]\n",
      "k= 16  times: 10   time: 2020-06-21 21:58:49 [1.117840120000011, 1.079791169999993, 1.13349350499999, 1.0868065169999994, 1.065104556999998, 1.067296361000004, 1.057419042999996, 1.0591812870000012, 1.0711638400000112, 1.0844480610000033]\n",
      "search: k= 16 [0.5133439301000001, 0.5659911877999996, 0.6519606807999996, 0.7454093611000001, 0.8495624667000008, 0.9303514021999988, 1.0822544461000008]\n",
      "k= 17  times: 10   time: 2020-06-21 21:59:10 [1.9462731579999968, 2.0507067249999977, 2.211365425000011, 1.9557870919999942, 2.0294542150000012, 2.2224218430000064, 1.9414088730000003, 2.2586268909999916, 2.252797946000001, 1.9901494899999932] \n",
      "insert: k= 17 [0.007793397799999902, 0.01576763920000044, 0.03178932870000004, 0.07101150379999979, 0.1503987550000005, 0.3391832906999987, 0.7896683678999992, 2.0858991657999995]\n",
      "k= 17  times: 10   time: 2020-06-21 21:59:23 [1.259802325999999, 1.2228379350000012, 1.2324763889999986, 1.2173929389999927, 1.2089357669999998, 1.213584204, 1.2334689260000005, 1.2282921980000054, 1.2153187849999938, 1.208789637999999]\n",
      "search: k= 17 [0.5133439301000001, 0.5659911877999996, 0.6519606807999996, 0.7454093611000001, 0.8495624667000008, 0.9303514021999988, 1.0822544461000008, 1.224089910699999]\n",
      "k= 18  times: 10   time: 2020-06-21 22:00:10 [4.534000938999995, 4.58608202500001, 4.544542117999995, 4.776461812999997, 4.645473965000008, 4.52345846099999, 4.844018221999988, 4.862820158000005, 4.904877209999995, 4.797821417999984] \n",
      "insert: k= 18 [0.007793397799999902, 0.01576763920000044, 0.03178932870000004, 0.07101150379999979, 0.1503987550000005, 0.3391832906999987, 0.7896683678999992, 2.0858991657999995, 4.701955632899997]\n",
      "k= 18  times: 10   time: 2020-06-21 22:00:24 [1.412953334000008, 1.6800531540000065, 1.3982259969999973, 1.3784158090000176, 1.375900520000016, 1.3828862419999837, 1.406743430000006, 1.6059454509999966, 1.62445460699999, 1.5714854439999897]\n",
      "search: k= 18 [0.5133439301000001, 0.5659911877999996, 0.6519606807999996, 0.7454093611000001, 0.8495624667000008, 0.9303514021999988, 1.0822544461000008, 1.224089910699999, 1.4837063988000012]\n",
      "k= 19  times: 10   time: 2020-06-21 22:02:22 [12.116963997, 11.72713385999998, 11.964722300999995, 11.912220552999997, 12.403776590999996, 11.271018174000005, 11.446722792999992, 11.455080423000027, 11.531008563, 11.757134727999983] \n",
      "insert: k= 19 [0.007793397799999902, 0.01576763920000044, 0.03178932870000004, 0.07101150379999979, 0.1503987550000005, 0.3391832906999987, 0.7896683678999992, 2.0858991657999995, 4.701955632899997, 11.758578198299997]\n",
      "k= 19  times: 10   time: 2020-06-21 22:02:40 [1.7628741940000054, 1.7009313109999766, 1.7166550260000122, 1.6942951069999594, 1.6932152229999815, 1.806199294999999, 1.8192193930000258, 1.7629880509999794, 1.7700655040000015, 1.73722481599998]\n",
      "search: k= 19 [0.5133439301000001, 0.5659911877999996, 0.6519606807999996, 0.7454093611000001, 0.8495624667000008, 0.9303514021999988, 1.0822544461000008, 1.224089910699999, 1.4837063988000012, 1.7463667919999921]\n",
      "k= 20  times: 10   time: 2020-06-21 22:07:14 [27.66432541399996, 28.430698483000015, 25.738681477, 27.33513854900002, 29.186402192999992, 26.529274621000013, 28.657931766000047, 26.04427986999997, 28.693790691000004, 25.884134619000065] \n",
      "insert: k= 20 [0.007793397799999902, 0.01576763920000044, 0.03178932870000004, 0.07101150379999979, 0.1503987550000005, 0.3391832906999987, 0.7896683678999992, 2.0858991657999995, 4.701955632899997, 11.758578198299997, 27.416465768300007]\n",
      "k= 20  times: 10   time: 2020-06-21 22:07:34 [2.256667026999935, 2.2331546169999683, 2.156411958000035, 1.864392376000069, 1.97800299000005, 1.8785441669999727, 1.9551132010000174, 2.0604607610000585, 2.0699334059999046, 2.047598611000012]\n",
      "search: k= 20 [0.5133439301000001, 0.5659911877999996, 0.6519606807999996, 0.7454093611000001, 0.8495624667000008, 0.9303514021999988, 1.0822544461000008, 1.224089910699999, 1.4837063988000012, 1.7463667919999921, 2.050027911400002]\n"
     ]
    },
    {
     "name": "stdout",
     "output_type": "stream",
     "text": [
      "k= 21  times: 10   time: 2020-06-21 22:18:11 [64.60745164399998, 63.01794510000002, 66.77054178200001, 63.06775454199999, 61.767594439999925, 61.023856631999934, 64.99995476800007, 63.50462851599991, 63.04765721600006, 64.24579507099997] \n",
      "insert: k= 21 [0.007793397799999902, 0.01576763920000044, 0.03178932870000004, 0.07101150379999979, 0.1503987550000005, 0.3391832906999987, 0.7896683678999992, 2.0858991657999995, 4.701955632899997, 11.758578198299997, 27.416465768300007, 63.605317971099986]\n",
      "k= 21  times: 10   time: 2020-06-21 22:18:34 [2.4960057880000477, 2.4689622959999724, 2.4525569670001914, 2.445455988000049, 2.3248012679998737, 2.324992849000182, 2.2363600430001043, 2.2213545229999454, 2.205339189999904, 2.1869723410000006]\n",
      "search: k= 21 [0.5133439301000001, 0.5659911877999996, 0.6519606807999996, 0.7454093611000001, 0.8495624667000008, 0.9303514021999988, 1.0822544461000008, 1.224089910699999, 1.4837063988000012, 1.7463667919999921, 2.050027911400002, 2.336280125300027]\n",
      "k= 22  times: 10   time: 2020-06-21 22:42:06 [145.65110392499992, 136.02798824599995, 140.73702125499995, 141.32065653600012, 133.23775820799983, 140.5944625310001, 139.83276788600006, 146.09618395200005, 143.79683472499983, 144.27394375600034] \n",
      "insert: k= 22 [0.007793397799999902, 0.01576763920000044, 0.03178932870000004, 0.07101150379999979, 0.1503987550000005, 0.3391832906999987, 0.7896683678999992, 2.0858991657999995, 4.701955632899997, 11.758578198299997, 27.416465768300007, 63.605317971099986, 141.15687210200002]\n",
      "k= 22  times: 10   time: 2020-06-21 22:42:33 [2.694595591000052, 2.756880135999836, 2.688797828999668, 2.6881187530002535, 2.6823004879997825, 2.755746416999955, 2.5303839980001612, 2.749636358999851, 2.8041740740000023, 2.8530393399996683]\n",
      "search: k= 22 [0.5133439301000001, 0.5659911877999996, 0.6519606807999996, 0.7454093611000001, 0.8495624667000008, 0.9303514021999988, 1.0822544461000008, 1.224089910699999, 1.4837063988000012, 1.7463667919999921, 2.050027911400002, 2.336280125300027, 2.720367298499923]\n",
      "k= 23  times: 10   time: 2020-06-21 23:35:22 [317.17032395000024, 315.68067519999977, 338.81246117499995, 302.73342999099987, 307.9428048059999, 337.9419381179996, 299.12256370399973, 340.5287722570001, 295.8619154580001, 311.7776166880003] \n",
      "insert: k= 23 [0.007793397799999902, 0.01576763920000044, 0.03178932870000004, 0.07101150379999979, 0.1503987550000005, 0.3391832906999987, 0.7896683678999992, 2.0858991657999995, 4.701955632899997, 11.758578198299997, 27.416465768300007, 63.605317971099986, 141.15687210200002, 316.7572501347]\n",
      "k= 23  times: 10   time: 2020-06-21 23:35:49 [2.7631760920003217, 2.7520493229994827, 2.754093646000001, 2.7830649919997086, 2.769371700999727, 2.759533322000607, 2.7563064450005186, 2.7782622659997287, 2.7616976389999763, 2.766617906000647]\n",
      "search: k= 23 [0.5133439301000001, 0.5659911877999996, 0.6519606807999996, 0.7454093611000001, 0.8495624667000008, 0.9303514021999988, 1.0822544461000008, 1.224089910699999, 1.4837063988000012, 1.7463667919999921, 2.050027911400002, 2.336280125300027, 2.720367298499923, 2.764417333200072]\n",
      "k= 24  times: 1   time: 2020-06-21 23:48:44 [774.2227475509999] "
     ]
    },
    {
     "ename": "KeyboardInterrupt",
     "evalue": "",
     "output_type": "error",
     "traceback": [
      "\u001b[0;31m---------------------------------------------------------------------------\u001b[0m",
      "\u001b[0;31mKeyboardInterrupt\u001b[0m                         Traceback (most recent call last)",
      "\u001b[0;32m<ipython-input-6-697e8b27dbb2>\u001b[0m in \u001b[0;36m<module>\u001b[0;34m\u001b[0m\n\u001b[1;32m     10\u001b[0m         \u001b[0mt\u001b[0m \u001b[0;34m=\u001b[0m \u001b[0mtime\u001b[0m\u001b[0;34m.\u001b[0m\u001b[0mperf_counter\u001b[0m\u001b[0;34m(\u001b[0m\u001b[0;34m)\u001b[0m\u001b[0;34m\u001b[0m\u001b[0;34m\u001b[0m\u001b[0m\n\u001b[1;32m     11\u001b[0m         \u001b[0;32mfor\u001b[0m \u001b[0mi\u001b[0m \u001b[0;32min\u001b[0m \u001b[0minsert_array\u001b[0m\u001b[0;34m:\u001b[0m\u001b[0;34m\u001b[0m\u001b[0;34m\u001b[0m\u001b[0m\n\u001b[0;32m---> 12\u001b[0;31m             \u001b[0msl\u001b[0m\u001b[0;34m.\u001b[0m\u001b[0minsertElement\u001b[0m\u001b[0;34m(\u001b[0m\u001b[0mi\u001b[0m\u001b[0;34m)\u001b[0m\u001b[0;34m\u001b[0m\u001b[0;34m\u001b[0m\u001b[0m\n\u001b[0m\u001b[1;32m     13\u001b[0m         \u001b[0mt\u001b[0m \u001b[0;34m=\u001b[0m \u001b[0mtime\u001b[0m\u001b[0;34m.\u001b[0m\u001b[0mperf_counter\u001b[0m\u001b[0;34m(\u001b[0m\u001b[0;34m)\u001b[0m \u001b[0;34m-\u001b[0m \u001b[0mt\u001b[0m\u001b[0;34m\u001b[0m\u001b[0;34m\u001b[0m\u001b[0m\n\u001b[1;32m     14\u001b[0m         \u001b[0mt_insert_\u001b[0m\u001b[0;34m.\u001b[0m\u001b[0mappend\u001b[0m\u001b[0;34m(\u001b[0m\u001b[0mt\u001b[0m\u001b[0;34m)\u001b[0m\u001b[0;34m\u001b[0m\u001b[0;34m\u001b[0m\u001b[0m\n",
      "\u001b[0;32m<ipython-input-2-a73f4c9460ae>\u001b[0m in \u001b[0;36minsertElement\u001b[0;34m(self, key)\u001b[0m\n\u001b[1;32m     55\u001b[0m         '''\n\u001b[1;32m     56\u001b[0m         \u001b[0;32mfor\u001b[0m \u001b[0mi\u001b[0m \u001b[0;32min\u001b[0m \u001b[0mrange\u001b[0m\u001b[0;34m(\u001b[0m\u001b[0mself\u001b[0m\u001b[0;34m.\u001b[0m\u001b[0mlevel\u001b[0m\u001b[0;34m,\u001b[0m \u001b[0;34m-\u001b[0m\u001b[0;36m1\u001b[0m\u001b[0;34m,\u001b[0m \u001b[0;34m-\u001b[0m\u001b[0;36m1\u001b[0m\u001b[0;34m)\u001b[0m\u001b[0;34m:\u001b[0m\u001b[0;34m\u001b[0m\u001b[0;34m\u001b[0m\u001b[0m\n\u001b[0;32m---> 57\u001b[0;31m             \u001b[0;32mwhile\u001b[0m \u001b[0mcurrent\u001b[0m\u001b[0;34m.\u001b[0m\u001b[0mforward\u001b[0m\u001b[0;34m[\u001b[0m\u001b[0mi\u001b[0m\u001b[0;34m]\u001b[0m \u001b[0;32mand\u001b[0m \u001b[0mcurrent\u001b[0m\u001b[0;34m.\u001b[0m\u001b[0mforward\u001b[0m\u001b[0;34m[\u001b[0m\u001b[0mi\u001b[0m\u001b[0;34m]\u001b[0m\u001b[0;34m.\u001b[0m\u001b[0mkey\u001b[0m \u001b[0;34m<\u001b[0m \u001b[0mkey\u001b[0m\u001b[0;34m:\u001b[0m\u001b[0;34m\u001b[0m\u001b[0;34m\u001b[0m\u001b[0m\n\u001b[0m\u001b[1;32m     58\u001b[0m                 \u001b[0mcurrent\u001b[0m \u001b[0;34m=\u001b[0m \u001b[0mcurrent\u001b[0m\u001b[0;34m.\u001b[0m\u001b[0mforward\u001b[0m\u001b[0;34m[\u001b[0m\u001b[0mi\u001b[0m\u001b[0;34m]\u001b[0m\u001b[0;34m\u001b[0m\u001b[0;34m\u001b[0m\u001b[0m\n\u001b[1;32m     59\u001b[0m             \u001b[0mupdate\u001b[0m\u001b[0;34m[\u001b[0m\u001b[0mi\u001b[0m\u001b[0;34m]\u001b[0m \u001b[0;34m=\u001b[0m \u001b[0mcurrent\u001b[0m\u001b[0;34m\u001b[0m\u001b[0;34m\u001b[0m\u001b[0m\n",
      "\u001b[0;31mKeyboardInterrupt\u001b[0m: "
     ]
    }
   ],
   "source": [
    "t_insert = []\n",
    "t_search = []\n",
    "for k in range(10,31):\n",
    "    \n",
    "    #insert part\n",
    "    t_insert_ =[]\n",
    "    for times in range(10):   \n",
    "        insert_array = random_array(k)\n",
    "        sl = SkipList(k, 0.5)\n",
    "        t = time.perf_counter()\n",
    "        for i in insert_array:\n",
    "            sl.insertElement(i)\n",
    "        t = time.perf_counter() - t\n",
    "        t_insert_.append(t)\n",
    "        print('\\rk=', k,' times:',times+1,'  time:',time.strftime(\"%Y-%m-%d %H:%M:%S\", time.localtime()),t_insert_,end=' ')\n",
    "    t_insert.append(np.mean(t_insert_))\n",
    "    print('\\ninsert: k=',k, t_insert)\n",
    "    \n",
    "    #search part\n",
    "    t_search_=[]\n",
    "    for times in range(10):\n",
    "        search_array = random_array(17)\n",
    "        t = time.perf_counter()\n",
    "        for i in search_array:\n",
    "            sl.searchElement(i)\n",
    "        t = time.perf_counter() - t\n",
    "        t_search_.append(t)\n",
    "        print('\\rk=', k,' times:',times+1,'  time:',time.strftime(\"%Y-%m-%d %H:%M:%S\", time.localtime()),t_search_,end='')\n",
    "    t_search.append(np.mean(t_search_))\n",
    "    print('\\nsearch: k=',k, t_search)  "
   ]
  },
  {
   "cell_type": "markdown",
   "metadata": {},
   "source": [
    "sorted array"
   ]
  },
  {
   "cell_type": "code",
   "execution_count": 24,
   "metadata": {},
   "outputs": [],
   "source": [
    "from array import array"
   ]
  },
  {
   "cell_type": "code",
   "execution_count": 8,
   "metadata": {},
   "outputs": [
    {
     "name": "stdout",
     "output_type": "stream",
     "text": [
      "k= 10  times: 10   time: 2020-06-21 23:53:43 [0.0005982510001558694, 0.0006462610008384218, 0.0006439740000132588, 0.0007529649992648046, 0.0007028600002740859, 0.000582586999371415, 0.0007270290006999858, 0.0008161080004356336, 0.0005903190003664349, 0.0009369630006403895] \n",
      "insert: k= 10 [0.00069973170020603]\n",
      "k= 10  times: 10   time: 2020-06-21 23:53:54 [1.0870302949997495, 1.0322399940005198, 1.0197278900004676, 1.0279579600000943, 1.0439905240000371, 1.027595440999903, 1.0281165679998594, 1.0097225499994238, 1.0238079750006364, 1.0436099190001187]\n",
      "search: k= 10 [1.034379911600081]\n",
      "k= 11  times: 10   time: 2020-06-21 23:53:54 [0.001047558000209392, 0.0015533139994658995, 0.0014616770004067803, 0.0011049640006604022, 0.0013420459999906598, 0.0011062769999625743, 0.0011170019997734926, 0.0011033999999199295, 0.0011066570004913956, 0.0011441099995863624] \n",
      "insert: k= 11 [0.00069973170020603, 0.0012087005000466888]\n",
      "k= 11  times: 10   time: 2020-06-21 23:54:05 [1.1438700070002596, 1.1154775280001559, 1.1136694390006596, 1.1606296719992315, 1.1364990279998892, 1.149906288999773, 1.1639188970002579, 1.1716870069994911, 1.1427240479997636, 1.173092877000272]\n",
      "search: k= 11 [1.034379911600081, 1.1471474791999754]\n",
      "k= 12  times: 10   time: 2020-06-21 23:54:05 [0.002258827999867208, 0.0020994759997847723, 0.0021417130001282203, 0.0021414980001281947, 0.0022653360001640976, 0.002143984000213095, 0.0022495829998661065, 0.0022167429997352883, 0.0021347550000427873, 0.0023321250000662985] \n",
      "insert: k= 12 [0.00069973170020603, 0.0012087005000466888, 0.002198404099999607]\n",
      "k= 12  times: 10   time: 2020-06-21 23:54:18 [1.3591614830002072, 1.2607008919994769, 1.280542241999683, 1.2326585139999224, 1.2601247049997255, 1.2945977819999825, 1.2632253740002852, 1.2831271929999275, 1.2912419949998366, 1.2563477769999736]\n",
      "search: k= 12 [1.034379911600081, 1.1471474791999754, 1.278172795699902]\n",
      "k= 13  times: 10   time: 2020-06-21 23:54:18 [0.004865168999458547, 0.004293056999813416, 0.004254779999428138, 0.004628942000636016, 0.004326154999944265, 0.004265321999810112, 0.004272596000191697, 0.004712603000371018, 0.0044665209998129285, 0.004329194000092684] \n",
      "insert: k= 13 [0.00069973170020603, 0.0012087005000466888, 0.002198404099999607, 0.004441433899955882]\n",
      "k= 13  times: 10   time: 2020-06-21 23:54:32 [1.3634923769996021, 1.366213303999757, 1.285674009000104, 1.3326780500001405, 1.370146289999866, 1.3618671410004026, 1.4069812389998333, 1.377021130000685, 1.3742132520001178, 1.3717555889998039]\n",
      "search: k= 13 [1.034379911600081, 1.1471474791999754, 1.278172795699902, 1.3610042381000311]\n",
      "k= 14  times: 10   time: 2020-06-21 23:54:32 [0.009353765999549069, 0.008919539999624249, 0.008744301000660926, 0.0092373570005293, 0.00989533299980394, 0.008858803999828524, 0.00931067500005156, 0.009712200000649318, 0.008332672000506136, 0.010010205999606114] \n",
      "insert: k= 14 [0.00069973170020603, 0.0012087005000466888, 0.002198404099999607, 0.004441433899955882, 0.009237485400080913]\n",
      "k= 14  times: 10   time: 2020-06-21 23:54:46 [1.4708684410006754, 1.4898609470001247, 1.509308921000411, 1.4527846539995153, 1.4716464389994144, 1.4741197670000474, 1.4694536130000415, 1.4280010379998203, 1.488079634999849, 1.443815554000139]\n",
      "search: k= 14 [1.034379911600081, 1.1471474791999754, 1.278172795699902, 1.3610042381000311, 1.4697939009000038]\n",
      "k= 15  times: 10   time: 2020-06-21 23:54:47 [0.02064183799939201, 0.019783079999797337, 0.01855707600043388, 0.018502410000110103, 0.019147578999763937, 0.01875603600001341, 0.017941654000424023, 0.018992868000168528, 0.019134362999466248, 0.018122340000445547] \n",
      "insert: k= 15 [0.00069973170020603, 0.0012087005000466888, 0.002198404099999607, 0.004441433899955882, 0.009237485400080913, 0.0189579244000015]\n",
      "k= 15  times: 10   time: 2020-06-21 23:55:02 [1.603520796000339, 1.5091230449997965, 1.5137802509998437, 1.518476424000255, 1.5442434440001307, 1.5432314780000524, 1.4689734710000266, 1.5139579749993572, 1.509887957000501, 1.4306838809998226]\n",
      "search: k= 15 [1.034379911600081, 1.1471474791999754, 1.278172795699902, 1.3610042381000311, 1.4697939009000038, 1.5155878722000125]\n",
      "k= 16  times: 10   time: 2020-06-21 23:55:02 [0.03643482900042727, 0.034215441000014835, 0.03295226799946249, 0.03361622000011266, 0.03453530899969337, 0.033740748000127496, 0.03415528500045184, 0.03581282300001476, 0.03575617900060024, 0.03694658700078435] \n",
      "insert: k= 16 [0.00069973170020603, 0.0012087005000466888, 0.002198404099999607, 0.004441433899955882, 0.009237485400080913, 0.0189579244000015, 0.03481656890016893]\n",
      "k= 16  times: 10   time: 2020-06-21 23:55:18 [1.5892107099998611, 1.6079183330002706, 1.6085738540004968, 1.6482763089998116, 1.6265821460001462, 1.5987009029995534, 1.6174486190002426, 1.613780399999996, 1.6366080249999868, 1.599815815000511]\n",
      "search: k= 16 [1.034379911600081, 1.1471474791999754, 1.278172795699902, 1.3610042381000311, 1.4697939009000038, 1.5155878722000125, 1.6146915114000877]\n",
      "k= 17  times: 10   time: 2020-06-21 23:55:19 [0.07588895600019896, 0.07337059499968746, 0.07348412900046242, 0.07455730099991342, 0.08234413700029108, 0.07479041799979314, 0.07629387399992993, 0.0716817219999939, 0.07718975900024816, 0.08231418099967414] \n",
      "insert: k= 17 [0.00069973170020603, 0.0012087005000466888, 0.002198404099999607, 0.004441433899955882, 0.009237485400080913, 0.0189579244000015, 0.03481656890016893, 0.07619150720001926]\n",
      "k= 17  times: 10   time: 2020-06-21 23:55:36 [1.7320245440005237, 1.7538982790001683, 1.7187408780000624, 1.7416609319998315, 1.6831317500000296, 1.7094496909994632, 1.7043376430001445, 1.7013885090000258, 1.7131497509999463, 1.718953564000003]\n",
      "search: k= 17 [1.034379911600081, 1.1471474791999754, 1.278172795699902, 1.3610042381000311, 1.4697939009000038, 1.5155878722000125, 1.6146915114000877, 1.7176735541000199]\n",
      "k= 18  times: 10   time: 2020-06-21 23:55:38 [0.14416397500008316, 0.1424861810000948, 0.14259854099964286, 0.14190431099996204, 0.14503702699948917, 0.14335803699941607, 0.14435512999989442, 0.14532940600020083, 0.13914514499992947, 0.14584177799952158] \n",
      "insert: k= 18 [0.00069973170020603, 0.0012087005000466888, 0.002198404099999607, 0.004441433899955882, 0.009237485400080913, 0.0189579244000015, 0.03481656890016893, 0.07619150720001926, 0.14342195309982345]\n",
      "k= 18  times: 10   time: 2020-06-21 23:55:56 [1.842982242999824, 1.8430501490001916, 1.8357435829993847, 1.9128097009997873, 1.8748961829996915, 1.875928682000449, 1.8610916739999084, 1.8782928399996308, 1.835995687999457, 1.79665796900008]\n",
      "search: k= 18 [1.034379911600081, 1.1471474791999754, 1.278172795699902, 1.3610042381000311, 1.4697939009000038, 1.5155878722000125, 1.6146915114000877, 1.7176735541000199, 1.8557448711998403]\n",
      "k= 19  times: 10   time: 2020-06-21 23:55:59 [0.2827644250000958, 0.2875664739995045, 0.28932357499979844, 0.2895456859996557, 0.2925651650002692, 0.29370956499951717, 0.3099888489996374, 0.2924086900002294, 0.290286436000315, 0.3114913750005144] \n",
      "insert: k= 19 [0.00069973170020603, 0.0012087005000466888, 0.002198404099999607, 0.004441433899955882, 0.009237485400080913, 0.0189579244000015, 0.03481656890016893, 0.07619150720001926, 0.14342195309982345, 0.2939650239999537]\n",
      "k= 19  times: 10   time: 2020-06-21 23:56:18 [1.9964534780001486, 1.9407188650002354, 1.9035099259999697, 1.8280019570001969, 1.8504587759998685, 1.8737915869996868, 1.8985457159997168, 1.8873835679996773, 1.9692142019994208, 1.962110309000309]\n",
      "search: k= 19 [1.034379911600081, 1.1471474791999754, 1.278172795699902, 1.3610042381000311, 1.4697939009000038, 1.5155878722000125, 1.6146915114000877, 1.7176735541000199, 1.8557448711998403, 1.911018838399923]\n",
      "k= 20  times: 10   time: 2020-06-21 23:56:25 [0.5793680959995982, 0.5968517569999676, 0.6366972800005897, 0.5784709910003585, 0.5997141540001394, 0.6177824719998171, 0.5769196339997507, 0.6565302549997796, 0.5725027110001975, 0.566590279000593] \n",
<<<<<<< HEAD
      "insert: k= 20 [0.00069973170020603, 0.0012087005000466888, 0.002198404099999607, 0.004441433899955882, 0.009237485400080913, 0.0189579244000015, 0.03481656890016893, 0.07619150720001926, 0.14342195309982345, 0.2939650239999537, 0.5981427629000791]\n",
=======
      "insert: k= 20 [0.00069973170020603, 0.0012087005000466888, 0.002198404099999607, 0.004441433899955882, 0.009237485400080913, 0.0189579244000015, 0.03481656890016893, 0.07619150720001926, 0.14342195309982345, 0.2939650239999537, 0.5981427629000791]\n"
     ]
    },
    {
     "name": "stdout",
     "output_type": "stream",
     "text": [
>>>>>>> b2b3d3e7fe5fb6cb90bb5493df360fbdecee4861
      "k= 20  times: 10   time: 2020-06-21 23:56:46 [2.1286616839997805, 2.0195159380000405, 2.0291230429993448, 2.0223210500007553, 2.0261049800001274, 2.0428739839999253, 2.115548923999995, 2.0739821349998238, 2.3026142250000703, 2.39399302000038]\n",
      "search: k= 20 [1.034379911600081, 1.1471474791999754, 1.278172795699902, 1.3610042381000311, 1.4697939009000038, 1.5155878722000125, 1.6146915114000877, 1.7176735541000199, 1.8557448711998403, 1.911018838399923, 2.1154738983000243]\n",
      "k= 21  times: 10   time: 2020-06-21 23:56:59 [1.321792835999986, 1.4097582909998891, 1.2603521060000276, 1.3459105299998555, 1.2427762249999432, 1.260772559000543, 1.3535595390003436, 1.2427884720000293, 1.1865669429998889, 1.212769992000176] \n",
      "insert: k= 21 [0.00069973170020603, 0.0012087005000466888, 0.002198404099999607, 0.004441433899955882, 0.009237485400080913, 0.0189579244000015, 0.03481656890016893, 0.07619150720001926, 0.14342195309982345, 0.2939650239999537, 0.5981427629000791, 1.2837047493000682]\n",
      "k= 21  times: 10   time: 2020-06-21 23:57:21 [2.212759955000365, 2.236736347999795, 2.423813627000527, 2.1446333880003294, 2.1659260830001585, 2.1588387110004987, 2.1812467669997204, 2.1844823960000213, 2.1671999870004583, 2.1442535240003053]\n",
      "search: k= 21 [1.034379911600081, 1.1471474791999754, 1.278172795699902, 1.3610042381000311, 1.4697939009000038, 1.5155878722000125, 1.6146915114000877, 1.7176735541000199, 1.8557448711998403, 1.911018838399923, 2.1154738983000243, 2.201989078600218]\n",
      "k= 22  times: 10   time: 2020-06-21 23:57:45 [2.3785304539997014, 2.3691195109995533, 2.3725571810000474, 2.399839716000315, 2.372529233000023, 2.3897636370002147, 2.4356901809997, 2.426837016000718, 2.3801106780001646, 2.4350080719996186] \n",
      "insert: k= 22 [0.00069973170020603, 0.0012087005000466888, 0.002198404099999607, 0.004441433899955882, 0.009237485400080913, 0.0189579244000015, 0.03481656890016893, 0.07619150720001926, 0.14342195309982345, 0.2939650239999537, 0.5981427629000791, 1.2837047493000682, 2.3959985679000058]\n",
      "k= 22  times: 10   time: 2020-06-21 23:58:08 [2.4443090779996055, 2.733596373000182, 2.2882507559997975, 2.2818606279997766, 2.1970863979995556, 2.1162954480005283, 2.2014882170005876, 2.2323842260002493, 2.251768996999999, 2.1878413319991523]\n",
      "search: k= 22 [1.034379911600081, 1.1471474791999754, 1.278172795699902, 1.3610042381000311, 1.4697939009000038, 1.5155878722000125, 1.6146915114000877, 1.7176735541000199, 1.8557448711998403, 1.911018838399923, 2.1154738983000243, 2.201989078600218, 2.2934881452999436]\n",
      "k= 23  times: 10   time: 2020-06-21 23:58:58 [4.889075583000704, 5.109311178000098, 5.024571571999331, 4.8844774409999445, 5.024503495000317, 4.821170590999827, 4.915530518999731, 5.034360701999503, 4.985295710000173, 4.834787483999207] \n",
      "insert: k= 23 [0.00069973170020603, 0.0012087005000466888, 0.002198404099999607, 0.004441433899955882, 0.009237485400080913, 0.0189579244000015, 0.03481656890016893, 0.07619150720001926, 0.14342195309982345, 0.2939650239999537, 0.5981427629000791, 1.2837047493000682, 2.3959985679000058, 4.952308427499884]\n",
      "k= 23  times: 10   time: 2020-06-21 23:59:21 [2.373346786000184, 2.373608597999919, 2.3192774590006593, 2.345116178999888, 2.2145557179992466, 2.1600225210004282, 2.2633760839999013, 2.2935270520001723, 2.2614692739998645, 2.368894346000161]\n",
      "search: k= 23 [1.034379911600081, 1.1471474791999754, 1.278172795699902, 1.3610042381000311, 1.4697939009000038, 1.5155878722000125, 1.6146915114000877, 1.7176735541000199, 1.8557448711998403, 1.911018838399923, 2.1154738983000243, 2.201989078600218, 2.2934881452999436, 2.2973194017000425]\n",
      "k= 24  times: 10   time: 2020-06-22 00:00:55 [9.306161659999816, 9.241628957999637, 9.352746530000331, 9.544419212999856, 9.698564056999203, 9.59883736699976, 9.103283419000036, 9.2241915959994, 9.042695432000073, 8.988892444999692] \n",
      "insert: k= 24 [0.00069973170020603, 0.0012087005000466888, 0.002198404099999607, 0.004441433899955882, 0.009237485400080913, 0.0189579244000015, 0.03481656890016893, 0.07619150720001926, 0.14342195309982345, 0.2939650239999537, 0.5981427629000791, 1.2837047493000682, 2.3959985679000058, 4.952308427499884, 9.31014206769978]\n",
      "k= 24  times: 10   time: 2020-06-22 00:01:19 [2.31052303100023, 2.332165060999614, 2.325938727999528, 2.321999364000476, 2.3629108509994694, 2.325757751999845, 2.380711578000046, 2.3892448719998356, 2.347346663999815, 2.39441716500005]\n",
      "search: k= 24 [1.034379911600081, 1.1471474791999754, 1.278172795699902, 1.3610042381000311, 1.4697939009000038, 1.5155878722000125, 1.6146915114000877, 1.7176735541000199, 1.8557448711998403, 1.911018838399923, 2.1154738983000243, 2.201989078600218, 2.2934881452999436, 2.2973194017000425, 2.349101506599891]\n",
      "k= 25  times: 10   time: 2020-06-22 00:04:31 [19.023831846000576, 18.80682146199979, 18.964834225999766, 18.85138644899962, 18.496248449999257, 18.65472163800041, 18.71334561799995, 18.955542046999653, 19.21864042800007, 18.830025031999867] \n",
      "insert: k= 25 [0.00069973170020603, 0.0012087005000466888, 0.002198404099999607, 0.004441433899955882, 0.009237485400080913, 0.0189579244000015, 0.03481656890016893, 0.07619150720001926, 0.14342195309982345, 0.2939650239999537, 0.5981427629000791, 1.2837047493000682, 2.3959985679000058, 4.952308427499884, 9.31014206769978, 18.851539719599895]\n",
      "k= 25  times: 10   time: 2020-06-22 00:04:56 [2.4774980230004076, 2.5070513649998247, 2.539580184999977, 2.4678084199995283, 2.504965054999957, 2.498200607000399, 2.545753825999782, 2.5389058589998967, 2.533336323000185, 2.5130694870003936]\n",
      "search: k= 25 [1.034379911600081, 1.1471474791999754, 1.278172795699902, 1.3610042381000311, 1.4697939009000038, 1.5155878722000125, 1.6146915114000877, 1.7176735541000199, 1.8557448711998403, 1.911018838399923, 2.1154738983000243, 2.201989078600218, 2.2934881452999436, 2.2973194017000425, 2.349101506599891, 2.5126169150000353]\n",
      "k= 26  times: 10   time: 2020-06-22 00:11:02 [37.70296802499979, 36.464416931000414, 35.46397792500011, 35.787837316999685, 35.61227092199988, 35.920903569000075, 35.90164866300074, 35.87074726799983, 35.973584700000174, 35.89478769999914] \n",
      "insert: k= 26 [0.00069973170020603, 0.0012087005000466888, 0.002198404099999607, 0.004441433899955882, 0.009237485400080913, 0.0189579244000015, 0.03481656890016893, 0.07619150720001926, 0.14342195309982345, 0.2939650239999537, 0.5981427629000791, 1.2837047493000682, 2.3959985679000058, 4.952308427499884, 9.31014206769978, 18.851539719599895, 36.05931430199998]\n",
      "k= 26  times: 10   time: 2020-06-22 00:11:27 [2.5071496289992865, 2.480941814000289, 2.4788015590002033, 2.455076328999894, 2.458989866999218, 2.483389871000327, 2.4960264849996747, 2.4986174670002583, 2.4776798309994774, 2.4650659119997727]\n",
      "search: k= 26 [1.034379911600081, 1.1471474791999754, 1.278172795699902, 1.3610042381000311, 1.4697939009000038, 1.5155878722000125, 1.6146915114000877, 1.7176735541000199, 1.8557448711998403, 1.911018838399923, 2.1154738983000243, 2.201989078600218, 2.2934881452999436, 2.2973194017000425, 2.349101506599891, 2.5126169150000353, 2.48017387639984]\n",
      "k= 27  times: 10   time: 2020-06-22 00:24:07 [75.89059817299949, 73.93070575900038, 75.03304020999894, 74.49378135000006, 73.06305741600045, 74.45591161699849, 74.81006993399933, 75.83284924600048, 74.02230187699934, 75.38829228299983] \n",
      "insert: k= 27 [0.00069973170020603, 0.0012087005000466888, 0.002198404099999607, 0.004441433899955882, 0.009237485400080913, 0.0189579244000015, 0.03481656890016893, 0.07619150720001926, 0.14342195309982345, 0.2939650239999537, 0.5981427629000791, 1.2837047493000682, 2.3959985679000058, 4.952308427499884, 9.31014206769978, 18.851539719599895, 36.05931430199998, 74.69206078649968]\n",
      "k= 27  times: 10   time: 2020-06-22 00:24:33 [2.550119965000704, 2.5753944360003516, 2.589343554998777, 2.558023219000461, 2.551882354000554, 2.545298282000658, 2.6276279619996785, 2.5364018350010156, 2.553518017000897, 2.5578153719998227]\n",
      "search: k= 27 [1.034379911600081, 1.1471474791999754, 1.278172795699902, 1.3610042381000311, 1.4697939009000038, 1.5155878722000125, 1.6146915114000877, 1.7176735541000199, 1.8557448711998403, 1.911018838399923, 2.1154738983000243, 2.201989078600218, 2.2934881452999436, 2.2973194017000425, 2.349101506599891, 2.5126169150000353, 2.48017387639984, 2.564542499700292]\n"
     ]
    },
    {
     "name": "stdout",
     "output_type": "stream",
     "text": [
      "k= 28  times: 10   time: 2020-06-22 00:49:25 [145.6722993759995, 156.6124398409993, 150.20003142600035, 143.13788258500063, 145.27903854200122, 145.10013251599958, 145.0419813490007, 145.26352738199967, 144.0235656219993, 145.1427261480003] \n",
      "insert: k= 28 [0.00069973170020603, 0.0012087005000466888, 0.002198404099999607, 0.004441433899955882, 0.009237485400080913, 0.0189579244000015, 0.03481656890016893, 0.07619150720001926, 0.14342195309982345, 0.2939650239999537, 0.5981427629000791, 1.2837047493000682, 2.3959985679000058, 4.952308427499884, 9.31014206769978, 18.851539719599895, 36.05931430199998, 74.69206078649968, 146.54736247870005]\n",
      "k= 28  times: 10   time: 2020-06-22 00:49:52 [2.7489653800002998, 2.714353765000851, 2.6733553689991822, 2.6464128449988493, 2.6644902160005586, 2.648535307000202, 2.7174106359998405, 2.670459615999789, 2.6484881670003233, 2.654993756999829]\n",
      "search: k= 28 [1.034379911600081, 1.1471474791999754, 1.278172795699902, 1.3610042381000311, 1.4697939009000038, 1.5155878722000125, 1.6146915114000877, 1.7176735541000199, 1.8557448711998403, 1.911018838399923, 2.1154738983000243, 2.201989078600218, 2.2934881452999436, 2.2973194017000425, 2.349101506599891, 2.5126169150000353, 2.48017387639984, 2.564542499700292, 2.6787465057999724]\n",
      "k= 29  times: 10   time: 2020-06-22 01:42:16 [305.98703965800087, 305.5146293710004, 308.79507313299837, 315.02411621600004, 301.9567935110008, 304.60660521799946, 314.81065950500124, 309.3196048539994, 307.7816576749992, 311.7509511160006] \n",
      "insert: k= 29 [0.00069973170020603, 0.0012087005000466888, 0.002198404099999607, 0.004441433899955882, 0.009237485400080913, 0.0189579244000015, 0.03481656890016893, 0.07619150720001926, 0.14342195309982345, 0.2939650239999537, 0.5981427629000791, 1.2837047493000682, 2.3959985679000058, 4.952308427499884, 9.31014206769978, 18.851539719599895, 36.05931430199998, 74.69206078649968, 146.54736247870005, 308.55471302570004]\n",
      "k= 29  times: 10   time: 2020-06-22 01:42:44 [2.8490200960004586, 2.8109716330000083, 2.843566732999534, 2.8553097950007214, 3.0022626150002907, 2.923947159000818, 2.8538242089998676, 2.775020900000527, 2.7595953500003816, 2.743200634000459]\n",
      "search: k= 29 [1.034379911600081, 1.1471474791999754, 1.278172795699902, 1.3610042381000311, 1.4697939009000038, 1.5155878722000125, 1.6146915114000877, 1.7176735541000199, 1.8557448711998403, 1.911018838399923, 2.1154738983000243, 2.201989078600218, 2.2934881452999436, 2.2973194017000425, 2.349101506599891, 2.5126169150000353, 2.48017387639984, 2.564542499700292, 2.6787465057999724, 2.8416719124003067]\n",
      "k= 30  times: 1   time: 2020-06-22 01:53:43 [647.7037981899994] "
     ]
    },
    {
     "ename": "KeyboardInterrupt",
     "evalue": "",
     "output_type": "error",
     "traceback": [
      "\u001b[0;31m---------------------------------------------------------------------------\u001b[0m",
      "\u001b[0;31mKeyboardInterrupt\u001b[0m                         Traceback (most recent call last)",
      "\u001b[0;32m<ipython-input-8-dce56c79002c>\u001b[0m in \u001b[0;36m<module>\u001b[0;34m\u001b[0m\n\u001b[1;32m     10\u001b[0m         \u001b[0mt\u001b[0m \u001b[0;34m=\u001b[0m \u001b[0mtime\u001b[0m\u001b[0;34m.\u001b[0m\u001b[0mperf_counter\u001b[0m\u001b[0;34m(\u001b[0m\u001b[0;34m)\u001b[0m\u001b[0;34m\u001b[0m\u001b[0;34m\u001b[0m\u001b[0m\n\u001b[1;32m     11\u001b[0m         \u001b[0;32mfor\u001b[0m \u001b[0mi\u001b[0m \u001b[0;32min\u001b[0m \u001b[0minsert_array\u001b[0m\u001b[0;34m:\u001b[0m\u001b[0;34m\u001b[0m\u001b[0;34m\u001b[0m\u001b[0m\n\u001b[0;32m---> 12\u001b[0;31m             \u001b[0minsertSorted\u001b[0m\u001b[0;34m(\u001b[0m\u001b[0msn\u001b[0m\u001b[0;34m,\u001b[0m \u001b[0mlen\u001b[0m\u001b[0;34m(\u001b[0m\u001b[0msn\u001b[0m\u001b[0;34m)\u001b[0m\u001b[0;34m,\u001b[0m \u001b[0mi\u001b[0m\u001b[0;34m,\u001b[0m \u001b[0;36m2\u001b[0m\u001b[0;34m**\u001b[0m\u001b[0mk\u001b[0m\u001b[0;34m)\u001b[0m\u001b[0;34m\u001b[0m\u001b[0;34m\u001b[0m\u001b[0m\n\u001b[0m\u001b[1;32m     13\u001b[0m         \u001b[0mt\u001b[0m \u001b[0;34m=\u001b[0m \u001b[0mtime\u001b[0m\u001b[0;34m.\u001b[0m\u001b[0mperf_counter\u001b[0m\u001b[0;34m(\u001b[0m\u001b[0;34m)\u001b[0m \u001b[0;34m-\u001b[0m \u001b[0mt\u001b[0m\u001b[0;34m\u001b[0m\u001b[0;34m\u001b[0m\u001b[0m\n\u001b[1;32m     14\u001b[0m         \u001b[0mt_insert_\u001b[0m\u001b[0;34m.\u001b[0m\u001b[0mappend\u001b[0m\u001b[0;34m(\u001b[0m\u001b[0mt\u001b[0m\u001b[0;34m)\u001b[0m\u001b[0;34m\u001b[0m\u001b[0;34m\u001b[0m\u001b[0m\n",
      "\u001b[0;31mKeyboardInterrupt\u001b[0m: "
     ]
    }
   ],
   "source": [
    "t_insert = []\n",
    "t_search = []\n",
    "for k in range(10,31):\n",
    "    \n",
    "    #insert part\n",
    "    t_insert_ =[]\n",
    "    for times in range(10):   \n",
    "        insert_array = random_array(k)\n",
    "        sn = np.empty(2**k, dtype=np.int)\n",
    "        t = time.perf_counter()\n",
    "        for i in insert_array:\n",
    "            insertSorted(sn, len(sn), i, 2**k)\n",
    "        t = time.perf_counter() - t\n",
    "        t_insert_.append(t)\n",
    "        print('\\rk=', k,' times:',times+1,'  time:',time.strftime(\"%Y-%m-%d %H:%M:%S\", time.localtime()),t_insert_,end=' ')\n",
    "    t_insert.append(np.mean(t_insert_))\n",
    "    print('\\ninsert: k=',k, t_insert)\n",
    "    \n",
    "    #search part\n",
    "    t_search_=[]\n",
    "    for times in range(10):\n",
    "        search_array = random_array(17)\n",
    "        t = time.perf_counter()\n",
    "        for i in search_array:\n",
    "            binarySearch(sn,0, 2**k-1, i)\n",
    "        t = time.perf_counter() - t\n",
    "        t_search_.append(t)\n",
    "        print('\\rk=', k,' times:',times+1,'  time:',time.strftime(\"%Y-%m-%d %H:%M:%S\", time.localtime()),t_search_,end='')\n",
    "    t_search.append(np.mean(t_search_))\n",
    "    print('\\nsearch: k=',k, t_search)  "
   ]
  },
  {
   "cell_type": "markdown",
   "metadata": {},
   "source": [
    "## 結果與估計"
   ]
  },
  {
   "cell_type": "code",
   "execution_count": 21,
   "metadata": {},
   "outputs": [],
   "source": [
    "bst_insert = [0.004908217600132048, 0.009805989599772146, 0.02051322409988643, 0.05346899569976813, 0.11057222529998398, 0.63468817319972, 0.9130717539999751, 1.9463605415996426, 4.105034910200447, 9.258099649699762, 19.056327378199967, 41.5396213703003, 87.03604513199953, 186.11110366640006, 403.1603094492999]\n",
    "bst_search = [0.5356921934004276, 0.7324735537002198, 0.6568124792000163, 0.7320222499998635, 0.8251145321997683, 0.9309369897002397, 1.0108736004000094, 1.084169951000149, 1.410016493099829, 1.3715945351999834, 1.6797951615002602, 1.753941152200241, 2.1143930467998873, 2.1794235209001274, 2.4511935842998356]"
   ]
  },
  {
   "cell_type": "code",
   "execution_count": 22,
   "metadata": {},
   "outputs": [],
   "source": [
    "sl_insert = [0.007793397799999902, 0.01576763920000044, 0.03178932870000004, 0.07101150379999979, 0.1503987550000005, 0.3391832906999987, 0.7896683678999992, 2.0858991657999995, 4.701955632899997, 11.758578198299997, 27.416465768300007, 63.605317971099986, 141.15687210200002, 316.7572501347]\n",
    "sl_search = [0.5133439301000001, 0.5659911877999996, 0.6519606807999996, 0.7454093611000001, 0.8495624667000008, 0.9303514021999988, 1.0822544461000008, 1.224089910699999, 1.4837063988000012, 1.7463667919999921, 2.050027911400002, 2.336280125300027, 2.720367298499923, 2.764417333200072]"
   ]
  },
  {
   "cell_type": "code",
   "execution_count": 23,
   "metadata": {},
   "outputs": [],
   "source": [
    "sn_insert = [0.00069973170020603, 0.0012087005000466888, 0.002198404099999607, 0.004441433899955882, 0.009237485400080913, 0.0189579244000015, 0.03481656890016893, 0.07619150720001926, 0.14342195309982345, 0.2939650239999537, 0.5981427629000791, 1.2837047493000682, 2.3959985679000058, 4.952308427499884, 9.31014206769978, 18.851539719599895, 36.05931430199998, 74.69206078649968, 146.54736247870005, 308.55471302570004]\n",
    "sn_search = [1.034379911600081, 1.1471474791999754, 1.278172795699902, 1.3610042381000311, 1.4697939009000038, 1.5155878722000125, 1.6146915114000877, 1.7176735541000199, 1.8557448711998403, 1.911018838399923, 2.1154738983000243, 2.201989078600218, 2.2934881452999436, 2.2973194017000425, 2.349101506599891, 2.5126169150000353, 2.48017387639984, 2.564542499700292, 2.6787465057999724, 2.8416719124003067]"
   ]
  },
  {
   "cell_type": "markdown",
   "metadata": {},
   "source": [
    "估計方法：假設等比或等差 看（公）差和（公）比\n"
   ]
  },
  {
   "cell_type": "code",
   "execution_count": 24,
   "metadata": {},
   "outputs": [],
   "source": [
    "def checkway(t_list):\n",
    "    print('比值：')\n",
    "    r=[]\n",
    "    for i in range(len(t_list)-1):\n",
    "        e = t_list[i+1]/t_list[i]\n",
    "        print(e)\n",
    "        r.append(e)\n",
    "    print('平均比值',np.mean(r))\n",
    "    print('差：')\n",
    "    d=[]\n",
    "    for i in range(len(t_list)-1):\n",
    "        e = t_list[i+1]-t_list[i]\n",
    "        print(e)\n",
    "        d.append(e)\n",
    "    print('平均差',np.mean(d))"
   ]
  },
  {
   "cell_type": "code",
   "execution_count": 25,
   "metadata": {},
   "outputs": [],
   "source": [
    "def estim(t_list,way,r):\n",
    "    if way=='r':\n",
    "        while len(t_list)<21:\n",
    "            t_list.append(t_list[-1]*r)\n",
    "        print(t_list)\n",
    "    elif way=='d':\n",
    "        while len(t_list)<21:\n",
    "            t_list.append(t_list[-1]+r)\n",
    "        print(t_list)\n",
    "    else:\n",
    "        print('error')"
   ]
  },
  {
   "cell_type": "code",
   "execution_count": 26,
   "metadata": {},
   "outputs": [
    {
     "name": "stdout",
     "output_type": "stream",
     "text": [
      "比值：\n",
      "1.9978718138960123\n",
      "2.091907592922909\n",
      "2.6065622565915496\n",
      "2.0679689949827034\n",
      "5.740032557704272\n",
      "1.4386147285474231\n",
      "2.131662197492198\n",
      "2.1090824759664875\n",
      "2.2553035119615323\n",
      "2.058341139028241\n",
      "2.1798335296139353\n",
      "2.0952536942050206\n",
      "2.138322155885444\n",
      "2.1662345851860385\n",
      "平均比值 2.36264223099884\n",
      "差：\n",
      "0.0048977719996400985\n",
      "0.010707234500114283\n",
      "0.0329557715998817\n",
      "0.05710322960021585\n",
      "0.524115947899736\n",
      "0.27838358080025505\n",
      "1.0332887875996675\n",
      "2.1586743686008045\n",
      "5.153064739499315\n",
      "9.798227728500205\n",
      "22.483293992100336\n",
      "45.496423761699226\n",
      "99.07505853440053\n",
      "217.04920578289986\n",
      "平均差 28.796814373692843\n"
     ]
    }
   ],
   "source": [
    "checkway(bst_insert)"
   ]
  },
  {
   "cell_type": "code",
   "execution_count": 27,
   "metadata": {},
   "outputs": [
    {
     "name": "stdout",
     "output_type": "stream",
     "text": [
      "[0.004908217600132048, 0.009805989599772146, 0.02051322409988643, 0.05346899569976813, 0.11057222529998398, 0.63468817319972, 0.9130717539999751, 1.9463605415996426, 4.105034910200447, 9.258099649699762, 19.056327378199967, 41.5396213703003, 87.03604513199953, 186.11110366640006, 403.1603094492999, 952.5235729674768, 2250.472419514866, 5317.061178043961, 12562.313284051106, 29680.25188393687, 70123.81652767214]\n"
     ]
    }
   ],
   "source": [
    "estim(bst_insert,'r',2.36264223099884)"
   ]
  },
  {
   "cell_type": "code",
   "execution_count": 28,
   "metadata": {},
   "outputs": [
    {
     "name": "stdout",
     "output_type": "stream",
     "text": [
      "比值：\n",
      "1.3673403546366392\n",
      "0.8967047013260913\n",
      "1.1145072196122874\n",
      "1.1271713833833905\n",
      "1.1282518406485305\n",
      "1.0858668326472978\n",
      "1.0725079283613064\n",
      "1.300549320518509\n",
      "0.9727507032095934\n",
      "1.2247024309231007\n",
      "1.0441399001493488\n",
      "1.20550968551452\n",
      "1.0307560953242176\n",
      "1.124698141868022\n",
      "平均比值 1.1211040384373467\n",
      "差：\n",
      "0.1967813602997922\n",
      "-0.07566107450020354\n",
      "0.07520977079984725\n",
      "0.09309228219990473\n",
      "0.10582245750047148\n",
      "0.07993661069976965\n",
      "0.07329635060013961\n",
      "0.3258465420996799\n",
      "-0.03842195789984548\n",
      "0.3082006263002768\n",
      "0.07414599069998085\n",
      "0.3604518945996462\n",
      "0.0650304741002401\n",
      "0.2717700633997082\n",
      "平均差 0.13682152792138627\n"
     ]
    }
   ],
   "source": [
    "checkway(bst_search)"
   ]
  },
  {
   "cell_type": "markdown",
   "metadata": {},
   "source": [
    "* 用公差是因為全距較小"
   ]
  },
  {
   "cell_type": "code",
   "execution_count": 29,
   "metadata": {},
   "outputs": [
    {
     "name": "stdout",
     "output_type": "stream",
     "text": [
      "[0.5356921934004276, 0.7324735537002198, 0.6568124792000163, 0.7320222499998635, 0.8251145321997683, 0.9309369897002397, 1.0108736004000094, 1.084169951000149, 1.410016493099829, 1.3715945351999834, 1.6797951615002602, 1.753941152200241, 2.1143930467998873, 2.1794235209001274, 2.4511935842998356, 2.588015112221222, 2.7248366401426085, 2.861658168063995, 2.9984796959853814, 3.135301223906768, 3.2721227518281544]\n"
     ]
    }
   ],
   "source": [
    "estim(bst_search, 'd', 0.13682152792138627)"
   ]
  },
  {
   "cell_type": "code",
   "execution_count": 30,
   "metadata": {},
   "outputs": [
    {
     "name": "stdout",
     "output_type": "stream",
     "text": [
      "比值：\n",
      "2.023204718229658\n",
      "2.0161121330071503\n",
      "2.2338157710137394\n",
      "2.1179491624848668\n",
      "2.2552267184658383\n",
      "2.328146431595435\n",
      "2.6414875542591703\n",
      "2.254162478221553\n",
      "2.5007845918460374\n",
      "2.331614018798953\n",
      "2.319967807252638\n",
      "2.2192621089660576\n",
      "2.2440087076016466\n",
      "平均比值 2.268134015518673\n",
      "差：\n",
      "0.007974241400000538\n",
      "0.016021689499999603\n",
      "0.03922217509999975\n",
      "0.0793872512000007\n",
      "0.1887845356999982\n",
      "0.45048507720000047\n",
      "1.2962307979000003\n",
      "2.6160564670999977\n",
      "7.0566225654\n",
      "15.65788757000001\n",
      "36.18885220279998\n",
      "77.55155413090003\n",
      "175.60037803269995\n",
      "平均差 24.36534282591538\n"
     ]
    }
   ],
   "source": [
    "checkway(sl_insert)"
   ]
  },
  {
   "cell_type": "code",
   "execution_count": 32,
   "metadata": {},
   "outputs": [
    {
     "name": "stdout",
     "output_type": "stream",
     "text": [
      "[0.007793397799999902, 0.01576763920000044, 0.03178932870000004, 0.07101150379999979, 0.1503987550000005, 0.3391832906999987, 0.7896683678999992, 2.0858991657999995, 4.701955632899997, 11.758578198299997, 27.416465768300007, 63.605317971099986, 141.15687210200002, 316.7572501347, 718.4478936926697, 1629.5361060620876, 3696.0062716752645, 8383.037546357016, 19013.85261226254, 43125.965875931244, 97815.4701552972]\n"
     ]
    }
   ],
   "source": [
    "estim(sl_insert,'r', 2.268134015518673)"
   ]
  },
  {
   "cell_type": "code",
   "execution_count": 33,
   "metadata": {},
   "outputs": [
    {
     "name": "stdout",
     "output_type": "stream",
     "text": [
      "比值：\n",
      "1.1025574758227759\n",
      "1.1518919284488551\n",
      "1.1433348406614532\n",
      "1.1397260499201431\n",
      "1.0950947560263704\n",
      "1.1632749126198954\n",
      "1.1310555619439724\n",
      "1.2120893946029994\n",
      "1.1770298985112058\n",
      "1.17388163860597\n",
      "1.1396333251406991\n",
      "1.1644011645010124\n",
      "1.0161926791005167\n",
      "平均比值 1.139243355838913\n",
      "差：\n",
      "0.05264725769999945\n",
      "0.08596949300000001\n",
      "0.09344868030000053\n",
      "0.10415310560000068\n",
      "0.080788935499998\n",
      "0.15190304390000198\n",
      "0.14183546459999818\n",
      "0.25961648810000226\n",
      "0.2626603931999909\n",
      "0.30366111940001006\n",
      "0.286252213900025\n",
      "0.3840871731998958\n",
      "0.0440500347001489\n",
      "平均差 0.17315949254615934\n"
     ]
    }
   ],
   "source": [
    "checkway(sl_search)"
   ]
  },
  {
   "cell_type": "code",
   "execution_count": 35,
   "metadata": {},
   "outputs": [
    {
     "name": "stdout",
     "output_type": "stream",
     "text": [
      "[0.5133439301000001, 0.5659911877999996, 0.6519606807999996, 0.7454093611000001, 0.8495624667000008, 0.9303514021999988, 1.0822544461000008, 1.224089910699999, 1.4837063988000012, 1.7463667919999921, 2.050027911400002, 2.336280125300027, 2.720367298499923, 2.764417333200072, 3.1493440796141083, 3.5878693179509895, 4.0874562820939575, 4.656607411657567, 5.305009054481121, 6.043696317982891, 6.885240874970111]\n"
     ]
    }
   ],
   "source": [
    "estim(sl_search,'r', 1.139243355838913)"
   ]
  },
  {
   "cell_type": "code",
   "execution_count": 36,
   "metadata": {},
   "outputs": [
    {
     "name": "stdout",
     "output_type": "stream",
     "text": [
      "比值：\n",
      "1.7273770785156615\n",
      "1.818816241008164\n",
      "2.0202991342477374\n",
      "2.079843043520848\n",
      "2.0522819337647284\n",
      "1.8365179734637076\n",
      "2.188369204860091\n",
      "1.8823876619648652\n",
      "2.0496515187974778\n",
      "2.034741258538884\n",
      "2.1461511012455627\n",
      "1.8664716861150579\n",
      "2.0669079246739193\n",
      "1.8799600638766958\n",
      "2.0248391036913005\n",
      "1.912804727802112\n",
      "2.071366642220287\n",
      "1.9620206074858757\n",
      "2.105494823017009\n",
      "平均比值 1.9855948278321045\n",
      "差：\n",
      "0.0005089687998406588\n",
      "0.000989703599952918\n",
      "0.0022430297999562754\n",
      "0.004796051500125031\n",
      "0.009720438999920589\n",
      "0.01585864450016743\n",
      "0.041374938299850325\n",
      "0.06723044589980419\n",
      "0.15054307090013028\n",
      "0.30417773890012534\n",
      "0.6855619863999891\n",
      "1.1122938185999376\n",
      "2.556309859599878\n",
      "4.357833640199897\n",
      "9.541397651900114\n",
      "17.207774582400088\n",
      "38.6327464844997\n",
      "71.85530169220037\n",
      "162.007350547\n",
      "平均差 16.239684910210517\n"
     ]
    }
   ],
   "source": [
    "checkway(sn_insert)"
   ]
  },
  {
   "cell_type": "code",
   "execution_count": 38,
   "metadata": {},
   "outputs": [
    {
     "name": "stdout",
     "output_type": "stream",
     "text": [
      "[0.00069973170020603, 0.0012087005000466888, 0.002198404099999607, 0.004441433899955882, 0.009237485400080913, 0.0189579244000015, 0.03481656890016893, 0.07619150720001926, 0.14342195309982345, 0.2939650239999537, 0.5981427629000791, 1.2837047493000682, 2.3959985679000058, 4.952308427499884, 9.31014206769978, 18.851539719599895, 36.05931430199998, 74.69206078649968, 146.54736247870005, 308.55471302570004, 612.6646422870493]\n"
     ]
    }
   ],
   "source": [
    "estim(sn_insert,'r',1.9855948278321045)"
   ]
  },
  {
   "cell_type": "code",
   "execution_count": 39,
   "metadata": {},
   "outputs": [
    {
     "name": "stdout",
     "output_type": "stream",
     "text": [
      "比值：\n",
      "1.1090194872650363\n",
      "1.1142183711124085\n",
      "1.0648045731209388\n",
      "1.0799333754844465\n",
      "1.0311567297101774\n",
      "1.0653895699602145\n",
      "1.063778153271294\n",
      "1.0803827460522109\n",
      "1.0297853266674233\n",
      "1.106987464378577\n",
      "1.0408963591419003\n",
      "1.0415529157655452\n",
      "1.0016704932214062\n",
      "1.022540228782088\n",
      "1.0696076384697475\n",
      "0.987087948661607\n",
      "1.0340172211727832\n",
      "1.0445319218195943\n",
      "1.060821509705219\n",
      "平均比值 1.0551674754611902\n",
      "差：\n",
      "0.11276756759989448\n",
      "0.13102531649992666\n",
      "0.08283144240012907\n",
      "0.10878966279997271\n",
      "0.04579397130000862\n",
      "0.09910363920007526\n",
      "0.10298204269993216\n",
      "0.13807131709982046\n",
      "0.0552739672000826\n",
      "0.20445505990010138\n",
      "0.08651518030019378\n",
      "0.09149906669972552\n",
      "0.003831256400098848\n",
      "0.05178210489984858\n",
      "0.16351540840014422\n",
      "-0.03244303860019526\n",
      "0.08436862330045214\n",
      "0.11420400609968029\n",
      "0.16292540660033428\n",
      "平均差 0.09512063162106452\n"
     ]
    }
   ],
   "source": [
    "checkway(sn_search)"
   ]
  },
  {
   "cell_type": "code",
   "execution_count": 40,
   "metadata": {},
   "outputs": [
    {
     "name": "stdout",
     "output_type": "stream",
     "text": [
      "[1.034379911600081, 1.1471474791999754, 1.278172795699902, 1.3610042381000311, 1.4697939009000038, 1.5155878722000125, 1.6146915114000877, 1.7176735541000199, 1.8557448711998403, 1.911018838399923, 2.1154738983000243, 2.201989078600218, 2.2934881452999436, 2.2973194017000425, 2.349101506599891, 2.5126169150000353, 2.48017387639984, 2.564542499700292, 2.6787465057999724, 2.8416719124003067, 2.998439777896404]\n"
     ]
    }
   ],
   "source": [
    "estim(sn_search,'r', 1.0551674754611902)"
   ]
  },
  {
   "cell_type": "code",
   "execution_count": null,
   "metadata": {},
   "outputs": [],
   "source": []
  },
  {
   "cell_type": "code",
   "execution_count": 42,
   "metadata": {},
   "outputs": [],
   "source": [
    "import matplotlib.pyplot as plt\n",
    "n=[]\n",
    "for k in range(10,31):\n",
    "    n.append(2**k)"
   ]
  },
  {
   "cell_type": "code",
   "execution_count": 43,
   "metadata": {},
   "outputs": [
    {
     "data": {
      "image/png": "iVBORw0KGgoAAAANSUhEUgAAAYkAAAEVCAYAAAAVeRmFAAAABHNCSVQICAgIfAhkiAAAAAlwSFlzAAALEgAACxIB0t1+/AAAADh0RVh0U29mdHdhcmUAbWF0cGxvdGxpYiB2ZXJzaW9uMy4xLjMsIGh0dHA6Ly9tYXRwbG90bGliLm9yZy+AADFEAAAgAElEQVR4nO3dd3hU1dbA4d8iEHonIE2KFKWodCxoFD+KIOhFxY6IcgUVC3gBsRKqigpiQkdAmoIFEUREYyhSQu9VSugQWuhJ9vfHPtwbMYGQzMyZyaz3efJkZp8956xtYhb7nF3EGINSSimVmmxuB6CUUsp/aZJQSimVJk0SSiml0qRJQimlVJo0SSillEqTJgmllFJp0iShlFIqTZoklEonEdkpIvf5+JpGRCr58ppKpaRJQik/JCLZ3Y5BKdAkodQ1E5FnRWSBiHwsIsdE5C8RaX7Z8R0icso59mSKY8+JyEbnc3NEpFyKY0ZEXhKRrcBWEYlxDq0WkQQRaeu7Vipl6b9WlMqYBsA4oBjQERgtIqWBPMAQoJ4xZrOIlASKAIjIg8BbwAPAVqAHMBm4PcV5H3TOfdYYc1ZEDHCLMWabb5ql1N9pT0KpjNlljBlpjEnCJouSQAnnWDJQQ0RyG2P2G2PWO+X/BvobYzYaYxKBfsCtKXsTzvF4Y8xZXzVEqSvRJKFUxhy49MIYc8Z5mc8YcxpoC7wI7BeRn0TkRud4OWCwiBwXkeNAPCBA6RTn3eP90JVKP00SSnmYMWaOMeb/sL2LTcBI59Ae4N/GmEIpvnIbYxal/Liv41XqSjRJKOVBIlJCRFqJSF7gPJAAJDmHhwE9RaS6U7egiDxylVMeBCp6LWClrkKThFKelQ3oCuzD3k66G+gMYIz5DhgITBGRk8A6oHka57nkfWCcc4vqUW8FrVRaRDcdUkoplRbtSSillEqTJgmllFJp0iShlFIqTZoklFJKpSnLLctRqFAhU6lS8C2aefr0afLmzet2GK4I1rZru4OPN9u+fPnyI8aYsMvLs1ySKFGiBLGxsW6H4XPR0dGEh4e7HYYrgrXt2u7g4822i8iu1Mr1dpNSSqk0XTVJiMgYETkkIutSlBURkbkistX5XtgpFxEZIiLbRGSNiNRO8Zl2Tv2tItIuRXkdEVnrfGaIiMiVrqGUUsp30tOT+BJodllZD2CeMaYyMM95D3b2aGXnqyMQBfYPPvAedgnk+sB7Kf7oRzl1L32u2VWuoZRSykeumiSMMTHY5QVSao1dHhnn+4MpyscbazFQyFlPvykw11kC+RgwF2jmHCtgjPnT2Knf4y87V2rXUEop5SMZfXBdwhizH8AYs19Eijvlpfn7UsdxTtmVyuNSKb/SNf5BRDpieyOEhYURHR2dwWYFroSEhKBsNwRv27XdwceNtnt6dJOkUmYyUH5NjDEjgBEAVatWNcE48kFHfIS7HYbPabuDjxttz+jopoPOrSKc74ec8jigbIp6ZbCrYV6pvEwq5Ve6hlJKKR/JaJKYAVwaodQO+CFF+TPOKKeGwAnnltEcoImIFHYeWDcB5jjHTolIQ2dU0zOXnSu1ayillPKUhATo1i3Nw1e93SQik4FwoJiIxGFHKQ0AvhaRDsBu4NLGKbOA+4FtwBmgPYAxJl5EIoBlTr3exphLD8M7YUdQ5QZmO19c4RpKKaU8Yd48eP552JXqPDogHUnCGPN4Gocap1LXAC+lcZ4xwJhUymOBGqmUH03tGkoppTLp5El4800YMQIqV4aYGGjUKNWqOuNaKaWCyc8/Q/XqMGqUvc20ejXceWea1bPc2k1KKaVScfw4vPEGjB0LN90EixZBgwZX/Zj2JJRSKqubOdP2HsaPh549YcWKdCUI0CShlFJZV3w8PP00PPAAFCkCixdDv36QK1e6T6FJQimlsqLvvoNq1WDKFHj3XVi+HOrWvebT6DMJpZTKSg4fhldegalT4dZb7YPqW2/N8Om0J6GUUlmBMfD11/bZw7ffQkQELF2aqQQB2pNQSqnAd/AgdO5sk0PdunaSXM2aHjm19iSUUipQGQMTJ9pnDz/9BAMGwJ9/eixBgPYklFIqMO3bBy++CD/+CA0bwpgxdv6Dh2lPQimlAokx8OWX9tnD3LkwaBAsWOCVBAHak1BKqYCR89AhaNECZs+2S2mMHg1Vqnj1mpoklFLK3xkDo0ZR77XX7PshQ+CllyCb928GaZJQSil/tnMnvPAC/Porp2rVovC0aVCxos8ur0lCKaX8UXIyDBsG3bvb91FRrK5ShXAfJgjQB9dKKeV/tm+Hxo3tLaXbboN16+xIJh/cXrqcJgmllPIXyckweDDcfLNdqXXkSJgzB8qVcy0kvd2klFL+YMsWeO45WLgQ7r8fhg+HMmXcjkp7Ekop5aqkJPj4Y7jlFli/HsaNs/s/+EGCAO1JKKWUezZssL2HJUugVSuIioJSpdyO6m+0J6GUUr6WmAj9+0OtWrB1q11/6fvv/S5BgPYklFLKt9auhfbt7SZAbdrAF19AiRJuR5Um7UkopZQvXLwIvXtDnTqwe7fd+2HaNL9OEKA9CaWU8r6VK23vYfVqeOwxu6xGWJjbUaWL9iSUUspbzp+Hd96B+vXhwAG77/TkyQGTIEB7Ekop5R2xsfDss3ZY69NPw2efQZEibkd1zbQnoZRSnnTuHPToAQ0awLFjds7D+PEBmSBAexJKKeU5f/5p5z1s2mS/DxoEhQq5HVWmaE9CKaUy68wZ6NoV7rgDTp+Gn3+2GwIFeIIA7UkopVTmzJ9vew3btsG//w0ffggFCrgdlcdoT0IppTLi9Gno0gXuvtvOoJ43z+7/kIUSBGQySYjI6yKyXkTWichkEcklIhVEZImIbBWRqSIS6tTN6bzf5hwvn+I8PZ3yzSLSNEV5M6dsm4j0yEysSinlMb//DjVrwuef2z0f1q6Fe+91OyqvyHCSEJHSQBegrjGmBhACPAYMBD41xlQGjgEdnI90AI4ZYyoBnzr1EJFqzueqA82ASBEJEZEQ4AugOVANeNypq5RS7jh1Cjp1sgkhWzb44w+bKPLlczsyr8ns7absQG4RyQ7kAfYD9wLTnOPjgAed162d9zjHG4uIOOVTjDHnjTF/AduA+s7XNmPMDmPMBWCKU1cppXzvl1+gRg27z8Prr8OaNXDXXW5H5XUZfnBtjNkrIh8Du4GzwC/AcuC4MSbRqRYHlHZelwb2OJ9NFJETQFGnfHGKU6f8zJ7LyhukFouIdAQ6AoSFhREdHZ3RZgWshISEoGw3BG/btd2+EZKQQKWoKErOmsWZsmXZNGQIJ2vUgKVLfRbDJW78zDOcJESkMPZf9hWA48A32FtDlzOXPpLGsbTKU+vlmFTKMMaMAEYAVK1a1YSHh18p9CwpOjqaYGw3BG/btd0+MGuW3Vt6/374z3/I8/771M6d2zfXToUbP/PM3G66D/jLGHPYGHMR+Ba4HSjk3H4CKAPsc17HAWUBnOMFgfiU5Zd9Jq1ypZTyrmPHoF07aNECCha0k+QGDgQXE4RbMpMkdgMNRSSP82yhMbAB+B142KnTDvjBeT3DeY9z/DdjjHHKH3NGP1UAKgNLgWVAZWe0VCj24faMTMSrlFJX98MPUK2a3QioVy9YscIu0BekMvNMYomITANWAInASuwtn5+AKSLSxykb7XxkNDBBRLZhexCPOedZLyJfYxNMIvCSMSYJQEReBuZgR06NMcasz2i8Sil1RUeO2HkPkyfDzTfDTz9B7dpuR+W6TM24Nsa8B7x3WfEO7Miky+ueAx5J4zx9gb6plM8CZmUmRqWUuqrp06FzZ4iPh/ffh549ITTU7aj8gi7LoZQKXocO2clw06bZXsPcubYXof5Ll+VQSgUfY+xtpWrVYMYM6NsXFi/WBJEK7UkopYLLgQN21vT330O9ejB2LFSv7nZUfkt7Ekqp4GAMTJhgew+zZ9vVWhct0gRxFdqTUEplfXv32mW8f/oJbr8dxoyBqlXdjiogaE9CKZV1GWM3/6lWDX77DT79FGJiNEFcA+1JKKWypt274YUX7MJ8d91lk0WlSm5HFXC0J6GUylqMsSu11qgBCxfapbx//10TRAZpT0IplXX89Rc8/7y9tXTvvTBqFFSo4HZUAU17EkqpwJecDEOH2t3ili2zPYlff9UE4QHak1BKBbZt26BDB/tAukkTGDkSrr/e7aiyDO1JKKUCU1KSHa10882werV9MP3zz5ogPEx7EkqpwLNpEzz3nN3noUULe3updOmrf05dM+1JKKUCR2IiZSdPhltvtYliwgT48UdNEJkQdzKOLrO7pHlcexJKqcCwfj20b88Ny5bBgw9CZCSULOl2VAHrr2N/MWDBAMauGotJfWdoQHsSSil/d/GiXaW1dm3YsYMN77wD336rCSKDth7dSvsf2lP588p8ufpLnq/9PNte2ZZmfe1JKKX81+rV0L49rFwJjzwCQ4dyaMMGqom4HVnA2XB4A33n92XKuimEhoTycv2XefP2Nyld4Mq36jRJKKX8z4UL0K+f7UEUKWI3BWrTxh7bsMHd2ALM6gOr6TO/D9M3TCdPjjx0va0rXW/rSol8JdL1eU0SSin/smKF7T2sWQNPPAGDB0OxYm5HFXBi98USERPBjM0zKJCzAG81eovXGr5GsTzX9t9Sk4RSyj+cPw+9e8PAgVC8OPzwA7Rq5XZUAWfRnkVExETw87afKZyrMB+Ef0CXBl0olKtQhs6nSUIp5b6lS23vYcMGaNfOTpIrXNjtqAKGMYY/dv1BREwEv/31G8XyFKN/4/50rteZAjkLZOrcmiSUUu45exbeew8GDbKjlWbNgubN3Y4qYBhjmLtjLhExESzYvYDr8l3HoCaD+Hedf5M3NK9HrqFJQinljkWLbO9hyxa7cuvHH0PBgm5HFRCMMfy09Sf6xPRhyd4llClQhs+bf06HWh3InSO3R6+lSUIp5VtnzkCvXvaBdNmydlOg//s/t6MKCMkmmW83fkufmD6sPLCS8oXKM7zlcNrd0o6c2XN65ZqaJJRSvvPHH3bF1u3boVMn+5A6f363o/J7SclJfLPhG95a/hZ/nf6LykUqM7b1WJ6s+SQ5QnJ49dqaJJRS3peQAD16wBdf2D0efvsN7rnH7aj8XmJyIpPWTqLf/H5sPrqZcnnKMfFfE2lbvS0h2UJ8EoMmCaWUd82bZ5857NoFXbrYSXJ5PfNQNau6kHSB8avH039Bf3Yc28EtJW7hm0e+ocjBItxb816fxqJJQinlHSdPwptvwogRULmy3RTozjvdjsqvnUs8x5iVYxi4cCC7T+ymbqm6fNr0Ux6o8gAiQvShaJ/HpElCKeV5c+bACy/A3r3QtaudJJcnj9tR+a0zF88wYvkIPlr0EftO7eP2srczvOVwmt7QFHF5nSpNEkopzzl+HN54A8aOhRtvhIULoWFDt6PyWwkXEohcFsmgPwdx6PQhwsuHM+GhCdxT/h7Xk8MlmiSUUp4xcyb8+99w4IB9SP3ee5Arl9tR+aUT507w+dLP+XTxp8SfjafJDU145653uPN6/7sdp0lCKZU58fHw6qvw1VdQo4Zdc6luXbej8kvxZ+P5bPFnDFkyhBPnT9CySkveuesd6peu73ZoacrUpkMiUkhEponIJhHZKCK3iUgREZkrIlud74WduiIiQ0Rkm4isEZHaKc7Tzqm/VUTapSivIyJrnc8MEX/pfymlrO++g2rVYMoUeOcdiI3VBJGKQ6cP0ePXHpT7rBwRMRE0rtiYFR1X8OPjP/p1goDM9yQGAz8bYx4WkVAgD/AWMM8YM0BEegA9gO5Ac6Cy89UAiAIaiEgR4D2gLmCA5SIywxhzzKnTEVgMzAKaAbMzGbNSKrMOH4ZXXoGpU+GWW+Dnn+2+0+pv9p/az0eLPmJY7DDOJZ6jbY229GrUixrFa7gdWrplOEmISAHgLuBZAGPMBeCCiLQGwp1q44BobJJoDYw3xhhgsdMLKenUnWuMiXfOOxdoJiLRQAFjzJ9O+XjgQTRJKOWub76Bl16yD6l797bPH3J4d9ZvoNlzYg8DFw5k1IpRJCYn8uTNT/LWnW9RtVhVt0O7ZpnpSVQEDgNjReQWYDnwKlDCGLMfwBizX0SKO/VLA3tSfD7OKbtSeVwq5f8gIh2xPQ7CwsKIjo7ORLMCU0JCQlC2G4K37b5ud474eKoMHkxYTAynqlRh04ABnK5Y0Y5g8iF//nnvP7ufiXsmMufAHACalmjKE9c/Qancpdi/bj/72Z+p87vR9swkiexAbeAVY8wSERmMvbWUltSeJ5gMlP+z0JgRwAiAqlWrmvDw8CuEkTVFR0cTjO2G4G27z9ptDEyaZGdLJyRA//7k79aNetndGffijz/vLUe30G9+P75a8xUh2ULoWKcj3e/szvUFr/foddxoe2Z+ynFAnDFmifN+GjZJHBSRkk4voiRwKEX9sik+XwbY55SHX1Ye7ZSXSaW+UspX9u2DF1+EH3+EBg3s/IebbnI7Kr+x/tB6+s7vy9T1U8kZkpNX6r/Cm3e8San8pdwOzWMyPLrJGHMA2CMil26yNQY2ADOASyOU2gE/OK9nAM84o5waAiec21JzgCYiUtgZCdUEmOMcOyUiDZ1RTc+kOJdSypuMgXHjoHp1mDvX7vWwcKEmCMeqA6t4+OuHqRFVgxmbZ9Dttm7sfG0nnzb7NEslCMj86KZXgInOyKYdQHts4vlaRDoAu4FHnLqzgPuBbcAZpy7GmHgRiQCWOfV6X3qIDXQCvgRyYx9Y60NrpbwtLg46doTZs+1aS6NHQ5UqbkflF5btXUZETAQ/bvmRAjkL8Hajt3mt4WsUzVPU7dC8JlNJwhizCjt09XKNU6lrgJfSOM8YYEwq5bFA4IwVUyqQGQOjRkG3bpCYaDcFevllyJap6VRZwsLdC4mIiWDO9jkUyV2E3uG9eaXBKxTKVcjt0LxOZ1wrpWDnTrsg36+/Qni4TRY33OB2VK4yxhC9M5qImAh+3/k7YXnCGNB4AJ3rdSZ/zuDZKEmThFLBLDkZhg+H//zH9iS++MI+qA7i3oMxhl+2/0JETAQL9yykZL6SfNLkEzrW6Uje0ODbB0OThFLBascOu5VodDTcdx+MHAnly7sdlWuMMczcMpOImAiW7VtG2QJlGdp8KB1qdyBX9uBdqFCThFLBJjkZhg6Fnj0he3abHDp0gCBdGi3ZJPPdxu/oM78Pqw6sokKhCoxoOYJ2t7YjNCTU7fBcp0lCqWCyZQs895wdztq8ub3VVLbs1T+XBSUlJ/H1+q/pO78v6w+vp0rRKnzZ+kueqPkEOUJ0mZFLNEkoFQySkuCzz+Dtt+0eD2PHQrt2Qdl7uJh0kUlrJ9FvQT+2HN1C9bDqTPrXJB6t/igh2ULcDs/vaJJQKqvbuNH2HhYvhgcegGHDoFTWmvCVHheSLjBu1Tj6L+jPX8f/4tbrbmXaI9N46KaHyCbB+6D+ajRJKJVVJSbamdLvvw9588LEifD440HXeziXeI7RK0YzcOFA9pzcQ71S9RjcbDAtq7T0my1C/ZkmCaWyorVroX17WL4c/vUviIyEEiXcjsqnzlw8w/DY4Xy06CP2J+znjrJ3MPKBkTS5oYkmh2ugSUKprOTiRRgwACIioGBBuynQI48EVe/h1PlTRC6LZNCfgzh85jD3lL+HSW0mcXe5uzU5ZIAmCaWyilWrbO9h1Spo2xY+/xzCwtyOymeOnzvO50s+57MlnxF/Np6mNzTlnbve4Y7r73A7tICmSUKpQHfhAvTpA/37Q9Gi8O238NBDbkflM0fPHOWzxZ8xZOkQTp4/SauqrejVqJff7x0dKDRJKBXIYmNt72HdOnjqKbsoX5EibkflE4dOH2LQokFExkaScCGBh6s9TK9Gvbj1Ot1r25M0SSgViM6do8LIkfaZQ4kSdlOgli3djsonjpw/wus/v87w5cM5n3SettXb0qtRL6oXr+52aFmSJgmlAs3ixfDcc5TbuNH2Ij75BApl/SWrd5/YzcAFAxm5fCTJJPP0LU/T886eVCmqe114kyYJpQLF2bPwzjvw6adQujRrBg7k5v/8x+2ovG7HsR30n9+fcavHAdD0uqYMeWQIFQpXcDmy4KBJQqlAsGCBnTW9davdNe6jj4hfscLtqLxq85HN9FvQj4lrJpI9W3Y61ulI9zu6s33ldk0QPqRJQil/dvo0vPWWHc5arpzdFKjxPzZ+zFLWHVpH3/l9mbpuKrlz5ObVBq/S7fZulMxfEoDtbHc5wuCiSUIpfxUdbZfw3rEDXnrJTpLLl8/tqLxm5f6V9Jnfh283fku+0Hx0v6M7b9z2BmF5g2euhz/SJKGUvzl1Crp3h6gou4VodDTcfbfbUXnN0r1LiYiJYOaWmRTMWZB373qXVxu+SpHcwTGU199pklDKn8yda/ea3r0bXnsN+vaFPHncjsorFuxeQERMBL9s/4UiuYvQ554+vFz/ZQrmKuh2aCoFTRJK+YMTJ6BbNxg1CqpUgfnz4Y6st5yEMYbfd/5OREwE0TujKZ63OB/e9yGd6nUiX2jWvZUWyDRJKOW22bPtiKV9++DNN+GDDyB3brej8ihjDHO2zyEiJoJFexZRKn8pPmv6GS/UeYE8ObJmTymr0CShlFuOHYPXX4dx46BaNZg2DRo0cDsqjzLG8OOWH4mIiSB2XyzXF7yeyPsjaV+rPbmy53I7PJUOmiSUcsOMGfDii3DokB3i+u67kDOn21F5TLJJZvqG6fSZ34c1B9dQsXBFRj0wiqdveZrQkFC3w1PXQJOEUr509Ch06QKTJkHNmnbNpTp13I7KY5KSk5i6fip95/dlw+ENVC1alfEPjufxmo+TPZv+uQlE+lNTylemT4fOnSE+Ht57z/YgQrPGv6ovJl1k4tqJ9Jvfj63xW6lRvAZT2kzh4WoPE5ItxO3wVCZoklDK27Zvh65d4YcfoFYt+OUXuOUWt6PyiPOJ5/ly1ZcMWDiAncd3Uuu6Wnz76Le0vrE12SSb2+EpD9AkoZS3JCRAv34waBDkyGE3Bera1b4OcGcvnmX0ytEMXDiQuJNxNCjdgKHNh3J/5ft1i9AsRpOEUp5mDEycaGdN79tnNwMaMABKl3Y7skw7feE0w2KH8fGfH3Mg4QCNrm/EmFZjuK/ifZocsihNEkp5UmysfTD9559Qt64d1nrbbW5HlWknz5/ki6Vf8MniTzhy5giNKzRmSpsp3F0+6y4XoqxM3zQUkRARWSkiM533FURkiYhsFZGpIhLqlOd03m9zjpdPcY6eTvlmEWmaoryZU7ZNRHpkNlalvObgQbsYX/369hnE6NGwZEnAJ4hjZ4/xQfQHlP+sPG/99hb1StVj0XOL+PWZXzVBBAlP9CReBTYCBZz3A4FPjTFTRGQY0AGIcr4fM8ZUEpHHnHptRaQa8BhQHSgF/Coil7aa+gL4PyAOWCYiM4wxGzwQs1KeceGCXca7d284cwbeeMNuDFQwsNcfOnLmCJ/++SlDlw3l5PmTtK7amrfvepu6peq6HZrysUwlCREpA7QA+gJviL0peS/whFNlHPA+Nkm0dl4DTAOGOvVbA1OMMeeBv0RkG1DfqbfNGLPDudYUp64mCeUfZs+2M6Y3b4bmze2OcVWruh1VphxMOMjHiz4mKjaKMxfP8HC1h3n7rre5ucTNboemXJLZnsRnwH+A/M77osBxY0yi8z4OuPS0rjSwB8AYkygiJ5z6pYHFKc6Z8jN7LitPdc0CEekIdAQICwsjOjo64y0KUAkJCUHZbvB923PHxVHpiy8oungxZ8qUYVu/fsTfdhvs32+/fMST7T58/jBT9kxh5v6ZJCYncm/xe3ny+icpn7c88Rvjid7omet4gv6uR/v0mhlOEiLSEjhkjFkuIuGXilOpaq5yLK3y1J6XmFTKMMaMAEYAVK1a1YSHh6dWLUuLjo4mGNsNPmz7yZPQpw989hnkygUffkieV1/lZpcmxHmi3buO72LAggGMWTWGZJPM0zc/Tc87e1K5aGXPBOkF+rse7tNrZqYncQfQSkTuB3Jhn0l8BhQSkexOb6IMsM+pHweUBeJEJDtQEIhPUX5Jys+kVa6U7yQnw/jx0LMnHDgAzz5r5zxcd53bkWXYtvht9J/fn/FrxiMIz9V6jh539qB8ofJuh6b8TIZHNxljehpjyhhjymMfPP9mjHkS+B142KnWDvjBeT3DeY9z/DdjjHHKH3NGP1UAKgNLgWVAZWe0VKhzjRkZjVepDLk0Qql9e7vH9JIlMHZswCaITUc28fR3T1N1aFUmrZtEp7qd2PHqDoa1HKYJQqXKG/MkugNTRKQPsBIY7ZSPBiY4D6bjsX/0McasF5GvsQ+kE4GXjDFJACLyMjAHCAHGGGPWeyFepf5p/37o0cP2IK67zi7n/dRTkC0wl5pYe3Atfeb34Zv135A7R25eb/g63W7vxnX5AjPZKd/xSJIwxkQD0c7rHfxvdFLKOueAR9L4fF/sCKnLy2cBszwRo1Lpcv48DB4MERF2eGv37tCrF+TPf/XP+qEV+1cQERPB95u+J39ofnrc2YPXG75OWN4wt0NTAUJnXCsFdimNmTPtPIdt2+CBB+CTT6BSJbcjy5DFcYuJiIlg1tZZFMpViPfufo8uDbpQJHcRt0NTAUaThFKbNsFrr8GcOXaew+zZ0KyZ21FlSMyuGCJiIvh1x68UzV2Uvvf25aV6L1EwV2BP7lPu0SShgteJE3am9JAhkCeP7Tm8/HLArdJqjGHeX/OIiIkgZlcMJfKW4KP/+4gX675IvtB8boenApwmCRV8kpPtCKW33oLDh+2aS337QvHibkd2TYwxzNo6i4iYCBbHLaZ0/tIMbjaYF2q/QO4cud0OT2URmiRUcFm0yK7Sunw53H47zJoVcNuHJptkZmyeQfcV3dkSs4VyBcsR1SKK9re2J2f2rLNPtvIPmiRUcNi7145UmjgRSpWCr76CJ56AANoDISk5iekbp9N3fl/WHFxDqVylGN1qNE/f/DQ5QgLrFpkKHJokVNZ27px91tCvHyQm2ltMPXtCvsC5V5+YnMiUdVPoO78vm45s4sZiNzLhoQmUPFqSxrUaux2eyp0VoW0AABipSURBVOI0SaisyRi7p3TXrrBjBzz4oN1GtGJFtyNLt4tJF5mwZgL9F/RnW/w2ahavydSHp9LmpjaEZAsJ2kXulG9pklBZz4YN8Oqr8OuvUK0azJ0L993ndlTpdj7xPGNXjWXAggHsOrGL2iVr813b72hVtRXZJDBnfKvApUlCZR3HjsH778MXX9gZ0oMHQ6dOATOk9ezFs4xcMZIPF37I3lN7aVimIZEtImleqbnuH61co0lCBb6kJBg+HN5+G44ehY4d7bIaYYGx9ETChQSGxQ7j40Ufc/D0Qe4qdxdfPvgljSs01uSgXKdJQgW2+fOp8+KLdimNRo3sxLhbb3U7qnQ5ef4kQ5cO5ZM/P+Ho2aPcV/E+vr7ra+4qd5fboSn1X5okVGDaswfefBOmTiVH8eIwZQo8+mhADGk9dvYYg5cMZvCSwRw/d5z7K9/PO3e9Q8MyDd0OTal/0CShAsvZs/DRRzBggB3B9O67LL3tNu4KgLWWjpw5wid/fsLQpUM5deEUD934EL0a9aJOqcCazKeCiyYJFRiMgenToVs32LULHn7YJovy5Un286Gg6w+tJyo2irGrxnL24lkeqf4Ibzd6m5olarodmlJXpUlC+b+1a+2Q1t9/h5o14bff4J573I7qii4kXeD7Td8TuSySP3b9QWhIKI/VeIwed/TgprCb3A5PqXTTJKH8V3w8vPsuREVBoUJ2aGvHjpDdf39t95zYw4jlIxi1chQHEg5QoVAFPrzvQ9rXak+xPMXcDk+pa+a//7ep4JWYCCNGwDvvwPHjdq7DBx9A0aJuR5aqZJPMvB3ziIyNZMbmGRhjaFGlBZ3rdqZppaY6AU4FNE0Syr9ER9tVWteutbeUBg+2t5j80LGzx/hy1ZdExUaxNX4rYXnC6H5HdzrW6Uj5QuXdDk8pj9AkofzDrl32ofS0aVCunP3+r3/55ZDW2H2xRC6LZPK6yZxLPMcdZe/g/fD3aXNTG12qW2U5miSUu86cgYED4cMPbULo3dsmi9z+tWnO2YtnmbJuClGxUSzbt4y8OfLy7C3P0qleJ24ucbPb4SnlNZoklDuMga+/thPi9uyBtm1torj+ercj+5utR7cyLHYYY1eN5di5Y1QLq8bQ5kN5+panKZCzgNvhKeV1miSU761aZYe0xsTYJTQmTrRLaviJxOREZm6ZSVRsFL9s/4Xs2bLT5qY2dK7XmUbXN9L1lFRQ0SShfOfIEbsI38iRUKSIXZSvQwcICXE7MgAOJBxg1IpRDF8+nLiTcZQpUIaIeyJ4vvbzXJfvOrfDU8oVmiSU9128aOc6vPcenDoFr7xiXxcu7HZkGGOI2RVDVGwU0zdOJzE5kSY3NOHz5p/TskpLsmfT/0VUcNP/A5R3/fqrvbW0YYPd+Oezz6B6dbej4uT5k0xYPYHI2Eg2HN5A4VyF6VK/Cy/WfZHKRSu7HZ5SfkOThPKOHTvs1qHffw8VKsB330Hr1q4PaV1zcA2RyyL5as1XnL54mnql6jGm1Rja1mhLnhx5XI1NKX+kSUJ5VkIC9O9v95MOCYG+feGNNyBXLtdCOp94nukbpxO5LJKFexaSK3suHq/xOJ3qdqJe6XquxaVUINAkoTzDGJg0Cf7zH9i3D5580s5/KF3atZB2Ht/J8NjhjF45msNnDlOpSCUGNRnEs7c+S5HcRVyLS6lAoklCZd7y5XYpjUWLoE4d+OYbuP12V0JJNsnM2TaHyNhIftryEyJCq6qt6Fy3M40rNtZ1lJS6RpokVMYdOgRvvQVjxtj9pEeNgvbtIZvv/xAfOXOEsSvHMmz5MHYc20GJvCXo1agXHet0pGzBsj6PR6msIsNJQkTKAuOB64BkYIQxZrCIFAGmAuWBncCjxphjYmcgDQbuB84AzxpjVjjnage87Zy6jzFmnFNeB/gSyA3MAl41xpiMxqw85OJFGDoU3n/fLqvx+ut2Se+CBX0ahjGGJXuX0G9TP2IWxHA+6Tx3l7ub/o378+CNDxIaEurTeJTKijLTk0gEuhpjVohIfmC5iMwFngXmGWMGiEgPoAfQHWgOVHa+GgBRQAMnqbwH1AWMc54ZxphjTp2OwGJskmgGzM5EzCqz5syB116DTZugWTP49FO48UafhnD6wmkmrZ1EVGwUKw+sJE9IHp6v/Tyd6naienH3h9cqlZVkOEkYY/YD+53Xp0RkI1AaaA2EO9XGAdHYJNEaGO/0BBaLSCERKenUnWuMiQdwEk0zEYkGChhj/nTKxwMPoknCHdu22VFKP/4IlSrZ7y1a+HRI66Yjm4haFsW41eM4cf4ENYvXZFiLYZQ9Xpb777vfZ3EoFUw88kxCRMoDtYAlQAkngWCM2S8ixZ1qpYE9KT4W55RdqTwulfLUrt8R2+MgLCyMaD/f89gbEhISvNLukDNnKDdhAmWmTSM5Rw52dexIXJs2mNBQ+OMPj1/vconJiSw8upAf9v3AyuMryS7ZuTvsblqXak2NAjWQBCHhnHfa7u+89TP3d8HabnCn7ZlOEiKSD5gOvGaMOXmFxc9SO2AyUP7PQmNGACMAqlatasLDw68SddYTHR2NR9udnAxffQXdu8OBA9CuHdn69+eGkiW5wXNXSdPek3sZuWIkI1aOYH/CfsoVLEf/xv15rtZzFM9b/G91Pd72AKHtDj5utD1TSUJEcmATxERjzLdO8UERKen0IkoCh5zyOCDlMJMywD6nPPyy8minvEwq9ZU3GWNnSb/7LqxbB/Xr2/cNGvjg0obf/vqNqNgovt/0PckmmWaVmjGi3giaV2pOSDb/WAhQqWCSmdFNAowGNhpjPklxaAbQDhjgfP8hRfnLIjIF++D6hJNI5gD9ROTSam9NgJ7GmHgROSUiDbG3sZ4BPs9ovOoqjIFZs2xyWLECqlSxk+PatvX6kNbj544zbtU4omKj2Hx0M0VzF6XrbV35d91/U7FwRa9eWyl1ZZnpSdwBPA2sFZFVTtlb2OTwtYh0AHYDjzjHZmGHv27DDoFtD+AkgwhgmVOv96WH2EAn/jcEdjb60NrzjIF58+Cdd2DxYrvO0pdf2hnT2b07jWbF/hVELYti4tqJnE08S8MyDRn/4Hgeqf4IubK7t4yHUup/MjO6aQGpPzcAaJxKfQO8lMa5xgBjUimPBWpkNEZ1FfPn2+Twxx9Qpozd36F9e8iRw2uXPJd4jq/Xf03kskiW7F1Cnhx5eOrmp+hUtxO1Stby2nWVUhmjM66D0dKlNjn88gtcdx0MGQIvvODVRfi2x29n+PLhjFk5hqNnj1K1aFUGNxvMM7c8Q6Fchbx2XaVU5miSCCarVtlnDj/+CMWKwUcfQefOkMc7S2QnJScxa+ssImMjmbNtDtkkGw/d9BCd6nbinvL36DagSgUATRLBYP16uxPc9OlQqBD06WMX5Muf3yuXO3T6EKNXjGbY8mHsPrGbUvlL8d7d7/F87ecpXcC9VWGVUtdOk0RWtnWrXV9p8mTIl8/eYnrjDZsoPMwYw8I9C4lcFsm0DdO4mHyReyvcyydNPqFV1VbkCPHecw6llPdoksiKdu6E3r1h/HjImdPu8fDmm1C0qMcvder8KSaunUjkskjWHlpLwZwF6VyvMy/WfZEbi/l2TSellOdpkshK4uLsTnCjR9u5Da+8Aj16QIkSHr/UukPriFoWxYQ1Ezh14RS1rqvFyAdG8niNx8kbmtfj11NKuUOTRFZw4ACVhg6FmTPtchrPP2/3eShT5uqfvQYXki7w3cbviIyNJGZXDDlDctK2Rls61+1M/dL19UG0UlmQJolAduSIHaH0+eeUPn8enn3WPncoX96jl9l9Yjcjlo9g1IpRHDx9kIqFK/LhfR/SvlZ7iuUp5tFrKaX8iyaJQHT8OHzyid3L4fRpeOIJljZrRoOnnvLYJZKSk/h1x69ExUbx45YfMcbQskpLOtfrTJMbmug2oEoFCU0SgeTUKTvx7eOPbaJ4+GE7eql6dc56YPlgYwzL9i1j8trJTF0/lf0J+wnLE0b3O7rTsU5Hyhcqn+lrKKUCiyaJQHDmDHzxBQwcCEePQqtW8MEHcOutHjn9xsMbmbR2EpPXTWb7se2EhoTSonILHq/xOK2qtiJn9pweuY5SKvBokvBn587BiBHQrx8cPAhNm9qhrfXrZ/rUu0/sZsq6KUxaO4nVB1eTTbJxb4V76dWoFw/d9JAulaGUAjRJ+KcLF2DsWDszOi4O7r4bpk2DO+/M1GkPnz7MtA3TmLRuEgt2LwCgQekGDG42mEerP8p1+a7zRPRKqSxEk4Q/SUy0u8F98IGdEHfbbXbZ7nvvzfBe0qfOn+L7Td8zed1kftn+C0kmiWph1ehzTx8eq/EYNxTxxT5zSqlApUnCHyQnw9Sp9iH0li1QuzZERkKzZhlKDucTzzN722wmr5vMjM0zOJd4jusLXk+327vxRM0nqFm8ps5pUEqliyYJNxkD331nV2Zdvx5q1LDvW7e+5uSQZJKYt2Mek9ZOYvrG6Zw4f4KwPGF0qNWBx2s8zm1lb9Nhq0qpa6ZJwg3GwE8/2eSwciVUrQpTpsAjj1zTVqHGGJbuXcrkdZOZsHIC8THx5AvNx79u+hdP1HiCxhUbkz2b/oiVUhmnf0F8KSkJfvgBPvwQliyBihVh3Dh44olr2ip0w+EN/x2yuuPYDkJDQmlQuAFd7ulCi8otyJ0jtxcboZQKJpokfOHMGfsA+pNPYPt2u4/0iBF2GY10bhW66/gupqybwuR1k/87ZLVxhca83ehtHrrpIVYtXkV4tXBvtkIpFYQ0SXjTwYN2ElxkpJ0EV78+DBgADz0EISFX/fjh04f5ZsM3TFo7iYV7FgLQsExDHbKqlPIZTRLesGmT7TWMH2/nPLRqBd26wR13XPWB9KUhq5PWTWLu9rn/HbLa996+PFbjMSoWruijRiillCYJzzEGYmJg0CC7h3SuXPZ20uuv2wfTV3Au8Ryzt9ohqz9u+ZFziecoV7Acb97+Jo/XfFyHrCqlXKNJIrMSE+3e0R9/DLGxUKyYne/QuTOEhaX5saTkJH7f+TuT107+x5DVJ2o+QcMyDXXIqlLKdZokMurUKRgzxi7XvWsXVK4Mw4bBM89A7tRHF11IukDMrhhmbJ7BNxu+4UDCAfKH5uehmx7SIatKKb+kf5Gu1b598PnnNiEcP27XUxo8GB54INU5DgcTDjJr6yx+2voTv2z/hVMXTpEzJCctqthVVnXIqlLKn2mSSK916+zzhokT7XyHNm2ga1do0OBv1YwxrDqwiplbZjJz60yW7l0KQKn8pXi8xuO0rNKSeyvcq/tAK6UCgiaJK0lOhnnzbHKYMwfy5IEXX4TXXrMT4RynL5xm3l/zmLllJj9t/Yl9p/YhCPVL1yfinghaVmnJLSVu0YfPSqmAo0kiNQcP2slvI0fayW8lSkDfvjZBFCkC2Mltl5LCb3/9xvmk8+QLzUfTG5rSskpLmldqTol8Jdxth1JKZZImiUuSk+G33+xM6O+/h4sX7T4OvXtDmzYk5cjO4rjFzFxhbyOtO7QOgBsK30Cnup1oWaUljco1IjQk1OWGKKWU52iSOHDgf72GHTugaFHo0gWef579pQvy+87fmfVTB2Zvm0382XiyZ8tOo+sb8fH/fUzLKi2pUrSK3kZSSmVZwZkkLj1rGD7cLriXmAjh4Rx/uxu/3JKP3/YtJPrXB9l8dDMARXMXpUXlFrSs0pImNzTRrT2VUkEjeJKEMbBqFUyaBJMnw969JBctwpanmjGlQT6mJq1i0+7OsBvyh+anUblGdKjVgfDy4dQuWZuQbFdfa0kppbIav08SItIMGAyEAKOMMQOu6QRbtsDUqZhJk5BNm0jKHsKa2qWZ0LQ0X5Tay4XsM8l/zCaF5259jvDy4dQqWUsntSml/JYx//u6/H1Gvq7Er/8SikgI8AXwf0AcsExEZhhjNqT5IWM4PucHTv3wDflmz6PwzgMkC8wvn42vHoDpNyWRrehpGpRpQES5LtxT/h6/SApX+wFe7XhCQgjHj2f8HJ76ZXPja82aopw65X4c3vi60s9k166KzJrlm5+rp343PHGeEydupUAB9+Nw5xzhXvn7cyViLkXqh0TkNuB9Y0xT531PAGNM/7Q+k0tqmPJMIxnhTA7hdKhwMVdOsofmJmdILnKG5CJEsmOMZOoHdi11r3YepdJyaUyEyD+/jEkmJCRbqscu/0rrHNfy5YlzeOI8x48fo3Dhwq7H4cY5du3aSYUK5b0SR5custwYU/fy30G/7kkApYE9Kd7HAQ0uryQiHYGOAHlCbiBfxYMkFSlKsVz5yR2SExBEkhE5g8hp5zOXvszf3tvX5op1Lr1PT530vP9fecbrXLhwnpw5czp1zWW/QOYfv0ip1fn7edM+j7+9P3v2DHnz5vGbeDz3/soSEhLIly/f1StmMcHabrjU9p0+vaa/J4nU/lf5x7+/jTEjgBEAVatWNbGb7/Z2XH4nOjqa8PBwt8NwhW17HbfD8Llg/ZkHa7vBnbb7+1rUcUDZFO/LAPtcikUppYKOvyeJZUBlEakgIqHAY8AMl2NSSqmg4de3m4wxiSLyMjAHOwR2jDFmvcthKaVU0PDrJAFgjJkFzHI7DqWUCkb+frtJKaWUizRJKKWUSpMmCaWUUmnSJKGUUipNfr0sR0aIyClgs9txuKAYcMTtIFwSrG3Xdgcfb7a9nDEm7PJCvx/dlAGbU1t/JKsTkdhgbDcEb9u13cHHjbbr7SallFJp0iShlFIqTVkxSYxwOwCXBGu7IXjbru0OPj5ve5Z7cK2UUspzsmJPQimllIdoklBKKZWmgE0SItJMRDaLyDYR6ZHK8ZwiMtU5vkREyvs+Ss9LR7vfEJENIrJGROaJSDk34vS0q7U7Rb2HRcSISJYZIpmetovIo87Pfb2ITPJ1jN6Qjt/160XkdxFZ6fy+3+9GnJ4mImNE5JCIrEvjuIjIEOe/yxoRqe3VgIwxAfeFXTZ8O1ARCAVWA9Uuq9MZGOa8fgyY6nbcPmr3PUAe53WnYGm3Uy8/EAMsBuq6HbcPf+aVgZVAYed9cbfj9lG7RwCdnNfVgJ1ux+2htt8F1AbWpXH8fmA2dufOhsASb8YTqD2J+sA2Y8wOY8wFYArQ+rI6rYFxzutpQGOR9Owc7Neu2m5jzO/GmDPO28XY3fwCXXp+3gARwIfAOV8G52XpafsLwBfGmGMAxphDPo7RG9LTbgMUcF4XJIvsWmmMiQHir1ClNTDeWIuBQiJS0lvxBGqSKA3sSfE+zilLtY4xJhE4ART1SXTek552p9QB+y+OQHfVdotILaCsMWamLwPzgfT8zKsAVURkoYgsFpFmPovOe9LT7veBp0QkDrvnzCu+Cc111/p3IFMCdVmO1HoEl4/lTU+dQJPuNonIU0Bd4G6vRuQbV2y3iGQDPgWe9VVAPpSen3l27C2ncGzPcb6I1DDGHPdybN6UnnY/DnxpjBkkIrcBE5x2J3s/PFf59G9boPYk4oCyKd6X4Z9dzf/WEZHs2O7olbpwgSA97UZE7gN6Aa2MMed9FJs3Xa3d+YEaQLSI7MTep52RRR5ep/d3/QdjzEVjzF/YBS4r+yg+b0lPuzsAXwMYY/4EcmEXwMvq0vV3wFMCNUksAyqLSAURCcU+mJ5xWZ0ZQDvn9cPAb8Z56hPArtpu57bLcGyCyAr3puEq7TbGnDDGFDPGlDfGlMc+i2lljIl1J1yPSs/v+vfYAQuISDHs7acdPo3S89LT7t1AYwARuQmbJA77NEp3zACecUY5NQROGGP2e+tiAXm7yRiTKCIvA3OwoyDGGGPWi0hvINYYMwMYje1+bsP2IB5zL2LPSGe7PwLyAd84z+l3G2NauRa0B6Sz3VlSOts+B2giIhuAJOBNY8xR96LOvHS2uyswUkRex95ueTYL/EMQEZmMvXVYzHne8h6QA8AYMwz7/OV+YBtwBmjv1XiywH9TpZRSXhKot5uUUkr5gCYJpZRSadIkoZRSKk2aJJRSSqVJk4RSSgWwqy0IeFndcs7Cn2tEJFpErrpsjyYJpZQKbF8C6V2K5WPsuk83A72B/lf7gCYJpZQKYKktCCgiN4jIzyKyXETmi8iNzqFqwDzn9e+kvlDm32iSUEqprGcE8Ioxpg7QDYh0ylcDbZzXDwH5ReSKC58G5IxrpZRSqRORfMDt/G/VBYCczvduwFAReRa798peIPFK59MkoZRSWUs24Lgx5tbLDxhj9gH/gv8mkzbGmBNXO5lSSqkswhhzEvhLRB6B/253eovzupiztD5AT2DM1c6nSUIppQKYsyDgn0BVEYkTkQ7Ak0AHEVkNrOd/D6jDgc0isgUoAfS96vl1gT+llFJp0Z6EUkqpNGmSUEoplSZNEkoppdKkSUIppVSaNEkopZRKkyYJpZRSadIkoZRSKk3/D6ppBFpzLDZgAAAAAElFTkSuQmCC\n",
      "text/plain": [
       "<Figure size 432x288 with 1 Axes>"
      ]
     },
     "metadata": {
      "needs_background": "light"
     },
     "output_type": "display_data"
    }
   ],
   "source": [
    "plt.title('Insert')\n",
    "plt.plot(n, bst_insert,color='green', label='Binary Tree')\n",
    "plt.plot(n, sl_insert,color='red', label= 'Skip List')\n",
    "plt.plot(n, sn_insert,color='blue', label='Sorted Array')\n",
    "plt.xlim((0,max(n)))\n",
    "#plt.ylim((0,10000))\n",
    "plt.grid(True)"
   ]
  },
  {
   "cell_type": "code",
   "execution_count": 44,
   "metadata": {},
   "outputs": [
    {
     "data": {
      "image/png": "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\n",
      "text/plain": [
       "<Figure size 432x288 with 1 Axes>"
      ]
     },
     "metadata": {
      "needs_background": "light"
     },
     "output_type": "display_data"
    }
   ],
   "source": [
    "plt.title('Search')\n",
    "plt.plot(n, bst_search,color='green', label='Binary Tree')\n",
    "plt.plot(n, sl_search,color='red', label= 'Skip List')\n",
    "plt.plot(n, sn_search,color='blue', label='Sorted Array')\n",
    "plt.xlim((0,max(n)))\n",
    "#plt.ylim((0,10000))\n",
    "plt.grid(True)"
   ]
  },
  {
<<<<<<< HEAD
   "cell_type": "markdown",
   "metadata": {},
   "source": [
    "# HW_4"
   ]
  },
  {
   "cell_type": "markdown",
   "metadata": {},
   "source": [
    "hsah table:\n",
    "\n",
    "https://coderbook.com/@marcus/how-to-create-a-hash-table-from-scratch-in-python/"
   ]
  },
  {
   "cell_type": "code",
   "execution_count": 50,
   "metadata": {},
   "outputs": [],
   "source": [
    "class HashTable(object):\n",
    "    def __init__(self, length=4):\n",
    "        # Initiate our array with empty values.\n",
    "        self.array = [None] * length\n",
    "    \n",
    "    def hash(self, key):\n",
    "        \"\"\"Get the index of our array for a specific string key\"\"\"\n",
    "        length = len(self.array)\n",
    "        return hash(key) % length\n",
    "        \n",
    "    def add(self, key, value):\n",
    "        \"\"\"Add a value to our array by its key\"\"\"\n",
    "        index = self.hash(key)\n",
    "        if self.array[index] is not None:\n",
    "            # This index already contain some values.\n",
    "            # This means that this add MIGHT be an update\n",
    "            # to a key that already exist. Instead of just storing\n",
    "            # the value we have to first look if the key exist.\n",
    "            for kvp in self.array[index]:\n",
    "                # If key is found, then update\n",
    "                # its current value to the new value.\n",
    "                if kvp[0] == key:\n",
    "                    kvp[1] = value\n",
    "                    break\n",
    "            else:\n",
    "                # If no breaks was hit in the for loop, it \n",
    "                # means that no existing key was found, \n",
    "                # so we can simply just add it to the end.\n",
    "                self.array[index].append([key, value])\n",
    "        else:\n",
    "            # This index is empty. We should initiate \n",
    "            # a list and append our key-value-pair to it.\n",
    "            self.array[index] = []\n",
    "            self.array[index].append([key, value])\n",
    "    \n",
    "    def get(self, key):\n",
    "        \"\"\"Get a value by key\"\"\"\n",
    "        index = self.hash(key)\n",
    "        if self.array[index] is None:\n",
    "            #raise KeyError()\n",
    "            pass\n",
    "        else:\n",
    "            # Loop through all key-value-pairs\n",
    "            # and find if our key exist. If it does \n",
    "            # then return its value.\n",
    "            for kvp in self.array[index]:\n",
    "                if kvp[0] == key:\n",
    "                    return kvp[1]\n",
    "            \n",
    "            # If no return was done during loop,\n",
    "            # it means key didn't exist.\n",
    "            #raise KeyError()\n",
    "            pass"
   ]
  },
  {
   "cell_type": "code",
   "execution_count": 51,
   "metadata": {},
   "outputs": [
    {
     "name": "stdout",
     "output_type": "stream",
     "text": [
      "k= 10  times: 10   time: 2020-06-22 17:52:02 [0.0012484860053518787, 0.001050020000548102, 0.0010712250004871748, 0.001444888999685645, 0.0011172480008099228, 0.0010034759980044328, 0.0010246480014757253, 0.0010450529953232035, 0.0010139570003957488, 0.0010695570017560385] \n",
      "insert: k= 10 [0.0011088559003837872]\n",
      "k= 10  times: 10   time: 2020-06-22 17:52:03 [0.10012050799559802, 0.08834244000172475, 0.09034404200065183, 0.09234447599737905, 0.08926531600445742, 0.08744382700388087, 0.09319016499648569, 0.08582166400447022, 0.08914832300069975, 0.09134814899880439]\n",
      "search: k= 10 [0.0907368910004152]\n",
      "k= 11  times: 10   time: 2020-06-22 17:52:03 [0.0015695859983679838, 0.001508342997112777, 0.001727848000882659, 0.0015120129974093288, 0.0015497310014325194, 0.0017528140015201643, 0.001696134997473564, 0.001652514998568222, 0.0020060230017406866, 0.0017894780030474067] \n",
      "insert: k= 11 [0.0011088559003837872, 0.0016764485997555311]\n",
      "k= 11  times: 10   time: 2020-06-22 17:52:04 [0.08902525599842193, 0.10190041200257838, 0.09458475700375857, 0.1000786189979408, 0.09091657100361772, 0.09444621500006178, 0.08863579700118862, 0.0977420639974298, 0.09375516799627803, 0.09046736500022234]\n",
      "search: k= 11 [0.0907368910004152, 0.0941552224001498]\n",
      "k= 12  times: 10   time: 2020-06-22 17:52:04 [0.00471625299542211, 0.003682448004838079, 0.003192066003975924, 0.003334369001095183, 0.0034852829994633794, 0.0031021920003695413, 0.0032330979956896044, 0.003276757001003716, 0.0033320970032946207, 0.0031727200039313175] \n",
      "insert: k= 12 [0.0011088559003837872, 0.0016764485997555311, 0.0034527283009083477]\n",
      "k= 12  times: 10   time: 2020-06-22 17:52:05 [0.09398297299776459, 0.10197605299617862, 0.10137097899860237, 0.09919089799950598, 0.10426167599507608, 0.10977596299926518, 0.10928785900614457, 0.09658002400101395, 0.09728679500403814, 0.09134675999666797]\n",
      "search: k= 12 [0.0907368910004152, 0.0941552224001498, 0.10050599799942575]\n",
      "k= 13  times: 10   time: 2020-06-22 17:52:06 [0.0074659080055425875, 0.006971697999688331, 0.0076495169996633194, 0.009195901999191847, 0.008366003996343352, 0.008733402006328106, 0.011039514996809885, 0.008365770998352673, 0.007780849002301693, 0.007641678006621078] \n",
      "insert: k= 13 [0.0011088559003837872, 0.0016764485997555311, 0.0034527283009083477, 0.008321024401084287]\n",
      "k= 13  times: 10   time: 2020-06-22 17:52:07 [0.11690440500387922, 0.11794116199598648, 0.10956110999541124, 0.09439537900470896, 0.104712815998937, 0.09492035199946258, 0.10148365399800241, 0.10532536200480536, 0.10557929799688281, 0.1025997729957453]\n",
      "search: k= 13 [0.0907368910004152, 0.0941552224001498, 0.10050599799942575, 0.10534233109938214]\n",
      "k= 14  times: 10   time: 2020-06-22 17:52:07 [0.029954470999655314, 0.01652532900334336, 0.015137431997573003, 0.014542504999553785, 0.020108990000153426, 0.018115637998562306, 0.02238797199970577, 0.017830984994361643, 0.014947479001421016, 0.018056318003800698] \n",
      "insert: k= 14 [0.0011088559003837872, 0.0016764485997555311, 0.0034527283009083477, 0.008321024401084287, 0.018760711899813032]\n",
      "k= 14  times: 10   time: 2020-06-22 17:52:08 [0.10877303800225491, 0.1329492430013488, 0.12347553099971265, 0.11607574499794282, 0.11876265499449801, 0.10819577200163621, 0.09876390800491208, 0.11306147999857785, 0.11583572499512229, 0.1130439810003736]\n",
      "search: k= 14 [0.0907368910004152, 0.0941552224001498, 0.10050599799942575, 0.10534233109938214, 0.11489370779963792]\n",
      "k= 15  times: 10   time: 2020-06-22 17:52:08 [0.044485862003057264, 0.03311449900502339, 0.03811706700071227, 0.033673714999167714, 0.034288271999685094, 0.03388227600225946, 0.034067229003994726, 0.037891205996857025, 0.03309928700036835, 0.033145496003271546] \n",
      "insert: k= 15 [0.0011088559003837872, 0.0016764485997555311, 0.0034527283009083477, 0.008321024401084287, 0.018760711899813032, 0.03557649090143968]\n",
      "k= 15  times: 10   time: 2020-06-22 17:52:10 [0.12119904599967413, 0.11835902199527482, 0.11696450900490163, 0.12230127200018615, 0.12248092000663746, 0.1217977289998089, 0.12548007500299718, 0.11888104600075167, 0.12336325900105294, 0.11898347800160991]\n",
      "search: k= 15 [0.0907368910004152, 0.0941552224001498, 0.10050599799942575, 0.10534233109938214, 0.11489370779963792, 0.12098103560128948]\n",
      "k= 16  times: 10   time: 2020-06-22 17:52:11 [0.0806094489962561, 0.07382860400684876, 0.07915996200608788, 0.07339934099582024, 0.07089385400468018, 0.07291732299927389, 0.07401772699813591, 0.07100033100141445, 0.07334676800383022, 0.07701708500098903] \n",
      "insert: k= 16 [0.0011088559003837872, 0.0016764485997555311, 0.0034527283009083477, 0.008321024401084287, 0.018760711899813032, 0.03557649090143968, 0.07461904440133367]\n",
      "k= 16  times: 10   time: 2020-06-22 17:52:12 [0.13318591399729485, 0.14509844099666225, 0.1352000440019765, 0.14171538800292183, 0.13393530000030296, 0.13851980700565036, 0.1330251160034095, 0.13989983800274786, 0.13370258099894272, 0.1398981740057934]\n",
      "search: k= 16 [0.0907368910004152, 0.0941552224001498, 0.10050599799942575, 0.10534233109938214, 0.11489370779963792, 0.12098103560128948, 0.13741806030157022]\n",
      "k= 17  times: 10   time: 2020-06-22 17:52:38 [0.18560670600709273, 0.15572224400239065, 24.225333344002138, 0.1626772540039383, 0.15489199799776543, 0.15338144600536907, 0.15472736999799963, 0.15967190799710806, 0.15776180700049736, 0.15913620100036496] \n",
      "insert: k= 17 [0.0011088559003837872, 0.0016764485997555311, 0.0034527283009083477, 0.008321024401084287, 0.018760711899813032, 0.03557649090143968, 0.07461904440133367, 2.5668910278014665]\n",
      "k= 17  times: 10   time: 2020-06-22 17:52:40 [0.15118322700436693, 0.15100350599823287, 0.153107963000366, 0.15644952400180046, 0.15176998000242747, 0.1527732169997762, 0.1481736129935598, 0.1485654930002056, 0.14745372700417647, 0.15356033200077945]\n",
      "search: k= 17 [0.0907368910004152, 0.0941552224001498, 0.10050599799942575, 0.10534233109938214, 0.11489370779963792, 0.12098103560128948, 0.13741806030157022, 0.15140405820056912]\n",
      "k= 18  times: 10   time: 2020-06-22 17:53:01 [0.3507691119957599, 0.33633074699901044, 0.3369357289993786, 0.33455164400220383, 17.34996744500677, 0.31606097500480246, 0.3089202569972258, 0.31373982800141675, 0.31236680899746716, 0.31122874499851605] \n",
      "insert: k= 18 [0.0011088559003837872, 0.0016764485997555311, 0.0034527283009083477, 0.008321024401084287, 0.018760711899813032, 0.03557649090143968, 0.07461904440133367, 2.5668910278014665, 2.027087129100255]\n",
      "k= 18  times: 10   time: 2020-06-22 17:53:02 [0.1482393670012243, 0.1538088639936177, 0.15904675599449547, 0.15870391800126527, 0.15171163299964974, 0.1558112290003919, 0.15364231900457526, 0.15735004699672572, 0.15558413100370672, 0.1561430180008756]\n",
      "search: k= 18 [0.0907368910004152, 0.0941552224001498, 0.10050599799942575, 0.10534233109938214, 0.11489370779963792, 0.12098103560128948, 0.13741806030157022, 0.15140405820056912, 0.15500412819965276]\n",
      "k= 19  times: 10   time: 2020-06-22 17:53:45 [0.6610510919999797, 17.51261155699467, 0.6264358770058607, 0.6325222049999866, 0.6287377519984148, 17.55918530800409, 0.6282889369977056, 0.6258580100038671, 0.6276785540030687, 0.6271354689961299] \n",
      "insert: k= 19 [0.0011088559003837872, 0.0016764485997555311, 0.0034527283009083477, 0.008321024401084287, 0.018760711899813032, 0.03557649090143968, 0.07461904440133367, 2.5668910278014665, 2.027087129100255, 4.012950476100377]\n",
      "k= 19  times: 10   time: 2020-06-22 17:53:47 [0.15786915699573, 0.1600234459983767, 0.1567250640000566, 0.16497054399951594, 0.15824743999837665, 0.15986541299935197, 0.16100202999950852, 0.1620841969997855, 0.15747495699906722, 0.15783393300080206]\n",
      "search: k= 19 [0.0907368910004152, 0.0941552224001498, 0.10050599799942575, 0.10534233109938214, 0.11489370779963792, 0.12098103560128948, 0.13741806030157022, 0.15140405820056912, 0.15500412819965276, 0.1596096180990571]\n",
      "k= 20  times: 10   time: 2020-06-22 17:55:30 [18.325152202000027, 1.429924160001974, 17.984087244003604, 1.2745699579973007, 18.33713674700266, 1.2686005409996142, 18.245822816003056, 1.441611977003049, 18.27818525699695, 1.268942861999676] \n",
      "insert: k= 20 [0.0011088559003837872, 0.0016764485997555311, 0.0034527283009083477, 0.008321024401084287, 0.018760711899813032, 0.03557649090143968, 0.07461904440133367, 2.5668910278014665, 2.027087129100255, 4.012950476100377, 9.78540337640079]\n"
     ]
    },
    {
     "name": "stdout",
     "output_type": "stream",
     "text": [
      "k= 20  times: 10   time: 2020-06-22 17:55:32 [0.15819412999553606, 0.16442933800135506, 0.16392931299924385, 0.16747808699437883, 0.1660985209964565, 0.17258083400520263, 0.1656693440017989, 0.16734896499838214, 0.1630405169998994, 0.1656739220052259]\n",
      "search: k= 20 [0.0907368910004152, 0.0941552224001498, 0.10050599799942575, 0.10534233109938214, 0.11489370779963792, 0.12098103560128948, 0.13741806030157022, 0.15140405820056912, 0.15500412819965276, 0.1596096180990571, 0.16544429709974792]\n",
      "k= 21  times: 10   time: 2020-06-22 17:58:42 [19.747984966998047, 19.887015733002045, 19.63146118399891, 19.675792280999303, 19.747028406003665, 2.847975397002301, 19.034284029003175, 19.421996903001855, 19.36886139499984, 19.394116023002425] \n",
      "insert: k= 21 [0.0011088559003837872, 0.0016764485997555311, 0.0034527283009083477, 0.008321024401084287, 0.018760711899813032, 0.03557649090143968, 0.07461904440133367, 2.5668910278014665, 2.027087129100255, 4.012950476100377, 9.78540337640079, 17.875651631801155]\n",
      "k= 21  times: 10   time: 2020-06-22 17:58:44 [0.16061170900502475, 0.16828893500496633, 0.17081195700302487, 0.16650835100153927, 0.16614119500445668, 0.17600974899687571, 0.17700232699280605, 0.1813198630043189, 0.18044772800203646, 0.18008352500328328]\n",
      "search: k= 21 [0.0907368910004152, 0.0941552224001498, 0.10050599799942575, 0.10534233109938214, 0.11489370779963792, 0.12098103560128948, 0.13741806030157022, 0.15140405820056912, 0.15500412819965276, 0.1596096180990571, 0.16544429709974792, 0.17272253390183323]\n",
      "k= 22  times: 10   time: 2020-06-22 18:04:47 [40.06789573199785, 40.415112108996254, 24.838520201999927, 39.94767295999918, 40.10010907799733, 22.939314625997213, 40.36276778500178, 22.885422576000565, 23.588815659997636, 40.26676245400449] \n",
      "insert: k= 22 [0.0011088559003837872, 0.0016764485997555311, 0.0034527283009083477, 0.008321024401084287, 0.018760711899813032, 0.03557649090143968, 0.07461904440133367, 2.5668910278014665, 2.027087129100255, 4.012950476100377, 9.78540337640079, 17.875651631801155, 33.541239318199224]\n",
      "k= 22  times: 10   time: 2020-06-22 18:04:49 [0.17013780099659925, 0.17268725900066784, 0.1711618319968693, 0.17393396300030872, 0.17028372999629937, 0.17184031099895947, 0.1692461769998772, 0.1741313070015167, 0.17212256100174272, 0.17799037999793654]\n",
      "search: k= 22 [0.0907368910004152, 0.0941552224001498, 0.10050599799942575, 0.10534233109938214, 0.11489370779963792, 0.12098103560128948, 0.13741806030157022, 0.15140405820056912, 0.15500412819965276, 0.1596096180990571, 0.16544429709974792, 0.17272253390183323, 0.17235353209907772]\n",
      "k= 23  times: 10   time: 2020-06-22 18:15:43 [64.3814184100047, 65.28096060700045, 64.84260471999733, 46.48643049599923, 64.08462121999764, 64.45328432400129, 46.56448755799647, 63.47027415000048, 64.4897988149969, 46.30373620899627] \n",
      "insert: k= 23 [0.0011088559003837872, 0.0016764485997555311, 0.0034527283009083477, 0.008321024401084287, 0.018760711899813032, 0.03557649090143968, 0.07461904440133367, 2.5668910278014665, 2.027087129100255, 4.012950476100377, 9.78540337640079, 17.875651631801155, 33.541239318199224, 59.035761650899076]\n",
      "k= 23  times: 10   time: 2020-06-22 18:15:44 [0.1742408290010644, 0.18085247799899662, 0.17645383900526213, 0.17875392000132706, 0.17605388900119578, 0.17996479100111173, 0.17914881300384877, 0.17797028799395775, 0.1799829520023195, 0.18117646100290585]\n",
      "search: k= 23 [0.0907368910004152, 0.0941552224001498, 0.10050599799942575, 0.10534233109938214, 0.11489370779963792, 0.12098103560128948, 0.13741806030157022, 0.15140405820056912, 0.15500412819965276, 0.1596096180990571, 0.16544429709974792, 0.17272253390183323, 0.17235353209907772, 0.17845982600119897]\n",
      "k= 24  times: 10   time: 2020-06-22 18:36:09 [115.18644619299448, 122.83352390599612, 82.17557708600361, 99.13824195200141, 119.28531331700651, 115.53246339400357, 106.73503459699714, 81.93618992999836, 98.06979221799702, 116.58961063800234] \n",
      "insert: k= 24 [0.0011088559003837872, 0.0016764485997555311, 0.0034527283009083477, 0.008321024401084287, 0.018760711899813032, 0.03557649090143968, 0.07461904440133367, 2.5668910278014665, 2.027087129100255, 4.012950476100377, 9.78540337640079, 17.875651631801155, 33.541239318199224, 59.035761650899076, 105.74821932310006]\n",
      "k= 24  times: 10   time: 2020-06-22 18:36:11 [0.2266799809949589, 0.21895951899932697, 0.21651409999321913, 0.19950291400164133, 0.20614367199596018, 0.18512436900346074, 0.1959011009967071, 0.1925063090020558, 0.19735205300094094, 0.19182195000030333]\n",
      "search: k= 24 [0.0907368910004152, 0.0941552224001498, 0.10050599799942575, 0.10534233109938214, 0.11489370779963792, 0.12098103560128948, 0.13741806030157022, 0.15140405820056912, 0.15500412819965276, 0.1596096180990571, 0.16544429709974792, 0.17272253390183323, 0.17235353209907772, 0.17845982600119897, 0.20305059679885745]\n",
      "k= 25  times: 3   time: 2020-06-22 19:20:50 [375.5097936029997, 390.0089343180007, 599.962597482001] "
     ]
    },
    {
     "ename": "KeyboardInterrupt",
     "evalue": "",
     "output_type": "error",
     "traceback": [
      "\u001b[0;31m---------------------------------------------------------------------------\u001b[0m",
      "\u001b[0;31mKeyboardInterrupt\u001b[0m                         Traceback (most recent call last)",
      "\u001b[0;32m<ipython-input-51-c76cbedfd9ce>\u001b[0m in \u001b[0;36m<module>\u001b[0;34m\u001b[0m\n\u001b[1;32m     11\u001b[0m         \u001b[0;32mfor\u001b[0m \u001b[0mi\u001b[0m \u001b[0;32min\u001b[0m \u001b[0minsert_array\u001b[0m\u001b[0;34m:\u001b[0m\u001b[0;34m\u001b[0m\u001b[0;34m\u001b[0m\u001b[0m\n\u001b[1;32m     12\u001b[0m             \u001b[0;31m#這邊存入key是i value是i資料\u001b[0m\u001b[0;34m\u001b[0m\u001b[0;34m\u001b[0m\u001b[0;34m\u001b[0m\u001b[0m\n\u001b[0;32m---> 13\u001b[0;31m             \u001b[0mht\u001b[0m\u001b[0;34m.\u001b[0m\u001b[0madd\u001b[0m\u001b[0;34m(\u001b[0m\u001b[0mi\u001b[0m\u001b[0;34m,\u001b[0m\u001b[0mi\u001b[0m\u001b[0;34m)\u001b[0m\u001b[0;34m\u001b[0m\u001b[0;34m\u001b[0m\u001b[0m\n\u001b[0m\u001b[1;32m     14\u001b[0m         \u001b[0mt\u001b[0m \u001b[0;34m=\u001b[0m \u001b[0mtime\u001b[0m\u001b[0;34m.\u001b[0m\u001b[0mperf_counter\u001b[0m\u001b[0;34m(\u001b[0m\u001b[0;34m)\u001b[0m \u001b[0;34m-\u001b[0m \u001b[0mt\u001b[0m\u001b[0;34m\u001b[0m\u001b[0;34m\u001b[0m\u001b[0m\n\u001b[1;32m     15\u001b[0m         \u001b[0mt_insert_\u001b[0m\u001b[0;34m.\u001b[0m\u001b[0mappend\u001b[0m\u001b[0;34m(\u001b[0m\u001b[0mt\u001b[0m\u001b[0;34m)\u001b[0m\u001b[0;34m\u001b[0m\u001b[0;34m\u001b[0m\u001b[0m\n",
      "\u001b[0;32m<ipython-input-50-81ff32aa956c>\u001b[0m in \u001b[0;36madd\u001b[0;34m(self, key, value)\u001b[0m\n\u001b[1;32m     32\u001b[0m             \u001b[0;31m# a list and append our key-value-pair to it.\u001b[0m\u001b[0;34m\u001b[0m\u001b[0;34m\u001b[0m\u001b[0;34m\u001b[0m\u001b[0m\n\u001b[1;32m     33\u001b[0m             \u001b[0mself\u001b[0m\u001b[0;34m.\u001b[0m\u001b[0marray\u001b[0m\u001b[0;34m[\u001b[0m\u001b[0mindex\u001b[0m\u001b[0;34m]\u001b[0m \u001b[0;34m=\u001b[0m \u001b[0;34m[\u001b[0m\u001b[0;34m]\u001b[0m\u001b[0;34m\u001b[0m\u001b[0;34m\u001b[0m\u001b[0m\n\u001b[0;32m---> 34\u001b[0;31m             \u001b[0mself\u001b[0m\u001b[0;34m.\u001b[0m\u001b[0marray\u001b[0m\u001b[0;34m[\u001b[0m\u001b[0mindex\u001b[0m\u001b[0;34m]\u001b[0m\u001b[0;34m.\u001b[0m\u001b[0mappend\u001b[0m\u001b[0;34m(\u001b[0m\u001b[0;34m[\u001b[0m\u001b[0mkey\u001b[0m\u001b[0;34m,\u001b[0m \u001b[0mvalue\u001b[0m\u001b[0;34m]\u001b[0m\u001b[0;34m)\u001b[0m\u001b[0;34m\u001b[0m\u001b[0;34m\u001b[0m\u001b[0m\n\u001b[0m\u001b[1;32m     35\u001b[0m \u001b[0;34m\u001b[0m\u001b[0m\n\u001b[1;32m     36\u001b[0m     \u001b[0;32mdef\u001b[0m \u001b[0mget\u001b[0m\u001b[0;34m(\u001b[0m\u001b[0mself\u001b[0m\u001b[0;34m,\u001b[0m \u001b[0mkey\u001b[0m\u001b[0;34m)\u001b[0m\u001b[0;34m:\u001b[0m\u001b[0;34m\u001b[0m\u001b[0;34m\u001b[0m\u001b[0m\n",
      "\u001b[0;31mKeyboardInterrupt\u001b[0m: "
     ]
    }
   ],
   "source": [
    "t_insert = []\n",
    "t_search = []\n",
    "for k in range(10,31):\n",
    "    \n",
    "    #insert part\n",
    "    t_insert_ =[]\n",
    "    for times in range(10):   \n",
    "        insert_array = random_array(k)\n",
    "        ht = HashTable(length=2**k)\n",
    "        t = time.perf_counter()\n",
    "        for i in insert_array:\n",
    "            #這邊存入key是i value是i資料\n",
    "            ht.add(i,i)\n",
    "        t = time.perf_counter() - t\n",
    "        t_insert_.append(t)\n",
    "        print('\\rk=', k,' times:',times+1,'  time:',time.strftime(\"%Y-%m-%d %H:%M:%S\", time.localtime()),t_insert_,end=' ')\n",
    "    t_insert.append(np.mean(t_insert_))\n",
    "    print('\\ninsert: k=',k, t_insert)\n",
    "    \n",
    "    #search part\n",
    "    t_search_=[]\n",
    "    for times in range(10):\n",
    "        search_array = random_array(17)\n",
    "        t = time.perf_counter()\n",
    "        for i in search_array:\n",
    "            ht.get(i)\n",
    "        t = time.perf_counter() - t\n",
    "        t_search_.append(t)\n",
    "        print('\\rk=', k,' times:',times+1,'  time:',time.strftime(\"%Y-%m-%d %H:%M:%S\", time.localtime()),t_search_,end='')\n",
    "    t_search.append(np.mean(t_search_))\n",
    "    print('\\nsearch: k=',k, t_search)  "
   ]
  },
  {
   "cell_type": "code",
   "execution_count": 52,
   "metadata": {},
   "outputs": [],
   "source": [
    "ht_insert =[0.0011088559003837872, 0.0016764485997555311, 0.0034527283009083477, 0.008321024401084287, 0.018760711899813032, 0.03557649090143968, 0.07461904440133367, 2.5668910278014665, 2.027087129100255, 4.012950476100377, 9.78540337640079, 17.875651631801155, 33.541239318199224, 59.035761650899076, 105.74821932310006]\n",
    "ht_search =[0.0907368910004152, 0.0941552224001498, 0.10050599799942575, 0.10534233109938214, 0.11489370779963792, 0.12098103560128948, 0.13741806030157022, 0.15140405820056912, 0.15500412819965276, 0.1596096180990571, 0.16544429709974792, 0.17272253390183323, 0.17235353209907772, 0.17845982600119897, 0.20305059679885745]"
   ]
  },
  {
   "cell_type": "code",
   "execution_count": 53,
   "metadata": {},
   "outputs": [
    {
     "name": "stdout",
     "output_type": "stream",
     "text": [
      "比值：\n",
      "1.511872371491457\n",
      "2.0595491573149594\n",
      "2.40998528580867\n",
      "2.254615657342428\n",
      "1.8963294725395914\n",
      "2.097425645718028\n",
      "34.399945059542844\n",
      "0.7897051753055712\n",
      "1.9796635371473004\n",
      "2.4384560523931134\n",
      "1.826766965469345\n",
      "1.8763645661190143\n",
      "1.7600948221035684\n",
      "1.7912569663864002\n",
      "平均比值 4.220859338191593\n",
      "差：\n",
      "0.0005675926993717439\n",
      "0.0017762797011528165\n",
      "0.00486829610017594\n",
      "0.010439687498728745\n",
      "0.01681577900162665\n",
      "0.03904255349989399\n",
      "2.492271983400133\n",
      "-0.5398038987012117\n",
      "1.9858633470001221\n",
      "5.772452900300413\n",
      "8.090248255400365\n",
      "15.66558768639807\n",
      "25.49452233269985\n",
      "46.71245767220098\n",
      "平均差 7.5533650333714055\n",
      "比值：\n",
      "1.0376730055663794\n",
      "1.0674500621143013\n",
      "1.0481198455437857\n",
      "1.090669881713979\n",
      "1.0529822556711912\n",
      "1.1358644734572396\n",
      "1.1017769998230653\n",
      "1.0237778963250412\n",
      "1.0297120467235057\n",
      "1.0365559361032346\n",
      "1.043992068204667\n",
      "0.9978636151611507\n",
      "1.0354288875183078\n",
      "1.1377944344599622\n",
      "平均比值 1.059975814884701\n",
      "差：\n",
      "0.003418331399734603\n",
      "0.006350775599275951\n",
      "0.004836333099956389\n",
      "0.009551376700255784\n",
      "0.006087327801651554\n",
      "0.016437024700280745\n",
      "0.013985997898998903\n",
      "0.0036000699990836327\n",
      "0.004605489899404347\n",
      "0.005834679000690818\n",
      "0.007278236802085308\n",
      "-0.00036900180275550865\n",
      "0.0061062939021212514\n",
      "0.02459077079765848\n",
      "平均差 0.00802240755703159\n"
     ]
    }
   ],
   "source": [
    "checkway(ht_insert)\n",
    "checkway(ht_search)"
   ]
  },
  {
   "cell_type": "code",
   "execution_count": 55,
   "metadata": {},
   "outputs": [
    {
     "name": "stdout",
     "output_type": "stream",
     "text": [
      "1.9918650416528232\n"
     ]
    }
   ],
   "source": [
    "l = [1.511872371491457,\n",
    "2.0595491573149594,\n",
    "2.40998528580867,\n",
    "2.254615657342428,\n",
    "1.8963294725395914,\n",
    "2.097425645718028,\n",
    "1.9796635371473004,\n",
    "2.4384560523931134,\n",
    "1.826766965469345,\n",
    "1.8763645661190143,\n",
    "1.7600948221035684,\n",
    "1.7912569663864002]\n",
    "s =0\n",
    "for i in l :\n",
    "    s = s+i\n",
    "mean = s/len(l)\n",
    "print(mean)"
   ]
  },
  {
   "cell_type": "code",
   "execution_count": 56,
   "metadata": {},
   "outputs": [
    {
     "name": "stdout",
     "output_type": "stream",
     "text": [
      "[0.0011088559003837872, 0.0016764485997555311, 0.0034527283009083477, 0.008321024401084287, 0.018760711899813032, 0.03557649090143968, 0.07461904440133367, 2.5668910278014665, 2.027087129100255, 4.012950476100377, 9.78540337640079, 17.875651631801155, 33.541239318199224, 59.035761650899076, 105.74821932310006, 210.63618128671857, 419.5588460122613, 835.7045982880234, 1664.6107744784294, 3315.6800096422153, 6604.387100513424]\n",
      "[0.0907368910004152, 0.0941552224001498, 0.10050599799942575, 0.10534233109938214, 0.11489370779963792, 0.12098103560128948, 0.13741806030157022, 0.15140405820056912, 0.15500412819965276, 0.1596096180990571, 0.16544429709974792, 0.17272253390183323, 0.17235353209907772, 0.17845982600119897, 0.20305059679885745, 0.21522872180469377, 0.22813723978152287, 0.2418199566429661, 0.25632330559801103, 0.27169650472519197, 0.28799172399741035]\n"
     ]
    }
   ],
   "source": [
    "estim(ht_insert,'r', 1.9918650416528232)\n",
    "estim(ht_search,'r', 1.059975814884701)"
   ]
  },
  {
   "cell_type": "code",
   "execution_count": 57,
   "metadata": {},
   "outputs": [
    {
     "data": {
      "image/png": "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\n",
      "text/plain": [
       "<Figure size 432x288 with 1 Axes>"
      ]
     },
     "metadata": {
      "needs_background": "light"
     },
     "output_type": "display_data"
    }
   ],
   "source": [
    "plt.title('Insert')\n",
    "plt.plot(n, bst_insert,color='green', label='Binary Tree')\n",
    "plt.plot(n, sl_insert,color='red', label= 'Skip List')\n",
    "plt.plot(n, sn_insert,color='blue', label='Sorted Array')\n",
    "plt.plot(n, ht_insert,color='brown',label='Hash Table')\n",
    "plt.xlim((0,max(n)))\n",
    "plt.grid(True)"
   ]
  },
  {
   "cell_type": "code",
   "execution_count": 58,
   "metadata": {},
   "outputs": [
    {
     "data": {
      "image/png": "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\n",
      "text/plain": [
       "<Figure size 432x288 with 1 Axes>"
      ]
     },
     "metadata": {
      "needs_background": "light"
     },
     "output_type": "display_data"
    }
   ],
   "source": [
    "plt.title('Search')\n",
    "plt.plot(n, bst_search,color='green', label='Binary Tree')\n",
    "plt.plot(n, sl_search,color='red', label= 'Skip List')\n",
    "plt.plot(n, sn_search,color='blue', label='Sorted Array')\n",
    "plt.plot(n, ht_search,color='brown',label='Hash Table')\n",
    "plt.xlim((0,max(n)))\n",
    "plt.grid(True)"
   ]
  },
  {
=======
>>>>>>> b2b3d3e7fe5fb6cb90bb5493df360fbdecee4861
   "cell_type": "code",
   "execution_count": null,
   "metadata": {},
   "outputs": [],
   "source": []
  }
 ],
 "metadata": {
  "kernelspec": {
   "display_name": "Python 3",
   "language": "python",
   "name": "python3"
  },
  "language_info": {
   "codemirror_mode": {
    "name": "ipython",
    "version": 3
   },
   "file_extension": ".py",
   "mimetype": "text/x-python",
   "name": "python",
   "nbconvert_exporter": "python",
   "pygments_lexer": "ipython3",
   "version": "3.7.4"
  }
 },
 "nbformat": 4,
 "nbformat_minor": 4
}
