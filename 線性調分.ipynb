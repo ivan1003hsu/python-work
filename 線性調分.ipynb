{
 "cells": [
  {
   "cell_type": "code",
   "execution_count": 1,
   "metadata": {},
   "outputs": [],
   "source": [
    "import numpy as np\n",
    "import matplotlib.pyplot as plt\n",
    "%matplotlib inline"
   ]
  },
  {
   "cell_type": "code",
   "execution_count": 46,
   "metadata": {},
   "outputs": [],
   "source": [
    "from ipywidgets import interact_manual"
   ]
  },
  {
   "cell_type": "code",
   "execution_count": 54,
   "metadata": {},
   "outputs": [],
   "source": [
    "def score(倍率=1,加分=0):\n",
    "    ylist = xlist*倍率\n",
    "    ylist = ylist + 加分\n",
    "    ay = 0\n",
    "    for i in range(len(ylist)):\n",
    "        ay = ylist[i]/len(ylist)+ ay\n",
    "    plt.axis([0,100,0,100])\n",
    "    plt.scatter(xlist,ylist)\n",
    "    print('調整後的成績為:')\n",
    "    for i in range(len(ylist)):\n",
    "        print('第{}位:{}'.format(i+1,ylist[i]))\n",
    "    print('平均分數為{}'.format(ay))"
   ]
  },
  {
   "cell_type": "code",
   "execution_count": 55,
   "metadata": {},
   "outputs": [
    {
     "name": "stdout",
     "output_type": "stream",
     "text": [
      "請輸入第1同學的成績:35\n",
      "請輸入第2同學的成績:22\n",
      "請輸入第3同學的成績:5\n",
      "請輸入第4同學的成績:39\n",
      "請輸入第5同學的成績:59\n",
      "請輸入第6同學的成績:32\n",
      "請輸入第7同學的成績:43\n",
      "請輸入第8同學的成績:15\n",
      "請輸入第9同學的成績:27\n",
      "請輸入第10同學的成績:40\n",
      "請輸入第11同學的成績:end\n",
      "平均分數為31.7\n"
     ]
    },
    {
     "data": {
      "application/vnd.jupyter.widget-view+json": {
       "model_id": "a30114cf4661402f8d98b66434c6b335",
       "version_major": 2,
       "version_minor": 0
      },
      "text/plain": [
       "interactive(children=(FloatSlider(value=1.0, description='倍率', max=3.0), FloatSlider(value=0.0, description='加…"
      ]
     },
     "metadata": {},
     "output_type": "display_data"
    }
   ],
   "source": [
    "n=1\n",
    "x = input('請輸入第{}同學的成績:'.format(n))\n",
    "xlist = x\n",
    "while x != 'end':\n",
    "    if n >1:\n",
    "        xlist = xlist + ',' + x \n",
    "    n=n+1\n",
    "    x =input('請輸入第{}同學的成績:'.format(n))\n",
    "xlist = xlist.split(',')\n",
    "xlist = np.array(list(map(float,xlist)))\n",
    "ax = 0\n",
    "for i in range(len(xlist)):\n",
    "    ax = xlist[i]/len(xlist)+ax\n",
    "print('平均分數為{}'.format(ax))\n",
    "interact_manual(score,倍率=(0.,3),加分=(-40.,40));"
   ]
  },
  {
   "cell_type": "markdown",
   "metadata": {},
   "source": [
    "### #注:橫軸為原始成績，縱軸是調整後成績"
   ]
  },
  {
   "cell_type": "code",
   "execution_count": null,
   "metadata": {},
   "outputs": [],
   "source": []
  }
 ],
 "metadata": {
  "kernelspec": {
   "display_name": "Python 3",
   "language": "python",
   "name": "python3"
  },
  "language_info": {
   "codemirror_mode": {
    "name": "ipython",
    "version": 3
   },
   "file_extension": ".py",
   "mimetype": "text/x-python",
   "name": "python",
   "nbconvert_exporter": "python",
   "pygments_lexer": "ipython3",
   "version": "3.7.3"
  }
 },
 "nbformat": 4,
 "nbformat_minor": 2
}
