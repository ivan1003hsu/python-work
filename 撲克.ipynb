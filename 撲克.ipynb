{
 "cells": [
  {
   "cell_type": "code",
   "execution_count": 1,
   "metadata": {},
   "outputs": [],
   "source": [
    "import numpy as np\n",
    "import matplotlib.pyplot as plt\n",
    "import pandas as pd\n",
    "%matplotlib inline"
   ]
  },
  {
   "cell_type": "code",
   "execution_count": 2,
   "metadata": {},
   "outputs": [],
   "source": [
    "import time"
   ]
  },
  {
   "cell_type": "code",
   "execution_count": 3,
   "metadata": {},
   "outputs": [],
   "source": [
    "class Card:\n",
    "    SUIT = ['♧','♢','♥','♤']\n",
    "    VALUE = ['A', '2', '3', '4', '5', '6', '7', '8', '9', '10', 'J', 'Q', 'K']\n",
    "    def __init__(self,r,s):\n",
    "        self.suit = r-1\n",
    "        self.value = s-1\n",
    "        \n",
    "    def show(self):\n",
    "        thecard = SUIT[self.suit] +VALUE[self.value]\n",
    "        print(thecard)\n",
    "    \n",
    "    def __repr__(self):\n",
    "        thecard = self.SUIT[self.suit] + self.VALUE[self.value]\n",
    "        return thecard\n",
    "        "
   ]
  },
  {
   "cell_type": "code",
   "execution_count": 4,
   "metadata": {},
   "outputs": [
    {
     "name": "stdout",
     "output_type": "stream",
     "text": [
      "[♧A, ♧2, ♧3, ♧4, ♧5, ♧6, ♧7, ♧8, ♧9, ♧10, ♧J, ♧Q, ♧K, ♢A, ♢2, ♢3, ♢4, ♢5, ♢6, ♢7, ♢8, ♢9, ♢10, ♢J, ♢Q, ♢K, ♥A, ♥2, ♥3, ♥4, ♥5, ♥6, ♥7, ♥8, ♥9, ♥10, ♥J, ♥Q, ♥K, ♤A, ♤2, ♤3, ♤4, ♤5, ♤6, ♤7, ♤8, ♤9, ♤10, ♤J, ♤Q, ♤K]\n"
     ]
    }
   ],
   "source": [
    "cards = []\n",
    "for i in range(4):\n",
    "    for k in range(13):\n",
    "        cards.append(Card(i+1,k+1))\n",
    "print(cards)"
   ]
  },
  {
   "cell_type": "code",
   "execution_count": 5,
   "metadata": {},
   "outputs": [],
   "source": [
    "def dealcards(n):\n",
    "## deal cards from list:deck\n",
    "        stock = []\n",
    "        if len(deck) >= n:\n",
    "            for i in range(n):\n",
    "                k = np.random.randint(0,len(deck))\n",
    "              ##  print(deck[k],end=' ')\n",
    "                stock.append(deck[k])\n",
    "                deck.remove(deck[k])\n",
    "            return stock\n",
    "        else:\n",
    "            print('wrong')"
   ]
  },
  {
   "cell_type": "code",
   "execution_count": 7,
   "metadata": {},
   "outputs": [],
   "source": [
    "def sortcards(hand):\n",
    "## 用法: hand1 = sortcards(hand1)\n",
    "## print\n",
    "    stock=[]\n",
    "    stock2 =[]\n",
    "    for c in hand:\n",
    "        stock.append(c.value)\n",
    "    for i in range(len(stock)):\n",
    "        k = min(stock)\n",
    "        stock2.append(hand[stock.index(k)])\n",
    "        hand.remove(hand[stock.index(k)])\n",
    "        stock.remove(k)\n",
    "    print(stock2)\n",
    "    return stock2"
   ]
  },
  {
   "cell_type": "code",
   "execution_count": 20,
   "metadata": {},
   "outputs": [],
   "source": [
    "def winningcondition(hand):\n",
    "    stock=[]\n",
    "    stock2=[]\n",
    "    stock3=[]\n",
    "    rank = [1]\n",
    "    for c in hand:\n",
    "        stock.append(c.value)\n",
    "    for c in hand:\n",
    "        stock2.append(c.suit)\n",
    "    if 0 in stock and  9 in stock and 10 in stock and 11 in stock and 12 in stock:\n",
    "        if stock2.count(0) ==5 or stock2.count(1) ==5 or stock2.count(2) ==5 or stock2.count(3) ==5:\n",
    "            \n",
    "            rank.append(10)\n",
    "        else:\n",
    "            \n",
    "            rank.append(5)\n",
    "    for y in stock: \n",
    "        if y in stock and y+1 in stock and y+2 in stock and y+3 in stock and y+4 in stock:\n",
    "            if stock2.count(0) ==5 or stock2.count(1) ==5 or stock2.count(2) ==5 or stock2.count(3) ==5:\n",
    "                    \n",
    "                    rank.append(9)\n",
    "            else:\n",
    "                \n",
    "                rank.append(5)\n",
    "    for i in range(len(stock)):\n",
    "        stock3.append(stock.count(stock[i]))\n",
    "    if 4 in stock3:\n",
    "        \n",
    "        rank.append(8)\n",
    "    if 3 in stock3:\n",
    "        if 2 in stock3:\n",
    "            \n",
    "            rank.append(7)\n",
    "        else:\n",
    "            rank.append(4)\n",
    "            \n",
    "    if stock3.count(2)>=4:\n",
    "        rank.append(3)\n",
    "    if stock3.count(2)==2:        \n",
    "        rank.append(2)\n",
    "        \n",
    "    if stock2.count(0) ==5 or stock2.count(1) ==5 or stock2.count(2) ==5 or stock2.count(3) ==5:\n",
    "        \n",
    "        rank.append(6)\n",
    "    s = max(rank)\n",
    "    if s == 1:\n",
    "        print('high card',end='  ')\n",
    "    if s == 2:\n",
    "        print('Pair',end='  ')\n",
    "    if s == 3:\n",
    "        print('Two pair',end='  ')\n",
    "    if s == 4:\n",
    "        pprint('Three of a kind',end='  ')\n",
    "    if s == 5:\n",
    "        print('Straight',end='  ')\n",
    "    if s == 6:\n",
    "        print('Flush',end='  ')\n",
    "    if s == 7:\n",
    "        print('Full house',end='  ')\n",
    "    if s == 8:\n",
    "        print('Four of a kind',end='  ')\n",
    "    if s == 9:\n",
    "        print('Straight Flush',end='  ')\n",
    "    if s == 10:\n",
    "        print('Royal Straight Flush !!',end='  ')\n",
    "    \n",
    "    return s"
   ]
  },
  {
   "cell_type": "code",
   "execution_count": 25,
   "metadata": {},
   "outputs": [],
   "source": [
    "def winningcondition2(s):\n",
    "    stock=[]\n",
    "    stock2=[]\n",
    "    x=0\n",
    "    for c in hand:\n",
    "        stock.append(c.value)\n",
    "    if s == 10:\n",
    "        print('(10,J,Q,K,A同花順)')\n",
    "        return 0\n",
    "    \n",
    "    if s==9:\n",
    "        for y in stock: \n",
    "            if y in stock and y+1 in stock and y+2 in stock and y+3 in stock and y+4 in stock:\n",
    "                x=1\n",
    "                print('({},{},{},{},{}同花順)'.format(y+1,y+2,y+3,y+4,y+5))\n",
    "                return y\n",
    "                break\n",
    "        \n",
    "    if s==8:\n",
    "        for y in stock:\n",
    "            if stock.count(y) ==4:\n",
    "                print('({}鐵支)'.format(y+1))\n",
    "                return y\n",
    "                break\n",
    "                \n",
    "    if s==7:\n",
    "        for y in stock:\n",
    "            if stock.count(y) ==3:\n",
    "                if y == 0 :\n",
    "                    y=13\n",
    "                    print(('Ace葫蘆'))\n",
    "                else:\n",
    "                    print('({}葫蘆)'.format(y+1))\n",
    "                return y\n",
    "                break\n",
    "                \n",
    "    if s ==6:\n",
    "        y =max(stock)\n",
    "        if min(stock) == 0 :\n",
    "            y=13\n",
    "            print('最大為Ace')\n",
    "        else:\n",
    "            print('(最大為{})'.format(y+1))\n",
    "        return y\n",
    "        \n",
    "    \n",
    "    if s==5:\n",
    "        for y in stock: \n",
    "            if y in stock and y+1 in stock and y+2 in stock and y+3 in stock and y+4 in stock:\n",
    "                x=1\n",
    "                print('({},{},{},{},{}順子)'.format(y+1,y+2,y+3,y+4,y+5))\n",
    "                return y\n",
    "                break\n",
    "        if x ==0:\n",
    "            if x ==0:\n",
    "                print('(10,J,Q,K,A同花順)')\n",
    "            return 10\n",
    "    if s==4:\n",
    "        for y in stock:\n",
    "            if stock.count(y) ==3:\n",
    "                if y == 0:\n",
    "                    y = 13\n",
    "                    print('(三條Ace)')\n",
    "                else:\n",
    "                    print('(三條{})'.format(y+1))\n",
    "                return y\n",
    "                break\n",
    "    \n",
    "    if s==3:\n",
    "        for y in stock:\n",
    "            if stock.count(y) ==2:\n",
    "                stock2.append(y)\n",
    "        if min(stock2) == 0:\n",
    "            print('Ace對、{}對'.format(max(stock2)+1))\n",
    "            return 13\n",
    "        else:\n",
    "            print('{}對、{}對'.format(min(stock2+1),max(stock2)+1))\n",
    "            return max(stock2)\n",
    "    \n",
    "    if s ==2:\n",
    "        for y in stock:\n",
    "            if stock.count(y) ==2:\n",
    "                if y == 0:\n",
    "                    y = 13\n",
    "                    print('(Ace對)') \n",
    "                else:\n",
    "                  print('({}對)'.format(y+1))\n",
    "                return y\n",
    "                break\n",
    "    \n",
    "    if s ==1:\n",
    "        y =max(stock)\n",
    "        if min(stock) == 0 :\n",
    "            y=13\n",
    "            print('最大為Ace')\n",
    "        else:\n",
    "            print('(最大為{})'.format(y+1))\n",
    "        return y"
   ]
  },
  {
   "cell_type": "markdown",
   "metadata": {},
   "source": [
    "# Five-card draw"
   ]
  },
  {
   "cell_type": "code",
   "execution_count": 14,
   "metadata": {},
   "outputs": [
    {
     "name": "stdout",
     "output_type": "stream",
     "text": [
      "Five-card draw模擬\n",
      "------------\n",
      "\n",
      "請輸入下注金額(盲注)\n",
      ">>100\n",
      "你的牌是:\n",
      "[♧5, ♤6, ♧7, ♤8, ♤Q]\n",
      "請加注\n",
      ">>1000\n",
      "要換牌嗎?(y/n)\n",
      "(剩餘次數:3)>>y\n",
      "從右到左，要換第幾張呢\n",
      ">>5\n",
      "新的牌是:\n",
      "[♤J]\n",
      "\n",
      "所以你的牌是:\n",
      "[♧5, ♤6, ♧7, ♤8, ♤J]\n",
      "要換牌嗎?(y/n)\n",
      "(剩餘次數:2)>>y\n",
      "從右到左，要換第幾張呢\n",
      ">>5\n",
      "新的牌是:\n",
      "[♥Q]\n",
      "\n",
      "所以你的牌是:\n",
      "[♧5, ♤6, ♧7, ♤8, ♥Q]\n",
      "要換牌嗎?(y/n)\n",
      "(剩餘次數:1)>>y\n",
      "從右到左，要換第幾張呢\n",
      ">>5\n",
      "新的牌是:\n",
      "[♧J]\n",
      "\n",
      "所以你的牌是:\n",
      "[♧5, ♤6, ♧7, ♤8, ♧J]\n",
      "對手的手牌是\n",
      "[♤3, ♢6, ♢7, ♥J, ♧Q]\n",
      "你得到high card\n",
      "對方得到high card\n",
      "你輸了1100元\n"
     ]
    }
   ],
   "source": [
    "print('Five-card draw模擬\\n------------\\n')\n",
    "cards = []\n",
    "for i in range(4):\n",
    "    for k in range(13):\n",
    "        cards.append(Card(i+1,k+1))\n",
    "deck = []\n",
    "hand=[]\n",
    "deck.extend(cards)\n",
    "hand1=[]\n",
    "hand2=[]\n",
    "stake=int(input('請輸入下注金額(盲注)\\n>>'))\n",
    "print('你的牌是:')\n",
    "hand1= sortcards(dealcards(5))\n",
    "time.sleep(2)\n",
    "stake2=int(input('請加注\\n>>'))\n",
    "stake = stake + stake2\n",
    "\n",
    "#換牌\n",
    "\n",
    "cha=0\n",
    "while cha != 3:\n",
    "    egg = input('要換牌嗎?(y/n)\\n(剩餘次數:{})>>'.format(3-cha))\n",
    "    if 'y' in egg:\n",
    "        spam=int(input('從右到左，要換第幾張呢\\n>>'))\n",
    "        del hand1[spam-1]\n",
    "        time.sleep(1)\n",
    "        print('新的牌是:')\n",
    "        extra = dealcards(1)\n",
    "        print(extra)\n",
    "        hand1= hand1 + extra\n",
    "        time.sleep(1)\n",
    "        print('\\n所以你的牌是:')\n",
    "        hand1 = sortcards(hand1)\n",
    "        cha=cha+1\n",
    "    else:\n",
    "        cha = 3\n",
    "\n",
    "\n",
    "time.sleep(2)\n",
    "print('對手的手牌是')\n",
    "hand2=sortcards(dealcards(5))\n",
    "time.sleep(2)\n",
    "print('你得到',end='')\n",
    "rank=winningcondition(hand1)\n",
    "print('對方得到',end='')\n",
    "rank2=winningcondition(hand2)\n",
    "time.sleep(2)\n",
    "if rank >rank2:\n",
    "    print('你賺了了{}元'.format(stake))\n",
    "elif rank < rank2:\n",
    "    print('你輸了{}元'.format(stake))\n",
    "elif rank == rank2:\n",
    "    hand =hand1\n",
    "    y1=winningcondition2(rank)\n",
    "    hand=hand2\n",
    "    y2=winningcondition2(rank)\n",
    "    if y1 > y2:\n",
    "        print('你贏了{}元'.format(stake))\n",
    "    elif y1 < y2:\n",
    "        print('你輸了{}元'.format(stake))\n",
    "    else:\n",
    "        print('不賺不賠')"
   ]
  },
  {
   "cell_type": "markdown",
   "metadata": {},
   "source": [
    "## Texas hold'em\n",
    "### 德州撲克"
   ]
  },
  {
   "cell_type": "code",
   "execution_count": null,
   "metadata": {},
   "outputs": [
    {
     "name": "stdout",
     "output_type": "stream",
     "text": [
      "德州撲克模擬\n",
      "---------\n",
      "\n",
      "請輸入下注金額(盲注)\n",
      ">>100\n",
      "莊家跟上(加注到100)\n",
      "你的牌是:\n",
      "[♧7, ♧9]\n"
     ]
    }
   ],
   "source": [
    "print('德州撲克模擬\\n---------\\n')\n",
    "cards = []\n",
    "for i in range(4):\n",
    "    for k in range(13):\n",
    "        cards.append(Card(i+1,k+1))\n",
    "deck = []\n",
    "hand=[]\n",
    "deck.extend(cards)\n",
    "hand1=[]\n",
    "hand2=[]\n",
    "stake=0\n",
    "end =0\n",
    "stake1=int(input('請輸入下注金額(盲注)\\n>>'))\n",
    "print('莊家跟上(加注到{})'.format(stake1))\n",
    "stake2 = stake1\n",
    "print('你的牌是:')\n",
    "hand1= sortcards(dealcards(2))\n",
    "time.sleep(2)\n",
    "stake1=stake1 + int(input('請加注\\n>>'))\n",
    "print('你共下注了{}\\n'.format(stake1))\n",
    "\n",
    "#輪流加注\n",
    "#莊家50%加注，40%跟注，10%蓋牌\n",
    "egg = np.random.randint(1,11)\n",
    "if egg == 5:\n",
    "    end = 1\n",
    "while egg != 5:\n",
    "    time.sleep(1)\n",
    "    print('\\n\\n(沉思中....)\\n\\n')\n",
    "    time.sleep(3)\n",
    "    if egg < 5:\n",
    "        print('莊家跟上(加注到{})'.format(stake1))\n",
    "        stake2 = stake1\n",
    "        egg = 5\n",
    "        \n",
    "    if egg > 5:\n",
    "        print('*莊家面帶微笑*')\n",
    "        time.sleep(1)\n",
    "        print('莊家加注:{}'.format(stake1-stake2+100))\n",
    "        time.sleep(1)\n",
    "        stake2 = stake1+100\n",
    "        print('莊家共下注了{}'.format(stake2))\n",
    "        time.sleep(1)          \n",
    "        y = input('是否跟上?(y/n)')\n",
    "        if 'y' not in y :\n",
    "            print('已蓋牌認輸，共輸掉{}元'.format(stake1))\n",
    "            egg =5\n",
    "            end = -1\n",
    "        else:\n",
    "            y = input('除跟上外，是否加注?(y/n)')\n",
    "            if 'y'  in y :\n",
    "                stake1=stake2 + int(input('請加注\\n>>'))\n",
    "                print('你共下注了{}'.format(stake1))\n",
    "                egg = np.random.randint(1,11)\n",
    "                if egg == 5:\n",
    "                    end = -1\n",
    "            else:\n",
    "                print('已跟上100元')\n",
    "                stake1 = stake1 + 100\n",
    "                print('你共下注了{}'.format(stake1))\n",
    "                egg = 5\n",
    "              \n",
    "              \n",
    "if end == 0:\n",
    "    print('第一輪加注結束\\n')\n",
    "    time.sleep(1)\n",
    "    print('前三張公牌是:')\n",
    "    publiccard = sortcards(dealcards(3))\n",
    "    time.sleep(1)\n",
    "    print('你的牌是:{}'.format(hand1))\n",
    "    stake1=stake1 + int(input('請加注\\n>>'))\n",
    "    print('你共下注了{}\\n'.format(stake1))\n",
    "\n",
    "#第二輪加注\n",
    "if end == 0:\n",
    "    egg = np.random.randint(1,11)\n",
    "if egg == 5:\n",
    "    end = 1\n",
    "while egg != 5:\n",
    "    time.sleep(1)\n",
    "    print('\\n\\n(沉思中....)\\n\\n')\n",
    "    time.sleep(3)\n",
    "    if egg < 5:\n",
    "        print('莊家跟上(加注到{})'.format(stake1))\n",
    "        stake2 = stake1\n",
    "        egg = 5\n",
    "        \n",
    "    if egg > 5:\n",
    "        print('*莊家面有難色*')\n",
    "        time.sleep(1)\n",
    "        print('莊家加注:{}'.format(stake1-stake2+200))\n",
    "        time.sleep(1)\n",
    "        stake2 = stake1+200\n",
    "        print('莊家共下注了{}'.format(stake2))\n",
    "        time.sleep(1)          \n",
    "        y = input('是否跟上?(y/n)')\n",
    "        if 'y' not in y :\n",
    "            print('已蓋牌認輸，共輸掉{}元'.format(stake1))\n",
    "            egg = 5\n",
    "            end = -1\n",
    "        else:\n",
    "            y = input('除跟上外，是否加注?(y/n)')\n",
    "            if 'y'  in y :\n",
    "                stake1=stake2 + int(input('請加注\\n>>'))\n",
    "                print('你共下注了{}'.format(stake1))\n",
    "                egg = np.random.randint(1,11)\n",
    "                if egg == 5:\n",
    "                    end = 1\n",
    "            else:\n",
    "                print('已跟上200元')\n",
    "                stake1 = stake1 + 200\n",
    "                print('你共下注了{}'.format(stake1))\n",
    "                egg = 5\n",
    "\n",
    "if end == 0:\n",
    "    print('第一輪加注結束\\n')\n",
    "    time.sleep(2)\n",
    "    print('剩下兩張公牌是:')\n",
    "    publiccard = publiccard + sortcards(dealcards(2))\n",
    "    print('所以所有的公牌是:')\n",
    "    publiccard = sortcards(publiccard)\n",
    "    time.sleep(1)\n",
    "    print('你的牌是:{}'.format(hand1))\n",
    "    stake1=stake1 + int(input('請加注\\n>>'))\n",
    "    print('你共下注了{}\\n'.format(stake1))\n",
    "    \n",
    "#第三輪加注\n",
    "if end == 0:\n",
    "    egg = np.random.randint(1,11)\n",
    "if egg == 5:\n",
    "    end = 1\n",
    "while egg != 5:\n",
    "    time.sleep(1)\n",
    "    print('\\n\\n(沉思中....)\\n\\n')\n",
    "    time.sleep(3)\n",
    "    if egg < 5:\n",
    "        print('莊家跟上(加注到{})'.format(stake1))\n",
    "        stake2 = stake1\n",
    "        egg = 5\n",
    "        \n",
    "    if egg > 5:\n",
    "        print('*莊家露出陰險的笑容*')\n",
    "        time.sleep(1)\n",
    "        print('*莊家加注:{}'.format(stake1-stake2+1000))\n",
    "        time.sleep(1)\n",
    "        stake2 = stake1+1000\n",
    "        print('莊家共下注了{}'.format(stake2))\n",
    "        time.sleep(1)          \n",
    "        y = input('\\n是否跟上?(y/n)')\n",
    "        if 'y' not in y :\n",
    "            print('已蓋牌認輸，共輸掉{}元'.format(stake1))\n",
    "            egg =5 \n",
    "            end = -1\n",
    "        else:\n",
    "            y = input('除跟上外，是否加注?(y/n)')\n",
    "            if 'y'  in y :\n",
    "                stake1=stake2 + int(input('請加注\\n>>'))\n",
    "                print('你共下注了{}'.format(stake1))\n",
    "                egg = np.random.randint(1,11)\n",
    "                if egg == 5:\n",
    "                    end = 1\n",
    "                    print('莊家蓋牌，共贏得{}元'.format(stake2))\n",
    "            else:\n",
    "                print('已跟上1000元')\n",
    "                stake1 = stake1 + 1000\n",
    "                print('你共下注了{}'.format(stake1))\n",
    "                egg = 5\n",
    "if end == 1:\n",
    "    time.sleep(2)\n",
    "    print('*莊家面如槁木*')\n",
    "    time.sleep(1)\n",
    "    print('莊家蓋牌，你共贏得{}元'.format(stake2))\n",
    "    \n",
    "    \n",
    "if end == 0:\n",
    "    print('\\n\\n加注結束，開牌!')\n",
    "    time.sleep(2)\n",
    "    print('對手的手牌是')\n",
    "    hand2=sortcards(dealcards(2))\n",
    "    time.sleep(2)\n",
    "    print('你得到',end='')\n",
    "    hand1 = hand1+publiccard\n",
    "    rank=winningcondition(hand1)\n",
    "    hand = hand1\n",
    "    y1=winningcondition2(rank)\n",
    "    print('對方得到',end='')\n",
    "    hand2 = hand2+publiccard\n",
    "    rank2=winningcondition(hand2)\n",
    "    hand = hand1\n",
    "    y2=winningcondition2(rank2)\n",
    "    time.sleep(2)\n",
    "    if rank >rank2:\n",
    "        print('你賺了了{}元'.format(stake2))\n",
    "    elif rank < rank2:\n",
    "        print('你輸了{}元'.format(stake1))\n",
    "    elif rank == rank2:\n",
    "        if y1 > y2:\n",
    "            print('你贏了{}元'.format(stake2))\n",
    "        elif y1 < y2:\n",
    "            print('你輸了{}元'.format(stake1))\n",
    "        else:\n",
    "            print('不賺不賠')"
   ]
  },
  {
   "cell_type": "code",
   "execution_count": 38,
   "metadata": {},
   "outputs": [
    {
     "name": "stdout",
     "output_type": "stream",
     "text": [
      "(13對)\n"
     ]
    }
   ],
   "source": [
    "hand = hand1\n",
    "y1=winningcondition2(2)"
   ]
  },
  {
   "cell_type": "code",
   "execution_count": 35,
   "metadata": {},
   "outputs": [
    {
     "data": {
      "text/plain": [
       "2"
      ]
     },
     "execution_count": 35,
     "metadata": {},
     "output_type": "execute_result"
    }
   ],
   "source": [
    "rank"
   ]
  },
  {
   "cell_type": "code",
   "execution_count": 189,
   "metadata": {},
   "outputs": [],
   "source": [
    "    hand =hand1\n",
    "    y1=winningcondition2(rank)"
   ]
  },
  {
   "cell_type": "code",
   "execution_count": 190,
   "metadata": {},
   "outputs": [
    {
     "data": {
      "text/plain": [
       "11"
      ]
     },
     "execution_count": 190,
     "metadata": {},
     "output_type": "execute_result"
    }
   ],
   "source": [
    "y1"
   ]
  },
  {
   "cell_type": "code",
   "execution_count": 157,
   "metadata": {},
   "outputs": [],
   "source": [
    "deck = []\n",
    "hand=[]\n",
    "deck.extend(cards)"
   ]
  },
  {
   "cell_type": "code",
   "execution_count": 158,
   "metadata": {},
   "outputs": [
    {
     "name": "stdout",
     "output_type": "stream",
     "text": [
      "[♥A, ♢2, ♤5, ♤J, ♥K]\n"
     ]
    }
   ],
   "source": [
    "hand = sortcards(dealcards(5))"
   ]
  },
  {
   "cell_type": "code",
   "execution_count": 130,
   "metadata": {},
   "outputs": [
    {
     "data": {
      "text/plain": [
       "[♥A, ♧A, ♧4, ♥7, ♧8]"
      ]
     },
     "execution_count": 130,
     "metadata": {},
     "output_type": "execute_result"
    }
   ],
   "source": [
    "hand"
   ]
  },
  {
   "cell_type": "code",
   "execution_count": 103,
   "metadata": {},
   "outputs": [],
   "source": [
    "for i in range(9,14):\n",
    "    hand.append(Card(2,i))"
   ]
  },
  {
   "cell_type": "code",
   "execution_count": 66,
   "metadata": {},
   "outputs": [],
   "source": [
    "a=[1,1,1,1,9,9,9]"
   ]
  },
  {
   "cell_type": "code",
   "execution_count": 67,
   "metadata": {},
   "outputs": [],
   "source": [
    "a.remove(9)"
   ]
  },
  {
   "cell_type": "code",
   "execution_count": 68,
   "metadata": {},
   "outputs": [
    {
     "data": {
      "text/plain": [
       "[1, 1, 1, 1, 9, 9]"
      ]
     },
     "execution_count": 68,
     "metadata": {},
     "output_type": "execute_result"
    }
   ],
   "source": [
    "a"
   ]
  },
  {
   "cell_type": "code",
   "execution_count": null,
   "metadata": {},
   "outputs": [],
   "source": []
  }
 ],
 "metadata": {
  "kernelspec": {
   "display_name": "Python 3",
   "language": "python",
   "name": "python3"
  },
  "language_info": {
   "codemirror_mode": {
    "name": "ipython",
    "version": 3
   },
   "file_extension": ".py",
   "mimetype": "text/x-python",
   "name": "python",
   "nbconvert_exporter": "python",
   "pygments_lexer": "ipython3",
   "version": "3.7.3"
  }
 },
 "nbformat": 4,
 "nbformat_minor": 2
}
