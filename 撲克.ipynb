{
 "cells": [
  {
   "cell_type": "code",
   "execution_count": 1,
   "metadata": {},
   "outputs": [],
   "source": [
    "import numpy as np\n",
    "import matplotlib.pyplot as plt\n",
    "import pandas as pd\n",
    "%matplotlib inline"
   ]
  },
  {
   "cell_type": "code",
   "execution_count": 164,
   "metadata": {},
   "outputs": [],
   "source": [
    "import time"
   ]
  },
  {
   "cell_type": "code",
   "execution_count": 3,
   "metadata": {},
   "outputs": [],
   "source": [
    "class Card:\n",
    "    SUIT = ['♧','♢','♥','♤']\n",
    "    VALUE = ['A', '2', '3', '4', '5', '6', '7', '8', '9', '10', 'J', 'Q', 'K']\n",
    "    def __init__(self,r,s):\n",
    "        self.suit = r-1\n",
    "        self.value = s-1\n",
    "        \n",
    "    def show(self):\n",
    "        thecard = SUIT[self.suit] +VALUE[self.value]\n",
    "        print(thecard)\n",
    "    \n",
    "    def __repr__(self):\n",
    "        thecard = self.SUIT[self.suit] + self.VALUE[self.value]\n",
    "        return thecard\n",
    "        "
   ]
  },
  {
   "cell_type": "code",
   "execution_count": 15,
   "metadata": {},
   "outputs": [
    {
     "name": "stdout",
     "output_type": "stream",
     "text": [
      "[♧A, ♧2, ♧3, ♧4, ♧5, ♧6, ♧7, ♧8, ♧9, ♧10, ♧J, ♧Q, ♧K, ♢A, ♢2, ♢3, ♢4, ♢5, ♢6, ♢7, ♢8, ♢9, ♢10, ♢J, ♢Q, ♢K, ♥A, ♥2, ♥3, ♥4, ♥5, ♥6, ♥7, ♥8, ♥9, ♥10, ♥J, ♥Q, ♥K, ♤A, ♤2, ♤3, ♤4, ♤5, ♤6, ♤7, ♤8, ♤9, ♤10, ♤J, ♤Q, ♤K]\n"
     ]
    }
   ],
   "source": [
    "cards = []\n",
    "for i in range(4):\n",
    "    for k in range(13):\n",
    "        cards.append(Card(i+1,k+1))\n",
    "print(cards)"
   ]
  },
  {
   "cell_type": "code",
   "execution_count": 124,
   "metadata": {},
   "outputs": [],
   "source": [
    "def dealcards(n):\n",
    "## deal cards from list:deck\n",
    "        stock = []\n",
    "        if len(deck) >= n:\n",
    "            for i in range(n):\n",
    "                k = np.random.randint(0,len(deck))\n",
    "              ##  print(deck[k],end=' ')\n",
    "                stock.append(deck[k])\n",
    "                deck.remove(deck[k])\n",
    "            return stock\n",
    "        else:\n",
    "            print('wrong')"
   ]
  },
  {
   "cell_type": "code",
   "execution_count": 143,
   "metadata": {},
   "outputs": [],
   "source": [
    "def sortcards(hand):\n",
    "    stock=[]\n",
    "    stock2 =[]\n",
    "    for c in hand:\n",
    "        stock.append(c.value)\n",
    "    for i in range(len(stock)):\n",
    "        k = min(stock)\n",
    "        stock2.append(hand[stock.index(k)])\n",
    "        hand.remove(hand[stock.index(k)])\n",
    "        stock.remove(k)\n",
    "    print(stock2)\n",
    "    return stock2"
   ]
  },
  {
   "cell_type": "code",
   "execution_count": 151,
   "metadata": {},
   "outputs": [],
   "source": [
    "def winningcondition(hand):\n",
    "    stock=[]\n",
    "    stock2=[]\n",
    "    stock3=[]\n",
    "    rank = [1]\n",
    "    for c in hand:\n",
    "        stock.append(c.value)\n",
    "    for c in hand:\n",
    "        stock2.append(c.suit)\n",
    "    if 0 in stock and  9 in stock and 10 in stock and 11 in stock and 12 in stock:\n",
    "        if stock2.count(0) ==5 or stock2.count(1) ==5 or stock2.count(2) ==5 or stock2.count(3) ==5:\n",
    "            print('Royal Straight Flush !!')\n",
    "            rank.append(10)\n",
    "        else:\n",
    "            print('Straight')\n",
    "            rank.append(5)\n",
    "    for y in stock: \n",
    "        if y in stock and y+1 in stock and y+2 in stock and y+3 in stock and y+4 in stock:\n",
    "            if stock2.count(0) ==5 or stock2.count(1) ==5 or stock2.count(2) ==5 or stock2.count(3) ==5:\n",
    "                    print('Straight Flush')\n",
    "                    rank.append(9)\n",
    "            else:\n",
    "                print('Straight')\n",
    "                rank.append(5)\n",
    "    for i in range(len(stock)):\n",
    "        stock3.append(stock.count(stock[i]))\n",
    "    if 4 in stock3:\n",
    "        print('Four of a kind')\n",
    "        rank.append(8)\n",
    "    if 3 in stock3:\n",
    "        if 2 in stock3:\n",
    "            print('Full house')\n",
    "            rank.append(7)\n",
    "        else:\n",
    "            print('Three of a kind')\n",
    "            rank.append(4)\n",
    "            \n",
    "    if stock3.count(2)==4:\n",
    "        print('Two pair')\n",
    "        rank.append(3)\n",
    "    if stock3.count(2)==2:\n",
    "        \n",
    "        print('Pair')\n",
    "        rank.append(2)\n",
    "        \n",
    "    if stock2.count(0) ==5 or stock2.count(1) ==5 or stock2.count(2) ==5 or stock2.count(3) ==5:\n",
    "        print('Flush')\n",
    "        rank.append(6)\n",
    "    s = max(rank)\n",
    "    if s == 1:\n",
    "        print('high card')\n",
    "    return s"
   ]
  },
  {
   "cell_type": "code",
   "execution_count": 166,
   "metadata": {},
   "outputs": [
    {
     "name": "stdout",
     "output_type": "stream",
     "text": [
      "簡易five-card poker:\n",
      "------------\n",
      "你的前兩張手牌是\n",
      "[♥6, ♧7]\n",
      "請選擇下注金額\n",
      ">>40\n",
      "剩下三張是\n",
      "[♤2, ♤5, ♥7]\n",
      "對手的手牌是\n",
      "[♢3, ♢4, ♥4, ♤J, ♢Q]\n",
      "你得到Pair\n",
      "對方得到Pair\n",
      "不賺不賠\n"
     ]
    }
   ],
   "source": [
    "print('簡易five-card poker:\\n------------\\n你的前兩張手牌是')\n",
    "cards = []\n",
    "for i in range(4):\n",
    "    for k in range(13):\n",
    "        cards.append(Card(i+1,k+1))\n",
    "deck = []\n",
    "hand=[]\n",
    "deck.extend(cards)\n",
    "hand = sortcards(dealcards(2))\n",
    "stake=int(input('請選擇下注金額\\n>>'))\n",
    "print('剩下三張是')\n",
    "hand= hand + (sortcards(dealcards(3)))\n",
    "time.sleep(3)\n",
    "print('對手的手牌是')\n",
    "hand2=sortcards(dealcards(5))\n",
    "time.sleep(2)\n",
    "print('你得到',end='')\n",
    "rank=winningcondition(hand)\n",
    "print('對方得到',end='')\n",
    "rank2=winningcondition(hand2)\n",
    "time.sleep(2)\n",
    "if rank >rank2:\n",
    "    print('你贏了{}元'.format(stake))\n",
    "elif rank < rank2:\n",
    "    print('你輸了{}元'.format(stake))\n",
    "else:\n",
    "    print('不賺不賠')"
   ]
  },
  {
   "cell_type": "code",
   "execution_count": 157,
   "metadata": {},
   "outputs": [],
   "source": [
    "deck = []\n",
    "hand=[]\n",
    "deck.extend(cards)"
   ]
  },
  {
   "cell_type": "code",
   "execution_count": 158,
   "metadata": {},
   "outputs": [
    {
     "name": "stdout",
     "output_type": "stream",
     "text": [
      "[♥A, ♢2, ♤5, ♤J, ♥K]\n"
     ]
    }
   ],
   "source": [
    "hand = sortcards(dealcards(5))"
   ]
  },
  {
   "cell_type": "code",
   "execution_count": 130,
   "metadata": {},
   "outputs": [
    {
     "data": {
      "text/plain": [
       "[♥A, ♧A, ♧4, ♥7, ♧8]"
      ]
     },
     "execution_count": 130,
     "metadata": {},
     "output_type": "execute_result"
    }
   ],
   "source": [
    "hand"
   ]
  },
  {
   "cell_type": "code",
   "execution_count": 103,
   "metadata": {},
   "outputs": [],
   "source": [
    "for i in range(9,14):\n",
    "    hand.append(Card(2,i))"
   ]
  },
  {
   "cell_type": "code",
   "execution_count": 66,
   "metadata": {},
   "outputs": [],
   "source": [
    "a=[1,1,1,1,9,9,9]"
   ]
  },
  {
   "cell_type": "code",
   "execution_count": 67,
   "metadata": {},
   "outputs": [],
   "source": [
    "a.remove(9)"
   ]
  },
  {
   "cell_type": "code",
   "execution_count": 68,
   "metadata": {},
   "outputs": [
    {
     "data": {
      "text/plain": [
       "[1, 1, 1, 1, 9, 9]"
      ]
     },
     "execution_count": 68,
     "metadata": {},
     "output_type": "execute_result"
    }
   ],
   "source": [
    "a"
   ]
  },
  {
   "cell_type": "code",
   "execution_count": null,
   "metadata": {},
   "outputs": [],
   "source": []
  }
 ],
 "metadata": {
  "kernelspec": {
   "display_name": "Python 3",
   "language": "python",
   "name": "python3"
  },
  "language_info": {
   "codemirror_mode": {
    "name": "ipython",
    "version": 3
   },
   "file_extension": ".py",
   "mimetype": "text/x-python",
   "name": "python",
   "nbconvert_exporter": "python",
   "pygments_lexer": "ipython3",
   "version": "3.7.3"
  }
 },
 "nbformat": 4,
 "nbformat_minor": 2
}
