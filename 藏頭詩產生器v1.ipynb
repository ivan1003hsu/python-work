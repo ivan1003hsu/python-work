{
 "cells": [
  {
   "cell_type": "code",
   "execution_count": 9,
   "metadata": {},
   "outputs": [],
   "source": [
    "import numpy as np\n",
    "import matplotlib.pyplot as plt\n",
    "import random\n",
    "%matplotlib inline"
   ]
  },
  {
   "cell_type": "code",
   "execution_count": 21,
   "metadata": {},
   "outputs": [],
   "source": [
    "re='關關雎鳩在河之洲窈窕淑女君子好逑殷鑑不遠在夏後之世他山之石可以攻玉黃鐘毀棄瓦釜雷嗚言者無罪聞者足戒老驥伏櫪志在千里烈士暮年壯心不已捐軀赴國難視死忽如歸不要人夸顏色好,只留清氣滿乾坤千磨萬擊還堅勁,任爾東西南北風落紅不是無情物,化作春泥更護花濁酒難銷憂國淚,救時應仗出群才海曰生殘夜，江春入舊年爆竹聲中一歲除，春風送暖入屠蘇池塘生春草園柳變鳴禽東風夜放花千樹更吹落星如雨千里鶯啼綠映紅水村山郭酒旗風困人天氣近清明燕子來時新社梨花落後清明清明時節雨紛紛路上行人慾斷魂有時三點兩點雨到處十枝五枝花更能銷幾番風雨匆匆春又歸去試問捲簾人卻道海棠依舊知否應是綠肥紅瘦黃梅時節家家雨青草池塘處處蛙銀燭秋光冷畫屏輕羅小扇撲流螢天階夜色涼如水臥看牽牛織女星秋風吹渭水落葉滿長安樹樹皆秋色山山唯落暉一年好景君須記最是橙黃桔綠時最是秋風管閒事紅他楓葉白人頭無邊落木蕭蕭下不盡長江滾滾來滿城風雨近重陽臘後花期知漸近寒梅已作東風信故人西辭黃鶴樓煙花三月下揚州孤帆遠影碧空盡唯見長江天際流天街小雨潤如酥草色遙看近卻無晴空一鶴排雲上便引詩情到碧霄非澹泊無以明志非寧靜無以致遠春風得意馬蹄疾一日看盡長安花江山代有才人出各領風騷數百年江雨霏霏江草齊六朝如夢鳥空啼無情最是台城柳依舊煙籠十里堤風蕭蕭兮易水寒壯士一去兮不復還兩情若是久長時又豈在朝朝暮暮與天地兮比壽與曰月兮齊光路漫漫其修遠兮吾將上下而求索舉世皆濁我獨清眾人皆醉我獨醒亦余心之所善兮雖九死其猶未悔老驥伏櫪志在千里烈士暮年壯心不已健兒須快馬快馬須健兒刑天舞干戚猛志固常在直如朱絲繩清如玉壺冰疾風知勁草板蕩識誠臣願君學長松慎勿作桃李時窮節乃現一一垂丹青生當作人傑死亦為鬼雄長安何處在只在馬蹄下莫道桑榆晚微霞尚滿天大道如青天我獨不得出少年心事當拂雲一片冰心在玉壺長風破浪會有時直掛雲帆濟滄海天生我材必有用千金散盡還復來安能摧眉折腰事權貴使我不得開心顏新松恨不高千尺惡竹應須斬萬竿千淘萬漉雖辛苦吹盡狂沙始到金時人莫小池中水淺處不妨有臥龍寧可枝頭抱香死何曾吹落北風中立志欲堅不欲銳成功在久不在速人生自古誰無死留取丹心照汗青粉身碎骨渾不怕要留青白在人間'\n",
    "re = list(re)"
   ]
  },
  {
   "cell_type": "code",
   "execution_count": 22,
   "metadata": {},
   "outputs": [
    {
     "data": {
      "text/plain": [
       "883"
      ]
     },
     "execution_count": 22,
     "metadata": {},
     "output_type": "execute_result"
    }
   ],
   "source": [
    "len(re)"
   ]
  },
  {
   "cell_type": "code",
   "execution_count": 20,
   "metadata": {},
   "outputs": [
    {
     "name": "stdout",
     "output_type": "stream",
     "text": [
      "請輸入想藏頭的字>>非韓不投\n",
      "非草北石作人金\n",
      "韓還鳥更君雨雨\n",
      "不掛君死臘送能\n",
      "投安漸星時吾者\n"
     ]
    }
   ],
   "source": [
    "word = list(input('請輸入想藏頭的字>>'))\n",
    "for i in range(len(word)):\n",
    "    ph = word[i]\n",
    "    for i in range(6):\n",
    "        ph = ph + random.choice(re)\n",
    "    print(ph)"
   ]
  },
  {
   "cell_type": "code",
   "execution_count": null,
   "metadata": {},
   "outputs": [],
   "source": []
  }
 ],
 "metadata": {
  "kernelspec": {
   "display_name": "Python 3",
   "language": "python",
   "name": "python3"
  },
  "language_info": {
   "codemirror_mode": {
    "name": "ipython",
    "version": 3
   },
   "file_extension": ".py",
   "mimetype": "text/x-python",
   "name": "python",
   "nbconvert_exporter": "python",
   "pygments_lexer": "ipython3",
   "version": "3.7.3"
  }
 },
 "nbformat": 4,
 "nbformat_minor": 2
}
