{
 "cells": [
  {
   "cell_type": "code",
   "execution_count": 10,
   "metadata": {},
   "outputs": [],
   "source": [
    "import numpy as np\n",
    "import matplotlib.pyplot as plt\n",
    "import pandas as pd\n",
    "from numpy.random import randint"
   ]
  },
  {
   "cell_type": "code",
   "execution_count": 2,
   "metadata": {},
   "outputs": [],
   "source": [
    "st = '''\n",
    "我\n",
    "我的\n",
    "眼睛\n",
    "妳\n",
    "妳的\n",
    "心\n",
    "溫柔\n",
    "日子\n",
    "雨\n",
    "風\n",
    "天空\n",
    "雲\n",
    "等待\n",
    "哭泣\n",
    "戀愛\n",
    "相遇\n",
    "分離\n",
    "忘記\n",
    "心醉\n",
    "驀然\n",
    "吹過\n",
    "思念\n",
    "靈魂\n",
    "停止\n",
    "'''\n",
    "word_list = st.split('\\n')"
   ]
  },
  {
   "cell_type": "code",
   "execution_count": 6,
   "metadata": {},
   "outputs": [
    {
     "name": "stdout",
     "output_type": "stream",
     "text": [
      "要有幾段?\n",
      ">>10\n",
      "天空眼睛吹過相遇雨\n",
      "\n",
      "思念心心醉分離思念天空\n",
      "\n",
      "天空驀然天空雲停止\n",
      "\n",
      "日子哭泣思念靈魂心醉\n",
      "\n",
      "妳妳雨忘記我\n",
      "\n",
      "分離吹過溫柔忘記雲靈魂\n",
      "\n",
      "戀愛相遇分離妳的我的靈魂\n",
      "\n",
      "眼睛溫柔哭泣雲\n",
      "\n",
      "溫柔妳雨靈魂\n",
      "\n",
      "天空靈魂分離哭泣停止\n",
      "\n"
     ]
    }
   ],
   "source": [
    "k = 0\n",
    "ph = input('要有幾段?\\n>>')\n",
    "ph = int(ph)\n",
    "while k < ph:\n",
    "    a=''\n",
    "    i=0\n",
    "    w = randint(5,7)\n",
    "    while i != w :\n",
    "        a = a+ word_list[randint(0,len(word_list))]\n",
    "        i = i+1\n",
    "    print((a)+'\\n')\n",
    "    k = k+1"
   ]
  },
  {
   "cell_type": "code",
   "execution_count": 13,
   "metadata": {},
   "outputs": [
    {
     "data": {
      "text/plain": [
       "\"['', '我', '我的', '眼睛', '妳', '妳的', '心', '溫柔', '日子', '雨', '風', '天空', '雲', '等待', '哭泣', '戀愛', '相遇', '分離', '忘記', '心醉', '驀然', '吹過', '思念', '靈魂', '停止', '']\""
      ]
     },
     "execution_count": 13,
     "metadata": {},
     "output_type": "execute_result"
    }
   ],
   "source": [
    "str(word_list)"
   ]
  },
  {
   "cell_type": "code",
   "execution_count": 11,
   "metadata": {},
   "outputs": [
    {
     "name": "stdout",
     "output_type": "stream",
     "text": [
      "File `文青機器人.py` exists. Overwrite (y/[N])?  y\n",
      "The following commands were written to file `文青機器人.py`:\n",
      "import numpy as np\n",
      "import matplotlib.pyplot as plt\n",
      "import pandas as pd\n",
      "from numpy.random import randint\n",
      "st = '''\n",
      "我\n",
      "我的\n",
      "眼睛\n",
      "妳\n",
      "妳的\n",
      "心\n",
      "溫柔\n",
      "日子\n",
      "雨\n",
      "風\n",
      "天空\n",
      "雲\n",
      "等待\n",
      "哭泣\n",
      "戀愛\n",
      "相遇\n",
      "分離\n",
      "忘記\n",
      "心醉\n",
      "驀然\n",
      "吹過\n",
      "思念\n",
      "靈魂\n",
      "停止\n",
      "'''\n",
      "word_list = st.split('\\n')\n",
      "k = 0\n",
      "ph = input('要有幾段?\\n>>')\n",
      "ph = int(ph)\n",
      "while k < ph:\n",
      "    a=''\n",
      "    i=0\n",
      "    w = randint(5,7)\n",
      "    while i != w :\n",
      "        a = a+ word_list[randint(0,len(word_list))]\n",
      "        i = i+1\n",
      "    print((a)+'\\n')\n",
      "    k = k+1\n"
     ]
    }
   ],
   "source": [
    "#1 2 6\n",
    "%save 文青機器人 10 2 6"
   ]
  },
  {
   "cell_type": "code",
   "execution_count": null,
   "metadata": {},
   "outputs": [],
   "source": []
  }
 ],
 "metadata": {
  "kernelspec": {
   "display_name": "Python 3",
   "language": "python",
   "name": "python3"
  },
  "language_info": {
   "codemirror_mode": {
    "name": "ipython",
    "version": 3
   },
   "file_extension": ".py",
   "mimetype": "text/x-python",
   "name": "python",
   "nbconvert_exporter": "python",
   "pygments_lexer": "ipython3",
   "version": "3.7.3"
  }
 },
 "nbformat": 4,
 "nbformat_minor": 2
}
