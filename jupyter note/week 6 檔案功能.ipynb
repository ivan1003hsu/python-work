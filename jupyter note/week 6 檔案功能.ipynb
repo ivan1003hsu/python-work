{
 "cells": [
  {
   "cell_type": "code",
   "execution_count": 1,
   "metadata": {},
   "outputs": [],
   "source": [
    "import numpy as np\n",
    "import matplotlib.pyplot as plt\n",
    "import pandas as pd\n",
    "%matplotlib inline"
   ]
  },
  {
   "cell_type": "code",
   "execution_count": 2,
   "metadata": {},
   "outputs": [],
   "source": [
    "classicst = '我不做人類啦JOJO!'"
   ]
  },
  {
   "cell_type": "code",
   "execution_count": 3,
   "metadata": {},
   "outputs": [],
   "source": [
    "class Card:\n",
    "    suit = 4\n",
    "    value = 13"
   ]
  },
  {
   "cell_type": "code",
   "execution_count": 4,
   "metadata": {},
   "outputs": [],
   "source": [
    "card01 = Card()"
   ]
  },
  {
   "cell_type": "code",
   "execution_count": 5,
   "metadata": {},
   "outputs": [
    {
     "data": {
      "text/plain": [
       "<__main__.Card at 0x19514c96eb8>"
      ]
     },
     "execution_count": 5,
     "metadata": {},
     "output_type": "execute_result"
    }
   ],
   "source": [
    "card01"
   ]
  },
  {
   "cell_type": "code",
   "execution_count": 6,
   "metadata": {},
   "outputs": [
    {
     "data": {
      "text/plain": [
       "4"
      ]
     },
     "execution_count": 6,
     "metadata": {},
     "output_type": "execute_result"
    }
   ],
   "source": [
    "card01.suit"
   ]
  },
  {
   "cell_type": "code",
   "execution_count": 7,
   "metadata": {},
   "outputs": [],
   "source": [
    "card01.suit =2"
   ]
  },
  {
   "cell_type": "code",
   "execution_count": 9,
   "metadata": {},
   "outputs": [
    {
     "data": {
      "text/plain": [
       "2"
      ]
     },
     "execution_count": 9,
     "metadata": {},
     "output_type": "execute_result"
    }
   ],
   "source": [
    "card01.suit"
   ]
  },
  {
   "cell_type": "markdown",
   "metadata": {},
   "source": [
    "## 希望\n",
    "        card01 = Card(1,10)\n",
    "        \n",
    "## 方法\n",
    "        __init__\n",
    "        (雙底線)"
   ]
  },
  {
   "cell_type": "code",
   "execution_count": 10,
   "metadata": {},
   "outputs": [],
   "source": [
    "class Card:\n",
    "    def __init__(self,r,s):\n",
    "        self.suit = r\n",
    "        self.value = s"
   ]
  },
  {
   "cell_type": "code",
   "execution_count": 11,
   "metadata": {},
   "outputs": [],
   "source": [
    "card01 = Card(2,10)"
   ]
  },
  {
   "cell_type": "code",
   "execution_count": 13,
   "metadata": {},
   "outputs": [
    {
     "data": {
      "text/plain": [
       "2"
      ]
     },
     "execution_count": 13,
     "metadata": {},
     "output_type": "execute_result"
    }
   ],
   "source": [
    "card01.suit"
   ]
  },
  {
   "cell_type": "code",
   "execution_count": 64,
   "metadata": {},
   "outputs": [],
   "source": [
    "class Card:\n",
    "    SUIT = ['♧','♢','♥''♤']\n",
    "    VALUE = ['A', '2', '3', '4', '5', '6', '7', '8', '9', '10', 'J', 'Q', 'K']\n",
    "    \n",
    "    def __init__(self,r,s):\n",
    "        self.suit = r-1\n",
    "        self.value = s-1\n",
    "        \n",
    "    def show(self):\n",
    "        thecard = self.SUIT[self.suit] + self.VALUE[self.value]\n",
    "        print(thecard)\n",
    "    \n",
    "    def __repr__(self):\n",
    "        thecard = self.SUIT[self.suit] + self.VALUE[self.value]\n",
    "        return thecard\n",
    "        "
   ]
  },
  {
   "cell_type": "code",
   "execution_count": 65,
   "metadata": {},
   "outputs": [],
   "source": [
    "card01 = Card(1,6)"
   ]
  },
  {
   "cell_type": "code",
   "execution_count": 66,
   "metadata": {},
   "outputs": [
    {
     "data": {
      "text/plain": [
       "<bound method Card.show of ♧6>"
      ]
     },
     "execution_count": 66,
     "metadata": {},
     "output_type": "execute_result"
    }
   ],
   "source": [
    "card01.show"
   ]
  },
  {
   "cell_type": "code",
   "execution_count": 67,
   "metadata": {},
   "outputs": [
    {
     "data": {
      "text/plain": [
       "♧6"
      ]
     },
     "execution_count": 67,
     "metadata": {},
     "output_type": "execute_result"
    }
   ],
   "source": [
    "card01"
   ]
  },
  {
   "cell_type": "markdown",
   "metadata": {},
   "source": [
    "———————————————————————————————————————————————————\n",
    "## python 檔案功能"
   ]
  },
  {
   "cell_type": "code",
   "execution_count": 23,
   "metadata": {},
   "outputs": [],
   "source": [
    "dic = {'apple':'蘋果','orange':'橘子','pineapple':'鳳梨'}"
   ]
  },
  {
   "cell_type": "code",
   "execution_count": 56,
   "metadata": {},
   "outputs": [
    {
     "data": {
      "text/plain": [
       "dict_keys(['apple', 'orange', 'pineapple'])"
      ]
     },
     "execution_count": 56,
     "metadata": {},
     "output_type": "execute_result"
    }
   ],
   "source": [
    "dic.keys()"
   ]
  },
  {
   "cell_type": "code",
   "execution_count": 58,
   "metadata": {},
   "outputs": [
    {
     "data": {
      "text/plain": [
       "dict_values(['蘋果', '橘子', '鳳梨'])"
      ]
     },
     "execution_count": 58,
     "metadata": {},
     "output_type": "execute_result"
    }
   ],
   "source": [
    "dic.values()"
   ]
  },
  {
   "cell_type": "code",
   "execution_count": 59,
   "metadata": {},
   "outputs": [
    {
     "name": "stdout",
     "output_type": "stream",
     "text": [
      "apple,蘋果\n",
      "orange,橘子\n",
      "pineapple,鳳梨\n"
     ]
    }
   ],
   "source": [
    "for eng in dic.keys():\n",
    "    print(eng + ',' + dic[eng])"
   ]
  },
  {
   "cell_type": "code",
   "execution_count": 69,
   "metadata": {},
   "outputs": [],
   "source": [
    "f = open('week6dic.csv','w')"
   ]
  },
  {
   "cell_type": "code",
   "execution_count": 70,
   "metadata": {},
   "outputs": [],
   "source": [
    "for eng in dic.keys():\n",
    "    print(eng + ',' + dic[eng], file=f)"
   ]
  },
  {
   "cell_type": "code",
   "execution_count": 71,
   "metadata": {},
   "outputs": [],
   "source": [
    "f.close()"
   ]
  },
  {
   "cell_type": "code",
   "execution_count": 72,
   "metadata": {},
   "outputs": [
    {
     "name": "stdout",
     "output_type": "stream",
     "text": [
      " 磁碟區 C 中的磁碟是 system\n",
      " 磁碟區序號:  B0C7-63B0\n",
      "\n",
      " C:\\Users\\kernel\\Desktop\\jupyter note 的目錄\n",
      "\n",
      "2019/10/16 週三  上午 10:25    <DIR>          .\n",
      "2019/10/16 週三  上午 10:25    <DIR>          ..\n",
      "2019/10/16 週三  上午 09:17    <DIR>          .ipynb_checkpoints\n",
      "2019/10/02 週三  上午 10:08               576 POEM.py\n",
      "2019/10/07 週一  上午 09:09           105,070 Untitled.ipynb\n",
      "2019/10/16 週三  上午 10:25             6,554 week 6.ipynb\n",
      "2019/10/09 週三  上午 11:43            27,535 week5 5.ipynb\n",
      "2019/10/16 週三  上午 10:25                41 week6dic.csv\n",
      "2019/10/15 週二  下午 09:41             4,674 文青機器人.ipynb\n",
      "2019/10/07 週一  上午 10:01            47,857 多像式函數圖形.ipynb\n",
      "2019/09/30 週一  下午 06:05             8,728 作業.ipynb\n",
      "2019/10/01 週二  下午 12:21           122,239 拉格朗日插植.JPG\n",
      "2019/09/27 週五  下午 07:52           208,533 拋物線.JPG\n",
      "2019/10/08 週二  下午 01:38             2,794 拿彈珠.ipynb\n",
      "2019/10/14 週一  下午 09:12            80,289 動畫.ipynb\n",
      "2019/10/07 週一  上午 09:41             2,545 菱形.ipynb\n",
      "2019/10/07 週一  上午 09:44            13,623 數據分析_回歸直線.ipynb\n",
      "2019/10/01 週二  下午 11:52           123,297 數據分析1.JPG\n",
      "2019/10/07 週一  上午 10:50             3,354 線性調分.ipynb\n",
      "2019/10/14 週一  下午 05:37            72,560 擊退阿共.ipynb\n",
      "2019/10/15 週二  下午 10:03             6,162 藏頭詩產生器v2.ipynb\n",
      "              18 個檔案         836,431 位元組\n",
      "               3 個目錄  37,145,071,616 位元組可用\n"
     ]
    }
   ],
   "source": [
    "%ls"
   ]
  },
  {
   "cell_type": "code",
   "execution_count": 73,
   "metadata": {},
   "outputs": [
    {
     "name": "stdout",
     "output_type": "stream",
     "text": [
      "apple,蘋果\n",
      "orange,橘子\n",
      "pineapple,鳳梨\n"
     ]
    }
   ],
   "source": [
    "!type week6dic.csv"
   ]
  },
  {
   "cell_type": "markdown",
   "metadata": {},
   "source": [
    "## 讀回檔案"
   ]
  },
  {
   "cell_type": "code",
   "execution_count": 1,
   "metadata": {},
   "outputs": [],
   "source": [
    "f = open('week6dic.csv','r')"
   ]
  },
  {
   "cell_type": "code",
   "execution_count": 2,
   "metadata": {},
   "outputs": [],
   "source": [
    "mydata = f.readlines()"
   ]
  },
  {
   "cell_type": "code",
   "execution_count": 3,
   "metadata": {},
   "outputs": [],
   "source": [
    "f.close()"
   ]
  },
  {
   "cell_type": "code",
   "execution_count": 4,
   "metadata": {},
   "outputs": [
    {
     "data": {
      "text/plain": [
       "['apple,蘋果\\n', 'orange,橘子\\n', 'pineapple,鳳梨\\n']"
      ]
     },
     "execution_count": 4,
     "metadata": {},
     "output_type": "execute_result"
    }
   ],
   "source": [
    "mydata "
   ]
  },
  {
   "cell_type": "code",
   "execution_count": 6,
   "metadata": {},
   "outputs": [
    {
     "data": {
      "text/plain": [
       "['apple,蘋果\\n', 'orange,橘子\\n', 'pineapple,鳳梨\\n']"
      ]
     },
     "execution_count": 6,
     "metadata": {},
     "output_type": "execute_result"
    }
   ],
   "source": [
    "list(mydata)"
   ]
  },
  {
   "cell_type": "code",
   "execution_count": 7,
   "metadata": {},
   "outputs": [
    {
     "name": "stdout",
     "output_type": "stream",
     "text": [
      "apple,蘋果\n",
      "\n",
      "orange,橘子\n",
      "\n",
      "pineapple,鳳梨\n",
      "\n"
     ]
    }
   ],
   "source": [
    "for line in mydata:\n",
    "    print(line)"
   ]
  },
  {
   "cell_type": "code",
   "execution_count": 10,
   "metadata": {},
   "outputs": [],
   "source": [
    "def rstrip(i):\n",
    "    i = i.rstrip('\\n')\n",
    "    return i"
   ]
  },
  {
   "cell_type": "code",
   "execution_count": 16,
   "metadata": {},
   "outputs": [],
   "source": [
    "mydata = list(map(rstrip,mydata))"
   ]
  },
  {
   "cell_type": "code",
   "execution_count": 17,
   "metadata": {},
   "outputs": [
    {
     "name": "stdout",
     "output_type": "stream",
     "text": [
      "apple,蘋果\n",
      "orange,橘子\n",
      "pineapple,鳳梨\n"
     ]
    }
   ],
   "source": [
    "for line in mydata:\n",
    "    print(line)"
   ]
  },
  {
   "cell_type": "code",
   "execution_count": 18,
   "metadata": {},
   "outputs": [
    {
     "data": {
      "text/plain": [
       "['apple,蘋果', 'orange,橘子', 'pineapple,鳳梨']"
      ]
     },
     "execution_count": 18,
     "metadata": {},
     "output_type": "execute_result"
    }
   ],
   "source": [
    "mydata"
   ]
  },
  {
   "cell_type": "code",
   "execution_count": 21,
   "metadata": {},
   "outputs": [],
   "source": [
    "new_dic={}\n",
    "for line in mydata:\n",
    "    eng , chi = line.split(',')\n",
    "    new_dic[eng]=chi"
   ]
  },
  {
   "cell_type": "code",
   "execution_count": 22,
   "metadata": {},
   "outputs": [
    {
     "data": {
      "text/plain": [
       "{'apple': '蘋果', 'orange': '橘子', 'pineapple': '鳳梨'}"
      ]
     },
     "execution_count": 22,
     "metadata": {},
     "output_type": "execute_result"
    }
   ],
   "source": [
    "new_dic"
   ]
  },
  {
   "cell_type": "markdown",
   "metadata": {},
   "source": [
    "## python pickle 存取方式"
   ]
  },
  {
   "cell_type": "code",
   "execution_count": 24,
   "metadata": {},
   "outputs": [
    {
     "data": {
      "text/plain": [
       "{'apple': '蘋果', 'orange': '橘子', 'pineapple': '鳳梨'}"
      ]
     },
     "execution_count": 24,
     "metadata": {},
     "output_type": "execute_result"
    }
   ],
   "source": [
    "dic"
   ]
  },
  {
   "cell_type": "code",
   "execution_count": 25,
   "metadata": {},
   "outputs": [],
   "source": [
    "import pickle"
   ]
  },
  {
   "cell_type": "code",
   "execution_count": 28,
   "metadata": {},
   "outputs": [],
   "source": [
    "f = open('week6.pickle','wb')"
   ]
  },
  {
   "cell_type": "markdown",
   "metadata": {},
   "source": [
    "##### 'wb' 二進位檔"
   ]
  },
  {
   "cell_type": "code",
   "execution_count": 29,
   "metadata": {},
   "outputs": [],
   "source": [
    "pickle.dump(dic,f)"
   ]
  },
  {
   "cell_type": "code",
   "execution_count": 30,
   "metadata": {},
   "outputs": [],
   "source": [
    "f.close()"
   ]
  },
  {
   "cell_type": "code",
   "execution_count": 31,
   "metadata": {},
   "outputs": [
    {
     "name": "stdout",
     "output_type": "stream",
     "text": [
      " 磁碟區 C 中的磁碟是 system\n",
      " 磁碟區序號:  B0C7-63B0\n",
      "\n",
      " C:\\Users\\kernel\\Desktop\\jupyter note 的目錄\n",
      "\n",
      "2019/10/16 週三  上午 10:57    <DIR>          .\n",
      "2019/10/16 週三  上午 10:57    <DIR>          ..\n",
      "2019/10/16 週三  上午 09:17    <DIR>          .ipynb_checkpoints\n",
      "2019/10/02 週三  上午 10:08               576 POEM.py\n",
      "2019/10/07 週一  上午 09:09           105,070 Untitled.ipynb\n",
      "2019/10/16 週三  上午 10:57            13,463 week 6.ipynb\n",
      "2019/10/09 週三  上午 11:43            27,535 week5 5.ipynb\n",
      "2019/10/16 週三  上午 10:57                88 week6.pickle\n",
      "2019/10/16 週三  上午 10:25                41 week6dic.csv\n",
      "2019/10/15 週二  下午 09:41             4,674 文青機器人.ipynb\n",
      "2019/10/07 週一  上午 10:01            47,857 多像式函數圖形.ipynb\n",
      "2019/09/30 週一  下午 06:05             8,728 作業.ipynb\n",
      "2019/10/01 週二  下午 12:21           122,239 拉格朗日插植.JPG\n",
      "2019/09/27 週五  下午 07:52           208,533 拋物線.JPG\n",
      "2019/10/08 週二  下午 01:38             2,794 拿彈珠.ipynb\n",
      "2019/10/14 週一  下午 09:12            80,289 動畫.ipynb\n",
      "2019/10/07 週一  上午 09:41             2,545 菱形.ipynb\n",
      "2019/10/07 週一  上午 09:44            13,623 數據分析_回歸直線.ipynb\n",
      "2019/10/01 週二  下午 11:52           123,297 數據分析1.JPG\n",
      "2019/10/07 週一  上午 10:50             3,354 線性調分.ipynb\n",
      "2019/10/14 週一  下午 05:37            72,560 擊退阿共.ipynb\n",
      "2019/10/15 週二  下午 10:03             6,162 藏頭詩產生器v2.ipynb\n",
      "              19 個檔案         843,428 位元組\n",
      "               3 個目錄  37,144,416,256 位元組可用\n"
     ]
    }
   ],
   "source": [
    "%ls"
   ]
  },
  {
   "cell_type": "code",
   "execution_count": 32,
   "metadata": {},
   "outputs": [],
   "source": [
    "f = open('week6.pickle','rb')"
   ]
  },
  {
   "cell_type": "code",
   "execution_count": 33,
   "metadata": {},
   "outputs": [],
   "source": [
    "new_new_dic=pickle.load(f)"
   ]
  },
  {
   "cell_type": "code",
   "execution_count": 34,
   "metadata": {},
   "outputs": [],
   "source": [
    "f.close()"
   ]
  },
  {
   "cell_type": "code",
   "execution_count": 35,
   "metadata": {},
   "outputs": [
    {
     "data": {
      "text/plain": [
       "{'apple': '蘋果', 'orange': '橘子', 'pineapple': '鳳梨'}"
      ]
     },
     "execution_count": 35,
     "metadata": {},
     "output_type": "execute_result"
    }
   ],
   "source": [
    "new_new_dic"
   ]
  },
  {
   "cell_type": "code",
   "execution_count": 76,
   "metadata": {},
   "outputs": [
    {
     "name": "stdout",
     "output_type": "stream",
     "text": [
      "Overwriting week6test.txt\n"
     ]
    }
   ],
   "source": [
    "%%writefile \"week6test.txt\"\n",
    "air   cloud\n",
    "obstacle bike     sky"
   ]
  },
  {
   "cell_type": "code",
   "execution_count": 38,
   "metadata": {},
   "outputs": [
    {
     "name": "stdout",
     "output_type": "stream",
     "text": [
      " 磁碟區 C 中的磁碟是 system\n",
      " 磁碟區序號:  B0C7-63B0\n",
      "\n",
      " C:\\Users\\kernel\\Desktop\\jupyter note 的目錄\n",
      "\n",
      "2019/10/16 週三  上午 11:18    <DIR>          .\n",
      "2019/10/16 週三  上午 11:18    <DIR>          ..\n",
      "2019/10/16 週三  上午 09:17    <DIR>          .ipynb_checkpoints\n",
      "2019/10/02 週三  上午 10:08               576 POEM.py\n",
      "2019/10/07 週一  上午 09:09           105,070 Untitled.ipynb\n",
      "2019/10/16 週三  上午 11:17            16,511 week 6.ipynb\n",
      "2019/10/09 週三  上午 11:43            27,535 week5 5.ipynb\n",
      "2019/10/16 週三  上午 10:57                88 week6.pickle\n",
      "2019/10/16 週三  上午 10:25                41 week6dic.csv\n",
      "2019/10/16 週三  上午 11:18                92 week6test.txt\n",
      "2019/10/15 週二  下午 09:41             4,674 文青機器人.ipynb\n",
      "2019/10/07 週一  上午 10:01            47,857 多像式函數圖形.ipynb\n",
      "2019/09/30 週一  下午 06:05             8,728 作業.ipynb\n",
      "2019/10/01 週二  下午 12:21           122,239 拉格朗日插植.JPG\n",
      "2019/09/27 週五  下午 07:52           208,533 拋物線.JPG\n",
      "2019/10/08 週二  下午 01:38             2,794 拿彈珠.ipynb\n",
      "2019/10/14 週一  下午 09:12            80,289 動畫.ipynb\n",
      "2019/10/07 週一  上午 09:41             2,545 菱形.ipynb\n",
      "2019/10/07 週一  上午 09:44            13,623 數據分析_回歸直線.ipynb\n",
      "2019/10/01 週二  下午 11:52           123,297 數據分析1.JPG\n",
      "2019/10/07 週一  上午 10:50             3,354 線性調分.ipynb\n",
      "2019/10/14 週一  下午 05:37            72,560 擊退阿共.ipynb\n",
      "2019/10/15 週二  下午 10:03             6,162 藏頭詩產生器v2.ipynb\n",
      "              20 個檔案         846,568 位元組\n",
      "               3 個目錄  37,120,626,688 位元組可用\n"
     ]
    }
   ],
   "source": [
    "%ls"
   ]
  },
  {
   "cell_type": "code",
   "execution_count": 77,
   "metadata": {},
   "outputs": [
    {
     "name": "stdout",
     "output_type": "stream",
     "text": [
      "air   cloud\n",
      "obstacle bike     sky\n"
     ]
    }
   ],
   "source": [
    "!type week6test.txt"
   ]
  },
  {
   "cell_type": "code",
   "execution_count": 78,
   "metadata": {},
   "outputs": [],
   "source": [
    "f = open('week6test.txt','r')"
   ]
  },
  {
   "cell_type": "code",
   "execution_count": 79,
   "metadata": {},
   "outputs": [],
   "source": [
    "spam = f.readlines()"
   ]
  },
  {
   "cell_type": "code",
   "execution_count": 80,
   "metadata": {},
   "outputs": [],
   "source": [
    "f.close()"
   ]
  },
  {
   "cell_type": "code",
   "execution_count": 81,
   "metadata": {},
   "outputs": [
    {
     "data": {
      "text/plain": [
       "['air   cloud\\n', 'obstacle bike     sky\\n']"
      ]
     },
     "execution_count": 81,
     "metadata": {},
     "output_type": "execute_result"
    }
   ],
   "source": [
    "spam"
   ]
  },
  {
   "cell_type": "code",
   "execution_count": 82,
   "metadata": {},
   "outputs": [],
   "source": [
    "line = spam[0].split(' ')"
   ]
  },
  {
   "cell_type": "code",
   "execution_count": 83,
   "metadata": {},
   "outputs": [],
   "source": [
    "for i in range(line.count('')):\n",
    "    line.remove('')"
   ]
  },
  {
   "cell_type": "code",
   "execution_count": 84,
   "metadata": {},
   "outputs": [
    {
     "data": {
      "text/plain": [
       "['air', 'cloud\\n']"
      ]
     },
     "execution_count": 84,
     "metadata": {},
     "output_type": "execute_result"
    }
   ],
   "source": [
    "line"
   ]
  },
  {
   "cell_type": "code",
   "execution_count": 85,
   "metadata": {},
   "outputs": [],
   "source": [
    "k = []\n",
    "for i in range(len(spam)):\n",
    "    k = spam[i].rstrip('\\n').split() +k\n"
   ]
  },
  {
   "cell_type": "code",
   "execution_count": 86,
   "metadata": {},
   "outputs": [
    {
     "data": {
      "text/plain": [
       "['obstacle', 'bike', 'sky', 'air', 'cloud']"
      ]
     },
     "execution_count": 86,
     "metadata": {},
     "output_type": "execute_result"
    }
   ],
   "source": [
    "k"
   ]
  },
  {
   "cell_type": "code",
   "execution_count": null,
   "metadata": {},
   "outputs": [],
   "source": []
  }
 ],
 "metadata": {
  "kernelspec": {
   "display_name": "Python 3",
   "language": "python",
   "name": "python3"
  },
  "language_info": {
   "codemirror_mode": {
    "name": "ipython",
    "version": 3
   },
   "file_extension": ".py",
   "mimetype": "text/x-python",
   "name": "python",
   "nbconvert_exporter": "python",
   "pygments_lexer": "ipython3",
   "version": "3.7.3"
  }
 },
 "nbformat": 4,
 "nbformat_minor": 2
}
