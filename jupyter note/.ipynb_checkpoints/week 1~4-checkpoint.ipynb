{
 "cells": [
  {
   "cell_type": "code",
   "execution_count": 8,
   "metadata": {},
   "outputs": [
    {
     "name": "stdout",
     "output_type": "stream",
     "text": [
      "你的大名:ivan\n",
      "你好!\n",
      "請在1~100猜一數\n",
      "52\n",
      ">>50\n",
      "太小了\n",
      "\n",
      "----------------------------\n",
      "請在50~100猜一數\n",
      ">>75\n",
      " 太大了!\n",
      "\n",
      "----------------------------\n",
      "請在50~75猜一數\n",
      ">>62\n",
      " 太大了!\n",
      "\n",
      "----------------------------\n",
      "請在50~62猜一數\n",
      ">>58\n",
      " 太大了!\n",
      "\n",
      "----------------------------\n",
      "請在50~58猜一數\n",
      ">>54\n",
      " 太大了!\n",
      "\n",
      "----------------------------\n",
      "請在50~54猜一數\n",
      ">>52\n",
      "\n",
      "----------------------------\n",
      "正確!\n",
      "ivan在第6次答對了!\n"
     ]
    }
   ],
   "source": [
    "import random\n",
    "large = 100\n",
    "small = 1\n",
    "a = random.randint(1,100)\n",
    "g = 0\n",
    "n = 1\n",
    "name = input('你的大名:')\n",
    "print('''你好!\n",
    "請在{}~{}猜一數'''.format(small, large))\n",
    "print(a)\n",
    "g = int(input('>>'))\n",
    "g = int(g)\n",
    "while a != g :\n",
    "    if g >= large or g <= small : \n",
    "        print('錯誤')\n",
    "    elif g < a:\n",
    "        print('太小了')\n",
    "        small = g\n",
    "    elif g > a:\n",
    "        print('太大了!')\n",
    "        large = g\n",
    "    else :\n",
    "        print('錯誤!')\n",
    "    \n",
    "    print('''\n",
    "----------------------------\n",
    "請在{}~{}猜一數'''.format(small, large))\n",
    "    g = int(input('>>'))\n",
    "    g = int(g)\n",
    "    n = n+1\n",
    "print('''\n",
    "----------------------------\n",
    "正確!\n",
    "{}在第{}次答對了!'''.format(name,n))"
   ]
  },
  {
   "cell_type": "code",
   "execution_count": 7,
   "metadata": {},
   "outputs": [
    {
     "name": "stdout",
     "output_type": "stream",
     "text": [
      "美金:56\n",
      "美金56折合台幣1736.0\n"
     ]
    }
   ],
   "source": [
    "dollar = input('美金:')\n",
    "nt = float(dollar)*31\n",
    "print('美金{}折合台幣{}'.format(dollar, nt) )"
   ]
  },
  {
   "cell_type": "code",
   "execution_count": 18,
   "metadata": {},
   "outputs": [
    {
     "name": "stdout",
     "output_type": "stream",
     "text": [
      "請輸入考試分數 (1-100)：rl\n"
     ]
    },
    {
     "ename": "ValueError",
     "evalue": "invalid literal for int() with base 10: 'rl'",
     "output_type": "error",
     "traceback": [
      "\u001b[1;31m---------------------------------------------------------------------------\u001b[0m",
      "\u001b[1;31mValueError\u001b[0m                                Traceback (most recent call last)",
      "\u001b[1;32m<ipython-input-18-bbd96d26d9e9>\u001b[0m in \u001b[0;36m<module>\u001b[1;34m\u001b[0m\n\u001b[1;32m----> 1\u001b[1;33m \u001b[0mscore\u001b[0m \u001b[1;33m=\u001b[0m \u001b[0mint\u001b[0m\u001b[1;33m(\u001b[0m\u001b[0minput\u001b[0m\u001b[1;33m(\u001b[0m\u001b[1;34m'請輸入考試分數 (1-100)：'\u001b[0m\u001b[1;33m)\u001b[0m\u001b[1;33m)\u001b[0m\u001b[1;33m\u001b[0m\u001b[1;33m\u001b[0m\u001b[0m\n\u001b[0m\u001b[0;32m      2\u001b[0m \u001b[1;33m\u001b[0m\u001b[0m\n\u001b[0;32m      3\u001b[0m \u001b[1;32mif\u001b[0m \u001b[0mscore\u001b[0m \u001b[1;33m>\u001b[0m \u001b[1;36m100\u001b[0m\u001b[1;33m:\u001b[0m\u001b[1;33m\u001b[0m\u001b[1;33m\u001b[0m\u001b[0m\n\u001b[0;32m      4\u001b[0m     \u001b[0mprint\u001b[0m\u001b[1;33m(\u001b[0m\u001b[1;34m'請勿亂輸入！'\u001b[0m\u001b[1;33m)\u001b[0m\u001b[1;33m\u001b[0m\u001b[1;33m\u001b[0m\u001b[0m\n\u001b[0;32m      5\u001b[0m \u001b[1;32melif\u001b[0m \u001b[0mscore\u001b[0m \u001b[1;33m>=\u001b[0m \u001b[1;36m90\u001b[0m \u001b[1;32mand\u001b[0m \u001b[0mscore\u001b[0m \u001b[1;33m<=\u001b[0m \u001b[1;36m100\u001b[0m\u001b[1;33m:\u001b[0m\u001b[1;33m\u001b[0m\u001b[1;33m\u001b[0m\u001b[0m\n",
      "\u001b[1;31mValueError\u001b[0m: invalid literal for int() with base 10: 'rl'"
     ]
    }
   ],
   "source": [
    "score = int(input('請輸入考試分數 (1-100)：'))\n",
    " \n",
    "if score > 100:\n",
    "    print('請勿亂輸入！')\n",
    "elif score >= 90 and score <= 100:\n",
    "    print('成績：A+')\n",
    "elif score >= 80 and score < 90:\n",
    "    print('成績：B+')\n",
    "elif score >= 70 and score < 80:\n",
    "    print('成績：B')\n",
    "else:\n",
    "    print('成績：C')"
   ]
  },
  {
   "cell_type": "code",
   "execution_count": 6,
   "metadata": {},
   "outputs": [],
   "source": [
    "%matplotlib inline\n",
    "import numpy as np\n",
    "import matplotlib.pyplot as plt"
   ]
  },
  {
   "cell_type": "code",
   "execution_count": 13,
   "metadata": {},
   "outputs": [
    {
     "ename": "SyntaxError",
     "evalue": "invalid syntax (<ipython-input-13-336a08fdb712>, line 3)",
     "output_type": "error",
     "traceback": [
      "\u001b[1;36m  File \u001b[1;32m\"<ipython-input-13-336a08fdb712>\"\u001b[1;36m, line \u001b[1;32m3\u001b[0m\n\u001b[1;33m    if a > 4\u001b[0m\n\u001b[1;37m            ^\u001b[0m\n\u001b[1;31mSyntaxError\u001b[0m\u001b[1;31m:\u001b[0m invalid syntax\n"
     ]
    }
   ],
   "source": [
    "a = 5\n",
    "b = 4\n",
    "if a > 4\n",
    "    print('yes')\n",
    "else \n",
    "    print('f')"
   ]
  },
  {
   "cell_type": "code",
   "execution_count": 20,
   "metadata": {},
   "outputs": [],
   "source": [
    "x=[1,2,3]\n",
    "y= np.sin(x)"
   ]
  },
  {
   "cell_type": "code",
   "execution_count": 21,
   "metadata": {},
   "outputs": [
    {
     "data": {
      "text/plain": [
       "[<matplotlib.lines.Line2D at 0x16c09dba4a8>]"
      ]
     },
     "execution_count": 21,
     "metadata": {},
     "output_type": "execute_result"
    },
    {
     "data": {
      "image/png": "[encoded data removed]",
      "text/plain": [
       "<Figure size 432x288 with 1 Axes>"
      ]
     },
     "metadata": {
      "needs_background": "light"
     },
     "output_type": "display_data"
    }
   ],
   "source": [
    "plt.plot(x)"
   ]
  },
  {
   "cell_type": "code",
   "execution_count": 4,
   "metadata": {},
   "outputs": [
    {
     "name": "stdout",
     "output_type": "stream",
     "text": [
      "Populating the interactive namespace from numpy and matplotlib\n"
     ]
    },
    {
     "name": "stderr",
     "output_type": "stream",
     "text": [
      "C:\\Users\\kernel\\Anaconda3\\lib\\site-packages\\IPython\\core\\magics\\pylab.py:160: UserWarning: pylab import has clobbered these variables: ['plt']\n",
      "`%matplotlib` prevents importing * from pylab and numpy\n",
      "  \"\\n`%matplotlib` prevents importing * from pylab and numpy\"\n"
     ]
    }
   ],
   "source": [
    "%pylab inline"
   ]
  },
  {
   "cell_type": "code",
   "execution_count": 22,
   "metadata": {},
   "outputs": [
    {
     "data": {
      "text/plain": [
       "[<matplotlib.lines.Line2D at 0x16c09e28cc0>]"
      ]
     },
     "execution_count": 22,
     "metadata": {},
     "output_type": "execute_result"
    },
    {
     "data": {
      "image/png": "[encoded data removed]",
      "text/plain": [
       "<Figure size 432x288 with 1 Axes>"
      ]
     },
     "metadata": {
      "needs_background": "light"
     },
     "output_type": "display_data"
    }
   ],
   "source": [
    "plt.plot(x)"
   ]
  },
  {
   "cell_type": "code",
   "execution_count": 18,
   "metadata": {},
   "outputs": [
    {
     "data": {
      "text/plain": [
       "1.2246467991473532e-16"
      ]
     },
     "execution_count": 18,
     "metadata": {},
     "output_type": "execute_result"
    }
   ],
   "source": [
    "sin(pi)"
   ]
  },
  {
   "cell_type": "code",
   "execution_count": 17,
   "metadata": {},
   "outputs": [
    {
     "data": {
      "text/plain": [
       "1.2246467991473532e-16"
      ]
     },
     "execution_count": 17,
     "metadata": {},
     "output_type": "execute_result"
    }
   ],
   "source": [
    "np.sin(pi)"
   ]
  },
  {
   "cell_type": "code",
   "execution_count": 23,
   "metadata": {},
   "outputs": [
    {
     "data": {
      "text/plain": [
       "[<matplotlib.lines.Line2D at 0x16c09e94ef0>]"
      ]
     },
     "execution_count": 23,
     "metadata": {},
     "output_type": "execute_result"
    },
    {
     "data": {
      "image/png": "[encoded data removed]",
      "text/plain": [
       "<Figure size 432x288 with 1 Axes>"
      ]
     },
     "metadata": {
      "needs_background": "light"
     },
     "output_type": "display_data"
    }
   ],
   "source": [
    "plt.plot(x,y)"
   ]
  },
  {
   "cell_type": "code",
   "execution_count": 37,
   "metadata": {},
   "outputs": [],
   "source": [
    "x=np.linspace(-10,10,100)\n",
    "y=sin(x)"
   ]
  },
  {
   "cell_type": "code",
   "execution_count": 38,
   "metadata": {},
   "outputs": [
    {
     "data": {
      "text/plain": [
       "[<matplotlib.lines.Line2D at 0x16c0a23e9b0>]"
      ]
     },
     "execution_count": 38,
     "metadata": {},
     "output_type": "execute_result"
    },
    {
     "data": {
      "image/png": "[encoded data removed]",
      "text/plain": [
       "<Figure size 432x288 with 1 Axes>"
      ]
     },
     "metadata": {
      "needs_background": "light"
     },
     "output_type": "display_data"
    }
   ],
   "source": [
    "plt.plot(x,y)"
   ]
  },
  {
   "cell_type": "code",
   "execution_count": 39,
   "metadata": {},
   "outputs": [
    {
     "data": {
      "text/plain": [
       "<matplotlib.collections.PathCollection at 0x16c0a28b2e8>"
      ]
     },
     "execution_count": 39,
     "metadata": {},
     "output_type": "execute_result"
    },
    {
     "data": {
      "image/png": "[encoded data removed]",
      "text/plain": [
       "<Figure size 432x288 with 1 Axes>"
      ]
     },
     "metadata": {
      "needs_background": "light"
     },
     "output_type": "display_data"
    }
   ],
   "source": [
    "plt.scatter(x,y)"
   ]
  },
  {
   "cell_type": "code",
   "execution_count": 56,
   "metadata": {},
   "outputs": [
    {
     "data": {
      "text/plain": [
       "<matplotlib.rc_context at 0x16c0b4956d8>"
      ]
     },
     "execution_count": 56,
     "metadata": {},
     "output_type": "execute_result"
    }
   ],
   "source": [
    "plt.xkcd(0)"
   ]
  },
  {
   "cell_type": "code",
   "execution_count": 57,
   "metadata": {},
   "outputs": [
    {
     "data": {
      "text/plain": [
       "[<matplotlib.lines.Line2D at 0x16c0b5dd7f0>]"
      ]
     },
     "execution_count": 57,
     "metadata": {},
     "output_type": "execute_result"
    },
    {
     "data": {
      "image/png": "[encoded data removed]",
      "text/plain": [
       "<Figure size 432x288 with 1 Axes>"
      ]
     },
     "metadata": {},
     "output_type": "display_data"
    }
   ],
   "source": [
    "plt.plot(x,y)"
   ]
  },
  {
   "cell_type": "code",
   "execution_count": 59,
   "metadata": {},
   "outputs": [
    {
     "data": {
      "text/plain": [
       "array([ 0.9147794 , -0.71018176, -0.6031282 , ..., -0.66711305,\n",
       "        0.92176646, -1.63162671])"
      ]
     },
     "execution_count": 59,
     "metadata": {},
     "output_type": "execute_result"
    }
   ],
   "source": [
    "randn(1100)"
   ]
  },
  {
   "cell_type": "code",
   "execution_count": 60,
   "metadata": {},
   "outputs": [
    {
     "data": {
      "text/plain": [
       "[<matplotlib.lines.Line2D at 0x16c0b640160>]"
      ]
     },
     "execution_count": 60,
     "metadata": {},
     "output_type": "execute_result"
    },
    {
     "data": {
      "image/png": "[encoded data removed]",
      "text/plain": [
       "<Figure size 432x288 with 1 Axes>"
      ]
     },
     "metadata": {},
     "output_type": "display_data"
    }
   ],
   "source": [
    "plot(randn(100))"
   ]
  },
  {
   "cell_type": "markdown",
   "metadata": {},
   "source": [
    "文字"
   ]
  },
  {
   "cell_type": "markdown",
   "metadata": {},
   "source": [
    "# 標題\n",
    "## 次標題\n",
    "### 三級標題\n",
    "#### 四級標題\n",
    "##### 五級標題"
   ]
  },
  {
   "cell_type": "markdown",
   "metadata": {},
   "source": [
    "*分向"
   ]
  },
  {
   "cell_type": "markdown",
   "metadata": {},
   "source": [
    "* 分向"
   ]
  },
  {
   "cell_type": "markdown",
   "metadata": {},
   "source": [
    "數學符號 $ f(x) = log(x^3)(x^4) + x^5 $"
   ]
  },
  {
   "cell_type": "code",
   "execution_count": 1,
   "metadata": {},
   "outputs": [
    {
     "ename": "NameError",
     "evalue": "name 'np' is not defined",
     "output_type": "error",
     "traceback": [
      "\u001b[1;31m---------------------------------------------------------------------------\u001b[0m",
      "\u001b[1;31mNameError\u001b[0m                                 Traceback (most recent call last)",
      "\u001b[1;32m<ipython-input-1-0a6e3a4ca3d6>\u001b[0m in \u001b[0;36m<module>\u001b[1;34m\u001b[0m\n\u001b[1;32m----> 1\u001b[1;33m \u001b[0mx\u001b[0m\u001b[1;33m=\u001b[0m\u001b[0mnp\u001b[0m\u001b[1;33m.\u001b[0m\u001b[0mlinspace\u001b[0m\u001b[1;33m(\u001b[0m\u001b[1;36m0\u001b[0m\u001b[1;33m,\u001b[0m\u001b[1;36m10\u001b[0m\u001b[1;33m,\u001b[0m\u001b[1;36m1000\u001b[0m\u001b[1;33m)\u001b[0m\u001b[1;33m\u001b[0m\u001b[1;33m\u001b[0m\u001b[0m\n\u001b[0m\u001b[0;32m      2\u001b[0m \u001b[0my\u001b[0m \u001b[1;33m=\u001b[0m \u001b[0mnp\u001b[0m\u001b[1;33m.\u001b[0m\u001b[0mlog\u001b[0m\u001b[1;33m(\u001b[0m\u001b[0mx\u001b[0m\u001b[1;33m)\u001b[0m\u001b[1;33m\u001b[0m\u001b[1;33m\u001b[0m\u001b[0m\n\u001b[0;32m      3\u001b[0m \u001b[0mplt\u001b[0m\u001b[1;33m.\u001b[0m\u001b[0mplot\u001b[0m\u001b[1;33m(\u001b[0m\u001b[0mx\u001b[0m\u001b[1;33m,\u001b[0m\u001b[0my\u001b[0m\u001b[1;33m)\u001b[0m\u001b[1;33m\u001b[0m\u001b[1;33m\u001b[0m\u001b[0m\n",
      "\u001b[1;31mNameError\u001b[0m: name 'np' is not defined"
     ]
    }
   ],
   "source": [
    "x=np.linspace(0,10,1000)\n",
    "y = np.log(x)\n",
    "plt.plot(x,y)"
   ]
  },
  {
   "cell_type": "code",
   "execution_count": 9,
   "metadata": {},
   "outputs": [
    {
     "name": "stderr",
     "output_type": "stream",
     "text": [
      "C:\\Users\\kernel\\Anaconda3\\lib\\site-packages\\ipykernel_launcher.py:2: RuntimeWarning: divide by zero encountered in log\n",
      "  \n"
     ]
    },
    {
     "data": {
      "text/plain": [
       "[<matplotlib.lines.Line2D at 0x20d8ece8748>]"
      ]
     },
     "execution_count": 9,
     "metadata": {},
     "output_type": "execute_result"
    },
    {
     "data": {
      "image/png": "[encoded data removed]",
      "text/plain": [
       "<Figure size 432x288 with 1 Axes>"
      ]
     },
     "metadata": {
      "needs_background": "light"
     },
     "output_type": "display_data"
    }
   ],
   "source": [
    "x=np.linspace(0,10,1000)\n",
    "y = np.log(x)\n",
    "plt.plot(x,y)"
   ]
  },
  {
   "cell_type": "code",
   "execution_count": 25,
   "metadata": {},
   "outputs": [
    {
     "data": {
      "text/plain": [
       "[<matplotlib.lines.Line2D at 0x20d90316eb8>]"
      ]
     },
     "execution_count": 25,
     "metadata": {},
     "output_type": "execute_result"
    },
    {
     "data": {
      "image/png": "[encoded data removed]",
      "text/plain": [
       "<Figure size 432x288 with 1 Axes>"
      ]
     },
     "metadata": {
      "needs_background": "light"
     },
     "output_type": "display_data"
    }
   ],
   "source": [
    "x=np.linspace(0.01,100,1000)\n",
    "y = np.log10(x)\n",
    "plt.plot(x,y)"
   ]
  },
  {
   "cell_type": "code",
   "execution_count": 26,
   "metadata": {},
   "outputs": [
    {
     "data": {
      "text/plain": [
       "array([1.00000000e-02, 1.10090090e-01, 2.10180180e-01, 3.10270270e-01,\n",
       "       4.10360360e-01, 5.10450450e-01, 6.10540541e-01, 7.10630631e-01,\n",
       "       8.10720721e-01, 9.10810811e-01, 1.01090090e+00, 1.11099099e+00,\n",
       "       1.21108108e+00, 1.31117117e+00, 1.41126126e+00, 1.51135135e+00,\n",
       "       1.61144144e+00, 1.71153153e+00, 1.81162162e+00, 1.91171171e+00,\n",
       "       2.01180180e+00, 2.11189189e+00, 2.21198198e+00, 2.31207207e+00,\n",
       "       2.41216216e+00, 2.51225225e+00, 2.61234234e+00, 2.71243243e+00,\n",
       "       2.81252252e+00, 2.91261261e+00, 3.01270270e+00, 3.11279279e+00,\n",
       "       3.21288288e+00, 3.31297297e+00, 3.41306306e+00, 3.51315315e+00,\n",
       "       3.61324324e+00, 3.71333333e+00, 3.81342342e+00, 3.91351351e+00,\n",
       "       4.01360360e+00, 4.11369369e+00, 4.21378378e+00, 4.31387387e+00,\n",
       "       4.41396396e+00, 4.51405405e+00, 4.61414414e+00, 4.71423423e+00,\n",
       "       4.81432432e+00, 4.91441441e+00, 5.01450450e+00, 5.11459459e+00,\n",
       "       5.21468468e+00, 5.31477477e+00, 5.41486486e+00, 5.51495495e+00,\n",
       "       5.61504505e+00, 5.71513514e+00, 5.81522523e+00, 5.91531532e+00,\n",
       "       6.01540541e+00, 6.11549550e+00, 6.21558559e+00, 6.31567568e+00,\n",
       "       6.41576577e+00, 6.51585586e+00, 6.61594595e+00, 6.71603604e+00,\n",
       "       6.81612613e+00, 6.91621622e+00, 7.01630631e+00, 7.11639640e+00,\n",
       "       7.21648649e+00, 7.31657658e+00, 7.41666667e+00, 7.51675676e+00,\n",
       "       7.61684685e+00, 7.71693694e+00, 7.81702703e+00, 7.91711712e+00,\n",
       "       8.01720721e+00, 8.11729730e+00, 8.21738739e+00, 8.31747748e+00,\n",
       "       8.41756757e+00, 8.51765766e+00, 8.61774775e+00, 8.71783784e+00,\n",
       "       8.81792793e+00, 8.91801802e+00, 9.01810811e+00, 9.11819820e+00,\n",
       "       9.21828829e+00, 9.31837838e+00, 9.41846847e+00, 9.51855856e+00,\n",
       "       9.61864865e+00, 9.71873874e+00, 9.81882883e+00, 9.91891892e+00,\n",
       "       1.00190090e+01, 1.01190991e+01, 1.02191892e+01, 1.03192793e+01,\n",
       "       1.04193694e+01, 1.05194595e+01, 1.06195495e+01, 1.07196396e+01,\n",
       "       1.08197297e+01, 1.09198198e+01, 1.10199099e+01, 1.11200000e+01,\n",
       "       1.12200901e+01, 1.13201802e+01, 1.14202703e+01, 1.15203604e+01,\n",
       "       1.16204505e+01, 1.17205405e+01, 1.18206306e+01, 1.19207207e+01,\n",
       "       1.20208108e+01, 1.21209009e+01, 1.22209910e+01, 1.23210811e+01,\n",
       "       1.24211712e+01, 1.25212613e+01, 1.26213514e+01, 1.27214414e+01,\n",
       "       1.28215315e+01, 1.29216216e+01, 1.30217117e+01, 1.31218018e+01,\n",
       "       1.32218919e+01, 1.33219820e+01, 1.34220721e+01, 1.35221622e+01,\n",
       "       1.36222523e+01, 1.37223423e+01, 1.38224324e+01, 1.39225225e+01,\n",
       "       1.40226126e+01, 1.41227027e+01, 1.42227928e+01, 1.43228829e+01,\n",
       "       1.44229730e+01, 1.45230631e+01, 1.46231532e+01, 1.47232432e+01,\n",
       "       1.48233333e+01, 1.49234234e+01, 1.50235135e+01, 1.51236036e+01,\n",
       "       1.52236937e+01, 1.53237838e+01, 1.54238739e+01, 1.55239640e+01,\n",
       "       1.56240541e+01, 1.57241441e+01, 1.58242342e+01, 1.59243243e+01,\n",
       "       1.60244144e+01, 1.61245045e+01, 1.62245946e+01, 1.63246847e+01,\n",
       "       1.64247748e+01, 1.65248649e+01, 1.66249550e+01, 1.67250450e+01,\n",
       "       1.68251351e+01, 1.69252252e+01, 1.70253153e+01, 1.71254054e+01,\n",
       "       1.72254955e+01, 1.73255856e+01, 1.74256757e+01, 1.75257658e+01,\n",
       "       1.76258559e+01, 1.77259459e+01, 1.78260360e+01, 1.79261261e+01,\n",
       "       1.80262162e+01, 1.81263063e+01, 1.82263964e+01, 1.83264865e+01,\n",
       "       1.84265766e+01, 1.85266667e+01, 1.86267568e+01, 1.87268468e+01,\n",
       "       1.88269369e+01, 1.89270270e+01, 1.90271171e+01, 1.91272072e+01,\n",
       "       1.92272973e+01, 1.93273874e+01, 1.94274775e+01, 1.95275676e+01,\n",
       "       1.96276577e+01, 1.97277477e+01, 1.98278378e+01, 1.99279279e+01,\n",
       "       2.00280180e+01, 2.01281081e+01, 2.02281982e+01, 2.03282883e+01,\n",
       "       2.04283784e+01, 2.05284685e+01, 2.06285586e+01, 2.07286486e+01,\n",
       "       2.08287387e+01, 2.09288288e+01, 2.10289189e+01, 2.11290090e+01,\n",
       "       2.12290991e+01, 2.13291892e+01, 2.14292793e+01, 2.15293694e+01,\n",
       "       2.16294595e+01, 2.17295495e+01, 2.18296396e+01, 2.19297297e+01,\n",
       "       2.20298198e+01, 2.21299099e+01, 2.22300000e+01, 2.23300901e+01,\n",
       "       2.24301802e+01, 2.25302703e+01, 2.26303604e+01, 2.27304505e+01,\n",
       "       2.28305405e+01, 2.29306306e+01, 2.30307207e+01, 2.31308108e+01,\n",
       "       2.32309009e+01, 2.33309910e+01, 2.34310811e+01, 2.35311712e+01,\n",
       "       2.36312613e+01, 2.37313514e+01, 2.38314414e+01, 2.39315315e+01,\n",
       "       2.40316216e+01, 2.41317117e+01, 2.42318018e+01, 2.43318919e+01,\n",
       "       2.44319820e+01, 2.45320721e+01, 2.46321622e+01, 2.47322523e+01,\n",
       "       2.48323423e+01, 2.49324324e+01, 2.50325225e+01, 2.51326126e+01,\n",
       "       2.52327027e+01, 2.53327928e+01, 2.54328829e+01, 2.55329730e+01,\n",
       "       2.56330631e+01, 2.57331532e+01, 2.58332432e+01, 2.59333333e+01,\n",
       "       2.60334234e+01, 2.61335135e+01, 2.62336036e+01, 2.63336937e+01,\n",
       "       2.64337838e+01, 2.65338739e+01, 2.66339640e+01, 2.67340541e+01,\n",
       "       2.68341441e+01, 2.69342342e+01, 2.70343243e+01, 2.71344144e+01,\n",
       "       2.72345045e+01, 2.73345946e+01, 2.74346847e+01, 2.75347748e+01,\n",
       "       2.76348649e+01, 2.77349550e+01, 2.78350450e+01, 2.79351351e+01,\n",
       "       2.80352252e+01, 2.81353153e+01, 2.82354054e+01, 2.83354955e+01,\n",
       "       2.84355856e+01, 2.85356757e+01, 2.86357658e+01, 2.87358559e+01,\n",
       "       2.88359459e+01, 2.89360360e+01, 2.90361261e+01, 2.91362162e+01,\n",
       "       2.92363063e+01, 2.93363964e+01, 2.94364865e+01, 2.95365766e+01,\n",
       "       2.96366667e+01, 2.97367568e+01, 2.98368468e+01, 2.99369369e+01,\n",
       "       3.00370270e+01, 3.01371171e+01, 3.02372072e+01, 3.03372973e+01,\n",
       "       3.04373874e+01, 3.05374775e+01, 3.06375676e+01, 3.07376577e+01,\n",
       "       3.08377477e+01, 3.09378378e+01, 3.10379279e+01, 3.11380180e+01,\n",
       "       3.12381081e+01, 3.13381982e+01, 3.14382883e+01, 3.15383784e+01,\n",
       "       3.16384685e+01, 3.17385586e+01, 3.18386486e+01, 3.19387387e+01,\n",
       "       3.20388288e+01, 3.21389189e+01, 3.22390090e+01, 3.23390991e+01,\n",
       "       3.24391892e+01, 3.25392793e+01, 3.26393694e+01, 3.27394595e+01,\n",
       "       3.28395495e+01, 3.29396396e+01, 3.30397297e+01, 3.31398198e+01,\n",
       "       3.32399099e+01, 3.33400000e+01, 3.34400901e+01, 3.35401802e+01,\n",
       "       3.36402703e+01, 3.37403604e+01, 3.38404505e+01, 3.39405405e+01,\n",
       "       3.40406306e+01, 3.41407207e+01, 3.42408108e+01, 3.43409009e+01,\n",
       "       3.44409910e+01, 3.45410811e+01, 3.46411712e+01, 3.47412613e+01,\n",
       "       3.48413514e+01, 3.49414414e+01, 3.50415315e+01, 3.51416216e+01,\n",
       "       3.52417117e+01, 3.53418018e+01, 3.54418919e+01, 3.55419820e+01,\n",
       "       3.56420721e+01, 3.57421622e+01, 3.58422523e+01, 3.59423423e+01,\n",
       "       3.60424324e+01, 3.61425225e+01, 3.62426126e+01, 3.63427027e+01,\n",
       "       3.64427928e+01, 3.65428829e+01, 3.66429730e+01, 3.67430631e+01,\n",
       "       3.68431532e+01, 3.69432432e+01, 3.70433333e+01, 3.71434234e+01,\n",
       "       3.72435135e+01, 3.73436036e+01, 3.74436937e+01, 3.75437838e+01,\n",
       "       3.76438739e+01, 3.77439640e+01, 3.78440541e+01, 3.79441441e+01,\n",
       "       3.80442342e+01, 3.81443243e+01, 3.82444144e+01, 3.83445045e+01,\n",
       "       3.84445946e+01, 3.85446847e+01, 3.86447748e+01, 3.87448649e+01,\n",
       "       3.88449550e+01, 3.89450450e+01, 3.90451351e+01, 3.91452252e+01,\n",
       "       3.92453153e+01, 3.93454054e+01, 3.94454955e+01, 3.95455856e+01,\n",
       "       3.96456757e+01, 3.97457658e+01, 3.98458559e+01, 3.99459459e+01,\n",
       "       4.00460360e+01, 4.01461261e+01, 4.02462162e+01, 4.03463063e+01,\n",
       "       4.04463964e+01, 4.05464865e+01, 4.06465766e+01, 4.07466667e+01,\n",
       "       4.08467568e+01, 4.09468468e+01, 4.10469369e+01, 4.11470270e+01,\n",
       "       4.12471171e+01, 4.13472072e+01, 4.14472973e+01, 4.15473874e+01,\n",
       "       4.16474775e+01, 4.17475676e+01, 4.18476577e+01, 4.19477477e+01,\n",
       "       4.20478378e+01, 4.21479279e+01, 4.22480180e+01, 4.23481081e+01,\n",
       "       4.24481982e+01, 4.25482883e+01, 4.26483784e+01, 4.27484685e+01,\n",
       "       4.28485586e+01, 4.29486486e+01, 4.30487387e+01, 4.31488288e+01,\n",
       "       4.32489189e+01, 4.33490090e+01, 4.34490991e+01, 4.35491892e+01,\n",
       "       4.36492793e+01, 4.37493694e+01, 4.38494595e+01, 4.39495495e+01,\n",
       "       4.40496396e+01, 4.41497297e+01, 4.42498198e+01, 4.43499099e+01,\n",
       "       4.44500000e+01, 4.45500901e+01, 4.46501802e+01, 4.47502703e+01,\n",
       "       4.48503604e+01, 4.49504505e+01, 4.50505405e+01, 4.51506306e+01,\n",
       "       4.52507207e+01, 4.53508108e+01, 4.54509009e+01, 4.55509910e+01,\n",
       "       4.56510811e+01, 4.57511712e+01, 4.58512613e+01, 4.59513514e+01,\n",
       "       4.60514414e+01, 4.61515315e+01, 4.62516216e+01, 4.63517117e+01,\n",
       "       4.64518018e+01, 4.65518919e+01, 4.66519820e+01, 4.67520721e+01,\n",
       "       4.68521622e+01, 4.69522523e+01, 4.70523423e+01, 4.71524324e+01,\n",
       "       4.72525225e+01, 4.73526126e+01, 4.74527027e+01, 4.75527928e+01,\n",
       "       4.76528829e+01, 4.77529730e+01, 4.78530631e+01, 4.79531532e+01,\n",
       "       4.80532432e+01, 4.81533333e+01, 4.82534234e+01, 4.83535135e+01,\n",
       "       4.84536036e+01, 4.85536937e+01, 4.86537838e+01, 4.87538739e+01,\n",
       "       4.88539640e+01, 4.89540541e+01, 4.90541441e+01, 4.91542342e+01,\n",
       "       4.92543243e+01, 4.93544144e+01, 4.94545045e+01, 4.95545946e+01,\n",
       "       4.96546847e+01, 4.97547748e+01, 4.98548649e+01, 4.99549550e+01,\n",
       "       5.00550450e+01, 5.01551351e+01, 5.02552252e+01, 5.03553153e+01,\n",
       "       5.04554054e+01, 5.05554955e+01, 5.06555856e+01, 5.07556757e+01,\n",
       "       5.08557658e+01, 5.09558559e+01, 5.10559459e+01, 5.11560360e+01,\n",
       "       5.12561261e+01, 5.13562162e+01, 5.14563063e+01, 5.15563964e+01,\n",
       "       5.16564865e+01, 5.17565766e+01, 5.18566667e+01, 5.19567568e+01,\n",
       "       5.20568468e+01, 5.21569369e+01, 5.22570270e+01, 5.23571171e+01,\n",
       "       5.24572072e+01, 5.25572973e+01, 5.26573874e+01, 5.27574775e+01,\n",
       "       5.28575676e+01, 5.29576577e+01, 5.30577477e+01, 5.31578378e+01,\n",
       "       5.32579279e+01, 5.33580180e+01, 5.34581081e+01, 5.35581982e+01,\n",
       "       5.36582883e+01, 5.37583784e+01, 5.38584685e+01, 5.39585586e+01,\n",
       "       5.40586486e+01, 5.41587387e+01, 5.42588288e+01, 5.43589189e+01,\n",
       "       5.44590090e+01, 5.45590991e+01, 5.46591892e+01, 5.47592793e+01,\n",
       "       5.48593694e+01, 5.49594595e+01, 5.50595495e+01, 5.51596396e+01,\n",
       "       5.52597297e+01, 5.53598198e+01, 5.54599099e+01, 5.55600000e+01,\n",
       "       5.56600901e+01, 5.57601802e+01, 5.58602703e+01, 5.59603604e+01,\n",
       "       5.60604505e+01, 5.61605405e+01, 5.62606306e+01, 5.63607207e+01,\n",
       "       5.64608108e+01, 5.65609009e+01, 5.66609910e+01, 5.67610811e+01,\n",
       "       5.68611712e+01, 5.69612613e+01, 5.70613514e+01, 5.71614414e+01,\n",
       "       5.72615315e+01, 5.73616216e+01, 5.74617117e+01, 5.75618018e+01,\n",
       "       5.76618919e+01, 5.77619820e+01, 5.78620721e+01, 5.79621622e+01,\n",
       "       5.80622523e+01, 5.81623423e+01, 5.82624324e+01, 5.83625225e+01,\n",
       "       5.84626126e+01, 5.85627027e+01, 5.86627928e+01, 5.87628829e+01,\n",
       "       5.88629730e+01, 5.89630631e+01, 5.90631532e+01, 5.91632432e+01,\n",
       "       5.92633333e+01, 5.93634234e+01, 5.94635135e+01, 5.95636036e+01,\n",
       "       5.96636937e+01, 5.97637838e+01, 5.98638739e+01, 5.99639640e+01,\n",
       "       6.00640541e+01, 6.01641441e+01, 6.02642342e+01, 6.03643243e+01,\n",
       "       6.04644144e+01, 6.05645045e+01, 6.06645946e+01, 6.07646847e+01,\n",
       "       6.08647748e+01, 6.09648649e+01, 6.10649550e+01, 6.11650450e+01,\n",
       "       6.12651351e+01, 6.13652252e+01, 6.14653153e+01, 6.15654054e+01,\n",
       "       6.16654955e+01, 6.17655856e+01, 6.18656757e+01, 6.19657658e+01,\n",
       "       6.20658559e+01, 6.21659459e+01, 6.22660360e+01, 6.23661261e+01,\n",
       "       6.24662162e+01, 6.25663063e+01, 6.26663964e+01, 6.27664865e+01,\n",
       "       6.28665766e+01, 6.29666667e+01, 6.30667568e+01, 6.31668468e+01,\n",
       "       6.32669369e+01, 6.33670270e+01, 6.34671171e+01, 6.35672072e+01,\n",
       "       6.36672973e+01, 6.37673874e+01, 6.38674775e+01, 6.39675676e+01,\n",
       "       6.40676577e+01, 6.41677477e+01, 6.42678378e+01, 6.43679279e+01,\n",
       "       6.44680180e+01, 6.45681081e+01, 6.46681982e+01, 6.47682883e+01,\n",
       "       6.48683784e+01, 6.49684685e+01, 6.50685586e+01, 6.51686486e+01,\n",
       "       6.52687387e+01, 6.53688288e+01, 6.54689189e+01, 6.55690090e+01,\n",
       "       6.56690991e+01, 6.57691892e+01, 6.58692793e+01, 6.59693694e+01,\n",
       "       6.60694595e+01, 6.61695495e+01, 6.62696396e+01, 6.63697297e+01,\n",
       "       6.64698198e+01, 6.65699099e+01, 6.66700000e+01, 6.67700901e+01,\n",
       "       6.68701802e+01, 6.69702703e+01, 6.70703604e+01, 6.71704505e+01,\n",
       "       6.72705405e+01, 6.73706306e+01, 6.74707207e+01, 6.75708108e+01,\n",
       "       6.76709009e+01, 6.77709910e+01, 6.78710811e+01, 6.79711712e+01,\n",
       "       6.80712613e+01, 6.81713514e+01, 6.82714414e+01, 6.83715315e+01,\n",
       "       6.84716216e+01, 6.85717117e+01, 6.86718018e+01, 6.87718919e+01,\n",
       "       6.88719820e+01, 6.89720721e+01, 6.90721622e+01, 6.91722523e+01,\n",
       "       6.92723423e+01, 6.93724324e+01, 6.94725225e+01, 6.95726126e+01,\n",
       "       6.96727027e+01, 6.97727928e+01, 6.98728829e+01, 6.99729730e+01,\n",
       "       7.00730631e+01, 7.01731532e+01, 7.02732432e+01, 7.03733333e+01,\n",
       "       7.04734234e+01, 7.05735135e+01, 7.06736036e+01, 7.07736937e+01,\n",
       "       7.08737838e+01, 7.09738739e+01, 7.10739640e+01, 7.11740541e+01,\n",
       "       7.12741441e+01, 7.13742342e+01, 7.14743243e+01, 7.15744144e+01,\n",
       "       7.16745045e+01, 7.17745946e+01, 7.18746847e+01, 7.19747748e+01,\n",
       "       7.20748649e+01, 7.21749550e+01, 7.22750450e+01, 7.23751351e+01,\n",
       "       7.24752252e+01, 7.25753153e+01, 7.26754054e+01, 7.27754955e+01,\n",
       "       7.28755856e+01, 7.29756757e+01, 7.30757658e+01, 7.31758559e+01,\n",
       "       7.32759459e+01, 7.33760360e+01, 7.34761261e+01, 7.35762162e+01,\n",
       "       7.36763063e+01, 7.37763964e+01, 7.38764865e+01, 7.39765766e+01,\n",
       "       7.40766667e+01, 7.41767568e+01, 7.42768468e+01, 7.43769369e+01,\n",
       "       7.44770270e+01, 7.45771171e+01, 7.46772072e+01, 7.47772973e+01,\n",
       "       7.48773874e+01, 7.49774775e+01, 7.50775676e+01, 7.51776577e+01,\n",
       "       7.52777477e+01, 7.53778378e+01, 7.54779279e+01, 7.55780180e+01,\n",
       "       7.56781081e+01, 7.57781982e+01, 7.58782883e+01, 7.59783784e+01,\n",
       "       7.60784685e+01, 7.61785586e+01, 7.62786486e+01, 7.63787387e+01,\n",
       "       7.64788288e+01, 7.65789189e+01, 7.66790090e+01, 7.67790991e+01,\n",
       "       7.68791892e+01, 7.69792793e+01, 7.70793694e+01, 7.71794595e+01,\n",
       "       7.72795495e+01, 7.73796396e+01, 7.74797297e+01, 7.75798198e+01,\n",
       "       7.76799099e+01, 7.77800000e+01, 7.78800901e+01, 7.79801802e+01,\n",
       "       7.80802703e+01, 7.81803604e+01, 7.82804505e+01, 7.83805405e+01,\n",
       "       7.84806306e+01, 7.85807207e+01, 7.86808108e+01, 7.87809009e+01,\n",
       "       7.88809910e+01, 7.89810811e+01, 7.90811712e+01, 7.91812613e+01,\n",
       "       7.92813514e+01, 7.93814414e+01, 7.94815315e+01, 7.95816216e+01,\n",
       "       7.96817117e+01, 7.97818018e+01, 7.98818919e+01, 7.99819820e+01,\n",
       "       8.00820721e+01, 8.01821622e+01, 8.02822523e+01, 8.03823423e+01,\n",
       "       8.04824324e+01, 8.05825225e+01, 8.06826126e+01, 8.07827027e+01,\n",
       "       8.08827928e+01, 8.09828829e+01, 8.10829730e+01, 8.11830631e+01,\n",
       "       8.12831532e+01, 8.13832432e+01, 8.14833333e+01, 8.15834234e+01,\n",
       "       8.16835135e+01, 8.17836036e+01, 8.18836937e+01, 8.19837838e+01,\n",
       "       8.20838739e+01, 8.21839640e+01, 8.22840541e+01, 8.23841441e+01,\n",
       "       8.24842342e+01, 8.25843243e+01, 8.26844144e+01, 8.27845045e+01,\n",
       "       8.28845946e+01, 8.29846847e+01, 8.30847748e+01, 8.31848649e+01,\n",
       "       8.32849550e+01, 8.33850450e+01, 8.34851351e+01, 8.35852252e+01,\n",
       "       8.36853153e+01, 8.37854054e+01, 8.38854955e+01, 8.39855856e+01,\n",
       "       8.40856757e+01, 8.41857658e+01, 8.42858559e+01, 8.43859459e+01,\n",
       "       8.44860360e+01, 8.45861261e+01, 8.46862162e+01, 8.47863063e+01,\n",
       "       8.48863964e+01, 8.49864865e+01, 8.50865766e+01, 8.51866667e+01,\n",
       "       8.52867568e+01, 8.53868468e+01, 8.54869369e+01, 8.55870270e+01,\n",
       "       8.56871171e+01, 8.57872072e+01, 8.58872973e+01, 8.59873874e+01,\n",
       "       8.60874775e+01, 8.61875676e+01, 8.62876577e+01, 8.63877477e+01,\n",
       "       8.64878378e+01, 8.65879279e+01, 8.66880180e+01, 8.67881081e+01,\n",
       "       8.68881982e+01, 8.69882883e+01, 8.70883784e+01, 8.71884685e+01,\n",
       "       8.72885586e+01, 8.73886486e+01, 8.74887387e+01, 8.75888288e+01,\n",
       "       8.76889189e+01, 8.77890090e+01, 8.78890991e+01, 8.79891892e+01,\n",
       "       8.80892793e+01, 8.81893694e+01, 8.82894595e+01, 8.83895495e+01,\n",
       "       8.84896396e+01, 8.85897297e+01, 8.86898198e+01, 8.87899099e+01,\n",
       "       8.88900000e+01, 8.89900901e+01, 8.90901802e+01, 8.91902703e+01,\n",
       "       8.92903604e+01, 8.93904505e+01, 8.94905405e+01, 8.95906306e+01,\n",
       "       8.96907207e+01, 8.97908108e+01, 8.98909009e+01, 8.99909910e+01,\n",
       "       9.00910811e+01, 9.01911712e+01, 9.02912613e+01, 9.03913514e+01,\n",
       "       9.04914414e+01, 9.05915315e+01, 9.06916216e+01, 9.07917117e+01,\n",
       "       9.08918018e+01, 9.09918919e+01, 9.10919820e+01, 9.11920721e+01,\n",
       "       9.12921622e+01, 9.13922523e+01, 9.14923423e+01, 9.15924324e+01,\n",
       "       9.16925225e+01, 9.17926126e+01, 9.18927027e+01, 9.19927928e+01,\n",
       "       9.20928829e+01, 9.21929730e+01, 9.22930631e+01, 9.23931532e+01,\n",
       "       9.24932432e+01, 9.25933333e+01, 9.26934234e+01, 9.27935135e+01,\n",
       "       9.28936036e+01, 9.29936937e+01, 9.30937838e+01, 9.31938739e+01,\n",
       "       9.32939640e+01, 9.33940541e+01, 9.34941441e+01, 9.35942342e+01,\n",
       "       9.36943243e+01, 9.37944144e+01, 9.38945045e+01, 9.39945946e+01,\n",
       "       9.40946847e+01, 9.41947748e+01, 9.42948649e+01, 9.43949550e+01,\n",
       "       9.44950450e+01, 9.45951351e+01, 9.46952252e+01, 9.47953153e+01,\n",
       "       9.48954054e+01, 9.49954955e+01, 9.50955856e+01, 9.51956757e+01,\n",
       "       9.52957658e+01, 9.53958559e+01, 9.54959459e+01, 9.55960360e+01,\n",
       "       9.56961261e+01, 9.57962162e+01, 9.58963063e+01, 9.59963964e+01,\n",
       "       9.60964865e+01, 9.61965766e+01, 9.62966667e+01, 9.63967568e+01,\n",
       "       9.64968468e+01, 9.65969369e+01, 9.66970270e+01, 9.67971171e+01,\n",
       "       9.68972072e+01, 9.69972973e+01, 9.70973874e+01, 9.71974775e+01,\n",
       "       9.72975676e+01, 9.73976577e+01, 9.74977477e+01, 9.75978378e+01,\n",
       "       9.76979279e+01, 9.77980180e+01, 9.78981081e+01, 9.79981982e+01,\n",
       "       9.80982883e+01, 9.81983784e+01, 9.82984685e+01, 9.83985586e+01,\n",
       "       9.84986486e+01, 9.85987387e+01, 9.86988288e+01, 9.87989189e+01,\n",
       "       9.88990090e+01, 9.89990991e+01, 9.90991892e+01, 9.91992793e+01,\n",
       "       9.92993694e+01, 9.93994595e+01, 9.94995495e+01, 9.95996396e+01,\n",
       "       9.96997297e+01, 9.97998198e+01, 9.98999099e+01, 1.00000000e+02])"
      ]
     },
     "execution_count": 26,
     "metadata": {},
     "output_type": "execute_result"
    }
   ],
   "source": [
    "x"
   ]
  },
  {
   "cell_type": "code",
   "execution_count": null,
   "metadata": {},
   "outputs": [],
   "source": [
    "x=np.linspace(-1,1,1000)\n",
    "y=np.sin(100*x)*(1-x*x)-(1-x**2)\n",
    "\n",
    "plt.plot(x,y)"
   ]
  },
  {
   "cell_type": "code",
   "execution_count": null,
   "metadata": {},
   "outputs": [],
   "source": []
  },
  {
   "cell_type": "code",
   "execution_count": null,
   "metadata": {},
   "outputs": [],
   "source": []
  },
  {
   "cell_type": "code",
   "execution_count": null,
   "metadata": {},
   "outputs": [],
   "source": []
  },
  {
   "cell_type": "code",
   "execution_count": null,
   "metadata": {},
   "outputs": [],
   "source": []
  }
 ],
 "metadata": {
  "kernelspec": {
   "display_name": "Python 3",
   "language": "python",
   "name": "python3"
  }
 },
 "nbformat": 4,
 "nbformat_minor": 2
}
