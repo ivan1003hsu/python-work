{
 "cells": [
  {
   "cell_type": "code",
   "execution_count": null,
   "metadata": {},
   "outputs": [],
   "source": [
    "import numpy as np\n",
    "import matplotlib.pyplot as plt\n",
    "%matplotlib inline"
   ]
  },
  {
   "cell_type": "markdown",
   "metadata": {},
   "source": [
    "print('\\033[顯示方式；前景色；背景色m文字內容'\\033[0m)\n"
   ]
  },
  {
   "cell_type": "code",
   "execution_count": 32,
   "metadata": {},
   "outputs": [
    {
     "data": {
      "text/plain": [
       "[1, 4, 9, 16, 25, 36, 49, 64, 81, 100]"
      ]
     },
     "execution_count": 32,
     "metadata": {},
     "output_type": "execute_result"
    }
   ],
   "source": [
    "[x**2 for x in range(1,11)]"
   ]
  },
  {
   "cell_type": "code",
   "execution_count": 4,
   "metadata": {},
   "outputs": [
    {
     "name": "stdout",
     "output_type": "stream",
     "text": [
      "[  34.   68.  102.  136.  170.  204.  238.  272.  306.  340.  374.  408.\n",
      "  442.  476.  510.  544.  578.  612.  646.  680.  714.  748.  782.  816.\n",
      "  850.  884.  918.  952.  986. 1020. 1054. 1088. 1122. 1156. 1190. 1224.\n",
      " 1258. 1292. 1326. 1360. 1394. 1428. 1462. 1496. 1530. 1564. 1598. 1632.\n",
      " 1666. 1700. 1734. 1768. 1802. 1836. 1870. 1904. 1938. 1972. 2006. 2040.\n",
      " 2074. 2108. 2142. 2176. 2210. 2244. 2278. 2312. 2346. 2380. 2414. 2448.\n",
      " 2482. 2516. 2550. 2584. 2618. 2652. 2686. 2720. 2754. 2788. 2822. 2856.\n",
      " 2890. 2924. 2958. 2992. 3026. 3060. 3094. 3128. 3162. 3196. 3230. 3264.\n",
      " 3298. 3332. 3366. 3400.]\n"
     ]
    }
   ],
   "source": [
    "l = list(range(1,101))\n",
    "c= 34\n",
    "a=[]\n",
    "for i in l :\n",
    "    int(i)\n",
    "    a=np.append(a,i*c)\n",
    "print(a)"
   ]
  },
  {
   "cell_type": "code",
   "execution_count": 12,
   "metadata": {},
   "outputs": [
    {
     "name": "stdout",
     "output_type": "stream",
     "text": [
      "請輸入價格(台幣):164,687,900\n",
      "[ 5.47 22.9  30.  ]\n"
     ]
    }
   ],
   "source": [
    "l = input('請輸入價格(台幣):')\n",
    "l = l.split(',')\n",
    "c = 1/30\n",
    "k=[]\n",
    "for i in l:\n",
    "    i=float(i)\n",
    "    k=np.append(k,round(i*c,2))\n",
    "print(k)\n"
   ]
  },
  {
   "cell_type": "code",
   "execution_count": 39,
   "metadata": {},
   "outputs": [],
   "source": [
    "def exchange(i,c=30):\n",
    "    i=int(i)\n",
    "    return int(i*c)"
   ]
  },
  {
   "cell_type": "code",
   "execution_count": 45,
   "metadata": {},
   "outputs": [
    {
     "name": "stdout",
     "output_type": "stream",
     "text": [
      ">>35,546,78\n"
     ]
    },
    {
     "data": {
      "text/plain": [
       "[1050.0, 16380.0, 2340.0]"
      ]
     },
     "execution_count": 45,
     "metadata": {},
     "output_type": "execute_result"
    }
   ],
   "source": [
    "l = input('>>')\n",
    "l= l.split(',')\n",
    "c= 30\n",
    "[float(p)*c for p in l ]"
   ]
  },
  {
   "cell_type": "code",
   "execution_count": 6,
   "metadata": {},
   "outputs": [
    {
     "data": {
      "text/plain": [
       "[<matplotlib.lines.Line2D at 0x24743d08278>]"
      ]
     },
     "execution_count": 6,
     "metadata": {},
     "output_type": "execute_result"
    },
    {
     "data": {
      "image/png": "[encoded data removed]",
      "text/plain": [
       "<Figure size 432x288 with 1 Axes>"
      ]
     },
     "metadata": {
      "needs_background": "light"
     },
     "output_type": "display_data"
    }
   ],
   "source": [
    "x =np.linspace(0,100,200)\n",
    "y= np.sin(x) + x*0.8 + np.random.randn(200)\n",
    "plt.plot (x,y)"
   ]
  },
  {
   "cell_type": "markdown",
   "metadata": {},
   "source": [
    "x = np.linspace(0,100,200)\n",
    "y= np.sin(x) + x*0.8 + np.random.randn(200)\n",
    "plt.plot (x,y)"
   ]
  },
  {
   "cell_type": "code",
   "execution_count": null,
   "metadata": {},
   "outputs": [
    {
     "name": "stdout",
     "output_type": "stream",
     "text": [
      "你的大名:ivan\n"
     ]
    }
   ],
   "source": [
    "import random\n",
    "import types\n",
    "large = 100\n",
    "small = 1\n",
    "a = random.randint(2,99)\n",
    "n = 1\n",
    "g = 0\n",
    "name = input('你的大名:')\n",
    "print('''\n",
    "{},你好!\n",
    "請在{}~{}之間猜一數'''.format(name, small, large))\n",
    "try:\n",
    "    g = int(input('>>'))\n",
    "except:\n",
    "     print('請輸入整數!')\n",
    "while a != g :\n",
    "    if g < small or g > large: \n",
    "        print('請檢查所輸入的數字')\n",
    "    elif g < a:\n",
    "        print('太小了!')\n",
    "        small = g\n",
    "    elif g > a:\n",
    "        print('太大了!')\n",
    "        large = g\n",
    "    else :\n",
    "        print('錯誤!')\n",
    "    print('''----------------------------\n",
    "請在{}~{}之間猜一數'''.format(small, large))\n",
    "    try:\n",
    "        g = int(input('>>'))\n",
    "        g = int(g)\n",
    "    except:\n",
    "        print('請輸入整數!') \n",
    "        g = large + 1\n",
    "    n = n+1\n",
    "print('''\n",
    "----------------------------\n",
    "正確!\n",
    "{}在第{}次就答對了!'''.format(name,n))"
   ]
  },
  {
   "cell_type": "code",
   "execution_count": 1,
   "metadata": {},
   "outputs": [
    {
     "name": "stdout",
     "output_type": "stream",
     "text": [
      "美金:89\n",
      "美金89折合台幣2759.0\n"
     ]
    }
   ],
   "source": [
    "dollar = input('美金:')\n",
    "nt = float(dollar)*31\n",
    "print('美金{}折合台幣{}'.format(dollar, nt) )"
   ]
  },
  {
   "cell_type": "code",
   "execution_count": 2,
   "metadata": {},
   "outputs": [
    {
     "data": {
      "text/plain": [
       "True"
      ]
     },
     "execution_count": 2,
     "metadata": {},
     "output_type": "execute_result"
    }
   ],
   "source": [
    "import types\n",
    "g = 17\n",
    "type(g)==type(1)"
   ]
  },
  {
   "cell_type": "code",
   "execution_count": 56,
   "metadata": {},
   "outputs": [
    {
     "data": {
      "text/plain": [
       "<matplotlib.rc_context at 0x16c0b4956d8>"
      ]
     },
     "execution_count": 56,
     "metadata": {},
     "output_type": "execute_result"
    }
   ],
   "source": [
    "plt.xkcd(0)"
   ]
  },
  {
   "cell_type": "code",
   "execution_count": 59,
   "metadata": {},
   "outputs": [
    {
     "data": {
      "text/plain": [
       "array([ 0.9147794 , -0.71018176, -0.6031282 , ..., -0.66711305,\n",
       "        0.92176646, -1.63162671])"
      ]
     },
     "execution_count": 59,
     "metadata": {},
     "output_type": "execute_result"
    }
   ],
   "source": [
    "randn(1100)"
   ]
  },
  {
   "cell_type": "code",
   "execution_count": 60,
   "metadata": {},
   "outputs": [
    {
     "data": {
      "text/plain": [
       "[<matplotlib.lines.Line2D at 0x16c0b640160>]"
      ]
     },
     "execution_count": 60,
     "metadata": {},
     "output_type": "execute_result"
    },
    {
     "data": {
      "image/png": "[encoded data removed]",
      "text/plain": [
       "<Figure size 432x288 with 1 Axes>"
      ]
     },
     "metadata": {},
     "output_type": "display_data"
    }
   ],
   "source": [
    "plot(randn(100))"
   ]
  },
  {
   "cell_type": "markdown",
   "metadata": {},
   "source": [
    "# 標題\n",
    "## 次標題\n",
    "### 三級標題\n",
    "#### 四級標題\n",
    "##### 五級標題"
   ]
  },
  {
   "cell_type": "markdown",
   "metadata": {},
   "source": [
    "*分向"
   ]
  },
  {
   "cell_type": "markdown",
   "metadata": {},
   "source": [
    "數學符號 $ f(x) = log(x^3)(x^4) + x^5 $\n",
    "  $$ l = \\int_a^b x^2 \\,dx$$"
   ]
  },
  {
   "cell_type": "code",
   "execution_count": 7,
   "metadata": {},
   "outputs": [
    {
     "data": {
      "text/plain": [
       "['a', 'b', 'c', 'd', 'e', 'f', 'g']"
      ]
     },
     "execution_count": 7,
     "metadata": {},
     "output_type": "execute_result"
    }
   ],
   "source": [
    "list('abcdefg')"
   ]
  },
  {
   "cell_type": "code",
   "execution_count": 20,
   "metadata": {},
   "outputs": [],
   "source": [
    "l1 = list('abcdefg')\n",
    "l2 = list(range(0,10))"
   ]
  },
  {
   "cell_type": "code",
   "execution_count": 15,
   "metadata": {},
   "outputs": [],
   "source": [
    "d ={'apple':'蘋果','banana':'香蕉'}"
   ]
  },
  {
   "cell_type": "code",
   "execution_count": 16,
   "metadata": {},
   "outputs": [
    {
     "data": {
      "text/plain": [
       "'蘋果'"
      ]
     },
     "execution_count": 16,
     "metadata": {},
     "output_type": "execute_result"
    }
   ],
   "source": [
    "d['apple']"
   ]
  },
  {
   "cell_type": "markdown",
   "metadata": {},
   "source": [
    "0, 1, 2, 3, 4, 5, 6, 7, 8...."
   ]
  },
  {
   "cell_type": "code",
   "execution_count": 15,
   "metadata": {},
   "outputs": [],
   "source": [
    "def cube(x):\n",
    "    return x**3"
   ]
  },
  {
   "cell_type": "code",
   "execution_count": 3,
   "metadata": {},
   "outputs": [],
   "source": [
    "from ipywidgets import interact"
   ]
  },
  {
   "cell_type": "code",
   "execution_count": 5,
   "metadata": {},
   "outputs": [],
   "source": [
    "def f(x):\n",
    "    print(x)"
   ]
  },
  {
   "cell_type": "code",
   "execution_count": 6,
   "metadata": {},
   "outputs": [
    {
     "data": {
      "application/vnd.jupyter.widget-view+json": {
       "model_id": "0e8e09dba0a944d491f17807e990cabf",
       "version_major": 2,
       "version_minor": 0
      },
      "text/plain": [
       "interactive(children=(FloatSlider(value=3.0, description='x', max=9.0, min=-3.0), Output()), _dom_classes=('wi…"
      ]
     },
     "metadata": {},
     "output_type": "display_data"
    },
    {
     "data": {
      "text/plain": [
       "<function __main__.f(x)>"
      ]
     },
     "execution_count": 6,
     "metadata": {},
     "output_type": "execute_result"
    }
   ],
   "source": [
    "interact(f, x=3.)"
   ]
  },
  {
   "cell_type": "code",
   "execution_count": 7,
   "metadata": {},
   "outputs": [
    {
     "data": {
      "application/vnd.jupyter.widget-view+json": {
       "model_id": "e7b8721d5c0a45a6a898c085f2bde103",
       "version_major": 2,
       "version_minor": 0
      },
      "text/plain": [
       "interactive(children=(Text(value='hi', description='x'), Output()), _dom_classes=('widget-interact',))"
      ]
     },
     "metadata": {},
     "output_type": "display_data"
    },
    {
     "data": {
      "application/vnd.jupyter.widget-view+json": {
       "model_id": "ef1e5f07d2444b5aa0500c8d807c4f36",
       "version_major": 2,
       "version_minor": 0
      },
      "text/plain": [
       "interactive(children=(Dropdown(description='x', options={'a': 1, 'b': 2, 'c': 3}, value=1), Output()), _dom_cl…"
      ]
     },
     "metadata": {},
     "output_type": "display_data"
    },
    {
     "data": {
      "text/plain": [
       "<function __main__.f(x)>"
      ]
     },
     "execution_count": 7,
     "metadata": {},
     "output_type": "execute_result"
    }
   ],
   "source": [
    "interact(f,x='hi')\n",
    "interact(f, x={'a':1,'b':2,'c':3})"
   ]
  },
  {
   "cell_type": "code",
   "execution_count": 2,
   "metadata": {},
   "outputs": [],
   "source": [
    "from ipywidgets import interact_manual"
   ]
  },
  {
   "cell_type": "code",
   "execution_count": 12,
   "metadata": {},
   "outputs": [],
   "source": [
    "def pipi(x):\n",
    "    print('拍拍')"
   ]
  },
  {
   "cell_type": "code",
   "execution_count": 14,
   "metadata": {},
   "outputs": [
    {
     "data": {
      "application/vnd.jupyter.widget-view+json": {
       "model_id": "bde098a707e7490d9ecb3c71412cab74",
       "version_major": 2,
       "version_minor": 0
      },
      "text/plain": [
       "interactive(children=(IntSlider(value=2, description='n', max=20, min=1), Output()), _dom_classes=('widget-int…"
      ]
     },
     "metadata": {},
     "output_type": "display_data"
    },
    {
     "data": {
      "text/plain": [
       "<function __main__.move(n=2)>"
      ]
     },
     "execution_count": 14,
     "metadata": {},
     "output_type": "execute_result"
    }
   ],
   "source": [
    "interact(move,n=(1,20))"
   ]
  },
  {
   "cell_type": "code",
   "execution_count": 39,
   "metadata": {},
   "outputs": [],
   "source": [
    "def myplot(n=1):\n",
    "    x= np.linspace(-5,5,100)\n",
    "    y= np.sin(n*x)*n\n",
    "    plt.plot(x,y)"
   ]
  },
  {
   "cell_type": "code",
   "execution_count": 1,
   "metadata": {},
   "outputs": [
    {
     "name": "stdout",
     "output_type": "stream",
     "text": [
      "      今天怎麼了?\n",
      ">>gf\n",
      "      (｡í _ ì｡):拍拍\n",
      ">>jfo\n",
      "      (｡í _ ì｡):拍拍\n",
      ">>foae\n",
      "      (｡í _ ì｡):拍拍\n",
      ">>fjof\n",
      "      (｡í _ ì｡):拍拍\n",
      ">>jao\n",
      "      (｡í _ ì｡):拍拍\n",
      ">>他奶奶的\n",
      "      (╬☉д⊙):干我屁事\n",
      "\n",
      "      拍拍機器人已離線\n"
     ]
    }
   ],
   "source": [
    "a= 'a'\n",
    "print('      今天怎麼了?')\n",
    "while a!='他奶奶的':\n",
    "    a = input('>>')\n",
    "    if a =='他奶奶的':    \n",
    "        print('      (╬☉д⊙):干我屁事')\n",
    "    else:\n",
    "        print('      (｡í _ ì｡):拍拍')\n",
    "print('''\n",
    "      拍拍機器人已離線''')"
   ]
  },
  {
   "cell_type": "code",
   "execution_count": 5,
   "metadata": {},
   "outputs": [
    {
     "name": "stdout",
     "output_type": "stream",
     "text": [
      "今天是愚人節\n",
      "\n",
      "話的說想入輸請\n",
      "\n",
      "開離掰掰入輸或\n",
      "\n",
      ">>我不做人類啦!JOJO!\n",
      "!OJOJ!啦類人做不我<<\n",
      "    \n",
      ">>掰掰\n",
      "掰掰<<\n",
      "    \n"
     ]
    }
   ],
   "source": [
    "print('今天是愚人節')\n",
    "print('''\n",
    "話的說想入輸請\n",
    "\n",
    "開離掰掰入輸或\n",
    "''')\n",
    "L=''\n",
    "while L != '掰掰'  : \n",
    "    L=input('>>')\n",
    "    n=len(L)\n",
    "    A=''\n",
    "    while n!= 0:\n",
    "        A=A + L[n-1]\n",
    "        n = n-1\n",
    "    print(A+'''<<\n",
    "    ''')"
   ]
  },
  {
   "cell_type": "code",
   "execution_count": 2,
   "metadata": {},
   "outputs": [],
   "source": [
    "import numpy as np\n",
    "import matplotlib.pyplot as plt"
   ]
  },
  {
   "cell_type": "code",
   "execution_count": 13,
   "metadata": {},
   "outputs": [
    {
     "data": {
      "text/plain": [
       "<matplotlib.collections.PathCollection at 0x16cfaccfef0>"
      ]
     },
     "execution_count": 13,
     "metadata": {},
     "output_type": "execute_result"
    },
    {
     "data": {
      "image/png": "[encoded data removed]",
      "text/plain": [
       "<Figure size 432x288 with 1 Axes>"
      ]
     },
     "metadata": {
      "needs_background": "light"
     },
     "output_type": "display_data"
    }
   ],
   "source": [
    "G = np.linspace(0,100,200)\n",
    "r=np.random.randn(200)\n",
    "H = (np.sin(G)**2)*(r**2)\n",
    "plt.plot(G,H)\n",
    "u=(np.sin(40)**2)*(r[40]**2)\n",
    "plt.scatter(20,u)"
   ]
  },
  {
   "cell_type": "code",
   "execution_count": 14,
   "metadata": {},
   "outputs": [],
   "source": [
    "u=(np.sin(40)**2)*(r[40]**2)"
   ]
  },
  {
   "cell_type": "code",
   "execution_count": 7,
   "metadata": {},
   "outputs": [
    {
     "data": {
      "text/plain": [
       "<matplotlib.collections.PathCollection at 0x16cfaa8f9b0>"
      ]
     },
     "execution_count": 7,
     "metadata": {},
     "output_type": "execute_result"
    },
    {
     "data": {
      "image/png": "[encoded data removed]",
      "text/plain": [
       "<Figure size 432x288 with 1 Axes>"
      ]
     },
     "metadata": {
      "needs_background": "light"
     },
     "output_type": "display_data"
    }
   ],
   "source": [
    "plt.scatter(40,u)"
   ]
  },
  {
   "cell_type": "code",
   "execution_count": null,
   "metadata": {},
   "outputs": [],
   "source": []
  }
 ],
 "metadata": {
  "kernelspec": {
   "display_name": "Python 3",
   "language": "python",
   "name": "python3"
  },
  "language_info": {
   "codemirror_mode": {
    "name": "ipython",
    "version": 3
   },
   "file_extension": ".py",
   "mimetype": "text/x-python",
   "name": "python",
   "nbconvert_exporter": "python",
   "pygments_lexer": "ipython3",
   "version": "3.7.3"
  }
 },
 "nbformat": 4,
 "nbformat_minor": 2
}
