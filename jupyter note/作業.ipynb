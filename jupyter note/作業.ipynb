{
 "cells": [
  {
   "cell_type": "code",
   "execution_count": 1,
   "metadata": {},
   "outputs": [],
   "source": [
    "import numpy as np\n",
    "import matplotlib.pyplot as plt\n",
    "%matplotlib inline"
   ]
  },
  {
   "cell_type": "code",
   "execution_count": 1,
   "metadata": {},
   "outputs": [],
   "source": [
    "from ipywidgets import interact"
   ]
  },
  {
   "cell_type": "code",
   "execution_count": null,
   "metadata": {},
   "outputs": [],
   "source": []
  },
  {
   "cell_type": "code",
   "execution_count": null,
   "metadata": {},
   "outputs": [],
   "source": []
  },
  {
   "cell_type": "code",
   "execution_count": null,
   "metadata": {},
   "outputs": [],
   "source": []
  },
  {
   "cell_type": "code",
   "execution_count": null,
   "metadata": {},
   "outputs": [],
   "source": []
  },
  {
   "cell_type": "code",
   "execution_count": 1,
   "metadata": {},
   "outputs": [
    {
     "name": "stdout",
     "output_type": "stream",
     "text": [
      "你的大名:許書睿\n",
      "\n",
      "許書睿,你好!\n",
      "請在1~100之間猜一數\n",
      ">>ㄓㄢ\n",
      "請輸入整數!\n",
      "請檢查所輸入的數字\n",
      "----------------------------\n",
      "請在1~100之間猜一數\n",
      ">>50\n",
      "太大了!\n",
      "----------------------------\n",
      "請在1~50之間猜一數\n",
      ">>剛剛忘記換輸入法\n",
      "請輸入整數!\n",
      "請檢查所輸入的數字\n",
      "----------------------------\n",
      "請在1~50之間猜一數\n",
      ">>25\n",
      "太大了!\n",
      "----------------------------\n",
      "請在1~25之間猜一數\n",
      ">>12.5\n",
      "請輸入整數!\n",
      "請檢查所輸入的數字\n",
      "----------------------------\n",
      "請在1~25之間猜一數\n",
      ">>12\n",
      "太小了!\n",
      "----------------------------\n",
      "請在12~25之間猜一數\n",
      ">>20\n",
      "太大了!\n",
      "----------------------------\n",
      "請在12~20之間猜一數\n",
      ">>18\n",
      "太大了!\n",
      "----------------------------\n",
      "請在12~18之間猜一數\n",
      ">>15\n",
      "\n",
      "----------------------------\n",
      "正確!\n",
      "許書睿在第9次就答對了!\n"
     ]
    }
   ],
   "source": [
    "import random\n",
    "import types\n",
    "large = 100\n",
    "small = 1\n",
    "a = random.randint(2,99)\n",
    "n = 1\n",
    "g = 0\n",
    "name = input('你的大名:')\n",
    "print('''\n",
    "{},你好!\n",
    "請在{}~{}之間猜一數'''.format(name, small, large))\n",
    "try:\n",
    "    g = int(input('>>'))\n",
    "except:\n",
    "     print('請輸入整數!')\n",
    "while a != g :\n",
    "    if g < small or g > large: \n",
    "        print('請檢查所輸入的數字')\n",
    "    elif g < a:\n",
    "        print('太小了!')\n",
    "        small = g\n",
    "    elif g > a:\n",
    "        print('太大了!')\n",
    "        large = g\n",
    "    else :\n",
    "        print('錯誤!')\n",
    "    print('''----------------------------\n",
    "請在{}~{}之間猜一數'''.format(small, large))\n",
    "    try:\n",
    "        g = int(input('>>'))\n",
    "        g = int(g)\n",
    "    except:\n",
    "        print('請輸入整數!') \n",
    "        g = large + 1\n",
    "    n = n+1\n",
    "print('''\n",
    "----------------------------\n",
    "正確!\n",
    "{}在第{}次就答對了!'''.format(name,n))"
   ]
  },
  {
   "cell_type": "code",
   "execution_count": 99,
   "metadata": {},
   "outputs": [],
   "source": [
    "def height(身高=170):\n",
    "    print('              身高(cm):{}'.format(身高))\n",
    "    x=身高\n",
    "def weight(體重=65):\n",
    "    print('               體重(kg):{}'.format(體重))\n",
    "    return "
   ]
  },
  {
   "cell_type": "code",
   "execution_count": 100,
   "metadata": {},
   "outputs": [
    {
     "data": {
      "application/vnd.jupyter.widget-view+json": {
       "model_id": "b6255bbab9c149b888a3c5787db719da",
       "version_major": 2,
       "version_minor": 0
      },
      "text/plain": [
       "interactive(children=(IntSlider(value=170, description='身高', max=200, min=100), Output()), _dom_classes=('widg…"
      ]
     },
     "metadata": {},
     "output_type": "display_data"
    },
    {
     "data": {
      "application/vnd.jupyter.widget-view+json": {
       "model_id": "7a40579717eb4da595f42a39990cb62f",
       "version_major": 2,
       "version_minor": 0
      },
      "text/plain": [
       "interactive(children=(IntSlider(value=65, description='體重', max=200), Output()), _dom_classes=('widget-interac…"
      ]
     },
     "metadata": {},
     "output_type": "display_data"
    },
    {
     "ename": "NameError",
     "evalue": "name 'x' is not defined",
     "output_type": "error",
     "traceback": [
      "\u001b[1;31m---------------------------------------------------------------------------\u001b[0m",
      "\u001b[1;31mNameError\u001b[0m                                 Traceback (most recent call last)",
      "\u001b[1;32m<ipython-input-100-ca38b06011ec>\u001b[0m in \u001b[0;36m<module>\u001b[1;34m\u001b[0m\n\u001b[0;32m      1\u001b[0m \u001b[0minteract\u001b[0m\u001b[1;33m(\u001b[0m\u001b[0mheight\u001b[0m\u001b[1;33m,\u001b[0m\u001b[0m身高\u001b[0m\u001b[1;33m=\u001b[0m\u001b[1;33m(\u001b[0m\u001b[1;36m100\u001b[0m\u001b[1;33m,\u001b[0m\u001b[1;36m200\u001b[0m\u001b[1;33m)\u001b[0m\u001b[1;33m)\u001b[0m\u001b[1;33m;\u001b[0m\u001b[1;33m\u001b[0m\u001b[1;33m\u001b[0m\u001b[0m\n\u001b[0;32m      2\u001b[0m \u001b[0minteract\u001b[0m\u001b[1;33m(\u001b[0m\u001b[0mweight\u001b[0m\u001b[1;33m,\u001b[0m\u001b[0m體重\u001b[0m\u001b[1;33m=\u001b[0m\u001b[1;33m(\u001b[0m\u001b[1;36m0\u001b[0m\u001b[1;33m,\u001b[0m\u001b[1;36m200\u001b[0m\u001b[1;33m)\u001b[0m\u001b[1;33m)\u001b[0m\u001b[1;33m;\u001b[0m\u001b[1;33m\u001b[0m\u001b[1;33m\u001b[0m\u001b[0m\n\u001b[1;32m----> 3\u001b[1;33m \u001b[0mprint\u001b[0m\u001b[1;33m(\u001b[0m\u001b[0mx\u001b[0m\u001b[1;33m)\u001b[0m\u001b[1;33m\u001b[0m\u001b[1;33m\u001b[0m\u001b[0m\n\u001b[0m",
      "\u001b[1;31mNameError\u001b[0m: name 'x' is not defined"
     ]
    }
   ],
   "source": [
    "interact(height,身高=(100,200));\n",
    "interact(weight,體重=(0,200));\n"
   ]
  },
  {
   "cell_type": "code",
   "execution_count": 131,
   "metadata": {},
   "outputs": [],
   "source": [
    "def bmi(身高=171.0,體重=65.0):\n",
    "    print('''身高(cm):{}\n",
    "體重(kg){}'''.format(身高,體重))\n",
    "    print('BMI:{}'.format(round(體重/(身高/100)**2),2))\n",
    "    if 體重/(身高/100)**2 <  15 :\n",
    "        print('非常嚴重的體重不足') \n",
    "    elif 體重/(身高/100)**2 < 16 :\n",
    "        print('嚴重體重不足')\n",
    "    elif 體重/(身高/100)**2 < 18.5:\n",
    "        print('體重過輕')\n",
    "    elif 體重/(身高/100)**2 < 25:\n",
    "        print('體重正常 (健康體重)')\n",
    "    elif 體重/(身高/100)**2 < 30:\n",
    "        print('體重過重')\n",
    "    elif 體重/(身高/100)**2 < 35:\n",
    "        print('肥胖I級（中等肥胖）')\n",
    "    elif 體重/(身高/100)**2 < 40:\n",
    "        print('肥胖II級（嚴重肥胖）')\n",
    "    else:\n",
    "        print('肥胖III級（非常嚴重肥胖）')"
   ]
  },
  {
   "cell_type": "code",
   "execution_count": 133,
   "metadata": {},
   "outputs": [
    {
     "data": {
      "application/vnd.jupyter.widget-view+json": {
       "model_id": "918851b2c4d640c586f7f4ef20a6eb25",
       "version_major": 2,
       "version_minor": 0
      },
      "text/plain": [
       "interactive(children=(FloatSlider(value=171.0, description='身高', max=200.0, min=100.0), FloatSlider(value=65.0…"
      ]
     },
     "metadata": {},
     "output_type": "display_data"
    }
   ],
   "source": [
    "interact(bmi,身高=(100.,200),體重=(0.,200));"
   ]
  },
  {
   "cell_type": "code",
   "execution_count": null,
   "metadata": {},
   "outputs": [],
   "source": []
  },
  {
   "cell_type": "code",
   "execution_count": null,
   "metadata": {},
   "outputs": [],
   "source": []
  }
 ],
 "metadata": {
  "kernelspec": {
   "display_name": "Python 3",
   "language": "python",
   "name": "python3"
  },
  "language_info": {
   "codemirror_mode": {
    "name": "ipython",
    "version": 3
   },
   "file_extension": ".py",
   "mimetype": "text/x-python",
   "name": "python",
   "nbconvert_exporter": "python",
   "pygments_lexer": "ipython3",
   "version": "3.7.3"
  }
 },
 "nbformat": 4,
 "nbformat_minor": 2
}
