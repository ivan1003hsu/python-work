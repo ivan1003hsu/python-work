{
 "cells": [
  {
   "cell_type": "markdown",
   "metadata": {},
   "source": [
    "## 顏國雄  [Gsyan](http://mail.lsps.tp.edu.tw/~gsyan/)\n",
    "* 教小學生\n",
    "* 喜歡騎車、寫程式\n",
    "* 81年開始教書，已退休"
   ]
  },
  {
   "cell_type": "markdown",
   "metadata": {},
   "source": [
    "## 程式開發經驗分享\n",
    "* 需求是什麼?\n",
    "* 使用工具\n",
    "* 求援方法\n",
    "* 介面改進"
   ]
  },
  {
   "cell_type": "markdown",
   "metadata": {},
   "source": [
    "## [TKinter](https://l.facebook.com/l.php?u=https%3A%2F%2Fwww.tutorialspoint.com%2Fpython3%2Fpython_gui_programming.htm%3Ffbclid%3DIwAR05-Dx8kdZcZjG05anKgn2tdHo2J7pM01nVlUSAqlpqtYohf3CJEvv8PD0&h=AT2t_yMyb8_cpHhBSkDP67335Zc4QoJmpgPxJtBEPQA70Guy-MvZ_6LmL1gv3YuDwYU-WXkzO4ZD07g3z3R49xOywAnNCZEKDp7oh8X4J5UMNVQhSMRfU3IMk8gbLy3DpqSK7DN-RsoXLCb1wpvoaQ)"
   ]
  },
  {
   "cell_type": "markdown",
   "metadata": {},
   "source": [
    "## GUI程式三大要素\n",
    "* 放那些東西(widget)\n",
    "* 要放哪裡(Geometry)\n",
    "* 執行動作(event,callback,function ,command)"
   ]
  },
  {
   "cell_type": "code",
   "execution_count": 1,
   "metadata": {},
   "outputs": [],
   "source": [
    "import numpy as np\n",
    "import matplotlib.pyplot as plt\n",
    "import sympy as sp\n",
    "import pandas as pd\n",
    "%matplotlib inline"
   ]
  },
  {
   "cell_type": "code",
   "execution_count": 2,
   "metadata": {},
   "outputs": [],
   "source": [
    "import tkinter as tk"
   ]
  },
  {
   "cell_type": "code",
   "execution_count": 48,
   "metadata": {},
   "outputs": [],
   "source": [
    "windows = tk.Tk()\n",
    "windows.title('test')\n",
    "\n",
    "def window_quit():\n",
    "    windows.destroy()\n",
    "    ##lbl.config(text = 'please dont go' )\n",
    "    \n",
    "def title():\n",
    "    result.config(text= weightvar.get())\n",
    "    result.pack()\n",
    "    \n",
    "##print(windows.config())\n",
    "\n",
    "weightvar = tk.StringVar()\n",
    "\n",
    "result = tk.Label(windows , text ='weight', font=('Times', 30))\n",
    "result.pack()\n",
    "\n",
    "frame = tk.Frame(windows)\n",
    "frame.pack()\n",
    "\n",
    "lbl = tk.Label(frame , text ='weight', font=('Times', 30))\n",
    "lbl.pack(side = 'left')\n",
    "\n",
    "\n",
    "entry = tk.Entry(frame, font=('Times', 30), textvariable = weightvar)\n",
    "entry.pack(side = 'top')\n",
    "\n",
    "btn2 = tk.Button(windows , text='enter' , font=('Times', 20), command =title)\n",
    "btn2.pack(side = 'top')\n",
    "\n",
    "btn = tk.Button(windows , text='close' , font=('Times', 20), command =window_quit)\n",
    "btn.pack(side = 'left')\n",
    "\n",
    "\n",
    "windows.config(background ='blue', width=800 ,height=600)\n",
    "\n",
    "\n",
    "windows.mainloop()"
   ]
  },
  {
   "cell_type": "markdown",
   "metadata": {},
   "source": [
    "## 變數 = Widegt(爸爸,設定=值)\n",
    "### lbl = tk.Label(windows , text ='hello')\n",
    "### btn = tk.Button(windows , text='close' , command =windows_quit)\n",
    "### entry = tk.Entry(windows)"
   ]
  },
  {
   "cell_type": "markdown",
   "metadata": {},
   "source": [
    "### frame = tk.Frame(windows)\n",
    "\n",
    "## 取得輸入值\n",
    "### result.config(text= weightvar.get())\n",
    "### entry = tk.Entry(....., textvariable = weightvar)"
   ]
  },
  {
   "cell_type": "code",
   "execution_count": null,
   "metadata": {},
   "outputs": [],
   "source": []
  }
 ],
 "metadata": {
  "kernelspec": {
   "display_name": "Python 3",
   "language": "python",
   "name": "python3"
  },
  "language_info": {
   "codemirror_mode": {
    "name": "ipython",
    "version": 3
   },
   "file_extension": ".py",
   "mimetype": "text/x-python",
   "name": "python",
   "nbconvert_exporter": "python",
   "pygments_lexer": "ipython3",
   "version": "3.7.3"
  }
 },
 "nbformat": 4,
 "nbformat_minor": 2
}
