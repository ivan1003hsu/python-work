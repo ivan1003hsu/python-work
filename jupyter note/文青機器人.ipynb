{
 "cells": [
  {
   "cell_type": "code",
   "execution_count": 1,
   "metadata": {},
   "outputs": [],
   "source": [
    "import numpy as np\n",
    "import matplotlib.pyplot as plt\n",
    "import pandas as pd\n",
    "from numpy.random import randint"
   ]
  },
  {
   "cell_type": "code",
   "execution_count": 2,
   "metadata": {},
   "outputs": [],
   "source": [
    "st = '''\n",
    "我\n",
    "我的\n",
    "眼睛\n",
    "妳\n",
    "妳的\n",
    "心\n",
    "溫柔\n",
    "日子\n",
    "雨\n",
    "風\n",
    "天空\n",
    "雲\n",
    "等待\n",
    "哭泣\n",
    "戀愛\n",
    "相遇\n",
    "分離\n",
    "忘記\n",
    "心醉\n",
    "驀然\n",
    "吹過\n",
    " \n",
    "思念\n",
    "靈魂\n",
    "停止\n",
    "茉莉花\n",
    "'''\n",
    "word_list = st.split('\\n')"
   ]
  },
  {
   "cell_type": "code",
   "execution_count": 3,
   "metadata": {},
   "outputs": [
    {
     "name": "stdout",
     "output_type": "stream",
     "text": [
      "要有幾段?\n",
      ">>4\n",
      "請輸入一定要出現的字\n",
      ">>韓國瑜\n",
      "哭泣我等待忘記\n",
      "哭泣韓國瑜相遇溫柔風\n",
      " 驀然驀然\n",
      "戀愛妳我的心心\n",
      "\n"
     ]
    }
   ],
   "source": [
    "ph = input('要有幾段?\\n>>')\n",
    "ph = int(ph)\n",
    "keyword = input('請輸入一定要出現的字\\n>>')\n",
    "a=''\n",
    "word_list.append(keyword)\n",
    "while keyword not in a:\n",
    "    k = 0\n",
    "    a=''\n",
    "    while k < ph:\n",
    "        i=0\n",
    "        w = randint(2,6)\n",
    "        while i != w :\n",
    "            a = a+ word_list[randint(0,len(word_list))]\n",
    "            i = i+1\n",
    "        a= a+'\\n'\n",
    "        k = k+1\n",
    "print (a)"
   ]
  },
  {
   "cell_type": "code",
   "execution_count": 18,
   "metadata": {},
   "outputs": [
    {
     "data": {
      "text/plain": [
       "['',\n",
       " '我',\n",
       " '我的',\n",
       " '眼睛',\n",
       " '妳',\n",
       " '妳的',\n",
       " '心',\n",
       " '溫柔',\n",
       " '日子',\n",
       " '雨',\n",
       " '風',\n",
       " '天空',\n",
       " '雲',\n",
       " '等待',\n",
       " '哭泣',\n",
       " '戀愛',\n",
       " '相遇',\n",
       " '分離',\n",
       " '忘記',\n",
       " '心醉',\n",
       " '驀然',\n",
       " '吹過',\n",
       " ' ',\n",
       " '思念',\n",
       " '靈魂',\n",
       " '停止',\n",
       " '茉莉花',\n",
       " '',\n",
       " 'daad']"
      ]
     },
     "execution_count": 18,
     "metadata": {},
     "output_type": "execute_result"
    }
   ],
   "source": [
    "word_list\n"
   ]
  },
  {
   "cell_type": "code",
   "execution_count": 11,
   "metadata": {},
   "outputs": [
    {
     "name": "stdout",
     "output_type": "stream",
     "text": [
      "File `文青機器人.py` exists. Overwrite (y/[N])?  y\n",
      "The following commands were written to file `文青機器人.py`:\n",
      "import numpy as np\n",
      "import matplotlib.pyplot as plt\n",
      "import pandas as pd\n",
      "from numpy.random import randint\n",
      "st = '''\n",
      "我\n",
      "我的\n",
      "眼睛\n",
      "妳\n",
      "妳的\n",
      "心\n",
      "溫柔\n",
      "日子\n",
      "雨\n",
      "風\n",
      "天空\n",
      "雲\n",
      "等待\n",
      "哭泣\n",
      "戀愛\n",
      "相遇\n",
      "分離\n",
      "忘記\n",
      "心醉\n",
      "驀然\n",
      "吹過\n",
      "思念\n",
      "靈魂\n",
      "停止\n",
      "'''\n",
      "word_list = st.split('\\n')\n",
      "k = 0\n",
      "ph = input('要有幾段?\\n>>')\n",
      "ph = int(ph)\n",
      "while k < ph:\n",
      "    a=''\n",
      "    i=0\n",
      "    w = randint(5,7)\n",
      "    while i != w :\n",
      "        a = a+ word_list[randint(0,len(word_list))]\n",
      "        i = i+1\n",
      "    print((a)+'\\n')\n",
      "    k = k+1\n"
     ]
    }
   ],
   "source": [
    "#1 2 6\n",
    "%save 文青機器人 10 2 6"
   ]
  },
  {
   "cell_type": "code",
   "execution_count": null,
   "metadata": {},
   "outputs": [],
   "source": []
  }
 ],
 "metadata": {
  "kernelspec": {
   "display_name": "Python 3",
   "language": "python",
   "name": "python3"
  },
  "language_info": {
   "codemirror_mode": {
    "name": "ipython",
    "version": 3
   },
   "file_extension": ".py",
   "mimetype": "text/x-python",
   "name": "python",
   "nbconvert_exporter": "python",
   "pygments_lexer": "ipython3",
   "version": "3.7.3"
  }
 },
 "nbformat": 4,
 "nbformat_minor": 2
}
