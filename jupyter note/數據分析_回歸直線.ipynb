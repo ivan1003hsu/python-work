{
 "cells": [
  {
   "cell_type": "code",
   "execution_count": 1,
   "metadata": {},
   "outputs": [],
   "source": [
    "import numpy as np\n",
    "import matplotlib.pyplot as plt\n",
    "%matplotlib inline"
   ]
  },
  {
   "cell_type": "code",
   "execution_count": 9,
   "metadata": {},
   "outputs": [
    {
     "name": "stdout",
     "output_type": "stream",
     "text": [
      "請輸入身高(以逗號隔開)151,164,173,187,191\n",
      "請輸入體重(以逗號隔開)51,64,74,87,93\n",
      "平均身高:173.2\n",
      "平均體重:73.8\n",
      "相關係數:0.9991173180281931\n"
     ]
    },
    {
     "data": {
      "image/png": "[encoded data removed]",
      "text/plain": [
       "<Figure size 432x288 with 1 Axes>"
      ]
     },
     "metadata": {
      "needs_background": "light"
     },
     "output_type": "display_data"
    }
   ],
   "source": [
    "x = input('請輸入身高(以逗號隔開)')\n",
    "y = input('請輸入體重(以逗號隔開)')\n",
    "x = x.split(',')\n",
    "y = y.split(',')\n",
    "x = list(map(float,x))\n",
    "y = list(map(float,y))\n",
    "x = np.array(x)\n",
    "y = np.array(y)\n",
    "ux = 0\n",
    "uy = 0\n",
    "for i in x:\n",
    "    ux = ux + i \n",
    "ux = ux/len(x)\n",
    "for i in y:\n",
    "    uy = uy + i \n",
    "uy = uy/len(y)\n",
    "σx = 0\n",
    "σy = 0\n",
    "for i in x:\n",
    "    σx=(i-ux)**2+σx\n",
    "σx = np.sqrt(σx)\n",
    "for i in y:\n",
    "    σy=(i-uy)**2+σy\n",
    "σy = np.sqrt(σy)\n",
    "r = 0\n",
    "k = 0\n",
    "while k < len(x):\n",
    "    r=r+(x[k]-ux)*(y[k]-uy)\n",
    "    k=k+1\n",
    "r = r/(σx*σy)\n",
    "X = np.linspace(0,200,200)\n",
    "Y = (r*σx*(X-ux))/σy+uy\n",
    "plt.plot(X,Y)\n",
    "plt.scatter(x,y)\n",
    "plt.axis([100,200,0,150])\n",
    "plt.plot(ux,uy)\n",
    "print('平均身高:{}\\n平均體重:{}\\n相關係數:{}'.format(ux,uy,r))"
   ]
  },
  {
   "cell_type": "code",
   "execution_count": 9,
   "metadata": {},
   "outputs": [
    {
     "data": {
      "text/plain": [
       "168.83333333333334"
      ]
     },
     "execution_count": 9,
     "metadata": {},
     "output_type": "execute_result"
    }
   ],
   "source": [
    "ux"
   ]
  },
  {
   "cell_type": "code",
   "execution_count": 10,
   "metadata": {},
   "outputs": [
    {
     "data": {
      "text/plain": [
       "58.333333333333336"
      ]
     },
     "execution_count": 10,
     "metadata": {},
     "output_type": "execute_result"
    }
   ],
   "source": [
    "uy"
   ]
  },
  {
   "cell_type": "code",
   "execution_count": 8,
   "metadata": {},
   "outputs": [
    {
     "data": {
      "text/plain": [
       "24.62553953101983"
      ]
     },
     "execution_count": 8,
     "metadata": {},
     "output_type": "execute_result"
    }
   ],
   "source": [
    "σy"
   ]
  },
  {
   "cell_type": "code",
   "execution_count": null,
   "metadata": {},
   "outputs": [],
   "source": []
  }
 ],
 "metadata": {
  "kernelspec": {
   "display_name": "Python 3",
   "language": "python",
   "name": "python3"
  },
  "language_info": {
   "codemirror_mode": {
    "name": "ipython",
    "version": 3
   },
   "file_extension": ".py",
   "mimetype": "text/x-python",
   "name": "python",
   "nbconvert_exporter": "python",
   "pygments_lexer": "ipython3",
   "version": "3.7.3"
  }
 },
 "nbformat": 4,
 "nbformat_minor": 2
}
