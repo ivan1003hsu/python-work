{
 "cells": [
  {
   "cell_type": "code",
   "execution_count": 1,
   "metadata": {},
   "outputs": [],
   "source": [
    "!mkdir week15"
   ]
  },
  {
   "cell_type": "code",
   "execution_count": 2,
   "metadata": {},
   "outputs": [
    {
     "name": "stdout",
     "output_type": "stream",
     "text": [
      " 磁碟區 C 中的磁碟是 system\n",
      " 磁碟區序號:  B0C7-63B0\n",
      "\n",
      " C:\\Users\\kernel\\Desktop\\jupyter note 的目錄\n",
      "\n",
      "2019/12/18 週三  上午 09:44    <DIR>          .\n",
      "2019/12/18 週三  上午 09:44    <DIR>          ..\n",
      "2019/12/18 週三  上午 09:44    <DIR>          .ipynb_checkpoints\n",
      "2019/12/04 週三  上午 09:32            59,897 3d iris.ipynb\n",
      "2019/10/02 週三  上午 10:08               576 POEM.py\n",
      "2019/12/04 週三  上午 11:12             3,946 TKinter.ipynb\n",
      "2019/12/02 週一  下午 10:27                72 Untitled.ipynb\n",
      "2019/11/10 週日  下午 05:16           105,070 week 1~4.ipynb\n",
      "2019/11/17 週日  下午 01:22            50,178 week 10 線性回歸.ipynb\n",
      "2019/11/20 週三  上午 11:52           267,792 week 11 機器學習SVC.ipynb\n",
      "2019/11/27 週三  上午 11:55           387,447 week 12 feature engineer.ipynb\n",
      "2019/12/11 週三  上午 11:01           336,850 week 14.ipynb\n",
      "2019/10/16 週三  上午 11:59            21,371 week 6 檔案功能.ipynb\n",
      "2019/10/23 週三  上午 11:59            94,429 week 7 array.ipynb\n",
      "2019/10/30 週三  下午 09:17           210,929 week 8 pandas.ipynb\n",
      "2019/12/18 週三  上午 09:44    <DIR>          week15\n",
      "2019/12/18 週三  上午 09:42                72 week15.ipynb\n",
      "2019/10/09 週三  上午 11:43            27,535 week5 map,lamba,fliter.ipynb\n",
      "2019/10/16 週三  上午 10:57                88 week6.pickle\n",
      "2019/10/16 週三  上午 10:25                41 week6dic.csv\n",
      "2019/10/16 週三  上午 11:57                36 week6test.txt\n",
      "2019/10/15 週二  下午 09:41             4,674 文青機器人.ipynb\n",
      "2019/10/07 週一  上午 10:01            47,857 多像式函數圖形.ipynb\n",
      "2019/10/20 週日  下午 07:11             8,728 作業.ipynb\n",
      "2019/11/10 週日  下午 05:41            29,543 姓名測試.ipynb\n",
      "2019/10/01 週二  下午 12:21           122,239 拉格朗日插植.JPG\n",
      "2019/09/27 週五  下午 07:52           208,533 拋物線.JPG\n",
      "2019/11/17 週日  下午 05:19           168,471 波士頓房價預測.ipynb\n",
      "2019/10/08 週二  下午 01:38             2,794 拿彈珠.ipynb\n",
      "2019/10/14 週一  下午 09:12            80,289 動畫.ipynb\n",
      "2019/10/28 週一  下午 12:47            78,835 最低次過給定點函數.ipynb\n",
      "2019/11/17 週日  下午 10:33             9,094 湊24.ipynb\n",
      "2019/10/07 週一  上午 09:41             2,545 菱形.ipynb\n",
      "2019/10/28 週一  下午 09:24             1,557 遞迴數列 通式驗證.ipynb\n",
      "2019/11/25 週一  下午 08:51           106,883 鳶尾花分類.ipynb\n",
      "2019/10/28 週一  上午 11:04            26,429 撲克.ipynb\n",
      "2019/11/11 週一  下午 08:30            16,945 數據分析.ipynb\n",
      "2019/10/07 週一  上午 09:44            13,623 數據分析_回歸直線.ipynb\n",
      "2019/10/01 週二  下午 11:52           123,297 數據分析1.JPG\n",
      "2019/10/20 週日  下午 07:14             3,399 線性調分.ipynb\n",
      "2019/12/15 週日  下午 08:02            24,159 賭場.ipynb\n",
      "2019/10/23 週三  上午 11:22            72,341 擊退阿共.ipynb\n",
      "2019/10/23 週三  上午 09:16            48,988 擊退阿共2.ipynb\n",
      "2019/10/15 週二  下午 10:03             6,162 藏頭詩產生器v2.ipynb\n",
      "              40 個檔案       2,773,714 位元組\n",
      "               4 個目錄  63,574,683,648 位元組可用\n"
     ]
    }
   ],
   "source": [
    "ls"
   ]
  },
  {
   "cell_type": "code",
   "execution_count": 3,
   "metadata": {},
   "outputs": [
    {
     "name": "stdout",
     "output_type": "stream",
     "text": [
      "C:\\Users\\kernel\\Desktop\\jupyter note\\week15\n"
     ]
    }
   ],
   "source": [
    "%cd week15"
   ]
  },
  {
   "cell_type": "code",
   "execution_count": 5,
   "metadata": {},
   "outputs": [],
   "source": [
    "import numpy.random as random"
   ]
  },
  {
   "cell_type": "code",
   "execution_count": 11,
   "metadata": {
    "scrolled": true
   },
   "outputs": [
    {
     "name": "stdout",
     "output_type": "stream",
     "text": [
      "28\n",
      "93\n",
      "67\n",
      "39\n",
      "19\n",
      "33\n",
      "26\n",
      "66\n",
      "48\n",
      "80\n",
      "91\n",
      "49\n",
      "66\n",
      "21\n",
      "63\n",
      "62\n",
      "36\n",
      "79\n",
      "76\n",
      "96\n",
      "21\n",
      "32\n",
      "22\n",
      "76\n",
      "39\n",
      "68\n",
      "19\n",
      "63\n",
      "24\n",
      "88\n",
      "67\n",
      "30\n",
      "76\n",
      "19\n",
      "32\n",
      "83\n",
      "12\n",
      "67\n",
      "78\n",
      "86\n",
      "34\n",
      "56\n",
      "96\n",
      "35\n",
      "13\n",
      "16\n",
      "43\n",
      "42\n",
      "44\n",
      "26\n",
      "36\n",
      "86\n",
      "65\n",
      "75\n",
      "55\n",
      "85\n",
      "75\n",
      "19\n",
      "72\n",
      "64\n",
      "11\n",
      "81\n",
      "63\n",
      "90\n",
      "50\n",
      "99\n",
      "14\n",
      "5\n",
      "63\n",
      "86\n",
      "92\n",
      "80\n",
      "24\n",
      "13\n",
      "29\n",
      "74\n",
      "73\n",
      "81\n",
      "11\n",
      "83\n",
      "49\n",
      "9\n",
      "88\n",
      "45\n",
      "63\n",
      "21\n",
      "31\n",
      "86\n",
      "30\n",
      "97\n",
      "95\n",
      "33\n",
      "96\n",
      "39\n",
      "68\n",
      "100\n",
      "69\n",
      "60\n",
      "83\n",
      "29\n"
     ]
    }
   ],
   "source": [
    "a = random.randint(1,101)\n",
    "print(a)"
   ]
  },
  {
   "cell_type": "code",
   "execution_count": 12,
   "metadata": {},
   "outputs": [
    {
     "name": "stdout",
     "output_type": "stream",
     "text": [
      "The following commands were written to file `spam.py`:\n",
      "import numpy.random as random\n",
      "for i in range(100): \n",
      "    a = random.randint(1,101)\n",
      "    print(a)\n"
     ]
    }
   ],
   "source": [
    "%save spam.py 5 11"
   ]
  },
  {
   "cell_type": "code",
   "execution_count": 14,
   "metadata": {},
   "outputs": [
    {
     "name": "stdout",
     "output_type": "stream",
     "text": [
      "Collecting streamlit\n",
      "  Using cached https://files.pythonhosted.org/packages/37/e2/c92db0c7e99f33f2e06d7a7fbd5237dfbb3272ee4ecaedc8c064a6c305a8/streamlit-0.51.0-py2.py3-none-any.whl\n",
      "Collecting toml (from streamlit)\n",
      "  Downloading https://files.pythonhosted.org/packages/a2/12/ced7105d2de62fa7c8fb5fce92cc4ce66b57c95fb875e9318dba7f8c5db0/toml-0.10.0-py2.py3-none-any.whl\n",
      "Collecting botocore (from streamlit)\n",
      "  Using cached https://files.pythonhosted.org/packages/49/e0/a9a53656126a635120c0f7eaee3ff3b26a4a08596d10e7192fd91ce19e5c/botocore-1.13.41-py2.py3-none-any.whl\n",
      "Requirement already satisfied: pandas>=0.21.0 in c:\\users\\kernel\\anaconda3\\lib\\site-packages (from streamlit) (0.24.2)\n",
      "Collecting validators (from streamlit)\n",
      "  Downloading https://files.pythonhosted.org/packages/72/8a/f99287daae8cfef938e6eec785f6e259bf6bad93269d5398bb546d5b1563/validators-0.14.1.tar.gz\n",
      "Collecting base58 (from streamlit)\n",
      "  Using cached https://files.pythonhosted.org/packages/09/b2/21ac9591f055acc145afead895edeb73bbd69d95cf366fc5c2233f2434cb/base58-1.0.3-py3-none-any.whl\n",
      "Collecting boto3 (from streamlit)\n",
      "  Downloading https://files.pythonhosted.org/packages/39/8b/250778bc5fd4b9a91d7916f8729b346931be419052130548617139247ba6/boto3-1.10.41-py2.py3-none-any.whl (128kB)\n",
      "Requirement already satisfied: future in c:\\users\\kernel\\anaconda3\\lib\\site-packages (from streamlit) (0.17.1)\n",
      "Collecting enum-compat (from streamlit)\n",
      "  Using cached https://files.pythonhosted.org/packages/55/ae/467bc4509246283bb59746e21a1a2f5a8aecbef56b1fa6eaca78cd438c8b/enum_compat-0.0.3-py3-none-any.whl\n",
      "Requirement already satisfied: requests in c:\\users\\kernel\\anaconda3\\lib\\site-packages (from streamlit) (2.22.0)\n",
      "Collecting tzlocal (from streamlit)\n",
      "  Downloading https://files.pythonhosted.org/packages/ef/99/53bd1ac9349262f59c1c421d8fcc2559ae8a5eeffed9202684756b648d33/tzlocal-2.0.0-py2.py3-none-any.whl\n",
      "Collecting watchdog (from streamlit)\n",
      "  Downloading https://files.pythonhosted.org/packages/bb/e3/5a55d48a29300160779f0a0d2776d17c1b762a2039b36de528b093b87d5b/watchdog-0.9.0.tar.gz (85kB)\n",
      "Collecting tornado<6.0,>=5.0 (from streamlit)\n",
      "  Downloading https://files.pythonhosted.org/packages/d7/d5/99aff77c15da335e3dbf30254b304a526494dca8e51b4b47419772e35a4e/tornado-5.1.1-cp37-cp37m-win_amd64.whl (455kB)\n",
      "Requirement already satisfied: click>=7.0 in c:\\users\\kernel\\anaconda3\\lib\\site-packages (from streamlit) (7.0)\n",
      "Collecting blinker (from streamlit)\n",
      "  Using cached https://files.pythonhosted.org/packages/1b/51/e2a9f3b757eb802f61dc1f2b09c8c99f6eb01cf06416c0671253536517b6/blinker-1.4.tar.gz\n",
      "Collecting astor (from streamlit)\n",
      "  Using cached https://files.pythonhosted.org/packages/c3/88/97eef84f48fa04fbd6750e62dcceafba6c63c81b7ac1420856c8dcc0a3f9/astor-0.8.1-py2.py3-none-any.whl\n",
      "Requirement already satisfied: numpy in c:\\users\\kernel\\anaconda3\\lib\\site-packages (from streamlit) (1.16.4)\n",
      "Collecting pillow>=6.2.0 (from streamlit)\n",
      "  Downloading https://files.pythonhosted.org/packages/70/f4/9dd0b7b0fea09cf4e7a2822031f2157f40d41f0252a89558bdb583e24ef1/Pillow-6.2.1-cp37-cp37m-win_amd64.whl (2.0MB)\n",
      "Collecting altair>=3.2.0 (from streamlit)\n",
      "  Downloading https://files.pythonhosted.org/packages/67/fe/2584ab143719f073abb4884049a1ef2e5daf277d9c5a3a47df03cd7ad4ab/altair-4.0.0-py2.py3-none-any.whl (709kB)\n",
      "Collecting protobuf>=3.6.0 (from streamlit)\n",
      "  Downloading https://files.pythonhosted.org/packages/94/1d/82d9b8028f1e85bbe9beb74058b276db9cfb7e1afdb3174651a4828e5e9e/protobuf-3.11.1-cp37-cp37m-win_amd64.whl (1.0MB)\n",
      "Collecting jmespath<1.0.0,>=0.7.1 (from botocore->streamlit)\n",
      "  Downloading https://files.pythonhosted.org/packages/83/94/7179c3832a6d45b266ddb2aac329e101367fbdb11f425f13771d27f225bb/jmespath-0.9.4-py2.py3-none-any.whl\n",
      "Requirement already satisfied: docutils<0.16,>=0.10 in c:\\users\\kernel\\anaconda3\\lib\\site-packages (from botocore->streamlit) (0.14)\n",
      "Requirement already satisfied: python-dateutil<2.8.1,>=2.1; python_version >= \"2.7\" in c:\\users\\kernel\\anaconda3\\lib\\site-packages (from botocore->streamlit) (2.8.0)\n",
      "Requirement already satisfied: urllib3<1.26,>=1.20; python_version >= \"3.4\" in c:\\users\\kernel\\anaconda3\\lib\\site-packages (from botocore->streamlit) (1.24.2)\n",
      "Requirement already satisfied: pytz>=2011k in c:\\users\\kernel\\anaconda3\\lib\\site-packages (from pandas>=0.21.0->streamlit) (2019.1)\n",
      "Requirement already satisfied: six>=1.4.0 in c:\\users\\kernel\\anaconda3\\lib\\site-packages (from validators->streamlit) (1.12.0)\n",
      "Requirement already satisfied: decorator>=3.4.0 in c:\\users\\kernel\\anaconda3\\lib\\site-packages (from validators->streamlit) (4.4.0)\n",
      "Collecting s3transfer<0.3.0,>=0.2.0 (from boto3->streamlit)\n",
      "  Downloading https://files.pythonhosted.org/packages/16/8a/1fc3dba0c4923c2a76e1ff0d52b305c44606da63f718d14d3231e21c51b0/s3transfer-0.2.1-py2.py3-none-any.whl (70kB)\n",
      "Requirement already satisfied: chardet<3.1.0,>=3.0.2 in c:\\users\\kernel\\anaconda3\\lib\\site-packages (from requests->streamlit) (3.0.4)\n",
      "Requirement already satisfied: certifi>=2017.4.17 in c:\\users\\kernel\\anaconda3\\lib\\site-packages (from requests->streamlit) (2019.6.16)\n",
      "Requirement already satisfied: idna<2.9,>=2.5 in c:\\users\\kernel\\anaconda3\\lib\\site-packages (from requests->streamlit) (2.8)\n",
      "Requirement already satisfied: PyYAML>=3.10 in c:\\users\\kernel\\anaconda3\\lib\\site-packages (from watchdog->streamlit) (5.1.1)\n",
      "Collecting argh>=0.24.1 (from watchdog->streamlit)\n",
      "  Downloading https://files.pythonhosted.org/packages/06/1c/e667a7126f0b84aaa1c56844337bf0ac12445d1beb9c8a6199a7314944bf/argh-0.26.2-py2.py3-none-any.whl\n",
      "Collecting pathtools>=0.1.1 (from watchdog->streamlit)\n",
      "  Downloading https://files.pythonhosted.org/packages/e7/7f/470d6fcdf23f9f3518f6b0b76be9df16dcc8630ad409947f8be2eb0ed13a/pathtools-0.1.2.tar.gz\n",
      "Requirement already satisfied: jsonschema in c:\\users\\kernel\\anaconda3\\lib\\site-packages (from altair>=3.2.0->streamlit) (3.0.1)\n",
      "Requirement already satisfied: jinja2 in c:\\users\\kernel\\anaconda3\\lib\\site-packages (from altair>=3.2.0->streamlit) (2.10.1)\n",
      "Requirement already satisfied: entrypoints in c:\\users\\kernel\\anaconda3\\lib\\site-packages (from altair>=3.2.0->streamlit) (0.3)\n",
      "Requirement already satisfied: toolz in c:\\users\\kernel\\anaconda3\\lib\\site-packages (from altair>=3.2.0->streamlit) (0.10.0)\n",
      "Requirement already satisfied: setuptools in c:\\users\\kernel\\anaconda3\\lib\\site-packages (from protobuf>=3.6.0->streamlit) (41.0.1)\n",
      "Requirement already satisfied: attrs>=17.4.0 in c:\\users\\kernel\\anaconda3\\lib\\site-packages (from jsonschema->altair>=3.2.0->streamlit) (19.1.0)\n",
      "Requirement already satisfied: pyrsistent>=0.14.0 in c:\\users\\kernel\\anaconda3\\lib\\site-packages (from jsonschema->altair>=3.2.0->streamlit) (0.14.11)\n",
      "Requirement already satisfied: MarkupSafe>=0.23 in c:\\users\\kernel\\anaconda3\\lib\\site-packages (from jinja2->altair>=3.2.0->streamlit) (1.1.1)\n",
      "Building wheels for collected packages: validators, watchdog, blinker, pathtools\n",
      "  Building wheel for validators (setup.py): started\n",
      "  Building wheel for validators (setup.py): finished with status 'done'\n",
      "  Stored in directory: C:\\Users\\kernel\\AppData\\Local\\pip\\Cache\\wheels\\a1\\fb\\78\\272466691f4117974f8d5811e4060fc61e1179a1c00db6f9bb\n",
      "  Building wheel for watchdog (setup.py): started\n",
      "  Building wheel for watchdog (setup.py): finished with status 'done'\n",
      "  Stored in directory: C:\\Users\\kernel\\AppData\\Local\\pip\\Cache\\wheels\\61\\1d\\d0\\04cfe495619be2095eb8d89a31c42adb4e42b76495bc8f784c\n",
      "  Building wheel for blinker (setup.py): started\n",
      "  Building wheel for blinker (setup.py): finished with status 'done'\n",
      "  Stored in directory: C:\\Users\\kernel\\AppData\\Local\\pip\\Cache\\wheels\\92\\a0\\00\\8690a57883956a301d91cf4ec999cc0b258b01e3f548f86e89\n",
      "  Building wheel for pathtools (setup.py): started\n",
      "  Building wheel for pathtools (setup.py): finished with status 'done'\n",
      "  Stored in directory: C:\\Users\\kernel\\AppData\\Local\\pip\\Cache\\wheels\\0b\\04\\79\\c3b0c3a0266a3cb4376da31e5bfe8bba0c489246968a68e843\n",
      "Successfully built validators watchdog blinker pathtools\n",
      "Installing collected packages: toml, jmespath, botocore, validators, base58, s3transfer, boto3, enum-compat, tzlocal, argh, pathtools, watchdog, tornado, blinker, astor, pillow, altair, protobuf, streamlit\n",
      "  Found existing installation: tornado 6.0.3\n",
      "    Uninstalling tornado-6.0.3:\n",
      "      Successfully uninstalled tornado-6.0.3\n"
     ]
    },
    {
     "name": "stderr",
     "output_type": "stream",
     "text": [
      "ERROR: Could not install packages due to an EnvironmentError: [WinError 5] 存取被拒。: 'c:\\\\users\\\\kernel\\\\anaconda3\\\\lib\\\\site-packages\\\\~ornado\\\\speedups.cp37-win_amd64.pyd'\n",
      "Consider using the `--user` option or check the permissions.\n",
      "\n"
     ]
    }
   ],
   "source": [
    "!pip install streamlit"
   ]
  },
  {
   "cell_type": "code",
   "execution_count": 23,
   "metadata": {},
   "outputs": [
    {
     "name": "stdout",
     "output_type": "stream",
     "text": [
      "Writing web01.py\n"
     ]
    }
   ],
   "source": [
    "%%writefile web01.py\n",
    "\n",
    "import pandas as pd\n",
    "df = pd.DataFrame({'A':[33,66,99],'B':[1,3,5]})\n",
    "\n",
    "df"
   ]
  },
  {
   "cell_type": "code",
   "execution_count": 28,
   "metadata": {},
   "outputs": [
    {
     "name": "stdout",
     "output_type": "stream",
     "text": [
      " 磁碟區 C 中的磁碟是 system\n",
      " 磁碟區序號:  B0C7-63B0\n",
      "\n",
      " C:\\Users\\kernel\\Desktop\\jupyter note\\week15 的目錄\n",
      "\n",
      "2019/12/18 週三  上午 11:01    <DIR>          .\n",
      "2019/12/18 週三  上午 11:01    <DIR>          ..\n",
      "2019/12/18 週三  上午 10:20               412 num.py\n",
      "2019/12/18 週三  上午 09:58               116 spam.py\n",
      "2019/12/18 週三  上午 11:01                78 web01.py\n",
      "               3 個檔案             606 位元組\n",
      "               2 個目錄  59,789,934,592 位元組可用\n"
     ]
    }
   ],
   "source": [
    "%ls"
   ]
  },
  {
   "cell_type": "code",
   "execution_count": null,
   "metadata": {},
   "outputs": [],
   "source": [
    "!streamlit run web01.py"
   ]
  },
  {
   "cell_type": "code",
   "execution_count": null,
   "metadata": {},
   "outputs": [],
   "source": []
  }
 ],
 "metadata": {
  "kernelspec": {
   "display_name": "Python 3",
   "language": "python",
   "name": "python3"
  },
  "language_info": {
   "codemirror_mode": {
    "name": "ipython",
    "version": 3
   },
   "file_extension": ".py",
   "mimetype": "text/x-python",
   "name": "python",
   "nbconvert_exporter": "python",
   "pygments_lexer": "ipython3",
   "version": "3.7.3"
  }
 },
 "nbformat": 4,
 "nbformat_minor": 2
}
