{
 "cells": [
  {
   "cell_type": "code",
   "execution_count": 1,
   "metadata": {},
   "outputs": [],
   "source": [
    "import numpy as np\n",
    "import matplotlib.pyplot as plt\n",
    "%matplotlib inline"
   ]
  },
  {
   "cell_type": "code",
   "execution_count": 5,
   "metadata": {},
   "outputs": [
    {
     "name": "stdout",
     "output_type": "stream",
     "text": [
      "----------規則----------\n",
      "有15顆彈珠，輪流拿取\n",
      "拿到最後一顆的一方獲勝\n",
      "可一次拿1~3顆\n",
      "---------遊戲開始---------\n",
      "現在有15顆彈珠\n",
      "(́◉◞౪◟◉‵):由我先攻 我拿走3顆\n",
      "現在有12顆彈珠!換你了!\n",
      "你要拿幾顆呢?>>4\n",
      "你只能拿1~3顆\n",
      "你要拿幾顆呢?>>2\n",
      "現在有10顆彈珠!\n",
      "\n",
      "(́◉◞౪◟◉‵):那我拿2顆\n",
      "現在有8顆彈珠!換你了!\n",
      "你要拿幾顆呢?>>1\n",
      "現在有7顆彈珠!\n",
      "\n",
      "(́◉◞౪◟◉‵):那我拿3顆\n",
      "現在有4顆彈珠!換你了!\n",
      "你要拿幾顆呢?>>2\n",
      "現在有2顆彈珠!\n",
      "\n",
      "(́◉◞౪◟◉‵):那我拿2顆\n",
      "(^u^):我贏了!我拿到最後一顆彈珠了!\n"
     ]
    }
   ],
   "source": [
    "print('''----------規則----------\n",
    "有15顆彈珠，輪流拿取\n",
    "拿到最後一顆的一方獲勝\n",
    "可一次拿1~3顆''')\n",
    "print('''---------遊戲開始---------\n",
    "現在有15顆彈珠\n",
    "(́◉◞౪◟◉‵):由我先攻 我拿走3顆''')\n",
    "n = 12\n",
    "while n != 0:\n",
    "    print('現在有{}顆彈珠!換你了!'.format(n))\n",
    "    k=1\n",
    "    while k == 1:\n",
    "        a = int(input('你要拿幾顆呢?>>'))\n",
    "        if a > 3 or a < 1:\n",
    "            print('你只能拿1~3顆')\n",
    "        else:\n",
    "            k = 0\n",
    "    n = n-a\n",
    "    print('現在有{}顆彈珠!\\n'.format(n))\n",
    "    print('(́◉◞౪◟◉‵):那我拿{}顆'.format(4-a))\n",
    "    n = n-4+a\n",
    "print('(́◉◞౪◟◉‵):我贏了!我拿到最後一顆彈珠了!')\n",
    "    "
   ]
  },
  {
   "cell_type": "code",
   "execution_count": null,
   "metadata": {},
   "outputs": [],
   "source": []
  }
 ],
 "metadata": {
  "kernelspec": {
   "display_name": "Python 3",
   "language": "python",
   "name": "python3"
  },
  "language_info": {
   "codemirror_mode": {
    "name": "ipython",
    "version": 3
   },
   "file_extension": ".py",
   "mimetype": "text/x-python",
   "name": "python",
   "nbconvert_exporter": "python",
   "pygments_lexer": "ipython3",
   "version": "3.7.3"
  }
 },
 "nbformat": 4,
 "nbformat_minor": 2
}
